{
 "cells": [
  {
   "cell_type": "markdown",
   "id": "e92f8744",
   "metadata": {},
   "source": [
    "1. Write a function in Python that will take a string text as input from the user and\n",
    "returns the list of unique characters concatenated with their ASCII value at the\n",
    "front and back side.\n",
    "Sample Input:\n",
    "\"pythonbook\"\n",
    "Function Calling:\n",
    "function_name(\"pythonbook\")\n",
    "Sample Output:\n",
    "['112p112', '121y121', '116t116', '104h104', '111o111', '110n110', '98b98',\n",
    "'107k107']"
   ]
  },
  {
   "cell_type": "code",
   "execution_count": 1,
   "id": "3257a7b4",
   "metadata": {},
   "outputs": [
    {
     "name": "stdout",
     "output_type": "stream",
     "text": [
      "enter a word:pythonbook\n",
      "['112p112', '121y121', '116t116', '104h104', '111o111', '110n110', '98b98', '107k107']\n"
     ]
    }
   ],
   "source": [
    "def ascii_list(word):\n",
    "    list1=[]\n",
    "    new_list=[]\n",
    "    for letter in word:\n",
    "        ascii_value=ord(letter)\n",
    "        string=str(ascii_value)+letter+str(ascii_value)\n",
    "        list1.append(string) \n",
    "    for i in list1:\n",
    "        if(i not in new_list):\n",
    "            new_list.append(i)\n",
    "    return new_list\n",
    "#     print(new_list)\n",
    "input1=input('enter a word:')\n",
    "print(ascii_list(input1))"
   ]
  },
  {
   "cell_type": "markdown",
   "id": "6a521bc1",
   "metadata": {},
   "source": [
    "2. Write a function in Python that will take a string text as input from the user and\n",
    "returns a dictionary having the unique characters as the keys and the list of their\n",
    "both-way indexes(positive and negative index) as the values.\n",
    "Sample Input:\n",
    "\"pythonbook\"\n",
    "Function Calling:\n",
    "function_name(\"pythonbook\")\n",
    "Sample Output:\n",
    "{'p': [0, -10], 'y': [1, -9], 't': [2, -8], 'h': [3, -7], 'o': [4, -6, 7, -3, 8, -2], 'n': [5, -5], 'b': [6, -4], 'k':\n",
    "[9, -1]"
   ]
  },
  {
   "cell_type": "code",
   "execution_count": 3,
   "id": "2aba5cf3",
   "metadata": {},
   "outputs": [
    {
     "name": "stdout",
     "output_type": "stream",
     "text": [
      "enter a word:pythonbook\n",
      "{'p': [0, -10], 'y': [1, -9], 't': [2, -8], 'h': [3, -7], 'o': [4, -6, 7, -3, 8, -2], 'n': [5, -5], 'b': [6, -4], 'k': [9, -1]}\n"
     ]
    }
   ],
   "source": [
    "def index_value(word):\n",
    "    dict1={}\n",
    "    for letter in range(len(word)):\n",
    "        positive_index=letter\n",
    "        negative_index=-len(word)+letter\n",
    "        if(word[letter] not in dict1):\n",
    "            dict1[word[letter]]=[positive_index,negative_index]\n",
    "        else:\n",
    "            dict1[word[letter]].append(positive_index)\n",
    "            dict1[word[letter]].append(negative_index)\n",
    "    return dict1\n",
    "input1=input('enter a word:')\n",
    "print(index_value(input1))"
   ]
  },
  {
   "cell_type": "markdown",
   "id": "ff6c8545",
   "metadata": {},
   "source": [
    "3. Write a function in Python that will take a space separated string text as input\n",
    "from the user and returns a dictionary having the unique words as the keys and\n",
    "their frequency in the given text as the values in a sorted order(ascending)\n",
    "according to the frequencies.\n",
    "Sample Input:\n",
    "\"go there come and go here and there go care\"\n",
    "Function Calling:\n",
    "function_name(\"go there come and go here and there go care\")\n",
    "Sample Output:\n",
    "{'come': 1, 'here': 1, 'care': 1, 'there': 2, 'and': 2, 'go': 3}"
   ]
  },
  {
   "cell_type": "code",
   "execution_count": 4,
   "id": "ccf0147d",
   "metadata": {},
   "outputs": [
    {
     "name": "stdout",
     "output_type": "stream",
     "text": [
      "enter a sentence:go there come and go here and there go care\n",
      "{'come': 1, 'here': 1, 'care': 1, 'and': 2, 'there': 2, 'go': 3}\n"
     ]
    }
   ],
   "source": [
    "def string_frequency(sentence):\n",
    "    dict1={}\n",
    "    list1=[]\n",
    "    list2=[]\n",
    "    list3=[]\n",
    "    dict2={}\n",
    "    \n",
    "    for word in sentence:\n",
    "        if(word not in dict1):\n",
    "            dict1[word]=1\n",
    "        else:\n",
    "            dict1[word]+=1\n",
    "        \n",
    "    for i in dict1:\n",
    "        list2.append(i)\n",
    "        list3.append(dict1[i])\n",
    "    \n",
    "    for i in range(len(list3)):\n",
    "        minimum=list3[i]\n",
    "        minimum_index=i\n",
    "        for j in range(i+1,len(list3)):\n",
    "            if(list3[j]<minimum):\n",
    "                minimum=list3[j]\n",
    "                minimum_index=j\n",
    "        temp=list3[minimum_index]\n",
    "        list3[minimum_index]=list3[i]\n",
    "        list3[i]=temp\n",
    "        temp1=list2[minimum_index]\n",
    "        list2[minimum_index]=list2[i]\n",
    "        list2[i]=temp1\n",
    "    for i in range(len(list2)):\n",
    "        dict2[list2[i]]=list3[i]\n",
    "    return dict2\n",
    "            \n",
    "input1=input('enter a sentence:').split(' ')\n",
    "print(string_frequency(input1))"
   ]
  },
  {
   "cell_type": "markdown",
   "id": "65739d4f",
   "metadata": {},
   "source": [
    "4. Write a function in Python that will take a number string text as input from the\n",
    "user and returns a dictionary having the unique numbers as the keys and the\n",
    "tuple of being the number to be even, odd, prime and perfect as the values.\n",
    "Sample Input:\n",
    "\"2441396\"\n",
    "Function Calling:\n",
    "function_name(\"2441396\")\n",
    "Sample Output:\n",
    "{2: ('even', 'prime', 'not perfect'), 4: ('even', 'not prime', 'not perfect'), 1: ('odd', 'not\n",
    "prime', 'not perfect'), 3: ('odd', 'prime', 'not perfect'), 9: ('odd', 'not prime', 'not\n",
    "perfect'), 6: ('even', 'not prime', 'perfect')}"
   ]
  },
  {
   "cell_type": "code",
   "execution_count": 5,
   "id": "9b41726d",
   "metadata": {},
   "outputs": [
    {
     "name": "stdout",
     "output_type": "stream",
     "text": [
      "enter a number:2441396\n",
      "{'2': ('even', 'prime', 'not perfect'), '4': ('even', 'not prime', 'not perfect'), '1': ('odd', 'not prime', 'perfect'), '3': ('odd', 'prime', 'not perfect'), '9': ('odd', 'not prime', 'not perfect'), '6': ('even', 'not prime', 'not perfect')}\n"
     ]
    }
   ],
   "source": [
    "def type_number(number):\n",
    "    even_or_odd=''\n",
    "    prime_or_not=''\n",
    "    perfect_or_not=''\n",
    "    dict1={}\n",
    "#     counter=0\n",
    "    for digit in number:\n",
    "        if(int(digit)%2==0):\n",
    "            even_or_odd='even'\n",
    "        else:\n",
    "            even_or_odd='odd'\n",
    "        int_digit=int(digit)\n",
    "        counter=0\n",
    "        sum1=0\n",
    "        for digit2 in range(1,int_digit+1):\n",
    "            divisor=int_digit%digit2\n",
    "            if(divisor==0):\n",
    "                sum1+=digit2\n",
    "                counter+=1\n",
    "        if(counter==2):\n",
    "            prime_or_not='prime'\n",
    "        else:\n",
    "            prime_or_not='not prime'\n",
    "        if(sum1==int_digit):\n",
    "            perfect_or_not='perfect'\n",
    "        else:\n",
    "            perfect_or_not='not perfect'\n",
    "        \n",
    "        dict1[digit]=even_or_odd,prime_or_not,perfect_or_not\n",
    "    return dict1\n",
    "input1=input('enter a number:')           \n",
    "print(type_number(input1))"
   ]
  },
  {
   "cell_type": "markdown",
   "id": "ce3588ff",
   "metadata": {},
   "source": [
    "5. Write a function in Python that will take two matrices as input from the user in\n",
    "two lists. Then return the summation matrix and print it in the function call. [A\n",
    "matrix can only be added to another matrix if the two matrices have the same\n",
    "dimension][Avoid using built-in Functions]\n",
    "Sample Input:\n",
    "matrix_A = [ [1,5] , [-4,3] ]\n",
    "matrix_B = [ [2,-1] , [4,-1] ]\n",
    "Function Calling:\n",
    "function_name(matrix_A , matrix_B)\n",
    "Sample Output:\n",
    "matrix_sum = [ [3,4] , [0,2] ]\n",
    "Explanation:\n",
    "Inside matrix_A and matrix_B, each list is a row matrix. For example, In matrix_A,\n",
    "Row 1----->[1,5]\n",
    "Row 2---->[-4,3]\n",
    "In matrix_B,Row 1--->[2,-1]\n",
    "Row 2--->[4,-1]\n",
    "So in output,matrix_sum = [ [1+2 , 5 -1]\n",
    "[-4+ 4, 4 -1] ]\n"
   ]
  },
  {
   "cell_type": "code",
   "execution_count": 15,
   "id": "59f30f0f",
   "metadata": {},
   "outputs": [
    {
     "name": "stdout",
     "output_type": "stream",
     "text": [
      "enter 1st matrix:1,5\n",
      "enter 1st matrix:-4,3\n",
      "enter 2nd matrix:2,-1\n",
      "enter 2nd matrix:4,-1\n",
      "[[3, 4], [0, 2]]\n"
     ]
    }
   ],
   "source": [
    "def matrix_addition(A,B):\n",
    "    list1=[]\n",
    "    if(len(A)==len(B)):\n",
    "        for i in range(len(A)):\n",
    "            if(len(A[i])==len(B[i])):\n",
    "                list2=[]\n",
    "                for j in range(len(A[i])):\n",
    "                    A[i][j]=int(A[i][j])\n",
    "                    B[i][j]=int(B[i][j])\n",
    "                    summ=A[i][j]+B[i][j]\n",
    "                    list2.append(summ)\n",
    "                list1.append(list2)\n",
    "    print(list1)\n",
    "matrix_A=[]\n",
    "matrix_B=[]\n",
    "for i in range(2):\n",
    "    first_matrix=input('enter 1st matrix:').split(',')\n",
    "    matrix_A.append(first_matrix)\n",
    "for i in range(2):\n",
    "    second_matrix=input('enter 2nd matrix:').split(',')\n",
    "    matrix_B.append(second_matrix)\n",
    "#     print(first_matrix)\n",
    "#     print(second_matrix)\n",
    "matrix_addition(matrix_A,matrix_B)"
   ]
  },
  {
   "cell_type": "markdown",
   "id": "af32b761",
   "metadata": {},
   "source": [
    "6. Write a Python program that will take a number N and for the keys(1 to N) take\n",
    "N number of lists-as the values of a dictionary, with N number of elements in\n",
    "each list from the user. Here Key number refers to the row numbers.\n",
    "Call a Convert_to _diagonal function that takes the dictionary of a nondiagonal\n",
    "square matrix. Inside this Function, call another function convert_to list, which\n",
    "converts the dictionary into a list of lists and returns the list. Where each list\n",
    "represents a row matrix.\n",
    "After that, convert the square non-diagonal matrix list into a diagonal matrix list.\n",
    "Then print it in the function.[Avoid using built-in Functions]\n",
    "Sample Input:\n",
    "4\n",
    "square_matrix_dict = {1 : [1,2,3,4] , 2 : [4,5,6,7] , 3 : [7,8,9,3] , 4:[9,1,2,3] }\n",
    "Function Calling:\n",
    "convert_to _diagonal(square_matrix_dict)\n",
    "Sample Output:\n",
    "Non Diagonal matrix:\n",
    "1 2 3 4\n",
    "4 5 6 7\n",
    "7 8 9 3\n",
    "9 1 2 3\n",
    "Diagonal Matrix :\n",
    "1 0 0 0\n",
    "0 5 0 0\n",
    "0 0 9 0\n",
    "0 0 0 3\n",
    "Explanation:\n",
    "[Square Matrix: A square matrix is a matrix with the same number of rows and\n",
    "columns.\n",
    "And Diagonal Matrix: Any given square matrix where all the elements are zero\n",
    "except for the elements that are present diagonally is called a diagonal matrix]\n",
    "1.Take input from user and create square_matrix_dict dictionary and call\n",
    "convert_to _diagonal(square_matrix_dict)\n",
    "2. Convert, square_matrix_dict = {1 : [1,2,3,4] , 2 : [4,5,6,7] , 3 : [7,8,9,3] , 4:[9,1,2,3] }\n",
    "into a list , nonDiagonal_matrix_list = [ [1,2,3,4] , [4,5,6,7] , [7,8,9,3] , [9,1,2,3] ]\n",
    "using convert_to _list Function\n",
    "3.Return the list in convert_to _diagonal Function and convert the\n",
    "“nonDiagonal_matrix_list” into a “ diagonal_matrix_list”\n",
    "4. Print both non-diagonal and diagonal matrices like the output."
   ]
  },
  {
   "cell_type": "code",
   "execution_count": 8,
   "id": "a99be4d5",
   "metadata": {},
   "outputs": [
    {
     "name": "stdout",
     "output_type": "stream",
     "text": [
      "enter the number of rows:4\n",
      "enter number of rows:1\n",
      "enter list of numbers:1,2,3,4\n",
      "enter number of rows:2\n",
      "enter list of numbers:5,6,7,8\n",
      "enter number of rows:3\n",
      "enter list of numbers:9,1,2,3\n",
      "enter number of rows:4\n",
      "enter list of numbers:4,5,6,7\n",
      "Non-diagonal:\n",
      "1 2 3 4 \n",
      "5 6 7 8 \n",
      "9 1 2 3 \n",
      "4 5 6 7 \n",
      "Diagonal:\n",
      "1 0 0 0 \n",
      "0 6 0 0 \n",
      "0 0 2 0 \n",
      "0 0 0 7 \n"
     ]
    }
   ],
   "source": [
    "number=int(input('enter the number of rows:'))\n",
    "square_matrix_dict={}\n",
    "for i in range(1,number+1):\n",
    "    row=int(input('enter number of rows:'))\n",
    "    key=row\n",
    "    for j in range(0,row):\n",
    "        list1=[int(item) for item in input('enter list of numbers:').split(',')]\n",
    "        square_matrix_dict[key]=list1\n",
    "        break\n",
    "def non_diagonal(matrix):\n",
    "    print('Non-diagonal:')\n",
    "    for value in matrix.values():\n",
    "        val=value\n",
    "        for num in value:\n",
    "            num_val=num\n",
    "            print(num,end=' ')\n",
    "        print()             \n",
    "non_diagonal(square_matrix_dict)\n",
    "def convert_to_diagonal(matrix):\n",
    "    print('Diagonal:')\n",
    "    list_mat=[]\n",
    "    for value in matrix.values():\n",
    "        list_mat.append(value)\n",
    "    for row in range(len(list_mat)):\n",
    "        for column in range(len(list_mat)):\n",
    "            if(row!=column):\n",
    "                list_mat[row][column]=0\n",
    "    return matrix               \n",
    "x=convert_to_diagonal(square_matrix_dict)\n",
    "for value in x.values():\n",
    "    for val in value:\n",
    "        print(val,end=' ')\n",
    "    print()\n",
    "# def convert_to_diagonal(matrix): (st)\n",
    "#     count=0\n",
    "#     for value in matrix.values():\n",
    "#         for row in range(len(value)):\n",
    "#             if(row!=count):\n",
    "#                 value[row]=0\n",
    "#         count+=1\n",
    "#         print(\"Diagonal\", value)\n",
    "# convert_to_diagonal(square_matrix_dict)"
   ]
  },
  {
   "cell_type": "code",
   "execution_count": 12,
   "id": "c2ab1336",
   "metadata": {},
   "outputs": [
    {
     "name": "stdout",
     "output_type": "stream",
     "text": [
      "enter a word:book\n",
      "['98b98', '111o111', '107k107']\n"
     ]
    }
   ],
   "source": [
    "#practice no.1 \n",
    "def uniqueness(word):\n",
    "    new_list=[]\n",
    "    ans=''\n",
    "    for letter in word:\n",
    "        ans=str(ord(letter))+letter+str(ord(letter))\n",
    "        if(ans not in new_list):\n",
    "            new_list.append(ans)\n",
    "        else:\n",
    "            pass\n",
    "    return new_list\n",
    "        \n",
    "    print(new_list)\n",
    "user_input=input('enter a word:')\n",
    "print(uniqueness(user_input))"
   ]
  },
  {
   "cell_type": "code",
   "execution_count": 24,
   "id": "907935d4",
   "metadata": {},
   "outputs": [
    {
     "name": "stdout",
     "output_type": "stream",
     "text": [
      "enter a word:apple\n",
      "{'a': [0, -5], 'p': [1, -4, 2, -3], 'l': [3, -2], 'e': [4, -1]}\n"
     ]
    }
   ],
   "source": [
    "#practice no.2\n",
    "def uniqueness(word):\n",
    "    my_dict={}\n",
    "    for letter in range(len(word)):\n",
    "        if(word[letter] not in my_dict):\n",
    "            my_dict[word[letter]]=[letter,-len(word)+letter]\n",
    "        else:\n",
    "            my_dict[word[letter]].append(letter)\n",
    "            my_dict[word[letter]].append(-len(word)+letter)\n",
    "    print(my_dict)\n",
    "user_input=input('enter a word:')\n",
    "uniqueness(user_input)"
   ]
  },
  {
   "cell_type": "code",
   "execution_count": 40,
   "id": "8af1cf34",
   "metadata": {},
   "outputs": [
    {
     "name": "stdout",
     "output_type": "stream",
     "text": [
      "enter a word:apple\n",
      "{'a': [0, -5], 'p': [1, 2, -4, -3], 'l': [3, -2], 'e': [4, -1]}\n"
     ]
    }
   ],
   "source": [
    "def uniqueness(word):\n",
    "    my_dict={}\n",
    "    for letter in range(len(word)):\n",
    "        if(word[letter] not in my_dict):\n",
    "            my_dict[word[letter]]=[letter]\n",
    "        else:\n",
    "            my_dict[word[letter]].append(letter)\n",
    "    for letter in range(len(word)):\n",
    "        if(word[letter] not in my_dict):\n",
    "            my_dict[word[letter]]=[-len(word)+letter]\n",
    "        else:\n",
    "            my_dict[word[letter]].append(-len(word)+letter)\n",
    "    print(my_dict)\n",
    "        \n",
    "user_input=input('enter a word:')\n",
    "uniqueness(user_input)"
   ]
  },
  {
   "cell_type": "code",
   "execution_count": 47,
   "id": "e87d505d",
   "metadata": {},
   "outputs": [
    {
     "name": "stdout",
     "output_type": "stream",
     "text": [
      "enter a sentence:a a a\n",
      "{'a': 3}\n"
     ]
    }
   ],
   "source": [
    "def count(sentence):\n",
    "    sentence=sentence.split(' ')\n",
    "    my_dict={}\n",
    "    for i in sentence:\n",
    "        if(i not in my_dict):\n",
    "            my_dict[i]=1\n",
    "        else:\n",
    "            my_dict[i]+=1\n",
    "    for key,value in my_dict.items():\n",
    "        \n",
    "    \n",
    "    print(my_dict)\n",
    "        \n",
    "user_input=input('enter a sentence:')\n",
    "count(user_input)"
   ]
  },
  {
   "cell_type": "markdown",
   "id": "337b71e9",
   "metadata": {},
   "source": [
    "## "
   ]
  }
 ],
 "metadata": {
  "kernelspec": {
   "display_name": "Python 3",
   "language": "python",
   "name": "python3"
  },
  "language_info": {
   "codemirror_mode": {
    "name": "ipython",
    "version": 3
   },
   "file_extension": ".py",
   "mimetype": "text/x-python",
   "name": "python",
   "nbconvert_exporter": "python",
   "pygments_lexer": "ipython3",
   "version": "3.8.8"
  }
 },
 "nbformat": 4,
 "nbformat_minor": 5
}
