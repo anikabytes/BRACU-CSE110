{
 "cells": [
  {
   "cell_type": "code",
   "execution_count": 1,
   "id": "e31d0c44",
   "metadata": {},
   "outputs": [
    {
     "name": "stdout",
     "output_type": "stream",
     "text": [
      "enter 1st value: 7\n",
      "enter 2nd value: 10\n",
      "enter 3rd value: 5\n",
      "53.88877434122991\n"
     ]
    }
   ],
   "source": [
    "#task 1\n",
    "x=int(input('enter 1st value: '))\n",
    "y=int(input('enter 2nd value: '))\n",
    "z=int(input('enter 3rd value: '))\n",
    "s=(x+y+z)/2\n",
    "p=(s-x)*(s-y)*(s-z)\n",
    "p1=p**(1/2)\n",
    "Area=s*p1\n",
    "print(Area)"
   ]
  },
  {
   "cell_type": "code",
   "execution_count": 26,
   "id": "588ede39",
   "metadata": {},
   "outputs": [
    {
     "name": "stdout",
     "output_type": "stream",
     "text": [
      "enter 3 numbers: 1,2,0\n",
      "2\n"
     ]
    }
   ],
   "source": [
    "#task 2\n",
    "input1=input('enter 3 numbers: ').split(',')\n",
    "maximum=0\n",
    "for item in input1:\n",
    "    if(item>str(maximum)):\n",
    "        maximum=item\n",
    "print(maximum)"
   ]
  },
  {
   "cell_type": "code",
   "execution_count": 15,
   "id": "af2b351b",
   "metadata": {},
   "outputs": [
    {
     "name": "stdout",
     "output_type": "stream",
     "text": [
      "enter the hypotenuse: 2\n",
      "enter the base: 1\n",
      "enter the height: 1\n",
      "triangle is valid\n"
     ]
    }
   ],
   "source": [
    "#task 3\n",
    "input1=int(input('enter the hypotenuse: '))\n",
    "input2=int(input('enter the base: '))\n",
    "input3=int(input('enter the height: '))\n",
    "sum1=input1\n",
    "sum2=input2+input3\n",
    "if(sum1==sum2):\n",
    "    print('triangle is valid')\n",
    "else:\n",
    "    print('triangle is invalid')\n",
    "    "
   ]
  },
  {
   "cell_type": "code",
   "execution_count": 8,
   "id": "748b155b",
   "metadata": {},
   "outputs": [
    {
     "name": "stdout",
     "output_type": "stream",
     "text": [
      "enter a year: 1800\n",
      "1800 is not a leap year\n"
     ]
    }
   ],
   "source": [
    "#task 4\n",
    "input1=int(input('enter a year: '))\n",
    "if(input1%4==0):\n",
    "    if(input1%400==0):\n",
    "        print(input1,'is a leap year')\n",
    "    elif(input1%100==0):\n",
    "        print(input1,'is not a leap year')"
   ]
  },
  {
   "cell_type": "code",
   "execution_count": 4,
   "id": "f37e75ee",
   "metadata": {},
   "outputs": [
    {
     "name": "stdout",
     "output_type": "stream",
     "text": [
      "enter a number: 5\n",
      "1+11+111+1111+11111+\n",
      "12345\n"
     ]
    }
   ],
   "source": [
    "#task 5\n",
    "input1=int(input('enter a number: '))\n",
    "string=''\n",
    "string2=''\n",
    "sum=0\n",
    "for item in range(1,input1+1):\n",
    "    string+='1'\n",
    "    print(string,end='+')\n",
    "    string2+=str(item)\n",
    "print()\n",
    "print(string2)\n",
    "      "
   ]
  },
  {
   "cell_type": "code",
   "execution_count": 22,
   "id": "f3d60985",
   "metadata": {},
   "outputs": [
    {
     "name": "stdout",
     "output_type": "stream",
     "text": [
      "enter a number5\n",
      "5\n",
      "10\n",
      "15\n",
      "20\n",
      "25\n",
      "30\n",
      "35\n",
      "40\n",
      "45\n",
      "50\n"
     ]
    }
   ],
   "source": [
    "#task 6\n",
    "input1=int(input('enter a number'))\n",
    "for item in range(1,11):\n",
    "    multiple=input1*item\n",
    "    print(multiple)"
   ]
  },
  {
   "cell_type": "code",
   "execution_count": 10,
   "id": "6770fc65",
   "metadata": {},
   "outputs": [
    {
     "name": "stdout",
     "output_type": "stream",
     "text": [
      "enter: 7\n",
      "*******\n",
      "     *\n",
      "    *\n",
      "   *\n",
      "  *\n",
      " *\n",
      "*******\n"
     ]
    }
   ],
   "source": [
    "#task 7\n",
    "input1=int(input('enter: '))\n",
    "for i in range(1,input1+1):\n",
    "    if (i==1) or (i==input1):\n",
    "        for j in range(input1):\n",
    "            print('*',end='')\n",
    "    else:\n",
    "        for j in range(input1-i):\n",
    "            print(' ',end='')\n",
    "        print('*',end='')\n",
    "    print()"
   ]
  },
  {
   "cell_type": "code",
   "execution_count": 7,
   "id": "0a69765b",
   "metadata": {},
   "outputs": [
    {
     "name": "stdout",
     "output_type": "stream",
     "text": [
      "enter a number: 5\n",
      "enter numbers: -1\n",
      "enter numbers: 1\n",
      "enter numbers: stop\n",
      "average: 0.0\n",
      "sum: 0\n"
     ]
    }
   ],
   "source": [
    "#task 8 \n",
    "n=int(input('enter a number: '))\n",
    "sum=0\n",
    "counter=0\n",
    "s='stop'\n",
    "for i in range(0,n):\n",
    "    input1=input('enter numbers: ')\n",
    "    if(input1!=s):\n",
    "        counter+=1\n",
    "        sum+=int(input1)\n",
    "        average=sum/counter\n",
    "    else:\n",
    "        break\n",
    "\n",
    "print('average:',average)\n",
    "print('sum:',sum)"
   ]
  },
  {
   "cell_type": "markdown",
   "id": "b15cf102",
   "metadata": {},
   "source": [
    "## task 9 \n",
    "input1=input('enter: ')\n",
    "string1='1,2,3,4,5,6,7,8,9,0'\n",
    "string2='a,b,c,d,e,f,g,h,i,j,k,l,m,n,o,p,q,r,s,t,u,v,w,x,y,z'\n",
    "counter=0\n",
    "counter1=0\n",
    "counter2=0\n",
    "for item in input1:\n",
    "    if(item in string1):\n",
    "        counter+=1\n",
    "    if(item in string2):\n",
    "        counter1+=1\n",
    "    elif(item not in string1) and (item not in string2):\n",
    "        counter2+=1\n",
    "print('No of numbers:',counter)\n",
    "print('No of alphabets:',counter1)\n",
    "print('Special characters:',counter2)"
   ]
  },
  {
   "cell_type": "code",
   "execution_count": 20,
   "id": "11124752",
   "metadata": {},
   "outputs": [
    {
     "name": "stdout",
     "output_type": "stream",
     "text": [
      "enter:the breaking news\n",
      "greatest breaking\n",
      "smallest the\n"
     ]
    }
   ],
   "source": [
    "#task 10\n",
    "input1=input('enter:').split(' ')\n",
    "minimum=999999\n",
    "maximum=-99999\n",
    "minimum1=''\n",
    "maximum1=''\n",
    "for item in input1:\n",
    "    if(len(item)>maximum):\n",
    "        maximum=len(item)\n",
    "        maximum1=item\n",
    "    if(len(item)<minimum):\n",
    "        minimum=len(item)\n",
    "        minimum1=item\n",
    "print('greatest',maximum1)\n",
    "print('smallest',minimum1)"
   ]
  },
  {
   "cell_type": "code",
   "execution_count": 12,
   "id": "852cbf75",
   "metadata": {},
   "outputs": [
    {
     "name": "stdout",
     "output_type": "stream",
     "text": [
      "enter:1\n",
      "enter a letter: 2\n",
      "1\n"
     ]
    }
   ],
   "source": [
    "#task 11\n",
    "input1=input('enter:').lower()\n",
    "input2=input('enter a letter: ')\n",
    "input3=''\n",
    "for i in input1:\n",
    "    if(i in input2):\n",
    "        pass\n",
    "    else:\n",
    "        input3+=i\n",
    "print(input3)\n"
   ]
  },
  {
   "cell_type": "code",
   "execution_count": 24,
   "id": "1d196cf7",
   "metadata": {},
   "outputs": [
    {
     "name": "stdout",
     "output_type": "stream",
     "text": [
      "enter:i love python programming\n",
      "I Love Python Programming "
     ]
    }
   ],
   "source": [
    "#task 12\n",
    "input1=input('enter:').split(' ')\n",
    "for i in input1:\n",
    "    a=str(chr(ord(i[0])-32))\n",
    "    for j in range(1,len(i)):\n",
    "        a=a+i[j]\n",
    "    print(a,end=' ')    "
   ]
  },
  {
   "cell_type": "code",
   "execution_count": 149,
   "id": "efc5658c",
   "metadata": {},
   "outputs": [
    {
     "name": "stdout",
     "output_type": "stream",
     "text": [
      "enter: 1,2,3,4,5\n",
      "120\n"
     ]
    }
   ],
   "source": [
    "#task 13\n",
    "input1=[int(item) for item in input('enter: ').split(',')]\n",
    "for i in input1:\n",
    "    multiple*=i\n",
    "print(multiple)"
   ]
  },
  {
   "cell_type": "code",
   "execution_count": 150,
   "id": "c0d89549",
   "metadata": {},
   "outputs": [
    {
     "name": "stdout",
     "output_type": "stream",
     "text": [
      "enter: 10,20,30,40\n",
      "enter: 100,200,300,400\n",
      "10 400\n",
      "20 300\n",
      "30 200\n",
      "40 100\n"
     ]
    }
   ],
   "source": [
    "#task 14\n",
    "list1 = [int(item) for item in input('enter: ').split(',')]\n",
    "list2 = [int(item) for item in input('enter: ').split(',')]\n",
    "list3=list2[::-1]\n",
    "list4=[]\n",
    "for i in range(len(list1)):\n",
    "    print(list1[i],list3[i])\n",
    "\n",
    "    \n",
    "        \n",
    "        "
   ]
  },
  {
   "cell_type": "code",
   "execution_count": 136,
   "id": "b32b6b71",
   "metadata": {},
   "outputs": [
    {
     "name": "stdout",
     "output_type": "stream",
     "text": [
      "enter: Red,Blue,Green,White,Black\n",
      "['deR', 'eulB', 'neerG', 'etihW', 'kcalB']\n"
     ]
    }
   ],
   "source": [
    "#task 15\n",
    "p=[str(item) for item in input('enter: ').split(',')]\n",
    "q=[]\n",
    "for i in range(len(p)):\n",
    "    q.append(p[i][::-1])\n",
    "print(q)\n",
    "\n",
    "    \n"
   ]
  },
  {
   "cell_type": "code",
   "execution_count": 22,
   "id": "b0290a16",
   "metadata": {},
   "outputs": [
    {
     "name": "stdout",
     "output_type": "stream",
     "text": [
      "enter:2,4,6,8,10,1\n",
      "1st even number: 2\n",
      "1st odd number: 1\n"
     ]
    }
   ],
   "source": [
    "#task 16\n",
    "l=[int(item) for item in input('enter:').split(',')]\n",
    "for i in range(len(l)):\n",
    "    if(l[i]%2==0):\n",
    "        print('1st even number:',l[i])\n",
    "        break\n",
    "for i in range(len(l)):\n",
    "    if(l[i]%2!=0):\n",
    "        print('1st odd number:',l[i])\n",
    "        break"
   ]
  },
  {
   "cell_type": "code",
   "execution_count": 2,
   "id": "5fa6adba",
   "metadata": {},
   "outputs": [
    {
     "name": "stdout",
     "output_type": "stream",
     "text": [
      "enter: p,q\n",
      "enter a number: 2\n",
      "['p1', 'q1', 'p2', 'q2']\n"
     ]
    }
   ],
   "source": [
    "#task 17\n",
    "A = [str(item) for item in input('enter: ').split(',')]\n",
    "N=int(input('enter a number: '))\n",
    "l=[]\n",
    "m=[]\n",
    "for i in A:\n",
    "    s=i\n",
    "    for j in range(1,N+1):\n",
    "            s+=str(j)\n",
    "            l.append(s)\n",
    "            s=i\n",
    "for i in range(N):\n",
    "    m.append(l[i])\n",
    "    m.append(l[i+N])\n",
    "print(m)"
   ]
  },
  {
   "cell_type": "code",
   "execution_count": null,
   "id": "537cc649",
   "metadata": {},
   "outputs": [],
   "source": []
  }
 ],
 "metadata": {
  "kernelspec": {
   "display_name": "Python 3",
   "language": "python",
   "name": "python3"
  },
  "language_info": {
   "codemirror_mode": {
    "name": "ipython",
    "version": 3
   },
   "file_extension": ".py",
   "mimetype": "text/x-python",
   "name": "python",
   "nbconvert_exporter": "python",
   "pygments_lexer": "ipython3",
   "version": "3.8.8"
  }
 },
 "nbformat": 4,
 "nbformat_minor": 5
}
