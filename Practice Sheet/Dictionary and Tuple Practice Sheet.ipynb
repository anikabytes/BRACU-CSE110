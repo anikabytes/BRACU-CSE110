{
 "cells": [
  {
   "cell_type": "markdown",
   "id": "0c243d0b",
   "metadata": {},
   "source": [
    "1. A number is a magic number if the summation of even indexed digits is equal to the\n",
    "summation of odd indexed digits.\n",
    "Now, write a Python program that will take a number N in the very first line from the\n",
    "user, then take N number of test cases in the next N lines.\n",
    "The program should print a tuple containing two sub-tuples , where the first sub-tuple\n",
    "will hold the magic numbers and the second sub-tuple will hold the non-magic numbers.\n",
    "Sample Input\n",
    "5\n",
    "1232\n",
    "4455\n",
    "1234\n",
    "9876\n",
    "1111\n",
    "Sample Output\n",
    "((1232,4455,1111),(1234,9876)"
   ]
  },
  {
   "cell_type": "code",
   "execution_count": 2,
   "id": "ba0f8c9a",
   "metadata": {},
   "outputs": [
    {
     "name": "stdout",
     "output_type": "stream",
     "text": [
      "enter a number: 5\n",
      "enter numbers:1232\n",
      "enter numbers:4455\n",
      "enter numbers:1234\n",
      "enter numbers:9876\n",
      "enter numbers:1111\n",
      "((1232, 4455, 1111), (1234, 9876))\n"
     ]
    }
   ],
   "source": [
    "N=int(input('enter a number: '))\n",
    "list1=[]\n",
    "list2=[]\n",
    "list3=[]\n",
    "list4=[]\n",
    "for item in range(0,N):\n",
    "    input1=input('enter numbers:')\n",
    "    sum1=0\n",
    "    sum2=0\n",
    "    for item2 in range(len(input1)):\n",
    "        if(item2%2==0):\n",
    "            val1=input1[item2]\n",
    "            sum1+=int(val1)\n",
    "#             print('sum1',sum1)\n",
    "        if(item2%2!=0):\n",
    "            val2=input1[item2]\n",
    "            sum2+=int(val2)  \n",
    "#             print('sum2',sum2)\n",
    "    if(sum1==sum2):\n",
    "        list1.append(int(input1))\n",
    "#         tuple1=tuple(list1)\n",
    "    else:\n",
    "         list2.append(int(input1))\n",
    "tuple1=tuple(list1)\n",
    "tuple2=tuple(list2)\n",
    "tuple3=tuple1,tuple2\n",
    "# list3.append(tuple(list1))\n",
    "# list3.append(tuple(list2))\n",
    "# print(tuple(list3))\n",
    "print(tuple3)"
   ]
  },
  {
   "cell_type": "markdown",
   "id": "59ab0edf",
   "metadata": {},
   "source": [
    "\n",
    "2. Write a Python program that takes a tuple of tuples. Calculate the average value of the\n",
    "numbers for each tuple of tuples and find the tuple whose sum is the maximum.[Try to\n",
    "avoid built in functions]\n",
    "Sample Input:\n",
    "((33, 22, 11), (30, 45, 56, 45,20), (81, 90, 39, 45), (1, 2, 3, 4,5,6))\n",
    "Sample Output:\n",
    "Average : [22.0, 39.2, 63.75, 3.5]\n",
    "Tuple with maximum sum : (81, 90, 39, 45"
   ]
  },
  {
   "cell_type": "code",
   "execution_count": 4,
   "id": "daf376af",
   "metadata": {},
   "outputs": [
    {
     "name": "stdout",
     "output_type": "stream",
     "text": [
      "Average: [22.0, 39.2, 63.75, 3.5]\n",
      "Maximum: (81, 90, 39, 45)\n"
     ]
    }
   ],
   "source": [
    "tuples_in_tuple=((33, 22, 11), ( 30,45, 56,45,20), (81, 90, 39, 45), (1, 2, 3, 4,5,6))\n",
    "tuple1,tuple2,tuple3,tuple4=tuples_in_tuple\n",
    "sum1=0\n",
    "sum2=0\n",
    "sum3=0\n",
    "sum4=0\n",
    "counter1=0\n",
    "counter2=0\n",
    "counter3=0\n",
    "counter4=0\n",
    "maximum=0\n",
    "for item1 in tuple1:\n",
    "    counter1+=1\n",
    "    sum1+=item1\n",
    "    average1=sum1/counter1 \n",
    "for item2 in tuple2:\n",
    "    counter2+=1\n",
    "    sum2+=item2\n",
    "    average2=sum2/counter2\n",
    "for item3 in tuple3:\n",
    "    counter3+=1\n",
    "    sum3+=item3\n",
    "    average3=sum3/counter3\n",
    "for item4 in tuple4:\n",
    "    counter4+=1\n",
    "    sum4+=item4\n",
    "    average4=sum4/counter4\n",
    "if (maximum<sum1):\n",
    "    maximum_tuple=tuple1\n",
    "    maximum=sum1\n",
    "if(maximum<sum2):\n",
    "    maximum_tuple=tuple2\n",
    "    maximum=sum2\n",
    "if(maximum<sum3):\n",
    "    maximum_tuple=tuple3\n",
    "    maximum=sum3\n",
    "if(maximum<sum4):\n",
    "    maximum_tuple=tuple4\n",
    "    maximum=sum4\n",
    "average_tuple=average1,average2,average3,average4\n",
    "average_list=list(average_tuple)\n",
    "print('Average:',average_list) \n",
    "print('Maximum:',maximum_tuple)"
   ]
  },
  {
   "cell_type": "code",
   "execution_count": 52,
   "id": "34e1cc08",
   "metadata": {},
   "outputs": [
    {
     "name": "stdout",
     "output_type": "stream",
     "text": [
      "(33, 22, 11)\n",
      "(81, 90, 39, 45)\n",
      "[22.0, 39.2, 63.75, 3.5]\n"
     ]
    }
   ],
   "source": [
    "tuples_in_tuple=((33, 22, 11), ( 30,45, 56,45,20), (81, 90, 39, 45), (1, 2, 3, 4,5,6))\n",
    "list1=[]\n",
    "list2=[]\n",
    "for tuples in tuples_in_tuple:\n",
    "    list2.append(tuples)\n",
    "    sum=0\n",
    "    counter=0\n",
    "    maximum=0\n",
    "    for num in tuples:\n",
    "        counter+=1\n",
    "        sum+=num\n",
    "        average=sum/counter\n",
    "    list1.append(average)\n",
    "maximum=0\n",
    "for tuples in range(len(list2)):\n",
    "    for num in list2[tuples]:\n",
    "        if(maximum<num):\n",
    "            maximum=num\n",
    "            print(list2[tuples])\n",
    "        break\n",
    "# for summ in range(len(list2)):\n",
    "#     maximum=list2[summ]\n",
    "#     maximum_index=summ\n",
    "#     for summ2 in range(summ+1,len(list2)):\n",
    "#         if(maximum<summ2):\n",
    "#             maximum=list2[summ2]\n",
    "#             maximum_index=summ2\n",
    "#     temp=list2[maximum_index]\n",
    "#     list2[maximum_index]=list2[summ]\n",
    "#     list2[summ]=temp\n",
    "#     if(maximum<sum):\n",
    "#         maximum=sum\n",
    "#         maximum_tuple=num\n",
    "print(list1)"
   ]
  },
  {
   "cell_type": "markdown",
   "id": "966f03b7",
   "metadata": {},
   "source": [
    "3. We all know that the additive primaries are red, green, and blue.\n",
    "Now, write a Python program that will take a color sequence as a string from the user\n",
    "where R represents Red , G represents Green and B represents Blue .The program\n",
    "should print the choice of colors that is actually a tuple containing the sub-tuples as\n",
    "(color_name, color_frequency) iff the color_frequency for that color is at least one in the\n",
    "given color sequence.\n",
    "Sample Input\n",
    "RGBRRGBBR\n",
    "Sample Output\n",
    "((′Red′,4),(′Green′,2),(′Blue′,3))\n"
   ]
  },
  {
   "cell_type": "code",
   "execution_count": 33,
   "id": "a661414d",
   "metadata": {},
   "outputs": [
    {
     "name": "stdout",
     "output_type": "stream",
     "text": [
      "enter color sequence:RGBRRGBBR\n",
      "(('Red', 4), ('Green', 2), ('Blue', 3))\n"
     ]
    }
   ],
   "source": [
    "color_sequence=input('enter color sequence:')\n",
    "counter1=0\n",
    "counter2=0\n",
    "counter3=0\n",
    "for item in color_sequence:\n",
    "    if(item=='R'):\n",
    "        counter1+=1\n",
    "    if(item=='G'):\n",
    "        counter2+=1\n",
    "    if(item=='B'):\n",
    "        counter3+=1\n",
    "tuple1='Red',counter1\n",
    "tuple2='Green',counter2\n",
    "tuple3='Blue',counter3\n",
    "new_tuple=tuple1,tuple2,tuple3\n",
    "print(new_tuple)"
   ]
  },
  {
   "cell_type": "markdown",
   "id": "963d3304",
   "metadata": {},
   "source": [
    " 4. Suppose dictionaries are given .Write a Python program that combines two or more\n",
    "dictionaries, creates a list of values for each key.\n",
    "Sample Input:\n",
    "Original dictionaries:\n",
    "{'w': 50, 'x': 100, 'y': 'Green', 'z': 400}\n",
    "{'x': 300, 'y': 'Red', 'z': 600}\n",
    "Sample Output:\n",
    "{'w': [50], 'x': [100, 300], 'y': ['Green', 'Red'], 'z': [400, 600]}"
   ]
  },
  {
   "cell_type": "code",
   "execution_count": 22,
   "id": "fdebcc5b",
   "metadata": {},
   "outputs": [
    {
     "name": "stdout",
     "output_type": "stream",
     "text": [
      "{'w': [50], 'x': [100, 300], 'y': ['Green', 'Red'], 'z': [400, 600]}\n"
     ]
    }
   ],
   "source": [
    "dict1={'w': 50, 'x': 100, 'y': 'Green', 'z': 400}\n",
    "dict2={'x': 300, 'y': 'Red', 'z': 600}\n",
    "dict3={}\n",
    "string1=''\n",
    "for key1,value1 in dict1.items():\n",
    "    dict3[key1]=[value1]\n",
    "for key2,value2 in dict2.items():\n",
    "    if(key2 not in dict3):\n",
    "        dict3[key2]=[value2]\n",
    "    else:\n",
    "        dict3[key2].append(value2)\n",
    "print(dict3)"
   ]
  },
  {
   "cell_type": "markdown",
   "id": "dad32972",
   "metadata": {},
   "source": [
    "2. Suppose,there will be a dictionary named dict_1.The values of the dictionary will be a\n",
    "list or a tuple.Here, in a key value pair ,the key will be a lower case letter if the value is a\n",
    "list . And if the value is a tuple,then the key will be an uppercase letter.\n",
    "Write a Python program that creates a new dictionary named “dict_primes” which\n",
    "contains only prime numbers in the value.And print the dictionary dict_primes.\n",
    "Sample Input 1:\n",
    "dict_1 = {\"a\":[5,2,55,17],\"P\":(11,121,222),\"B\":(37,53,71),\"c\":[45,92,50]}\n",
    "Sample Output 1 :\n",
    "dict_primes = {'a': [5, 2, 17], 'P': (11,), 'B': (37, 53, 71), 'c': []}\n",
    "===============================================\n",
    "Sample Input 2:\n",
    "dict_1 = {\"N\":(4,9,3),\"k\":[95,37,197],\"F\":(32,5,97),\"s\":[31,94,55]}\n",
    "Sample Output 2 :\n",
    "dict_primes = {'N': (3,), 'k': [37, 197], 'F': (5, 97), 's': [31]"
   ]
  },
  {
   "cell_type": "code",
   "execution_count": 26,
   "id": "72024a2a",
   "metadata": {},
   "outputs": [
    {
     "name": "stdout",
     "output_type": "stream",
     "text": [
      "{'N': (3,), 'k': [37, 197], 'F': (5, 97), 's': [31]}\n"
     ]
    }
   ],
   "source": [
    "# dict_1 = {\"a\":[5,2,55,17],\"P\":(11,121,222),\"B\":(37,53,71),\"c\":[45,92,50]}\n",
    "dict_1= {\"N\":(4,9,3),\"k\":[95,37,197],\"F\":(32,5,97),\"s\":[31,94,55]}\n",
    "list1=[]\n",
    "dict_primes={}\n",
    "for key,value in dict_1.items():\n",
    "    dict_primes[key]=[]\n",
    "    for item in value:\n",
    "        number=int(item)\n",
    "        counter=0\n",
    "        for item2 in range(1,number):\n",
    "            if(number%item2==0):\n",
    "                counter+=1\n",
    "        if(counter<2):\n",
    "            if(65<ord(key)<90):\n",
    "                dict_primes[key].append(number)\n",
    "            else:\n",
    "                dict_primes[key].append(number) \n",
    "for key,value in dict_primes.items():\n",
    "    if(65<ord(key)<90):\n",
    "        dict_primes[key]=tuple(dict_primes[key])\n",
    "print(dict_primes)\n",
    "                \n",
    "            \n",
    "       "
   ]
  },
  {
   "cell_type": "markdown",
   "id": "697ca4c1",
   "metadata": {},
   "source": [
    ". An Agent has three normal skills along with an ultimate skill. Furthermore, there are\n",
    "three agents in the game named after Rage , Jett and Sage .Now, write a Python\n",
    "program that will detect the Agent from a given dictionary where the keys are \"Normal\n",
    "Skills\", \"Ultimate Skill\" and the values are the damages due to the use of the skills on the\n",
    "opponents.\n",
    "Additive Damage Score: SUM_TOTAL(NORMAL_SKILL_DAMAGE,\n",
    "ULTIMATE_SKILL_DAMAGE)\n",
    "Constraints:\n",
    "1. If the additive damage score is less than or equal to 70 then it is Rage .\n",
    "2. Else If the additive damage score is less than or equal to 100 then it is Jett .\n",
    "3. Else it is Sage .\n",
    "Sample Input\n",
    "Assume a dictionary,\n",
    "d = { \"Normal Skills\":[10,15,20], \"Ultimate Skill\":50 }\n",
    "Sample Output\n",
    "Jet"
   ]
  },
  {
   "cell_type": "code",
   "execution_count": 3,
   "id": "c82561d9",
   "metadata": {},
   "outputs": [
    {
     "name": "stdout",
     "output_type": "stream",
     "text": [
      "Jett\n"
     ]
    }
   ],
   "source": [
    "d = { \"Normal Skills\":[10,15,10], \"Ultimate Skill\":50 }\n",
    "for value in d.values():\n",
    "    if(type(value)==list):\n",
    "        sum1=0\n",
    "        for item in value:\n",
    "            sum1+=int(item)\n",
    "    else:\n",
    "        sum1+=value\n",
    "if(sum1<=70):\n",
    "    print('Rage')\n",
    "elif(sum1<=100):\n",
    "    print('Jett')\n",
    "else:\n",
    "    print('Sage')"
   ]
  },
  {
   "cell_type": "code",
   "execution_count": null,
   "id": "c83b9a78",
   "metadata": {},
   "outputs": [],
   "source": []
  }
 ],
 "metadata": {
  "kernelspec": {
   "display_name": "Python 3",
   "language": "python",
   "name": "python3"
  },
  "language_info": {
   "codemirror_mode": {
    "name": "ipython",
    "version": 3
   },
   "file_extension": ".py",
   "mimetype": "text/x-python",
   "name": "python",
   "nbconvert_exporter": "python",
   "pygments_lexer": "ipython3",
   "version": "3.8.8"
  }
 },
 "nbformat": 4,
 "nbformat_minor": 5
}
