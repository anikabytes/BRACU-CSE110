{
 "cells": [
  {
   "cell_type": "markdown",
   "id": "77fe5e4d",
   "metadata": {},
   "source": [
    "### STAR PATTERN PROBLEMS "
   ]
  },
  {
   "cell_type": "code",
   "execution_count": 2,
   "id": "9774716b",
   "metadata": {},
   "outputs": [
    {
     "name": "stdout",
     "output_type": "stream",
     "text": [
      "enter a number: 4\n",
      "enter another number: 6\n",
      "123456\n",
      "123456\n",
      "123456\n",
      "123456\n"
     ]
    }
   ],
   "source": [
    "#Task 1 \n",
    "N=int(input('enter a number: '))\n",
    "M=int(input('enter another number: '))\n",
    "for i in range(1,N+1):\n",
    "    for j in range(1,M+1):\n",
    "        print(j,end='')\n",
    "    print()"
   ]
  },
  {
   "cell_type": "code",
   "execution_count": 19,
   "id": "5b37ba16",
   "metadata": {},
   "outputs": [
    {
     "name": "stdout",
     "output_type": "stream",
     "text": [
      "enter a number: 4\n",
      "*\n",
      "**\n",
      "***\n",
      "****\n"
     ]
    }
   ],
   "source": [
    "#Task 2\n",
    "N=int(input('enter a number: '))\n",
    "for i in range(1,N+1):\n",
    "    for j in range(1,i+1):\n",
    "        print('*',end='')\n",
    "    print()"
   ]
  },
  {
   "cell_type": "code",
   "execution_count": 20,
   "id": "5452e738",
   "metadata": {},
   "outputs": [
    {
     "name": "stdout",
     "output_type": "stream",
     "text": [
      "enter a number: 4\n",
      "1\n",
      "12\n",
      "123\n",
      "1234\n"
     ]
    }
   ],
   "source": [
    "#Task 3\n",
    "N=int(input('enter a number: '))\n",
    "for i in range(1,N+1):\n",
    "    for j in range(1,i+1):\n",
    "        print(j,end='')\n",
    "    print()"
   ]
  },
  {
   "cell_type": "code",
   "execution_count": 62,
   "id": "6c905388",
   "metadata": {},
   "outputs": [
    {
     "name": "stdout",
     "output_type": "stream",
     "text": [
      "enter a number: 1\n"
     ]
    }
   ],
   "source": [
    "#Task 4\n",
    "N=int(input('enter a number: '))\n",
    "for i in range(N+1,1):\n",
    "    for j in range(1,i+1):\n",
    "        print(j)\n"
   ]
  },
  {
   "cell_type": "code",
   "execution_count": null,
   "id": "68c24fbf",
   "metadata": {},
   "outputs": [],
   "source": []
  },
  {
   "cell_type": "code",
   "execution_count": 40,
   "id": "fa6add39",
   "metadata": {},
   "outputs": [],
   "source": [
    "#Task 6\n"
   ]
  },
  {
   "cell_type": "code",
   "execution_count": null,
   "id": "c3323058",
   "metadata": {},
   "outputs": [],
   "source": []
  }
 ],
 "metadata": {
  "kernelspec": {
   "display_name": "Python 3",
   "language": "python",
   "name": "python3"
  },
  "language_info": {
   "codemirror_mode": {
    "name": "ipython",
    "version": 3
   },
   "file_extension": ".py",
   "mimetype": "text/x-python",
   "name": "python",
   "nbconvert_exporter": "python",
   "pygments_lexer": "ipython3",
   "version": "3.8.8"
  }
 },
 "nbformat": 4,
 "nbformat_minor": 5
}
