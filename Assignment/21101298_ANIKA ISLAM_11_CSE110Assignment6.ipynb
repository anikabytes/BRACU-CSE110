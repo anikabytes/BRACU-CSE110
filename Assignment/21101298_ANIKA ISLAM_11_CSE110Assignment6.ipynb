{
 "cells": [
  {
   "cell_type": "markdown",
   "metadata": {
    "id": "mRHB9cBf5D7V"
   },
   "source": [
    "# CSE110 Lab Assignment 6\n",
    "This assignment is to guide you to solve everything you have learned so far by implementing functions in Python. \n",
    "\n",
    "\n",
    "\n",
    "Write your name, student id and CSE110 section below:"
   ]
  },
  {
   "cell_type": "code",
   "execution_count": null,
   "metadata": {
    "id": "YzSo433_gwDg"
   },
   "outputs": [],
   "source": [
    "#STUDENT NAME: ANIKA ISLAM \n",
    "#STUDENT ID: 21101298\n",
    "#CSE110 SECTION: 11"
   ]
  },
  {
   "cell_type": "markdown",
   "metadata": {
    "id": "_uzpm0b85D7Z"
   },
   "source": [
    "**<font color='red'>[MUST MAINTAIN VARIABLE NAMING CONVENTIONS FOR ALL THE TASKS]</font>**\n",
    "\n",
    "## Write the Python code of the following problems:\n",
    "\n",
    "### Task 1\n",
    "Write a function called **even_checker** that takes a number as an argument and prints whether the number is even or odd **inside the function**.\n",
    "\n",
    "===================================\n",
    "\n",
    "**Example1:** \\\n",
    "**Function Call:**\\\n",
    "even_checker(5)\\\n",
    "**Output:**\\\n",
    "Odd!!\n",
    "\n",
    "=============================\n",
    "\n",
    "**Example2:** \\\n",
    "**Function Call:**\\\n",
    "even_checker(2)\\\n",
    "**Output:**\\\n",
    "Even!!\n",
    "\n"
   ]
  },
  {
   "cell_type": "code",
   "execution_count": 1,
   "metadata": {
    "id": "tMMBecSe5D7a"
   },
   "outputs": [
    {
     "name": "stdout",
     "output_type": "stream",
     "text": [
      "enter a number: 5\n",
      "Odd!!\n"
     ]
    }
   ],
   "source": [
    "# to do\n",
    "def even_checker(number):\n",
    "    if(number%2==0):\n",
    "        print('Even!!')\n",
    "    else:\n",
    "        print('Odd!!')\n",
    "input1=int(input('enter a number: '))\n",
    "even_checker(input1)"
   ]
  },
  {
   "cell_type": "code",
   "execution_count": 1,
   "metadata": {},
   "outputs": [
    {
     "name": "stdout",
     "output_type": "stream",
     "text": [
      "enter a number: 4\n",
      "Even!!\n"
     ]
    }
   ],
   "source": [
    "def even_number(number):\n",
    "    if num%2 == 0 :\n",
    "        print('Even!!')\n",
    "    else:\n",
    "        print('Odd!!')  \n",
    "num = int(input('enter a number: '))    \n",
    "even_number(num)"
   ]
  },
  {
   "cell_type": "markdown",
   "metadata": {
    "id": "YFKgn6Yw5D7f"
   },
   "source": [
    "### Task 2\n",
    "Write a python function that takes the limit as an argument of the Fibonacci series and prints till that limit. \n",
    "\n",
    "===================================\n",
    "\n",
    "**Function Call:**\\\n",
    "fibonacci(10)\\\n",
    "**Output:**\\\n",
    "0 1 1 2 3 5 8\\\n",
    "======================\\\n",
    "**Function Call:**\\\n",
    "fibonacci(5)\\\n",
    "**Output:**\\\n",
    "0 1 1 2 3 5 "
   ]
  },
  {
   "cell_type": "code",
   "execution_count": 2,
   "metadata": {
    "id": "J4ab_IeA5D7g"
   },
   "outputs": [
    {
     "name": "stdout",
     "output_type": "stream",
     "text": [
      "enter a number: 5\n",
      "0 1 1 2 3 5 "
     ]
    }
   ],
   "source": [
    "# to do\n",
    "def fibonacci(number):\n",
    "    number1=0\n",
    "    number2=1\n",
    "    if(number==0):  \n",
    "        print(number1)\n",
    "    else:  \n",
    "        print(number1,number2,end=' ')\n",
    "    while(number2<=number): \n",
    "        sum=number1+number2\n",
    "        if(sum<=number): \n",
    "            print(sum,end=' ')\n",
    "        number1=number2 \n",
    "        number2=sum \n",
    "input1=int(input('enter a number: '))\n",
    "fibonacci(input1)"
   ]
  },
  {
   "cell_type": "code",
   "execution_count": 9,
   "metadata": {},
   "outputs": [
    {
     "name": "stdout",
     "output_type": "stream",
     "text": [
      "enter a number: 5\n",
      "0 1 1 2 3 5 "
     ]
    }
   ],
   "source": [
    "def fibonacci(num) :\n",
    "    num1 = 0 \n",
    "    num2 = 1 \n",
    "    if num == 0 :\n",
    "        print(num1,end=' ')\n",
    "    else:\n",
    "        print(num1,num2,end=' ') \n",
    "    while num2 <= num :\n",
    "        summ = num1 + num2 \n",
    "        if num >= summ :\n",
    "            print(summ,end=' ')\n",
    "        num1 = num2\n",
    "        num2 = summ\n",
    "    \n",
    "number = int(input('enter a number: '))\n",
    "fibonacci(number)"
   ]
  },
  {
   "cell_type": "markdown",
   "metadata": {
    "id": "rDY_xNcO5D7k"
   },
   "source": [
    "### Task 3\n",
    "Write a function called **foo_moo** that takes a number as an argument and **returns** the following statements according the below mentioned conditions. Then, finally prints the statement in the function call. \n",
    "\n",
    "* \tIf the number is divisible by 2, it should return \"Foo\".\n",
    "*   If the number is divisible by 3, it should return \"Moo\". \n",
    "*   If the number is divisible by both 2 and 3, it should return \"FooMoo\".\n",
    "*   Otherwise, it returns \"Boo\".\n",
    "\n",
    "===================================\n",
    "\n",
    "**Example1:** \\\n",
    "**Function Call:**\\\n",
    "foo_moo(5)\\\n",
    "**Output:**\\\n",
    "Boo\n",
    "\n",
    "=================\n",
    "\n",
    "\n",
    "**Example2:** \\\n",
    "**Function Call:**\\\n",
    "foo_moo(4)\\\n",
    "**Output:**\\\n",
    "Foo\n",
    "\n",
    "=================\n",
    "\n",
    "\n",
    "**Example3:** \\\n",
    "**Function Call:**\\\n",
    "foo_moo(6)\\\n",
    "**Output:**\\\n",
    "FooMoo\n",
    "\n"
   ]
  },
  {
   "cell_type": "code",
   "execution_count": 3,
   "metadata": {
    "id": "2roUcNrC5D7l"
   },
   "outputs": [
    {
     "name": "stdout",
     "output_type": "stream",
     "text": [
      "enter a number: 4\n",
      "Foo\n"
     ]
    }
   ],
   "source": [
    "# to do\n",
    "def foo_moo(number):\n",
    "    ans=''\n",
    "    if((number%2==0) and (number%3==0)):\n",
    "        ans='FooMoo'\n",
    "    elif(number%2==0):\n",
    "        ans='Foo'\n",
    "    elif(number%3==0):\n",
    "        ans='Moo'\n",
    "    else:\n",
    "        ans='Boo'\n",
    "    return ans \n",
    "input1=int(input('enter a number: '))\n",
    "print(foo_moo(input1))"
   ]
  },
  {
   "cell_type": "code",
   "execution_count": 11,
   "metadata": {},
   "outputs": [
    {
     "name": "stdout",
     "output_type": "stream",
     "text": [
      "enter a number: 6\n",
      "FooMoo\n"
     ]
    }
   ],
   "source": [
    "def foo_moo(num) :\n",
    "    if num %2 == 0 and num %3 == 0 :\n",
    "        print('FooMoo')\n",
    "    elif num %2 == 0 :\n",
    "        print('Foo')\n",
    "    elif num %3 == 0 :\n",
    "        print('Moo')\n",
    "    else:\n",
    "        print('Boo')\n",
    "\n",
    "number = int(input('enter a number: '))\n",
    "foo_moo(number)"
   ]
  },
  {
   "cell_type": "markdown",
   "metadata": {
    "id": "nemw1U-i5D7s"
   },
   "source": [
    "### Task 4\n",
    "Write a python function that takes a string as an argument. Your task is to calculate the number of uppercase letters and lowercase letters and print them in the function. \n",
    "\n",
    "===================================\n",
    "\n",
    "**Function Call:**\\\n",
    "function_name('The quick Sand Man')\\\n",
    "**Output:**\\\n",
    "No. of Uppercase characters : 3\\\n",
    "No. of Lowercase Characters: 12\\\n",
    "============================\\\n",
    "**Function Call:**\\\n",
    "function_name('HaRRy PotteR')\\\n",
    "**Output:**\\\n",
    "No. of Uppercase characters : 5\\\n",
    "No. of Lowercase Characters: 6\n"
   ]
  },
  {
   "cell_type": "code",
   "execution_count": 4,
   "metadata": {
    "id": "4ZBb4Mcr5D7t"
   },
   "outputs": [
    {
     "name": "stdout",
     "output_type": "stream",
     "text": [
      "enter a sentence: The quick Sand Man\n",
      "No. of Uppercase characters: 3\n",
      "No. of Lowercase characters: 12\n"
     ]
    }
   ],
   "source": [
    "# to do\n",
    "def function_name(word):\n",
    "    counter=0\n",
    "    counter1=0\n",
    "    for x in word:\n",
    "        if(65<=ord(x)<=90):\n",
    "            counter+=1\n",
    "        if(97<=ord(x)<=122):\n",
    "            counter1+=1\n",
    "    print('No. of Uppercase characters:',counter)\n",
    "    print('No. of Lowercase characters:',counter1)\n",
    "input1=input('enter a sentence: ')\n",
    "function_name(input1)       \n",
    "        \n",
    "        \n",
    "        \n",
    "        "
   ]
  },
  {
   "cell_type": "code",
   "execution_count": 18,
   "metadata": {},
   "outputs": [
    {
     "name": "stdout",
     "output_type": "stream",
     "text": [
      "enter a sentence: Anika Islam\n",
      "No. of Uppercase characters:  2\n",
      "No. of Lowercase characters:  8\n"
     ]
    }
   ],
   "source": [
    "def function_name (sent) :\n",
    "    small = 0 \n",
    "    cap = 0\n",
    "    for let in sent :\n",
    "        if 65 <= ord(let) <= 90 :\n",
    "            cap += 1 \n",
    "        if 97 <= ord(let) <= 122 :\n",
    "            small += 1 \n",
    "    print('No. of Uppercase characters: ',cap)\n",
    "    print('No. of Lowercase characters: ',small)\n",
    "\n",
    "sentence = input('enter a sentence: ')\n",
    "function_name(sentence)"
   ]
  },
  {
   "cell_type": "markdown",
   "metadata": {
    "id": "e9bojIHe5D7w"
   },
   "source": [
    "### Task 5\n",
    "Write a function called **calculate_tax** that takes 3 arguments: your age, salary, and current job designation.\n",
    "\n",
    "\n",
    "Your first task is to take these arguments as user input and pass these values to the function.\n",
    "\n",
    "Your second task is to implement the function and calculate the tax as the following conditions:\n",
    "*  **NO TAX IF YOU ARE LESS THAN 18 YEARS OLD.**\n",
    "*  **NO TAX IF YOU ARE THE PRESIDENT OF THE COMPANY** \n",
    "*  No tax if you get paid less than 10,000\n",
    "*  5% tax if you get paid between 10K and 20K\n",
    "*  10% tax if you get paid more than 20K\n",
    "\n",
    "\n",
    "Finally return this tax value. Then print the returned value in the function call.\n",
    "\n",
    "===================================\n",
    "\n",
    "**Hints:**\\\n",
    "Here the job designation is a string, so it can be written in both uppercase and lower cases. So, you need to check the value ignoring the case.\n",
    "\n",
    "===================================\n",
    "\n",
    "**Example1:** \\\n",
    "**Input:**\\\n",
    "16\\\n",
    "20000\\\n",
    "Student\\\n",
    "**Function Call:**\\\n",
    "calculate_tax(16, 20000, 'Student')\\\n",
    "**Output:**\\\n",
    "0\n",
    "\n",
    "===================================\n",
    "\n",
    "**Example2:** \\\n",
    "**Input:**\\\n",
    "20\\\n",
    "18000\\\n",
    "assistant manager\\\n",
    "**Function Call:**\\\n",
    "calculate_tax(20, 18000, 'assistant manager')\\\n",
    "**Output:**\\\n",
    "900.0\n",
    "\n",
    "\n",
    "===================================\n",
    "\n",
    "**Example3:** \\\n",
    "**Input:**\\\n",
    "20\\\n",
    "22000\\\n",
    "assistant manager\\\n",
    "**Function Call:**\\\n",
    "calculate_tax(20, 22000, 'Assistant manager')\\\n",
    "**Output:**\\\n",
    "2200.0\n",
    "\n",
    "===================================\n",
    "\n",
    "\n",
    "**Example4:** \\\n",
    "**Input:**\\\n",
    "20\\\n",
    "122000\\\n",
    "president\\\n",
    "**Function Call:**\\\n",
    "calculate_tax(20, 122000, 'president')\\\n",
    "**Output:**\\\n",
    "0\n",
    " \n",
    "\n",
    "\n"
   ]
  },
  {
   "cell_type": "code",
   "execution_count": 6,
   "metadata": {
    "id": "M4oo-FKQ5D7x"
   },
   "outputs": [
    {
     "name": "stdout",
     "output_type": "stream",
     "text": [
      "enter your age: 20\n",
      "enter your salary: 10000\n",
      "enter your current job designation: a\n",
      "0\n"
     ]
    }
   ],
   "source": [
    "# to do\n",
    "def calculate_tax(age,salary,current_job_designation):\n",
    "    if((age<=18) or (current_job_designation=='president') or (salary<=10000)):\n",
    "        tax=0\n",
    "    elif((10000<=salary<=20000)):\n",
    "        tax=0.05*salary\n",
    "    elif(salary>20000):\n",
    "        tax=0.1*salary\n",
    "    return tax\n",
    "input1=int(input('enter your age: '))\n",
    "input2=int(input('enter your salary: '))\n",
    "input3=input('enter your current job designation: ').lower()\n",
    "print(calculate_tax(input1,input2,input3))"
   ]
  },
  {
   "cell_type": "code",
   "execution_count": 21,
   "metadata": {},
   "outputs": [
    {
     "name": "stdout",
     "output_type": "stream",
     "text": [
      "enter age: 20\n",
      "enter salary: 10000\n",
      "enter job designation: President\n",
      "0\n"
     ]
    }
   ],
   "source": [
    "def calculate_tax (age,sal,job) :\n",
    "    if age <= 18 or sal < 10000 or job == 'president' :\n",
    "        tax = 0\n",
    "    elif 10000 <= sal <= 20000 :\n",
    "        tax = 0.05 * sal \n",
    "    elif sal > 20000 :\n",
    "        tax = 0.1 * sal\n",
    "    return tax \n",
    "    \n",
    "in1 = int(input('enter age: '))\n",
    "in2 = int(input('enter salary: '))\n",
    "in3 = input('enter job designation: ').lower()\n",
    "print(calculate_tax (in1,in2,in3))"
   ]
  },
  {
   "cell_type": "markdown",
   "metadata": {
    "id": "VXLQHyLp5D71"
   },
   "source": [
    "## Task 6\n",
    "Write a function which will take 1 argument, number of days.\n",
    "\n",
    "Your first task is to take the number of days as user input and pass the value to the function.\n",
    " \n",
    "Your second task is to implement the function and calculate the total number of years, number of months, and the remaining number of days as output. No need to return any value, print inside the function. \n",
    "\n",
    "**Note:** Assume, each year to be 365 days and month to be 30 days.\n",
    "\n",
    "=====================================================\n",
    "\n",
    "**Hint(1):** \\\n",
    "Divide and mod the main input to get the desired output.\n",
    "\n",
    "**Hint(2):**\n",
    "This task’s calculation is similar to Assignment-1’s seconds to hours, minutes conversion.\n",
    "\n",
    "=====================================================\n",
    "\n",
    "**Example01**\n",
    "\n",
    "**Input:**\\\n",
    "4330\\\n",
    "**Function Call:**\\\n",
    "function_name(4330)\\\n",
    "**Output:**\\\n",
    "11 years, 10 months and 15 days\n",
    "\n",
    "================================\n",
    "\n",
    "**Example02**\n",
    "\n",
    "**Input:**\\\n",
    "2250\\\n",
    "**Function Call:**\\\n",
    "function_name(2250)\\\n",
    "**Output:**\\\n",
    "6 years, 2 months and 0 days\n",
    "\n",
    "\n"
   ]
  },
  {
   "cell_type": "code",
   "execution_count": 8,
   "metadata": {
    "id": "gkE9d9gs5D72"
   },
   "outputs": [
    {
     "name": "stdout",
     "output_type": "stream",
     "text": [
      "enter number of days: 2250\n",
      "6 years, 2 months and 0 days \n"
     ]
    }
   ],
   "source": [
    "# to do \n",
    "def years_months_days_generator(day):\n",
    "    year=day//365\n",
    "    remainingMonth=day%365\n",
    "    month=remainingMonth//30\n",
    "    remainingDay=remainingMonth%30\n",
    "    print(str(year)+' years, '+str(month)+' months and '+str(remainingDay)+' days ')\n",
    "input1=int(input('enter number of days: '))\n",
    "years_months_days_generator(input1)"
   ]
  },
  {
   "cell_type": "code",
   "execution_count": 24,
   "metadata": {},
   "outputs": [
    {
     "name": "stdout",
     "output_type": "stream",
     "text": [
      "enter number of days: 2250\n",
      "6 years, 2 months and 0 days\n"
     ]
    }
   ],
   "source": [
    "def function_name(day) :\n",
    "    year = day // 365 \n",
    "    remaining_month = day % 365 \n",
    "    month = remaining_month // 30 \n",
    "    remaining_day = remaining_month % 30 \n",
    "    print(year,'years,',month,'months and',remaining_day,'days')\n",
    "num = int(input('enter number of days: '))\n",
    "function_name(num)"
   ]
  },
  {
   "cell_type": "markdown",
   "metadata": {
    "id": "8-vvES0i5D8B"
   },
   "source": [
    "### Task 7\n",
    "Write a function called **show_palindrome** that takes a number as an argument and then returns a palindrome string. Finally, prints the returned value in the function call.\n",
    "\n",
    "=====================================================\n",
    "\n",
    "**Example1:** \\\n",
    "**Function Call:**\\\n",
    "show_palindrome(5)\\\n",
    "**Output:**\\\n",
    "123454321\n",
    "\n",
    "===================\n",
    "\n",
    "**Example2:** \\\n",
    "**Function Call:**\\\n",
    "show_palindrome(3)\\\n",
    "**Output:**\\\n",
    "12321\n"
   ]
  },
  {
   "cell_type": "code",
   "execution_count": 9,
   "metadata": {},
   "outputs": [
    {
     "name": "stdout",
     "output_type": "stream",
     "text": [
      "1\n"
     ]
    }
   ],
   "source": [
    "def func(num):\n",
    "    ans=''\n",
    "    for i in range(1,num+1):\n",
    "        ans+=str(i)\n",
    "    for j in range(num-1,0,-1):\n",
    "        ans+=str(j)\n",
    "    print(ans)\n",
    "func(1)"
   ]
  },
  {
   "cell_type": "code",
   "execution_count": 8,
   "metadata": {
    "id": "QN-Iu8sz5D8C"
   },
   "outputs": [
    {
     "name": "stdout",
     "output_type": "stream",
     "text": [
      "enter a number: 5\n",
      "123454321\n"
     ]
    }
   ],
   "source": [
    "# to do\n",
    "def show_palindrome(number): #3\n",
    "        if(number>1):\n",
    "            newString='1' #(1)\n",
    "            for item1 in range(2,number+1): #(2,4)=>(2,3)\n",
    "                 newString+=str(item1)\n",
    "            for item2 in range(number-1,0,-1): #(4,0,-1)=>(2,1)\n",
    "                newString+=str(item2) \n",
    "            return (newString)\n",
    "        else:\n",
    "            return (number) \n",
    "input1=int(input('enter a number: '))\n",
    "print(show_palindrome(input1))"
   ]
  },
  {
   "cell_type": "code",
   "execution_count": 20,
   "metadata": {},
   "outputs": [
    {
     "name": "stdout",
     "output_type": "stream",
     "text": [
      "enter a number: 5\n",
      "123454321\n"
     ]
    }
   ],
   "source": [
    "def show_palindrome(num) :\n",
    "    ans = ''\n",
    "    for j in range(1,num+1) :\n",
    "        ans += str(j)\n",
    "    for i in range(num-1,0,-1) :\n",
    "        ans += str(i)\n",
    "    return ans \n",
    "number = int(input('enter a number: '))\n",
    "print(show_palindrome(number))"
   ]
  },
  {
   "cell_type": "markdown",
   "metadata": {
    "id": "V_PVNpx45D8F"
   },
   "source": [
    "##### Task 8\n",
    "Write a function called **show_palindromic_triangle** that takes a number as an argument and prints a Palindromic Triangle in the function.\n",
    "\n",
    "**<font color='blue'>[Must reuse the show_palindrome() function of the previous task]</font>**\n",
    "\n",
    "\n",
    "\n",
    "=====================================================\n",
    "\n",
    "**Hints(1):** \\\n",
    "Need to use both print() and print( , end = \" \") functions\n",
    "\n",
    "\n",
    "=====================================================\n",
    "\n",
    "**Example1:** \\\n",
    "**Function Call:**\\\n",
    "show_palindromic_triangle(5)\\\n",
    "**Output:**\n",
    "\n",
    "&emsp; &emsp; &emsp; &emsp; 1\\\n",
    "&emsp; &emsp; &emsp; 1 &nbsp; 2 &nbsp; 1 \\\n",
    "&emsp; &emsp; 1 &nbsp; 2 &nbsp; 3 &nbsp; 2 &nbsp; 1 \\\n",
    "&emsp; 1 &nbsp; 2 &nbsp; 3 &nbsp; 4 &nbsp; 3 &nbsp; 2 &nbsp; 1 \\\n",
    "1 &nbsp; 2 &nbsp; 3 &nbsp; 4 &nbsp; 5 &nbsp; 4 &nbsp; 3 &nbsp; 2 &nbsp; 1\n",
    "\n",
    "=============================================================\n",
    "\n",
    "\n",
    "**Example2:** \\\n",
    "**Function Call:**\\\n",
    "show_palindromic_triangle(3)\\\n",
    "**Output:**\n",
    "\n",
    "&emsp; &emsp; 1 \\\n",
    "&emsp; 1 &nbsp; 2 &nbsp; 1 \\\n",
    "1 &nbsp; 2 &nbsp; 3 &nbsp; 2 &nbsp; 1\n",
    "\n",
    "\n"
   ]
  },
  {
   "cell_type": "code",
   "execution_count": 6,
   "metadata": {},
   "outputs": [
    {
     "name": "stdout",
     "output_type": "stream",
     "text": [
      "enter a number: 3\n",
      "     1\n",
      "   1 2 1\n",
      " 1 2 3 2 1\n"
     ]
    }
   ],
   "source": [
    "def show_palindrome_triangle(number1): #function 1 for triangle \n",
    "    for row in range(1,number1+1): #for row #3 (1,4)\n",
    "        for column in range(0,(number1-row)*2): #for column row=1 (0,4)/row=2 (0,2)/ row=3 (0,0)\n",
    "            print(' ',end='') #for space #row=1 (4 space)/row=2 (2 space)/row=3 (no space)4\n",
    "        def show_palindrome(num): #3\n",
    "            ans=''\n",
    "            for i in range(1,num+1):\n",
    "                ans+=' '+str(i)\n",
    "            for j in range(num-1,0,-1):\n",
    "                ans+=' '+str(j)\n",
    "            return ans\n",
    "        print(show_palindrome(row))         \n",
    "input1=int(input('enter a number: '))\n",
    "show_palindrome_triangle(input1)"
   ]
  },
  {
   "cell_type": "code",
   "execution_count": 2,
   "metadata": {
    "id": "fUu0BrHz5D8G"
   },
   "outputs": [
    {
     "name": "stdout",
     "output_type": "stream",
     "text": [
      "enter a number: 3\n",
      "    1\n",
      "  1 2 1\n",
      "1 2 3 2 1\n"
     ]
    }
   ],
   "source": [
    "# to do\n",
    "def show_palindrome_triangle(number1): #function 1 for triangle \n",
    "    for row in range(1,number1+1): #for row #3 (1,4)\n",
    "        for column in range(0,(number1-row)*2): #for column row=1 (0,4)/row=2 (0,2)/ row=3 (0,0)\n",
    "            print(' ',end='') #for space #row=1 (4 space)/row=2 (2 space)/row=3 (no space)4\n",
    "        def show_palindrome(number): #3\n",
    "                if(number>1):\n",
    "                    newString='1' #(1)\n",
    "                    for item1 in range(2,number+1): #(2,4)=>(2,3)\n",
    "                         newString+=' '+str(item1)\n",
    "                    for item2 in range(number-1,0,-1): #(4,0,-1)=>(2,1)\n",
    "                        newString+=' '+str(item2) \n",
    "                    return (newString)\n",
    "                else:\n",
    "                    return (number) \n",
    "        print(show_palindrome(row))         \n",
    "input1=int(input('enter a number: '))\n",
    "show_palindrome_triangle(input1)"
   ]
  },
  {
   "cell_type": "code",
   "execution_count": null,
   "metadata": {},
   "outputs": [],
   "source": [
    "\n",
    "def show_palindrome(num) :\n",
    "    ans = ''\n",
    "    for j in range(1,num+1) :\n",
    "        ans += str(j)\n",
    "    for i in range(num-1,0,-1) :\n",
    "        ans += str(i)\n",
    "    return ans \n",
    "number = int(input('enter a number: '))\n",
    "print(show_palindrome(number))"
   ]
  },
  {
   "cell_type": "markdown",
   "metadata": {
    "id": "iLTMEWXg5D8M"
   },
   "source": [
    "##### Task 09\n",
    "Write a function called **area_circumference_generator** that takes a radius of a circle as a  function parameter and calculates its circumference and area. Then returns these two results as a **tuple** and prints the results using tuple unpacking in the function call accorrding to the given format. \n",
    "\n",
    "<font color='blue'>**[Must use tuple packing & unpacking]** </font>\n",
    "\n",
    "=====================================================\n",
    "\n",
    "**Example1:** \\\n",
    "**Function Call:**\\\n",
    "area_circumference_generator(1)\\\n",
    "**Output:**\\\n",
    "(3.141592653589793, 6.283185307179586)\\\n",
    "Area of the circle is 3.141592653589793 and circumference is 6.283185307179586\n",
    "\n",
    "====================================\n",
    "\n",
    "**Example2:** \\\n",
    "**Function Call:**\\\n",
    "area_circumference_generator(1.5)\\\n",
    "**Output:**\\\n",
    "(7.0685834705770345, 9.42477796076938)\\\n",
    "Area of the circle is 7.0685834705770345 and circumference is 9.42477796076938\n",
    "\n",
    "====================================\n",
    "\n",
    "\n",
    "**Example3:** \\\n",
    "**Function Call:**\\\n",
    "area_circumference_generator(2.5)\\\n",
    "**Output:**\\\n",
    "(19.634954084936208, 15.707963267948966)\\\n",
    "Area of the circle is 19.634954084936208 and circumference is 15.707963267948966\n"
   ]
  },
  {
   "cell_type": "code",
   "execution_count": 34,
   "metadata": {
    "id": "k8SLTHf35D8N"
   },
   "outputs": [
    {
     "name": "stdout",
     "output_type": "stream",
     "text": [
      "enter a radius: 1.5\n",
      "(7.0685834705770345, 9.42477796076938)\n",
      "Area of the circle is 7.0685834705770345 and circumference is 9.42477796076938\n"
     ]
    }
   ],
   "source": [
    "# to do\n",
    "import math\n",
    "def area_circumference_generator(radius):\n",
    "    area=math.pi*radius**2\n",
    "    circumference=2*math.pi*radius\n",
    "    return area,circumference\n",
    "input1=float(input('enter a radius: '))\n",
    "ans=area_circumference_generator(input1)\n",
    "area2,circumference2=ans #tuple unpacking \n",
    "print(ans)\n",
    "print('Area of the circle is '+str(area2)+' and circumference is '+str(circumference2))\n"
   ]
  },
  {
   "cell_type": "code",
   "execution_count": 29,
   "metadata": {},
   "outputs": [
    {
     "name": "stdout",
     "output_type": "stream",
     "text": [
      "enter a number for radius: 1.5\n",
      "(9.42477796076938, 7.0685834705770345)\n",
      "Area of the circle is 7.0685834705770345 and circumference is 9.42477796076938\n"
     ]
    }
   ],
   "source": [
    "import math \n",
    "def area_circumference_generator (rad) :\n",
    "    area = math.pi * rad ** 2 \n",
    "    circumference = 2 * math.pi * rad \n",
    "    tup = circumference , area \n",
    "    return tup \n",
    "radius = float(input('enter a number for radius: '))\n",
    "ans = area_circumference_generator (radius)\n",
    "c,a= ans \n",
    "print(ans)\n",
    "print('Area of the circle is',a,'and circumference is',c)"
   ]
  },
  {
   "cell_type": "markdown",
   "metadata": {
    "id": "NpgEU6ZI5D8S"
   },
   "source": [
    "### Task 10\n",
    "Write a function called **make_square** that takes a tuple in the parameter as a range of numbers (starting point and ending point (included)). The function should **return a dictionary** with the numbers as keys and its squares as values.\n",
    "\n",
    "=====================================================\n",
    "\n",
    "**Hints:** \\\n",
    "You need to declare a dictionary to store the result. You should use the range function to run the “for loop”.\n",
    "\n",
    "\n",
    "=====================================================\n",
    "\n",
    "**Example1:** \\\n",
    "**Function Call:**\\\n",
    "make_square((1,3))\\\n",
    "**Output:**\\\n",
    "{1: 1, 2: 4, 3: 9}\n",
    "\n",
    "====================================\n",
    "\n",
    "**Example2:** \\\n",
    "**Function Call:**\\\n",
    "make_square((5,9))\\\n",
    "**Output:**\\\n",
    "{5: 25, 6: 36, 7: 49, 8: 64, 9: 81}\n",
    "\n",
    "\n",
    "\n"
   ]
  },
  {
   "cell_type": "code",
   "execution_count": 13,
   "metadata": {},
   "outputs": [
    {
     "name": "stdout",
     "output_type": "stream",
     "text": [
      "enter a starting number:5\n",
      "enter an ending number:9\n",
      "{5: 25, 6: 36, 7: 49, 8: 64, 9: 81}\n"
     ]
    }
   ],
   "source": [
    "def make_square(tuple1):\n",
    "    x,y=tuple1\n",
    "    sq_dict={}\n",
    "    for i in range(x,y+1):\n",
    "        sq_dict[i]=i**2\n",
    "    return sq_dict\n",
    "input1=int(input('enter a starting number:'))\n",
    "input2=int(input('enter an ending number:'))\n",
    "input3=input1,input2\n",
    "print(make_square(input3))"
   ]
  },
  {
   "cell_type": "code",
   "execution_count": 17,
   "metadata": {
    "id": "-KGD8b0F5D8T"
   },
   "outputs": [
    {
     "name": "stdout",
     "output_type": "stream",
     "text": [
      "enter a starting number: 5\n",
      "enter an ending number: 9\n",
      "{5: 25, 6: 36, 7: 49, 8: 64, 9: 81}\n"
     ]
    }
   ],
   "source": [
    "# to do\n",
    "def make_square(tuple1):  \n",
    "    dict1={}         \n",
    "    for key in range(tuple1[0],tuple1[1]+1):\n",
    "        value=key**2 #squaring the key and storing in value \n",
    "        dict1[key]=value #storing the value in the key of dict1 \n",
    "    return dict1\n",
    "input1=int(input('enter a starting number: '))\n",
    "input2=int(input('enter an ending number: '))  \n",
    "input3=(input1,input2)\n",
    "print(make_square(input3))"
   ]
  },
  {
   "cell_type": "code",
   "execution_count": 34,
   "metadata": {},
   "outputs": [
    {
     "name": "stdout",
     "output_type": "stream",
     "text": [
      "enter starting number: 5\n",
      "enter ending number: 9\n",
      "{5: 25, 6: 36, 7: 49, 8: 64, 9: 81}\n"
     ]
    }
   ],
   "source": [
    "def make_square (tup) :\n",
    "    dic = {}\n",
    "    for i in range(tup[0],tup[1]+1) :\n",
    "        dic[i] = int(i) ** 2\n",
    "    return dic \n",
    "in1 = int(input('enter starting number: '))\n",
    "in2 = int(input('enter ending number: '))\n",
    "in3 = (in1,in2 )\n",
    "print(make_square(in3))"
   ]
  },
  {
   "cell_type": "markdown",
   "metadata": {
    "id": "J7xaBB5i5D8c"
   },
   "source": [
    "# Task 11\n",
    "Write a function called **rem_duplicate** that takes a tuple in the parameter and **return a tuple** removing all the duplicate values. Then print the returned tuple in the function call.\n",
    "\n",
    "<font color='red'>**[Cannot use remove() or removed() for this task]** </font>\n",
    "\n",
    "=====================================================\n",
    "\n",
    "**Hints:** \\\n",
    "Unlike lists, tuples are immutable so, the tuple taken as an argument cannot be modified. But list can be modified and lastly for returning the result use type conversion. You need to use membership operators (in, not in) for preventing adding any duplicates values.\n",
    "\n",
    "=====================================================\n",
    "\n",
    "\n",
    "**Example1:** \\\n",
    "**Function Call:**\\\n",
    "rem_duplicate((1,1,1,2,3,4,5,6,6,6,6,4,0,0,0))\\\n",
    "**Output:**\\\n",
    "(1, 2, 3, 4, 5, 6, 0)\n",
    "\n",
    "====================================\n",
    "\n",
    "**Example2:** \\\n",
    "**Function Call:**\\\n",
    "rem_duplicate((\"Hi\", 1, 2, 3, 3, \"Hi\",'a', 'a', [1,2]))\\\n",
    "**Output:**\\\n",
    "('Hi', 1, 2, 3, 'a', [1, 2])\n",
    "\n",
    "\n",
    "\n"
   ]
  },
  {
   "cell_type": "code",
   "execution_count": 25,
   "metadata": {},
   "outputs": [
    {
     "data": {
      "text/plain": [
       "('Hi', 1, 2, 3, 'a', [1, 2])"
      ]
     },
     "execution_count": 25,
     "metadata": {},
     "output_type": "execute_result"
    }
   ],
   "source": [
    "def rem_duplicate(tuple1):\n",
    "    list1=[]\n",
    "    for i in range(0,len(tuple1)):\n",
    "        if(tuple1[i] not in list1):\n",
    "            list1.append(tuple1[i])\n",
    "    new_tuple=tuple(list1)\n",
    "    return new_tuple\n",
    "rem_duplicate((\"Hi\", 1, 2, 3, 3, \"Hi\",'a', 'a', [1,2]))"
   ]
  },
  {
   "cell_type": "code",
   "execution_count": 26,
   "metadata": {
    "id": "mniLLbJY5D8d"
   },
   "outputs": [
    {
     "name": "stdout",
     "output_type": "stream",
     "text": [
      "('Hi', 1, 2, 3, 'a', [1, 2])\n"
     ]
    }
   ],
   "source": [
    "# to do\n",
    "def rem_duplicate(number):\n",
    "#     print(number2)\n",
    "    list1=list(number)\n",
    "    list2=[]\n",
    "    list3=[]\n",
    "    list4=[]\n",
    "    for item1 in range(len(list1)):\n",
    "        if(type(list1[item1])==list): \n",
    "            list2=list1[item1] #storing the element of list1 in list2 \n",
    "#             print('list2:',list2)\n",
    "            for item2 in range(len(list2)):\n",
    "                if(list2[item2] not in list3): #element of list2 not in list3 \n",
    "                    list3.append(list2[item2]) #appending the elements of list2 in list3 \n",
    "            list1[item1]=list3 #storing the list3 in the element of list1 \n",
    "#             print('list3: ',list3)\n",
    "        \n",
    "        if(list1[item1] not in list4):\n",
    "            list4.append(list1[item1]) #appending elements of list1 in list4 \n",
    "#     print('list4: ',list4)\n",
    "    tuple2=tuple(list4)\n",
    "    return tuple2 \n",
    "print(rem_duplicate((\"Hi\", 1, 2, 3, 3, \"Hi\",'a', 'a', [1,2,2])))"
   ]
  },
  {
   "cell_type": "code",
   "execution_count": 53,
   "metadata": {},
   "outputs": [
    {
     "name": "stdout",
     "output_type": "stream",
     "text": [
      "['Hi', 1, 2, 3, 'a', [1, 2]]\n"
     ]
    }
   ],
   "source": [
    "def rem_duplicate(tup) :\n",
    "    lis = []\n",
    "    lis1 = []\n",
    "    lis2 = []\n",
    "    lis3 = []\n",
    "    lis4 = []\n",
    "    for i in tup :\n",
    "        lis.append(i)\n",
    "    for j in lis :\n",
    "        if type(j) == str or type(j) == int :\n",
    "            if j not in lis3 :\n",
    "                lis3.append(j)\n",
    "        elif type(j) == list :\n",
    "            if j not in lis3 :\n",
    "                lis3.append(j)\n",
    "#     for w in lis2 :\n",
    "#         if w not in lis4 :\n",
    "#             lis4.append(w)\n",
    "#         lis4 = lis3 \n",
    "#     print(lis1)\n",
    "#     print(lis2)\n",
    "    print(lis3)\n",
    "rem_duplicate((\"Hi\", 1, 2, 3, 3, \"Hi\",'a', 'a', [1,2]))"
   ]
  },
  {
   "cell_type": "markdown",
   "metadata": {
    "id": "yJxb2yrb5D8h"
   },
   "source": [
    "### Task 12\n",
    "Write a python function that takes a list as an argument. Your task is to create a new list where **each element can be present at max 2 times**. Inside the function, print the number of elements removed from the given list. Finally, return the new list and print the result.\n",
    "\n",
    "=====================================================\n",
    "\n",
    "**Hint:** Use list_name.count(element) to count the total number of times an element is in a list. list_name is your new list for this problem.\n",
    "\n",
    "=====================================================\n",
    "\n",
    "**Function Call:**\\\n",
    "function_name([1, 2, 3, 3, 3, 3, 4, 5, 8, 8])\\\n",
    "**Output:**\\\n",
    "Removed: 2\\\n",
    "[1, 2, 3, 3, 4, 5, 8, 8]\\\n",
    "================================\\\n",
    "**Function Call:**\\\n",
    "function_name([10, 10, 15, 15, 20])\\\n",
    "**Output:**\\\n",
    "Removed: 0\\\n",
    "[10, 10, 15, 15, 20]"
   ]
  },
  {
   "cell_type": "code",
   "execution_count": 72,
   "metadata": {
    "id": "URBhYdgt5D8h"
   },
   "outputs": [
    {
     "name": "stdout",
     "output_type": "stream",
     "text": [
      "enter a list: 1,2,3,3,3,3,4,5,8,8\n",
      "Removed: 2\n",
      "[1, 2, 3, 3, 4, 5, 8, 8]\n"
     ]
    }
   ],
   "source": [
    "# todo\n",
    "def function_name(list1):\n",
    "    list2=[]\n",
    "    count=0\n",
    "    for item1 in range(len(list1)):\n",
    "        if(list1[item1] not in list2):\n",
    "            list2.append(list1[item1])\n",
    "        elif (list1.count(list1[item1])>=2) and (list2.count(list1[item1])<2): #value in list1 is >=2 and value in list2 is <2\n",
    "            list2.append(list1[item1])\n",
    "        else:\n",
    "            count+=1\n",
    "    print('Removed:',count)\n",
    "#     removed=len(list1)-len(list2)\n",
    "#     print('Removed:',removed)\n",
    "   # print(number)\n",
    "    return list2  \n",
    "input1=[int(item) for item in input('enter a list: ').split(',')]\n",
    "print(function_name(input1))"
   ]
  },
  {
   "cell_type": "code",
   "execution_count": 69,
   "metadata": {},
   "outputs": [
    {
     "name": "stdout",
     "output_type": "stream",
     "text": [
      "enter numbers: 1,2,3,3,3,3,4,5,8,8\n",
      "Removed:  2\n",
      "[1, 2, 3, 3, 4, 5, 8, 8]\n"
     ]
    }
   ],
   "source": [
    "def function_name (lis) :\n",
    "    newlis = []\n",
    "    dic = {}\n",
    "    count1 = 0 \n",
    "    count2 = 0 \n",
    "    for i in lis :\n",
    "        n = int(i)\n",
    "        if n not in dic : \n",
    "            dic[n] = 1 \n",
    "        else :\n",
    "            dic[n] += 1\n",
    "    for key,value in dic.items() :\n",
    "        if key not in newlis :\n",
    "            newlis.append(key)\n",
    "        if value >= 2 :\n",
    "            newlis.append(key)\n",
    "    rem = len(lis) - len(newlis)\n",
    "    print('Removed: ',rem)\n",
    "    return newlis\n",
    "    \n",
    "        \n",
    "l = input('enter numbers: ').split(',')\n",
    "print(function_name(l))"
   ]
  },
  {
   "cell_type": "markdown",
   "metadata": {
    "id": "vqET24dk5D8u"
   },
   "source": [
    "### Task 13\n",
    "Write a python function that will perform the basic calculation (addition, subtraction, multiplication and division) based on 3 arguments. They are:\n",
    "- Operator ('+', '-', '/', '*')\n",
    "- First Operand (any number)\n",
    "- Second Operand (any number)\n",
    "\n",
    "Your first task is to take these arguments as user input and pass the values to the function parameters.\n",
    "\n",
    "Your second task is to write a function and performs the calculation based on the given operator. Then, finally return the result in the function call and print the result.\n",
    "\n",
    "=====================================================\n",
    "\n",
    "**Input:**\\\n",
    "\"+\"\\\n",
    "10\\\n",
    "20\\\n",
    "**Function Call:**\\\n",
    "function_name(\"+\", 10, 20)\\\n",
    "**Output:**\\\n",
    "30.0\n",
    "\n",
    "================================\n",
    "\n",
    "**Input:**\\\n",
    "\"*\"\\\n",
    "5.5\\\n",
    "2.5\\\n",
    "**Function Call:**\\\n",
    "function_name(\"*\", 5.5, 2.5)\\\n",
    "**Output:**\\\n",
    "13.75\n"
   ]
  },
  {
   "cell_type": "code",
   "execution_count": 30,
   "metadata": {
    "id": "sh7YQRv_5D8v"
   },
   "outputs": [
    {
     "name": "stdout",
     "output_type": "stream",
     "text": [
      "enter operator: *\n",
      "enter 1st number: 2.5\n",
      "enter 2nd number: 5.5\n",
      "13.75\n"
     ]
    }
   ],
   "source": [
    "# to do\n",
    "def basic_calc(operator,number1,number2):\n",
    "    if(operator=='+'):\n",
    "        result=number1+number2\n",
    "    elif(operator=='-'):\n",
    "        result=number1-number2\n",
    "    elif(operator=='*'):\n",
    "        result=number1*number2\n",
    "    elif(operator=='/'):\n",
    "        result=number1/number2\n",
    "    return result\n",
    "input1=input('enter operator: ')\n",
    "input2=float(input('enter 1st number: '))\n",
    "input3=float(input('enter 2nd number: '))\n",
    "print(basic_calc(input1,input2,input3))"
   ]
  },
  {
   "cell_type": "code",
   "execution_count": 70,
   "metadata": {},
   "outputs": [
    {
     "name": "stdout",
     "output_type": "stream",
     "text": [
      "enter operator: *\n",
      "enter 1st number: 2.5\n",
      "enter 2nd number: 5.5\n",
      "13.75\n"
     ]
    }
   ],
   "source": [
    "def basic_calc(op,num1,num2) :\n",
    "    if op == '+' :\n",
    "        result = num1 + num2 \n",
    "    elif op == '-' :\n",
    "        result = num1 - num2 \n",
    "    elif op == '*' :\n",
    "        result = num1 * num2 \n",
    "    elif op == '/' :\n",
    "        result = num1 / num2 \n",
    "    return result \n",
    "    \n",
    "operator = input('enter operator: ')\n",
    "number1 = float(input('enter 1st number: '))\n",
    "number2 = float(input('enter 2nd number: '))\n",
    "print(basic_calc(operator,number1,number2))"
   ]
  },
  {
   "cell_type": "markdown",
   "metadata": {
    "id": "KGitjtfO5D83"
   },
   "source": [
    "### Task 14\n",
    "Write a function which will take 2 arguments. They are:\n",
    "- Sentence \n",
    "- position \n",
    "\n",
    "Your first task is to take these arguments as user input and pass these values to the function parameters.\n",
    "\n",
    "Your second task is to implement the function and remove the characters at the index number which is divisible by the position (Avoid the index number 0 as it will always be divisible by the position, so no need to remove the index 0 character). \n",
    "Finally, add the removed characters at the end of the new string.\n",
    "\n",
    "Return the value and then finally, print the new string at the function call.\n",
    "\n",
    "<font color='red'>**[Cannot use remove() or removed() for this task]** </font>\n",
    "\n",
    "=====================================================\n",
    "\n",
    "**Input:**\\\n",
    "\"I love programming.\"\\\n",
    "3\\\n",
    "**Function call:**\\\n",
    "function_name(\"I love programming.\", 3)\\\n",
    "**Output:**\\\n",
    "I lveprgrmmngo oai.\n",
    "\n",
    "==============================================\n",
    "\n",
    "**Input:**\\\n",
    "\"Python is easy to learn. I love python.\"\\\n",
    "6\\\n",
    "**Function call:**\\\n",
    "function_name(\"Python is easy to learn. I love python.\", 6)\\\n",
    "**Output:**\\\n",
    "Pythonis eay to earn.I lov pythn. sl eo\n"
   ]
  },
  {
   "cell_type": "code",
   "execution_count": 69,
   "metadata": {
    "id": "1Op6YcHY5D84"
   },
   "outputs": [
    {
     "name": "stdout",
     "output_type": "stream",
     "text": [
      "enter a sentence: Python is easy to learn. I love python.\n",
      "enter a position: 6\n",
      "Pythonis eay to earn.I lov pythn. sl eo\n"
     ]
    }
   ],
   "source": [
    "#todo\n",
    "def function_name(sentence,position):\n",
    "    word=''\n",
    "    remove=''\n",
    "    for item in range(len(sentence)):\n",
    "        if(item==0):\n",
    "            word=sentence[item] #at index=0, element of sentence remains same \n",
    "        elif(item%position!=0):\n",
    "            word+=sentence[item] #if index is not divisible by input2, elements of sentence are concatenated in word \n",
    "        elif(item%position==0):\n",
    "            remove+=sentence[item] #if index is divisible by input2,elements of sentence are concatenated in remove\n",
    "    word+=remove #remove is concatenated in word so that removed elements are stored at the end \n",
    "    return word\n",
    "input1=input('enter a sentence: ')\n",
    "input2=int(input('enter a position: '))\n",
    "print(function_name(input1,input2))"
   ]
  },
  {
   "cell_type": "code",
   "execution_count": 10,
   "metadata": {},
   "outputs": [
    {
     "name": "stdout",
     "output_type": "stream",
     "text": [
      "enter a sentence: Python is easy to learn. I love python.\n",
      "enter a number: 6\n",
      "Pythonis eay to earn.I lov pythn. sl eo\n"
     ]
    }
   ],
   "source": [
    "def function_name (sen,pos) :\n",
    "    lis = ''\n",
    "    lis2 = ''\n",
    "    for l in range(len(sen)) :\n",
    "        if l == 0 :\n",
    "            lis2 = sen[l]\n",
    "        elif l % pos == 0 :\n",
    "            lis += sen[l]\n",
    "        else :\n",
    "            lis2 += sen[l]\n",
    "    ans =  lis2  +  lis\n",
    "    return ans \n",
    "sentence = input('enter a sentence: ')\n",
    "position = int(input('enter a number: '))\n",
    "print(function_name (sentence,position))"
   ]
  },
  {
   "cell_type": "markdown",
   "metadata": {
    "id": "5Gq0ZAzQ5D8-"
   },
   "source": [
    "### Task 15\n",
    "You have been hired as an app developer for the company. The company plans to make an app for a grocery store where the user can order groceries and see the total amount to be paid in the cart section. \n",
    "\n",
    "To build this feature, you have to write a function that takes 2 arguments. They are:\n",
    "- order_items (must be a list)\n",
    "- location (default value should be set to \"Dhanmondi\")\n",
    "\n",
    "Your first task is to take a list of items from the user. Pass the list into the function parameter along with the optional location (Use default argument technique). (Also, no need to take location as input, pass this any value you want.) \n",
    "\n",
    "Your second task is to implement the function. In the function, create a dictionary for the items shown in the table. Calculate the total price of the items passed as a list to the function. Additionally, add a delivery fee of 30 taka if the location is Dhanmondi. Otherwise, add a delivery fee of 70 taka. Finally, return the value and print it.\n",
    "\n",
    "| Item | Price(Tk) |\n",
    "| --- | --- |\n",
    "| Rice | 105 |\n",
    "| Potato | 20 |\n",
    "| Chicken | 250 |\n",
    "| Beef | 510 |\n",
    "| Oil | 85 |\n",
    "\n",
    "=====================================================\n",
    "\n",
    "**Hint:** The keys are the items and values are the corresponding price. Iterate the items in the list and check if the items in the list are available in the dictionary keys or not. If it is available, add the price.\n",
    "\n",
    "=====================================================\n",
    "\n",
    "**Example1:**\\\n",
    "function_name([\"Rice\", \"Beef\", \"Rice\"], \"Mohakhali\")\n",
    "\n",
    "total = 105 + 510 + 105 = 720 (Take the price of each item and add them.)\\\n",
    "total = 720 + 70 = 790 (Finally, add the delivery fee based on the location.)\n",
    "\n",
    "**Input:**\\\n",
    "[\"Rice\", \"Beef\", \"Rice\"]\\\n",
    "**Function Call:**\\\n",
    "function_name([\"Rice\", \"Beef\", \"Rice\"], \"Mohakhali\")\\\n",
    "**Output:**\\\n",
    "790\n",
    "\n",
    "==============================================\n",
    "\n",
    "**Example2:**\n",
    "\n",
    "function_name([\"Rice\", \"Beef\", \"Rice\"])\n",
    "\n",
    "total = 105 + 510 + 105 = 720 (Take the price of each item and add them.)\\\n",
    "total = 720 + 30 = 750 (Since no location is passed in the parameter, it will use the default location-\"Dhanmondi\". For dhanmondi, delivery fee of 30 taka)\n",
    "\n",
    "**Input:**\\\n",
    "[\"Rice\", \"Beef\", \"Rice\"]\\\n",
    "**Function Call:**\\\n",
    "function_name([\"Rice\", \"Beef\", \"Rice\"])\\\n",
    "**Output:**\\\n",
    "750"
   ]
  },
  {
   "cell_type": "code",
   "execution_count": 34,
   "metadata": {
    "id": "KqbU53QPblRv"
   },
   "outputs": [
    {
     "name": "stdout",
     "output_type": "stream",
     "text": [
      "enter your list: Rice,Beef,Rice\n",
      "750\n"
     ]
    }
   ],
   "source": [
    "#todo\n",
    "def function_name(order_items,location='Dhanmondi'):\n",
    "    total=0\n",
    "    dict1={'Rice':105,'Potato':20,'Chicken':250,'Beef':510,'Oil':85}\n",
    "    for item in order_items:\n",
    "        for key,value in dict1.items():\n",
    "            if(item in key):\n",
    "                total+=value\n",
    "    if(location=='Dhanmondi'):\n",
    "        total+=30\n",
    "    else:\n",
    "        total+=70\n",
    "    return total \n",
    "input1=input('enter your list: ').split(',')\n",
    "# input2=input('enter location: ')\n",
    "print(function_name(input1))"
   ]
  },
  {
   "cell_type": "code",
   "execution_count": 12,
   "metadata": {},
   "outputs": [
    {
     "name": "stdout",
     "output_type": "stream",
     "text": [
      "enter ur list: rice,beef,rice\n",
      "enter ur location: mo\n",
      "790\n"
     ]
    }
   ],
   "source": [
    "def function_name (order,loc = 'Dhanmondi') :\n",
    "    dic = {'rice':105,'potato':20,'chicken':250,'beef':510,'oil':85}\n",
    "    total = 0\n",
    "    for i in order :\n",
    "        for key,value in dic.items() :\n",
    "            if key in i :\n",
    "                total += value \n",
    "    if loc == 'Dhanmondi' :\n",
    "        total += 30\n",
    "    else :\n",
    "        total += 70\n",
    "    return total\n",
    "in1 = input('enter ur list: ').split(',')\n",
    "in2 = input('enter ur location: ')\n",
    "print(function_name(in1,in2))"
   ]
  },
  {
   "cell_type": "markdown",
   "metadata": {
    "id": "sWkvpVVmbT5n"
   },
   "source": [
    "## Optional Tasks (16 -21) [Ungraded]"
   ]
  },
  {
   "cell_type": "markdown",
   "metadata": {
    "id": "LIi7SUJLZ4gA"
   },
   "source": [
    "### Task 16\n",
    "Write a function called **splitting_money** that takes an “amount” of money as a argument.\n",
    "\n",
    "Your first task is to take the “amount” of money as user input and pass the value to the function paramater.\n",
    " \n",
    "Your second task is to implement the function and calculate how that money can be split into 500, 100, 50, 20, 10, 5, 2, and 1 taka notes.\n",
    "\n",
    "Then print the returned value in the function call.\n",
    "\n",
    "=====================================================\n",
    "\n",
    "\n",
    "**Hints:** \\\n",
    "This task’s calculation is similar to Assignment-1’s seconds to hours, minutes conversion. To return the result containing multiple strings, you need to store it in a variable and return it at the end of the function.\n",
    "\n",
    "=====================================================\n",
    "\n",
    "\n",
    "**Example1:** \\\n",
    "If the money is 1234, then the function should return \n",
    "\n",
    "\"500 Taka: 2 note(s) \\\n",
    "100 Taka: 2 note(s) \\\n",
    "20 Taka: 1 note(s) \\\n",
    "10 Taka: 1 note(s) \\\n",
    "2 Taka: 2 note(s)\"\n",
    "\n",
    "=====================================================\n",
    "\n",
    "**Example2:** \\\n",
    "If the money is 151, then the function should return\n",
    "\n",
    "\"100 Taka: 1 note(s)\\\n",
    "50 Taka: 1 note(s)\\\n",
    "1 Taka: 1 note(s)\"\n",
    "\n",
    "\n"
   ]
  },
  {
   "cell_type": "code",
   "execution_count": 19,
   "metadata": {
    "id": "XI1uLQ5rb2oH"
   },
   "outputs": [
    {
     "name": "stdout",
     "output_type": "stream",
     "text": [
      "enter amount of note: 1234\n",
      "500 Taka:2 note(s)\n",
      "100 Taka:2 note(s)\n",
      "20 Taka:1 note(s)\n",
      "10 Taka:1 note(s)\n",
      "2 Taka:2 note(s)\n",
      "\n"
     ]
    }
   ],
   "source": [
    "#todo\n",
    "def splitting_money(note):\n",
    "    num=''\n",
    "    note1=note//500\n",
    "    remaining_note1=note%500\n",
    "    note2=remaining_note1//100\n",
    "    remaining_note2=remaining_note1%100\n",
    "    note3=remaining_note2//50\n",
    "    remaining_note3=remaining_note2%50\n",
    "    note4=remaining_note3//20\n",
    "    remaining_note4=remaining_note3%20\n",
    "    note5=remaining_note4//10\n",
    "    remaining_note5=remaining_note4%10\n",
    "    note6=remaining_note5//5\n",
    "    remaining_note6=remaining_note5%5\n",
    "    note7=remaining_note6//2\n",
    "    remaining_note7=remaining_note6%2\n",
    "    note8=remaining_note7//1\n",
    "    list1=[note1,note2,note3,note4,note5,note6,note7,note8]\n",
    "    list2=['500 Taka:','100 Taka:','50 Taka:','20 Taka:','10 Taka:','5 Taka:','2 Taka:','1 Taka:']\n",
    "    string1=''\n",
    "    for item in range(len(list1)):\n",
    "        if(list1[item]!=0):\n",
    "            string1+=str(list2[item])+str(list1[item])+' note(s)'+'\\n'\n",
    "        else:\n",
    "            pass\n",
    "    return string1\n",
    "#     number=note1,note2,note3,note4,note5,note6,note7,note8\n",
    "#     print(number)\n",
    "#     if(note1>0):\n",
    "#         num+='500 taka: '+ str(note1)+' note(s)'+'\\n' \n",
    "#     if(note2>0):\n",
    "#         num+='100 taka: '+ str(note2)+' note(s)'+'\\n'\n",
    "#     if(note3>0):\n",
    "#         num+='50 taka: '+ str(note3)+' note(s)'+'\\n'\n",
    "#     if(note4>0):\n",
    "#         num+='20 taka: '+ str(note4)+' note(s)'+'\\n'\n",
    "#     if(note5>0):\n",
    "#         num+='10 taka: '+ str( note5 )+' note(s)'+'\\n'\n",
    "#     if(note6>0):\n",
    "#         num+='5 taka: '+ str( note6)+' note(s)'+'\\n'\n",
    "#     if(note7>0):\n",
    "#         num+='2 taka: '+ str( note7)+' note(s)'+'\\n'\n",
    "#     if(note8>0):\n",
    "#         num+='1 taka: '+ str( note8 )+' note(s)'+'\\n'\n",
    "#     return num \n",
    "\n",
    "input1=int(input('enter amount of note: '))\n",
    "print(splitting_money(input1))"
   ]
  },
  {
   "cell_type": "markdown",
   "metadata": {
    "id": "VpnhnPPcab5J"
   },
   "source": [
    "### Task 17\n",
    "Write a function called **remove_odd** that takes a list of numbers that have both even and odd numbers mixed. \\\n",
    "Your function should remove all the odd numbers and **return a compact list** which only contains the even numbers. \n",
    "\n",
    "<font color='red'>**[Cannot use remove() or removed() for this task]** </font>\n",
    "\n",
    "=====================================================\n",
    "\n",
    "**Example1:** \\\n",
    "**Function Call:**\\\n",
    "remove_odd ([21, 33, 44, 66, 11, 1, 88, 45, 10, 9])\\\n",
    "**Output:**\\\n",
    "[44, 66, 88, 10]\n",
    "\n",
    "====================================\n",
    "\n",
    "**Example2:** \\\n",
    "**Function Call:**\\\n",
    "remove_odd ([11,2,3,4,5,2,0,5,3])\\\n",
    "**Output:**\\\n",
    "[2, 4, 2, 0]\n",
    "\n"
   ]
  },
  {
   "cell_type": "code",
   "execution_count": 9,
   "metadata": {
    "id": "y4dR2jV6bAYw"
   },
   "outputs": [
    {
     "name": "stdout",
     "output_type": "stream",
     "text": [
      "enter a list of numbers: 21, 33, 44, 66, 11, 1, 88, 45, 10, 9\n",
      "[44, 66, 88, 10]\n"
     ]
    }
   ],
   "source": [
    "#todo\n",
    "def remove_odd(odd_number):\n",
    "    list2=[]\n",
    "    for item in odd_number:\n",
    "        if(int(item)%2!=0):\n",
    "            pass\n",
    "        else:\n",
    "            list2.append(item)\n",
    "    return list2\n",
    "input1=[int(item) for item in input('enter a list of numbers: ').split(',')]\n",
    "print(remove_odd(input1))"
   ]
  },
  {
   "cell_type": "markdown",
   "metadata": {
    "id": "8qAKekKWbBnP"
   },
   "source": [
    "### Task 18\n",
    "Write a function which will take 4 arguments. They are:\n",
    "- starting value(inclusive)\n",
    "- ending value(exclusive)\n",
    "- first divisor\n",
    "- second divisor\n",
    "\n",
    "Your first task is to take these arguments as user input and pass these values to the function.\n",
    "\n",
    "Your second task is to implement the function and find all the numbers that are divisible by the <u> **first divisor or second divisor but not both**</u> from the starting value(inclusive) and ending value(exclusive). Add all the numbers that are divisible and finally return this value. Print the returned value in the function call.\n",
    "\n",
    "=====================================================\n",
    "\n",
    "**Input:**\\\n",
    "10\\\n",
    "40\\\n",
    "4\\\n",
    "7\\\n",
    "**Function Call:**\\\n",
    "function_name(10, 40, 4, 7)\\\n",
    "**Output:**\\\n",
    "210\\\n",
    "================================\\\n",
    "**Input:**\\\n",
    "5\\\n",
    "100\\\n",
    "3\\\n",
    "4\\\n",
    "**Function Call:**\\\n",
    "function_name(5, 100, 3, 4)\\\n",
    "**Output:**\\\n",
    "2012\n",
    "\n",
    "\n"
   ]
  },
  {
   "cell_type": "code",
   "execution_count": 2,
   "metadata": {
    "id": "-vQ3gIWm5D8-"
   },
   "outputs": [
    {
     "name": "stdout",
     "output_type": "stream",
     "text": [
      "enter a starting number: 5\n",
      "enter an ending number: 100\n",
      "enter first divisor: 3\n",
      "enter second divisor: 4\n",
      "2012\n"
     ]
    }
   ],
   "source": [
    "#todo\n",
    "def function_name(start,end,first,second):\n",
    "    sum=0\n",
    "    for item in range(start,end):\n",
    "        if (item%first==0) and (item%second==0):\n",
    "            pass\n",
    "        elif(item%first==0):\n",
    "            sum+=item\n",
    "#             print(item)\n",
    "        elif(item%second==0):\n",
    "            sum+=item\n",
    "#             print(item)\n",
    "        \n",
    "    return sum\n",
    "input1=int(input('enter a starting number: '))\n",
    "input2=int(input('enter an ending number: '))\n",
    "input3=int(input('enter first divisor: '))\n",
    "input4=int(input('enter second divisor: '))\n",
    "print(function_name(input1,input2,input3,input4))"
   ]
  },
  {
   "cell_type": "markdown",
   "metadata": {
    "id": "0poe59Q-aAtP"
   },
   "source": [
    "### Task 19\n",
    "Write a python function which will take a string as an argument. \n",
    "\n",
    "Your first task is to take a string as user input and pass the value to the function.\n",
    "\n",
    "Your second task is to implement a function which will check whether all the alphabets from a to j (convert all the alphabets to lowercase) has appeared at least once in the given string or not. \n",
    "- If all of these alphabets (a to j) appear at least once, then the result will be 5. \n",
    "- If any one of the alphabets (a to j) is not in the given string, then the result will be 6.\n",
    "\n",
    "Return this result and print the statement, \"Chelsea is the best club in England\" that many times.\n",
    "\n",
    "=====================================================\n",
    "\n",
    "**Example01:**\n",
    "\"A black jackal is hunting a full grown deer\" \n",
    "\n",
    "Here all the alphabets from A to J are present at least once. So, the function will return 5 and will print the statement 5 times.\n",
    "\n",
    "**Input:**\\\n",
    "\"A black jackal is hunting a full grown deer\"\\\n",
    "**Function Call:**\\\n",
    "function_name(\"A black jackal is hunting a full grown deer\")\\\n",
    "**Output:**\\\n",
    "Chelsea is the best club in England\\\n",
    "Chelsea is the best club in England\\\n",
    "Chelsea is the best club in England\\\n",
    "Chelsea is the best club in England\\\n",
    "Chelsea is the best club in England\n",
    "\n",
    "==============================================\n",
    "\n",
    "**Example02:**\n",
    "\n",
    "**Input:**\\\n",
    "\"ABBCDEFEFGHI\"\\\n",
    "**Function Call:**\\\n",
    "function_name(\"ABBCDEFEFGHI\")\\\n",
    "**Output:**\\\n",
    "Chelsea is the best club in England\\\n",
    "Chelsea is the best club in England\\\n",
    "Chelsea is the best club in England\\\n",
    "Chelsea is the best club in England\\\n",
    "Chelsea is the best club in England\\\n",
    "Chelsea is the best club in England\n"
   ]
  },
  {
   "cell_type": "code",
   "execution_count": 54,
   "metadata": {
    "id": "uQRx3Kclb57h"
   },
   "outputs": [
    {
     "name": "stdout",
     "output_type": "stream",
     "text": [
      "enter a sentence:ABBCDEFEFGHI\n",
      "{'a': 1, 'b': 2, 'c': 1, 'd': 1, 'e': 2, 'f': 2, 'g': 1, 'h': 1, 'i': 1, 'j': 0}\n",
      "Chelsea is the best club in England\n",
      "Chelsea is the best club in England\n",
      "Chelsea is the best club in England\n",
      "Chelsea is the best club in England\n",
      "Chelsea is the best club in England\n",
      "Chelsea is the best club in England\n"
     ]
    }
   ],
   "source": [
    "#todo\n",
    "def function_name(sentence):\n",
    "    string1={'a':0,'b':0,'c':0,'d':0,'e':0,'f':0,'g':0,'h':0,'i':0,'j':0}\n",
    "    sentence2=sentence.lower()\n",
    "    string3=''\n",
    "    string2='Chelsea is the best club in England'\n",
    "    for item in sentence2:\n",
    "        for k,v in string1.items():\n",
    "            if(item==k):\n",
    "                string1[item]+=1\n",
    "    print(string1)\n",
    "    for value in string1.values():\n",
    "        if(value>1):\n",
    "            ans=6\n",
    "            break\n",
    "        else:\n",
    "            ans=5\n",
    "    return ans            \n",
    "input1=input('enter a sentence:').lower()\n",
    "x=function_name(input1)\n",
    "for item in range(x):\n",
    "    print('Chelsea is the best club in England')"
   ]
  },
  {
   "cell_type": "markdown",
   "metadata": {
    "id": "NTujbqM7cz8e"
   },
   "source": [
    "### Task 20\n",
    "Write a function called **individul_bonus_calculation** which will take 4 arguments. They are:\n",
    "\n",
    "- The player name\n",
    "- Yearly earning of that player\n",
    "- The total goal scored this season by that player\n",
    "- Bonus percent per goal.\n",
    "\n",
    "\n",
    "Your task is to implement the above-mentioned function that will calculate the total bonus on the yearly earnings of a player for the total goals he had scored.\n",
    "\n",
    "Additionally, \n",
    " * If the goal scored is above 30, add a (additional) bonus of 10000 taka.\n",
    " * If it is between 20 and 30 inclusive, add an extra 5000 taka.\n",
    "\n",
    "<font color='blue'>[ For this task, no need to take any input from the user. Call the functions and print the values inside the function. ] </font>\n",
    "\n",
    "\n",
    "\n",
    "=====================================================\n",
    "\n",
    "**Example1:**\\\n",
    "individul_bonus_calculation(\"Neymar\", 1200000, 35, 5)\n",
    "\n",
    "bonus = 35 * (5 / 100 * 1200000) + 10000 = 2110000\n",
    "\n",
    "**Function call:**\\\n",
    "individul_bonus_calculation(\"Neymar\", 1200000, 35, 5)\\\n",
    "**Output:**\\\n",
    "Neymar earned a bonus of  2110000 Taka for 35 goals.\n",
    "\n",
    "=====================================================\n",
    "\n",
    "**Example2:**\\\n",
    "individul_bonus_calculation('Jamal', 700000, 19, 8)\n",
    "\n",
    "bonus = 19 * (8 / 100 * 700000) + 0 = 1064000\n",
    "\n",
    "**Function call:**\\\n",
    "individul_bonus_calculation('Jamal', 700000, 19, 8)\\\n",
    "**Output:**\\\n",
    "Jamal earned a bonus of 1064000 Taka for 19 goals.\n",
    "\n",
    "=====================================================\n",
    "\n",
    "**Example3:**\\\n",
    "individul_bonus_calculation('Luis', 80000, 25, 10)\n",
    "\n",
    "bonus = 25 * (10 / 100 * 80000) + 5000 = 205000\n",
    "\n",
    "**Function call:**\\\n",
    "individul_bonus_calculation('Luis', 80000, 25, 10)\\\n",
    "**Output:**\\\n",
    "Luis earned a bonus of 205000 Taka for 25 goals.\n",
    "\n",
    "====================================================="
   ]
  },
  {
   "cell_type": "code",
   "execution_count": 16,
   "metadata": {},
   "outputs": [
    {
     "name": "stdout",
     "output_type": "stream",
     "text": [
      "Neymar earned a bonus of 2110000 Taka for 35 goals.\n"
     ]
    }
   ],
   "source": [
    "#To do\n",
    "def individual_bonus_calculation(name,earning,goals,bonus):\n",
    "    total=1\n",
    "    if(goals>30):\n",
    "        total=goals*(bonus/100*earning)+10000\n",
    "    elif(20<=goals<=30):\n",
    "        total=goals*(bonus/100*earning)+5000\n",
    "    else:\n",
    "        total=goals*(bonus/100*earning)\n",
    "    print(name,'earned a bonus of',int(total),'Taka for',goals,'goals.')\n",
    "individual_bonus_calculation(\"Neymar\", 1200000, 35, 5)"
   ]
  },
  {
   "cell_type": "markdown",
   "metadata": {
    "id": "pRU4EhuSh_r-"
   },
   "source": [
    "### Task 21\n",
    "You have been hired by the Abahani football club to write a function that will calculate the total bonus on the yearly earnings of each player for the total goals they have scored.\n",
    "\n",
    "Since the number of players will vary, you decide to use the \"*args\" technique that you learned in your CSE110 class. \n",
    "\n",
    "For each player: pass the name, yearly earning, the total goal scored this season, bonus percent per goal. \n",
    "\n",
    "Additionally, \n",
    " * If the goal scored is above 30, add an extra bonus of 10000 taka. \n",
    " * If it is between 20 and 30 inclusive, add an extra 5000 taka.\n",
    "\n",
    "<font color='blue'>[ For this task, no need to take any input from the user. Call the functions and print the values inside the function. ] </font>\n",
    "\n",
    "**<font color='blue'>[Must reuse the individul_bonus_calculation() function of the previous task]</font>**\n",
    "\n",
    "\n",
    "=====================================================\n",
    "\n",
    "**Example1:**\\\n",
    "cal_bonus(\"Neymar\", 1200000, 35, 5)\n",
    "\n",
    "bonus = 35 * (5 / 100 * 1200000) + 10000 = 2110000\n",
    "\n",
    "**Function call:**\\\n",
    "cal_bonus(\"Neymar\", 1200000, 35, 5)\\\n",
    "**Output:**\\\n",
    "Neymar earned a bonus of  2110000 Taka for 35 goals.\n",
    "\n",
    "=====================================================\n",
    "\n",
    "**Example2:**\\\n",
    "**Function call:**\\\n",
    "function_name(\"Neymar\", 1200000, 30, 10, \"Jamal\", 700000, 19, 5)\\\n",
    "**Output:**\\\n",
    "Neymar earned a bonus of 3605000 Taka for 30 goals.\\\n",
    "Jamal earned a bonus of 665000 Taka for 19 goals.\n",
    "\n",
    "\n",
    "=====================================================\n",
    "\n",
    "**Example3:**\\\n",
    "**Function call:**\\\n",
    "function_name(\"Neymar\", 1200000, 35, 5, 'Jamal', 700000, 19, 8, 'Luis', 80000, 25, 10))\\\n",
    "**Output:**\\\n",
    "Neymar earned a bonus of 2110000 Taka for 35 goals.\\\n",
    "Jamal earned a bonus of 1064000 Taka for 19 goals.\\\n",
    "Luis earned a bonus of 205000 Taka for 25 goals.\n",
    "\n"
   ]
  },
  {
   "cell_type": "code",
   "execution_count": 86,
   "metadata": {
    "id": "IIz3msUa5D9B"
   },
   "outputs": [
    {
     "name": "stdout",
     "output_type": "stream",
     "text": [
      "Neymar earned a bonus of 2110000 Taka for 35 goals.\n",
      "Jamal earned a bonus of 1064000 Taka for 19 goals.\n",
      "Luis earned a bonus of 205000 Taka for 25 goals.\n"
     ]
    }
   ],
   "source": [
    "# to do\n",
    "def individual_bonus_calculation(name,earning,goals,bonus):\n",
    "        total=1\n",
    "        if(goals>30):\n",
    "            total=goals*(bonus/100*earning)+10000\n",
    "        elif(20<=goals<=30):\n",
    "            total=goals*(bonus/100*earning)+5000\n",
    "        else:\n",
    "            total=goals*(bonus/100*earning)\n",
    "        print(name,'earned a bonus of',int(total),'Taka for',goals,'goals.')\n",
    "def function_call(*name):\n",
    "    for i in range(len(name)):\n",
    "        if(i%4==0):\n",
    "            individual_bonus_calculation(name[i],name[i+1],name[i+2],name[i+3])\n",
    "function_call(\"Neymar\", 1200000, 35, 5, 'Jamal', 700000, 19, 8, 'Luis', 80000, 25, 10)"
   ]
  },
  {
   "cell_type": "code",
   "execution_count": null,
   "metadata": {},
   "outputs": [],
   "source": []
  }
 ],
 "metadata": {
  "colab": {
   "collapsed_sections": [],
   "name": "CSE110 Lab Assignment 6.ipynb",
   "provenance": []
  },
  "kernelspec": {
   "display_name": "Python 3",
   "language": "python",
   "name": "python3"
  },
  "language_info": {
   "codemirror_mode": {
    "name": "ipython",
    "version": 3
   },
   "file_extension": ".py",
   "mimetype": "text/x-python",
   "name": "python",
   "nbconvert_exporter": "python",
   "pygments_lexer": "ipython3",
   "version": "3.8.8"
  }
 },
 "nbformat": 4,
 "nbformat_minor": 1
}
