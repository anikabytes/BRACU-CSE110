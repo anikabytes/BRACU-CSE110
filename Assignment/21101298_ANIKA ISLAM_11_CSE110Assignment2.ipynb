{
 "cells": [
  {
   "cell_type": "markdown",
   "metadata": {
    "id": "4wbfWEkOSK4T"
   },
   "source": [
    "# CSE110 Assignment 2 \n",
    "\n",
    "This assignment is to guide in solving basic programming problems using loop in Python. \n",
    "\n",
    "\n",
    "\n",
    "\n",
    "##Write your name, student ID and theory section number below:\n"
   ]
  },
  {
   "cell_type": "code",
   "execution_count": null,
   "metadata": {
    "id": "TUld3qrMgsFR"
   },
   "outputs": [],
   "source": [
    "#STUDENT NAME:ANIKA ISLAM \n",
    "#STUDENT ID:21101298\n",
    "#CSE110 SECTION: 11"
   ]
  },
  {
   "cell_type": "markdown",
   "metadata": {
    "id": "w269kMywSK4V"
   },
   "source": [
    "## Write the code in Python for following problems:\n",
    "\n",
    "**<font color='red'>[MUST MAINTAIN VARIABLE NAMING CONVENTIONS FOR ALL THE TASKS]</font>**\n",
    "\n",
    "### Task 1\n",
    "\n",
    "Write python program, which prints the following sequences of values in loops:\n",
    "\n",
    "a)\t24, 18, 12, 6, 0, -6\\\n",
    "b)\t-10, -5, 0, 5, 10, 15, 20\\\n",
    "c)\t18, 27, 36, 45, 54, 63\\\n",
    "d)\t18,-27, 36,-45,54,-63\n",
    "\n",
    "=====================================================================\n",
    "\n",
    "**Hints(1):** Use a while loop for solving these problems.\n",
    "\n",
    "**Hints(2):** We are already familiar with the print() function. But when we use it to print any value it automatically adds an additional newline after each print statement.\n",
    "\n",
    "For example:\\\n",
    "print(1)\\\n",
    "print(2)\n",
    "\n",
    "Output:\\\n",
    "1\\\n",
    "2\n",
    "\n",
    "=====================================================================\n",
    "\n",
    "To solve this problem, in Python3, we need to add an extra argument (end = \" \") in the print function which tells the program to skip printing the additional newline.\n",
    "\n",
    "For example:\\\n",
    "print(1, end =\" \")\\\n",
    "print(2)\n",
    "\n",
    "Output:(prints the next output right to the previous one)\\\n",
    "12\n",
    "\n",
    "=====================================================================\n",
    "\n",
    "In Task-1(a), the loop counter should be initialized at 24 and the loop should terminate when the loop counter reaches -6. The difference between the first two values is 24-18=6. So the loop counter value is getting decremented by 6 in every iteration.\n",
    "\n",
    "For your understanding task 1(a) code is done for you.\n"
   ]
  },
  {
   "cell_type": "code",
   "execution_count": null,
   "metadata": {
    "id": "H9nuTYCuSK4X",
    "outputId": "e1a08b2f-ccc1-4896-b1ec-5904ba1945d5"
   },
   "outputs": [
    {
     "name": "stdout",
     "output_type": "stream",
     "text": [
      "24, 18, 12, 6, 0, -6"
     ]
    }
   ],
   "source": [
    "# a) 24, 18, 12, 6, 0, -6\n",
    "\n",
    "# initialize loop counter\n",
    "counter = 24\n",
    "\n",
    "# loop structure\n",
    "while counter >= -6:\n",
    "    \n",
    "    #inside loop body\n",
    "    if counter == -6:\n",
    "        print(counter, end = \"\") \n",
    "    else:\n",
    "        print(counter, end = \", \") \n",
    "     \n",
    "    counter = counter - 6 #updating loop counter\n",
    "    #inside loop body\n",
    "    \n",
    "#outside loop body"
   ]
  },
  {
   "cell_type": "code",
   "execution_count": 1,
   "metadata": {},
   "outputs": [
    {
     "name": "stdout",
     "output_type": "stream",
     "text": [
      "24,18,12,6,0,-6"
     ]
    }
   ],
   "source": [
    "(a) count = 24 \n",
    "while count >= -6:\n",
    "    if count == -6 :\n",
    "        print(count, end = '')\n",
    "    else:\n",
    "        print(count, end = ',')\n",
    "    count+=-6"
   ]
  },
  {
   "cell_type": "code",
   "execution_count": 3,
   "metadata": {
    "id": "YWLB_TuLSK4h"
   },
   "outputs": [
    {
     "name": "stdout",
     "output_type": "stream",
     "text": [
      "-10 , -5 , 0 , 5 , 10 , 15 , 20 "
     ]
    }
   ],
   "source": [
    "# b)-10, -5, 0, 5, 10, 15, 20\n",
    "#initialize loop\n",
    "counter=-10\n",
    "#loop structure\n",
    "while (counter<=20):\n",
    "    if (counter==20):\n",
    "        print(counter,end=' ')\n",
    "    else:\n",
    "        print(counter,end=' , ')\n",
    "    counter=counter+5 #updating loop centre \n",
    "    #inside loop body\n",
    "#outside loop body "
   ]
  },
  {
   "cell_type": "code",
   "execution_count": 5,
   "metadata": {},
   "outputs": [
    {
     "name": "stdout",
     "output_type": "stream",
     "text": [
      "-10, -5, 0, 5, 10, 15, 20"
     ]
    }
   ],
   "source": [
    "# b \n",
    "count = -10 \n",
    "while count <= 20:\n",
    "    if count == 20:\n",
    "        print(count,end = '')\n",
    "    else:\n",
    "        print(count,end = ', ')\n",
    "    count+=5"
   ]
  },
  {
   "cell_type": "code",
   "execution_count": 4,
   "metadata": {
    "id": "b5blHg8zSK4n"
   },
   "outputs": [
    {
     "name": "stdout",
     "output_type": "stream",
     "text": [
      "18 , 27 , 36 , 45 , 54 , 63 "
     ]
    }
   ],
   "source": [
    "# c)18, 27, 36, 45, 54, 63\n",
    "#initializing loop \n",
    "counter=18\n",
    "#loop structure \n",
    "while (counter<=63):\n",
    "    if (counter==63):\n",
    "        print(counter,end=' ')\n",
    "    else:\n",
    "        print(counter,end=' , ')\n",
    "    counter=counter+9\n",
    "    #inside loop body \n",
    "#outside loop body"
   ]
  },
  {
   "cell_type": "code",
   "execution_count": 7,
   "metadata": {},
   "outputs": [
    {
     "name": "stdout",
     "output_type": "stream",
     "text": [
      "18, 27, 36, 45, 54, 63"
     ]
    }
   ],
   "source": [
    "# c \n",
    "count = 18 \n",
    "while count <= 63:\n",
    "    if count == 63 :\n",
    "        print(count, end = '')\n",
    "    else:\n",
    "        print(count, end = ', ')\n",
    "    count+=9"
   ]
  },
  {
   "cell_type": "markdown",
   "metadata": {
    "id": "VlRJZhqVSK4v"
   },
   "source": [
    "**Hints for 1(d):** \n",
    "\n",
    "print(5 * (-1)) gives output -5\\\n",
    "print(\"-\" + str(5)) gives output -5"
   ]
  },
  {
   "cell_type": "code",
   "execution_count": 3,
   "metadata": {
    "id": "lA6BDPaaSK4v"
   },
   "outputs": [
    {
     "name": "stdout",
     "output_type": "stream",
     "text": [
      "18 , -27 , 36 , -45 , 54 , -63  "
     ]
    }
   ],
   "source": [
    "# d)18,-27, 36,-45,54,-63\n",
    "#initializing loop\n",
    "counter=18\n",
    "#loop structure\n",
    "while (counter<=63):\n",
    "    if(counter%2==0):\n",
    "        print(counter,end=' , ')\n",
    "    else:\n",
    "        if(counter<63):\n",
    "            print(counter*(-1),end=' , ')\n",
    "        else:\n",
    "            print(counter*(-1),end='  ')\n",
    "    counter=counter+9 #updatibg loop centre \n",
    "    #inside loop body\n",
    "#outside loop body\n"
   ]
  },
  {
   "cell_type": "code",
   "execution_count": 2,
   "metadata": {},
   "outputs": [
    {
     "name": "stdout",
     "output_type": "stream",
     "text": [
      "18, -27, 36, -45, 54, -63 "
     ]
    }
   ],
   "source": [
    "#d \n",
    "count = 18 \n",
    "while count <= 63  :\n",
    "    if count%2 == 0 :\n",
    "        print(count,end=', ')\n",
    "    else:\n",
    "        if count < 63:\n",
    "            print(count*(-1), end = ', ')\n",
    "        else:\n",
    "            print(count*(-1), end = ' ')\n",
    "    count+=9"
   ]
  },
  {
   "cell_type": "markdown",
   "metadata": {
    "id": "fB7DLiLjSK41"
   },
   "source": [
    "====================================================================\\\n",
    "<font color='blue'>\n",
    "All the tasks can be solved using both the \"while loop\" and the \"for loop\". But you need to choose the best looping construct which is the most suitable for solving a particular task.\n",
    "</font>\n",
    "\n",
    "===================================================================="
   ]
  },
  {
   "cell_type": "markdown",
   "metadata": {
    "id": "RGkTLNE8SK43"
   },
   "source": [
    "### Task 2\n",
    "Write a Python code for the following:\n",
    "\n",
    "1)\tAsk the user to enter the name of his favorite car.\\\n",
    "2)\tAsk the user to enter a Number\n",
    "\n",
    "Display the name of the user’s favorite car, the number of times specified in the second step.\n",
    "\n",
    "==========================================================\n",
    "\n",
    "**Example 01:** If the user enters “Toyota” and 20, your program should print the name “Toyota” twenty times.\n",
    "\n",
    "**Input:**\\\n",
    "Toyota\\\n",
    "2\n",
    "\n",
    "**Output:**\\\n",
    "Toyota\\\n",
    "Toyota\n",
    "\n",
    "==========================================================\n",
    "\n",
    "**Example02:** If the user enters “Veyron” and 5, your program should print the name “Veyron” five times.\n",
    "\n",
    "**Input:**\\\n",
    "Veyron\\\n",
    "5\n",
    "\n",
    "**Output:**\\\n",
    "Veyron\\\n",
    "Veyron\\\n",
    "Veyron\\\n",
    "Veyron\\\n",
    "Veyron\n"
   ]
  },
  {
   "cell_type": "code",
   "execution_count": 8,
   "metadata": {
    "id": "u5yX33mvSK45"
   },
   "outputs": [
    {
     "name": "stdout",
     "output_type": "stream",
     "text": [
      "enter name of car: toyota \n",
      "enter number: 2\n",
      "toyota \n",
      "toyota \n"
     ]
    }
   ],
   "source": [
    "#Todo\n",
    "#taking name of car from user\n",
    "name=input('enter name of car: ')\n",
    "#taking number from user\n",
    "number=int(input('enter number: '))\n",
    "#initializing loop \n",
    "counter=1\n",
    "#loop structure \n",
    "while(counter<=number):\n",
    "    print(name)\n",
    "    counter=counter+1 #updating loop centre \n",
    "    #inside loop body\n",
    "#outside loop body "
   ]
  },
  {
   "cell_type": "code",
   "execution_count": 9,
   "metadata": {},
   "outputs": [
    {
     "name": "stdout",
     "output_type": "stream",
     "text": [
      "Enter name of favourite car: toyota\n",
      "Enter a number: 2\n",
      "toyota\n",
      "toyota\n"
     ]
    }
   ],
   "source": [
    "car = input ('Enter name of favourite car: ')\n",
    "num = int(input('Enter a number: '))\n",
    "for i in range(0,num):\n",
    "    print (car)\n",
    "\n",
    "    "
   ]
  },
  {
   "cell_type": "markdown",
   "metadata": {
    "id": "xT0l0U35SK5A"
   },
   "source": [
    "### Task 3\n",
    "Write a Python code of a program that adds all numbers that are multiples of **both 7 and 9** up to 600 (including 600).\n",
    "\n",
    "Output: 2835\n"
   ]
  },
  {
   "cell_type": "code",
   "execution_count": 9,
   "metadata": {
    "id": "Q6dix8WhSK5B"
   },
   "outputs": [
    {
     "name": "stdout",
     "output_type": "stream",
     "text": [
      "2835\n"
     ]
    }
   ],
   "source": [
    "#Todo\n",
    "#initializing loop \n",
    "counter=7\n",
    "#taking sum as an empty integer \n",
    "sum=0\n",
    "#loop structure\n",
    "while(counter<=600):\n",
    "    if(counter%7==0 and counter%9==0):\n",
    "        sum=sum+counter\n",
    "    counter=counter+1 #updating loop centre \n",
    "    #inside loop body \n",
    "print(sum)\n",
    "#outside loop body         \n",
    "    \n",
    "    "
   ]
  },
  {
   "cell_type": "code",
   "execution_count": 1,
   "metadata": {},
   "outputs": [
    {
     "name": "stdout",
     "output_type": "stream",
     "text": [
      "2835\n"
     ]
    }
   ],
   "source": [
    "summ=0\n",
    "for i in range(600):\n",
    "    if (i%7==0) and (i%9==0):\n",
    "        summ+=i\n",
    "print(summ)"
   ]
  },
  {
   "cell_type": "markdown",
   "metadata": {
    "id": "8swUoCy9SK5F"
   },
   "source": [
    "### Task 4\n",
    "Write a Python code of a program that adds all numbers that are multiples of **either 7 or 9** up to 600(including 600). \\\n",
    "Ensure that numbers like 63 are added only once in the sum.\n",
    "\n",
    "Output: 42649\n"
   ]
  },
  {
   "cell_type": "code",
   "execution_count": 11,
   "metadata": {
    "id": "pbIA-waFSK5G"
   },
   "outputs": [
    {
     "name": "stdout",
     "output_type": "stream",
     "text": [
      "42649\n"
     ]
    }
   ],
   "source": [
    "#Todo\n",
    "#initializing the loop\n",
    "counter=7\n",
    "#taking sum as an empty integer \n",
    "sum=0\n",
    "#loop structure \n",
    "while (counter<=600):\n",
    "    if(counter%7==0 or counter%9==0):\n",
    "        sum=sum+counter\n",
    "    counter=counter+1 #updating loop centre \n",
    "    #inside loop body \n",
    "print(sum)\n",
    "#outside loop body \n",
    "    \n",
    "    "
   ]
  },
  {
   "cell_type": "code",
   "execution_count": 2,
   "metadata": {},
   "outputs": [
    {
     "name": "stdout",
     "output_type": "stream",
     "text": [
      "42649\n"
     ]
    }
   ],
   "source": [
    "summ=0\n",
    "for i in range(600):\n",
    "    if (i%7==0) or (i%9==0):\n",
    "        summ+=i\n",
    "print(summ)"
   ]
  },
  {
   "cell_type": "markdown",
   "metadata": {
    "id": "H3hLyguASK5L"
   },
   "source": [
    "### Task 5\n",
    "Write a Python code of a program that adds all numbers that are multiples of **either 7 or 9 but not both**, up to 600(including 600).\n",
    "\n",
    "Output: 39814\n"
   ]
  },
  {
   "cell_type": "code",
   "execution_count": 12,
   "metadata": {
    "id": "LiAvUr1QSK5M"
   },
   "outputs": [
    {
     "name": "stdout",
     "output_type": "stream",
     "text": [
      "39814\n"
     ]
    }
   ],
   "source": [
    "#Todo\n",
    "#initializing loop \n",
    "counter=1\n",
    "#taking sum as an empty integer \n",
    "sum=0\n",
    "#loop structure \n",
    "while(counter<=600):\n",
    "    if(counter%7==0 and counter%9==0): #63%7==0 and 63%9==0\n",
    "        sum=sum #sum is always 0\n",
    "    elif(counter%7==0 or counter%9==0): #14%7==0 or 18%9==0\n",
    "        sum=sum+counter #sum is only multiple of 7 or 9 \n",
    "    counter=counter+1 #updating loop centre \n",
    "    #inside loop body \n",
    "print(sum)\n",
    "#outside loop body "
   ]
  },
  {
   "cell_type": "code",
   "execution_count": 3,
   "metadata": {},
   "outputs": [
    {
     "name": "stdout",
     "output_type": "stream",
     "text": [
      "39814\n"
     ]
    }
   ],
   "source": [
    "summ=0\n",
    "for i in range(600):\n",
    "    if (i%7==0) and (i%9==0):\n",
    "        continue\n",
    "    elif(i%7==0):\n",
    "        summ+=i\n",
    "    elif(i%9==0):\n",
    "        summ+=i\n",
    "print(summ)"
   ]
  },
  {
   "cell_type": "markdown",
   "metadata": {
    "id": "8SmvPvfaSK5P"
   },
   "source": [
    "### Task 6\n",
    "Write a Python code to displays all the **odd numbers** between 10 and 50.\n",
    "\n",
    "Output: 11 13 15 17 19 21 23 25 27 29 31 33 35 37 39 41 43 45 47 49\n"
   ]
  },
  {
   "cell_type": "code",
   "execution_count": 1,
   "metadata": {
    "id": "PJmT9fvuSK5Q"
   },
   "outputs": [
    {
     "name": "stdout",
     "output_type": "stream",
     "text": [
      "11 13 15 17 19 21 23 25 27 29 31 33 35 37 39 41 43 45 47 49 "
     ]
    }
   ],
   "source": [
    "#Todo\n",
    "#initializing loop \n",
    "counter=11\n",
    "#loop structure\n",
    "while (counter>=10 and counter<=50):\n",
    "    if(counter%2!=0):\n",
    "        print(counter,end=' ')\n",
    "    else:\n",
    "        print(counter)\n",
    "    counter=counter+2 #updating loop centre\n",
    "    #inside loop body \n",
    "#outside loop body\n",
    "\n",
    "\n"
   ]
  },
  {
   "cell_type": "code",
   "execution_count": 5,
   "metadata": {},
   "outputs": [
    {
     "name": "stdout",
     "output_type": "stream",
     "text": [
      "11 13 15 17 19 21 23 25 27 29 31 33 35 37 39 41 43 45 47 49 "
     ]
    }
   ],
   "source": [
    "\n",
    "for i in range(10,51):\n",
    "    if (i%2!=0):\n",
    "        print(i,end=' ')"
   ]
  },
  {
   "cell_type": "markdown",
   "metadata": {
    "id": "Nw4dX_MeSK5V"
   },
   "source": [
    "### Task 7\n",
    "Write a Python code that will calculate the **value of y if the expression** of y is as follows (n is the input):  \n",
    "\n",
    "$y = 1^2 - 2^2 +3^2 -4^2 +5^2 .........+ n^2 $\n",
    "\n",
    "\n",
    "==========================================================\n",
    "\n",
    "**Example01:** \n",
    "\n",
    "**Input:**\\\n",
    "10\n",
    "\n",
    "**Output:**\\\n",
    "-55\n",
    "\n",
    "==========================================================\n",
    "\n",
    "**Example02:** \n",
    "\n",
    "**Input:**\\\n",
    "20\n",
    "\n",
    "**Output:**\\\n",
    "-210\n",
    "\n"
   ]
  },
  {
   "cell_type": "code",
   "execution_count": 2,
   "metadata": {
    "id": "BbJe-7AuSK5V"
   },
   "outputs": [
    {
     "name": "stdout",
     "output_type": "stream",
     "text": [
      "enter a number: 20\n",
      "-210\n"
     ]
    }
   ],
   "source": [
    "#Todo\n",
    "#taking a number from user \n",
    "n=int(input('enter a number: '))\n",
    "#taking y as an empty integer \n",
    "y=0\n",
    "for i in range(0,n+1):\n",
    "    if(i%2==0): #output is even and -ve \n",
    "        y=y-(i**2)\n",
    "    else: #output is odd and +ve\n",
    "        y=y+(i**2)\n",
    "print(y)"
   ]
  },
  {
   "cell_type": "code",
   "execution_count": 14,
   "metadata": {},
   "outputs": [
    {
     "name": "stdout",
     "output_type": "stream",
     "text": [
      "Enter a number: 20\n",
      "-210\n"
     ]
    }
   ],
   "source": [
    "n = int(input('Enter a number: '))\n",
    "y = 0 \n",
    "for i in range (0,n+1):\n",
    "    if i%2 == 0:\n",
    "        y = y - (i**2)\n",
    "    else:\n",
    "        y = y + (i**2)\n",
    "print(y)"
   ]
  },
  {
   "cell_type": "markdown",
   "metadata": {
    "id": "SgvBqJ9PSK5l"
   },
   "source": [
    "### Task 8\n",
    "\n",
    "Write a Python code of a program that asks the user to enter ten numbers then display the total and the average of **ONLY** the **odd numbers** among those ten numbers. <font color='red'>[Use of list is completely unnecesary for this task]</font>\n",
    "\n",
    "==========================================================\n",
    "\n",
    "**Example01:** \n",
    "\n",
    "**Input:**\\\n",
    "1\n",
    "\n",
    "2\n",
    "\n",
    "3\n",
    "\n",
    "4\n",
    "\n",
    "5\n",
    "\n",
    "6\n",
    "\n",
    "7\n",
    "\n",
    "8\n",
    "\n",
    "9\n",
    "\n",
    "10\n",
    "\n",
    "**Output:**\n",
    "Total is 25 and Average is 5.0\n",
    "\n",
    "\n",
    "**Explanation:**\n",
    "\n",
    "Total is 25 = (1+3+5+7+9) and Average is 25/5 = 5.0\n",
    "\n",
    "==========================================================\n",
    "\n",
    "\n",
    "**Example02:** \n",
    "\n",
    "**Input:**\\\n",
    "-20\n",
    "\n",
    "3\n",
    "\n",
    "-5\n",
    "\n",
    "40\n",
    "\n",
    "-17\n",
    "\n",
    "9\n",
    "\n",
    "20\n",
    "\n",
    "-8\n",
    "\n",
    "99\n",
    "  \n",
    "-200\n",
    "\n",
    "**Output:**\n",
    "\n",
    "Total is 89 and Average is 17.8\n",
    "\n",
    "\n",
    "**Explanation:**\n",
    "\n",
    "Total is 89 =(3+(-5)+(-17)+9+99) and Average is 89/5 = 17.8\n",
    "\n"
   ]
  },
  {
   "cell_type": "code",
   "execution_count": 4,
   "metadata": {
    "id": "c0akirXXSK5m"
   },
   "outputs": [
    {
     "name": "stdout",
     "output_type": "stream",
     "text": [
      "enter a number: -20\n",
      "enter a number: 3\n",
      "enter a number: -5\n",
      "enter a number: 40\n",
      "enter a number: -17\n",
      "enter a number: 9\n",
      "enter a number: 20\n",
      "enter a number: -8\n",
      "enter a number: 99\n",
      "enter a number: -200\n",
      "89\n",
      "17.8\n"
     ]
    }
   ],
   "source": [
    "#Todo\n",
    "#taking sum and average as empty integers\n",
    "sum=0\n",
    "average=0\n",
    "counter=0\n",
    "for i in range(0,10): #count starts from 0 and stops before 10 (0,1,2,3...9)\n",
    "    number=int(input('enter a number: '))\n",
    "    if(number%2!=0): #9%2!=0\n",
    "        counter=counter+1\n",
    "        sum=sum+number #sum\n",
    "        average=sum/counter #average\n",
    "print(sum)\n",
    "print(average)"
   ]
  },
  {
   "cell_type": "code",
   "execution_count": null,
   "metadata": {},
   "outputs": [],
   "source": []
  },
  {
   "cell_type": "markdown",
   "metadata": {
    "id": "cGdMk_vuSK5s"
   },
   "source": [
    "### Task 9\n",
    "Write a Python code for the following:\n",
    "* Ask the user to enter a Number, N\n",
    "* Display the summation of multiples of 7 up to that number (**from 1 to N inclusive**)\n",
    "\n",
    "==========================================================\n",
    "\n",
    "**Example01:** \n",
    "\n",
    "**Input:**\\\n",
    "50\n",
    "\n",
    "**Output:**\\\n",
    "196\n",
    "\n",
    "**Explanation:**\\\n",
    "7 + 14 + 21 + 28 + 35 + 42 + 49 = 196\n",
    "\n",
    "==========================================================\n",
    "\n",
    "**Example02:** \n",
    "\n",
    "**Input:**\\\n",
    "75\n",
    "\n",
    "**Output:**\\\n",
    "385\n",
    "\n",
    "**Explanation:**\\\n",
    "7 + 14 + 21 + 28 + 35 + 42 + 49 + 56 + 63 + 70 = 385\n",
    "\n",
    "\n",
    "\n"
   ]
  },
  {
   "cell_type": "code",
   "execution_count": 28,
   "metadata": {
    "id": "zLsrA8dSSK5t"
   },
   "outputs": [
    {
     "name": "stdout",
     "output_type": "stream",
     "text": [
      "enter a number: 75\n",
      "385\n"
     ]
    }
   ],
   "source": [
    "#Todo\n",
    "#taking a number from user\n",
    "N=int(input('enter a number: '))\n",
    "#taking sum as an empty integer\n",
    "sum=0\n",
    "#initializing loop \n",
    "counter=1\n",
    "#loop structure\n",
    "while (counter<=N):\n",
    "    if(counter%7==0): #multiple of 7 \n",
    "        sum=sum+counter #sum of multiple of 7\n",
    "    counter=counter+1 #updating loop centre \n",
    "    #inside loop body \n",
    "print(sum)\n",
    "#outside loop body\n",
    "\n",
    "    \n"
   ]
  },
  {
   "cell_type": "code",
   "execution_count": 15,
   "metadata": {},
   "outputs": [
    {
     "name": "stdout",
     "output_type": "stream",
     "text": [
      "Enter a number: 50\n",
      "196\n"
     ]
    }
   ],
   "source": [
    "N = int(input('Enter a number: '))\n",
    "summ=0\n",
    "for i in range(0,N):\n",
    "    if i%7 == 0: \n",
    "        summ+=i\n",
    "print(summ)"
   ]
  },
  {
   "cell_type": "markdown",
   "metadata": {
    "id": "OZ9pVIvhSK5w"
   },
   "source": [
    "### Task 10\n",
    "Write a Python code that will read 10 numbers from the user, and then print the first number, the sum of the first 2 numbers, the sum of the first 3 numbers, and so on up to the sum of 10 numbers.\n",
    "\n",
    "==========================================================\n",
    "\n",
    "\n",
    "For example,\n",
    "\n",
    "The user enters 10, output 10, then \\\n",
    "The user enters 2, (10+2) = 12, output 12, then \\\n",
    "The user enters 4, (10+2+4) = 16, output 16, then \\\n",
    "The user enters 20, (10+2+4+20) = 36, output 36, and continues till the 10$^{th}$ input\n"
   ]
  },
  {
   "cell_type": "code",
   "execution_count": 1,
   "metadata": {
    "id": "FCwYrfGGSK5w"
   },
   "outputs": [
    {
     "name": "stdout",
     "output_type": "stream",
     "text": [
      "enter a number: 10\n",
      "10\n",
      "enter a number: 2\n",
      "12\n",
      "enter a number: 4\n",
      "16\n",
      "enter a number: 20\n",
      "36\n",
      "enter a number: 10\n",
      "46\n",
      "enter a number: 2\n",
      "48\n",
      "enter a number: 4\n",
      "52\n",
      "enter a number: 20\n",
      "72\n",
      "enter a number: 10\n",
      "82\n",
      "enter a number: 2\n",
      "84\n"
     ]
    }
   ],
   "source": [
    "#Todo\n",
    "#taking sum as an empty integer\n",
    "sum=0\n",
    "for number in range(0,10):\n",
    "    #taking 10 numbers from the user \n",
    "    number=int(input('enter a number: '))\n",
    "    sum=sum+number #print input=1st,input=sum of 1st and 2nd, input=sum of 1st,2nd and 3rd and so on\n",
    "    print(sum)\n",
    "    "
   ]
  },
  {
   "cell_type": "code",
   "execution_count": 19,
   "metadata": {},
   "outputs": [
    {
     "name": "stdout",
     "output_type": "stream",
     "text": [
      "enter numbers: 10\n",
      "10\n",
      "enter numbers: 2\n",
      "12\n",
      "enter numbers: 4\n",
      "16\n",
      "enter numbers: 20\n",
      "36\n",
      "enter numbers: 10\n",
      "46\n",
      "enter numbers: 2\n",
      "48\n",
      "enter numbers: 4\n",
      "52\n",
      "enter numbers: 20\n",
      "72\n",
      "enter numbers: 10\n",
      "82\n",
      "enter numbers: 2\n",
      "84\n"
     ]
    }
   ],
   "source": [
    "summ = 0 \n",
    "for i in range(0,10):\n",
    "    num = int(input('enter numbers: '))\n",
    "    summ+=num\n",
    "    print(summ)"
   ]
  },
  {
   "cell_type": "markdown",
   "metadata": {
    "id": "xWxrM53vvfUV"
   },
   "source": [
    "# \n",
    "\n",
    "### Task 11\n",
    "Write a Python program which takes a number and prints the digits from the unit place, then the tenth, then hundredth, etc. <font color='red'>(Right to Left)</font>\n",
    "\n",
    "<font color='red'>[Consider the input number to be an INTEGER. You are not allowed to use String indexing for solving this task]</font>\n",
    "\n",
    "**Example:** If the user gives 32768, then print 8, 6, 7, 2, 3 \n",
    "\n",
    "=========================================================================\n",
    "\n",
    "**Hint (1):**  The input() function, converts the input data to String data type by default. Use this knowledge to solve this problem.\n",
    "\n",
    "\n",
    "**Hint  (2):** First to get the digit from the right side, take the remainder of the number using modulus (%) operator and print the digit. For dropping the last digit, perform floor division by 10 on the number. Then start over.\n",
    "\n",
    "32,768 % 10 = 8 \n",
    "\n",
    "32,768 // 10 = 3, 276 \n",
    "\n",
    "3, 276 % 10 = 6\n",
    "\n",
    "3, 276 // 10 = 327 \n",
    "\n",
    "327 % 10 = 7 \n",
    "\n",
    "327 // 10 = 32 \n",
    "\n",
    "32 % 10 = 2 \n",
    "\n",
    "32 //10 = 3 \n",
    "\n",
    "3 % 10 = 3 \n",
    "\n",
    "3 // 10 = 0 \n",
    "\n",
    "Done! When the number becomes 0 your loop should end.\n",
    "\n"
   ]
  },
  {
   "cell_type": "code",
   "execution_count": 1,
   "metadata": {
    "id": "2Ntfdr2tv230"
   },
   "outputs": [
    {
     "name": "stdout",
     "output_type": "stream",
     "text": [
      "enter a number: 32768\n",
      "8, 6, 7, 2, 3"
     ]
    }
   ],
   "source": [
    "#Todo\n",
    "#taking a number from the user \n",
    "number=int(input('enter a number: '))\n",
    "remainder=number%10 #32768%10=8 , to remove 8 from 32768\n",
    "print(remainder,end='') #print out 8\n",
    "while(number>0):\n",
    "    number=number//10 #32768//10=3276 , to get 3276 from 32768 ans so on\n",
    "    number1=number%10 #3276%10=6 , to remove 6 from 3276 and so on\n",
    "    if(number1==0):\n",
    "        break #stop loop \n",
    "    else:\n",
    "        print(',',number1,end='')  #prints from right to left "
   ]
  },
  {
   "cell_type": "code",
   "execution_count": 14,
   "metadata": {},
   "outputs": [
    {
     "name": "stdout",
     "output_type": "stream",
     "text": [
      "Enter a number: 86723\n",
      "3,2,7,6,8"
     ]
    }
   ],
   "source": [
    "num = int(input('Enter a number: '))\n",
    "rem = num % 10\n",
    "print(rem,end='')\n",
    "ans = ''\n",
    "while num>0 : \n",
    "    num=num//10\n",
    "    rem2=num%10\n",
    "    if rem2 == 0 :\n",
    "        break \n",
    "    else:\n",
    "        ans = ',' + str(rem2) \n",
    "    print(ans, end = '')\n"
   ]
  },
  {
   "cell_type": "markdown",
   "metadata": {},
   "source": [
    "## num=int(input('enter:'))\n",
    "list1=[]\n",
    "ans=''\n",
    "for i in str(num):\n",
    "    list1.append(i)\n",
    "for j in range(len(list1)-1,-1,-1):\n",
    "    ans=list1[j]+','\n",
    "    print(ans,end='')"
   ]
  },
  {
   "cell_type": "markdown",
   "metadata": {
    "id": "VIeR6DT9SK53"
   },
   "source": [
    "### Task 12\n",
    "\n",
    "Write a Python program that takes a number and tells how many digits are in that number. \\\n",
    "<font color='red'>[Consider the input number to be an INTEGER.]</font>\n",
    "\n",
    "<font color='red'>You are not allowed to use len() function</font>\n",
    "\n",
    "**Example:** If the user gives 9876, you should print 4. \n",
    "\n",
    "\n",
    "\n",
    "**Hint:** Keep floor dividing by ten and count how many times this could be divided. \n",
    "\n",
    "9876 floor divide by 10, is 987, count that got 1 digit (total 1) \\\n",
    "987 floor divide by 10, is 98, count that got 1 digit (total 2) \\\n",
    "98 floor divide by 10, is 9, count that got 1 digit (total 3) \\\n",
    "9 floor divide by 10, is 0, count that got 1 digit (total 4) \n",
    "\n",
    "Done! (When the number becomes 0 your loop should end.)\n",
    "\n"
   ]
  },
  {
   "cell_type": "code",
   "execution_count": 21,
   "metadata": {
    "id": "6uX3wr_gSK51",
    "scrolled": true
   },
   "outputs": [
    {
     "name": "stdout",
     "output_type": "stream",
     "text": [
      "enter a number: 9876\n",
      "counter: 4\n"
     ]
    }
   ],
   "source": [
    "#Todo\n",
    "#taking a number from the user\n",
    "number=int(input('enter a number: '))\n",
    "#initializing loop \n",
    "counter=0\n",
    "#loop structure \n",
    "while (number>0):\n",
    "    number=number//10\n",
    "    counter=counter+1 #updating loop centre\n",
    "    #inside loop body \n",
    "print('counter:',counter) #count the number of digits \n",
    "#outside loop body     "
   ]
  },
  {
   "cell_type": "code",
   "execution_count": 4,
   "metadata": {},
   "outputs": [
    {
     "name": "stdout",
     "output_type": "stream",
     "text": [
      "enter a number: 9876\n",
      "counter: 4\n"
     ]
    }
   ],
   "source": [
    "number=int(input('enter a number: '))\n",
    "counter=0\n",
    "for i in str(number):\n",
    "    counter+=1\n",
    "print('counter:',counter)"
   ]
  },
  {
   "cell_type": "markdown",
   "metadata": {
    "id": "dUsVuzILSK50"
   },
   "source": [
    "### Task 13\n",
    "Write a Python program that takes a number from the user and prints its digits from left to right. <font color='red'> (left to right) </font>\n",
    "\n",
    "<font color='red'>[Consider the input number to be an INTEGER. You are not allowed to use String indexing for solving this task]</font>\n",
    "\n",
    "=========================================================================\n",
    "\n",
    "**Example:** if the user gives 32768, then print 3, 2, 7, 6, 8 \n",
    "\n",
    "=========================================================================\n",
    "\n",
    "**Hint(1):**  The input() function, converts the input data to String data type by default. Use this knowledge to solve this problem.\n",
    "\n",
    "**Hint(2):**  \n",
    "\n",
    "Step1: count how many digits\\\n",
    "Step2: calculate 10 to the power that (number of digits) minus 1.\n",
    "\n",
    "Step3: Say, 32768 has 5 digits, so you calculate 10 to the power 4 which is 10,000. Then divide 32,768 by 10,000 and thus you get 3.\\\n",
    "Take remainder of 32,768 by 10,000 and thus you get 2,768 Then divide 10,000 by 10 to get 1,000\\\n",
    "Then divide 2,768 by 1,000 and thus you get 2.\\\n",
    "take remainder of 2,768 by 1,000 and thus you get 768 keep going on until there is no more digits left (zero!).\n",
    "\n",
    "\n",
    "**In short:**\\\n",
    "Loop 1: First count digits, say 5 in this case for 32,768\\\n",
    "Loop 2: Then calculate 10 to the power 4 (5-1), that is 10,000.\\\n",
    "Loop 3: Then repeat following three steps\\\n",
    "32,768 // 10,000 = 3\\\n",
    "32,768 % 10,000 = 2,768 \\\n",
    "10,000//10 = 1,000\n",
    "\n",
    "2,768 // 1,000 = 2\\\n",
    "2,768 % 1,000 = 768\\\n",
    "1,000//10 = 100\n",
    "\n",
    "768 // 100 = 7\\\n",
    "768 % 100 = 68 \\\n",
    "100//10= 10\n",
    "\n",
    "68 //10 = 6\\\n",
    "68 % 10 = 8 \\\n",
    "10//10= 1\n",
    "\n",
    "8 //1 = 8\\\n",
    "8 % 1 = 0 \\\n",
    "1//10=0\n"
   ]
  },
  {
   "cell_type": "code",
   "execution_count": 2,
   "metadata": {
    "id": "IgqcBx8eSK54"
   },
   "outputs": [
    {
     "name": "stdout",
     "output_type": "stream",
     "text": [
      "enter a number: 32768\n",
      "3,2,7,6,8"
     ]
    }
   ],
   "source": [
    "#Todo\n",
    "#taking number from the user\n",
    "number=int(input('enter a number: '))\n",
    "#storing number in number1\n",
    "number1=number\n",
    "#initializing counter\n",
    "counter=0\n",
    "#loop structure 1\n",
    "while(number>0):\n",
    "    number=number//10  \n",
    "    counter=counter+1\n",
    "#loop structure 2\n",
    "while(number1>0):\n",
    "    number=number1//10**(counter-1)\n",
    "    print(number,end='')\n",
    "    number1=number1%10**(counter-1)\n",
    "    counter=counter-1\n",
    "    if(number1!=0):\n",
    "        print(end=',')\n",
    "    \n",
    "    "
   ]
  },
  {
   "cell_type": "code",
   "execution_count": 64,
   "metadata": {},
   "outputs": [
    {
     "name": "stdout",
     "output_type": "stream",
     "text": [
      "enter:32768\n",
      "3,2,7,6,8"
     ]
    }
   ],
   "source": [
    "num=int(input('enter:'))\n",
    "count = 0 \n",
    "for i in str(num):\n",
    "    count += 1 \n",
    "    if count == len(str(num)):\n",
    "        print(i,end='')\n",
    "    else:\n",
    "        print(i,end=',')"
   ]
  },
  {
   "cell_type": "markdown",
   "metadata": {
    "id": "fTbwwo3mSK6A"
   },
   "source": [
    "### Task 14\n",
    "\n",
    "Write a Python program that takes a number from the user and prints the divisors of that number and then print how many divisors were there.\n",
    "<font color='red'>[The input number has to be an INTEGER]</font>\n",
    "\n",
    "==========================================================\n",
    "\n",
    "**Example01:** \n",
    "\n",
    "**Input:**\\\n",
    "6\n",
    "\n",
    "**Output:**\\\n",
    "1, 2, 3, 6 \\\n",
    "Total 4 divisors.\n",
    "\n",
    "\n",
    "==========================================================\n",
    "\n",
    "**Example02:** \n",
    "\n",
    "**Input:**\\\n",
    "121\n",
    "\n",
    "**Output:**\\\n",
    "1, 11, 121 \\\n",
    "Total 3 divisors.\n",
    "\n",
    "\n"
   ]
  },
  {
   "cell_type": "code",
   "execution_count": 11,
   "metadata": {
    "id": "aFSd6sYXSK6A"
   },
   "outputs": [
    {
     "name": "stdout",
     "output_type": "stream",
     "text": [
      "enter a number: 121\n",
      "1 , 11  , 121  \n",
      "counter: 3\n"
     ]
    }
   ],
   "source": [
    "#Todo\n",
    "#taking a number from the user \n",
    "number=int(input('enter a number: '))\n",
    "#taking counter and comma as empty integers \n",
    "counter=0\n",
    "coma=0\n",
    "for i in range(1,number+1): #range from 1 to number  \n",
    "    if(number%i==0): #121%i==0 gives i which are the divisors of 121 when remainder is 0\n",
    "        counter=counter+1 #incremating \n",
    "        if (coma!=0): #to remove comma from the end of loop.\n",
    "            print(',',i,end='  ')\n",
    "        else:\n",
    "            print(i,end=' ')\n",
    "        coma=coma+1 #incremating \n",
    "print() #to go to next row \n",
    "print('counter:',counter) #counting the number of divisors \n",
    "\n",
    "    "
   ]
  },
  {
   "cell_type": "code",
   "execution_count": 83,
   "metadata": {},
   "outputs": [
    {
     "name": "stdout",
     "output_type": "stream",
     "text": [
      "enter a number: 121\n",
      "1,11,121,Total 3 divisors\n"
     ]
    }
   ],
   "source": [
    "num = int(input('enter a number: '))\n",
    "count = 0 \n",
    "count2 = 0 \n",
    "for i in range(1,num+1):\n",
    "    count2+=1\n",
    "    if num % i == 0:\n",
    "        count +=1\n",
    "        print(i,end=',')\n",
    "print('Total',count,'divisors')"
   ]
  },
  {
   "cell_type": "markdown",
   "metadata": {
    "id": "swvpit_vSK6E"
   },
   "source": [
    "### Task 15\n",
    "Write a Python program that takes a number and tells if it is a perfect number or not. <font color='red'>[The input number has to be an INTEGER]</font>\n",
    "\n",
    "**Perfect Number:** An integer number is said to be a perfect number if its factors, including 1 but not the number itself, sum to the number.\n",
    "\n",
    "==========================================================\n",
    "\n",
    "**Example01:** \n",
    "\n",
    "**Input:**\\\n",
    "6\n",
    "\n",
    "**Output:**\\\n",
    "6 is a perfect number\n",
    "\n",
    "**Explanation:**\\\n",
    "6 have 4 divisors: 1, 2, 3, and 6. \\\n",
    "If we add all factors except itself, 6 = 1 + 2 + 3.\n",
    "\n",
    "==========================================================\n",
    "\n",
    "\n",
    "**Example02:** \n",
    "\n",
    "**Input:**\\\n",
    "28\n",
    "\n",
    "**Output:**\\\n",
    "28 is a perfect number\n",
    "\n",
    "**Explanation:**\\\n",
    "28 have 6 divisors: 1, 2, 4, 7, 14, and 28. \\\n",
    "If we add all factors except itself, 28 = 1 + 2 + 4 + 7 + 14.\n",
    "\n",
    "==========================================================\n",
    "\n",
    "**Example03:** \n",
    "\n",
    "**Input:**\\\n",
    "33\n",
    "\n",
    "**Output:**\\\n",
    "33 is not a perfect number\n",
    "\n",
    "**Explanation:**\\\n",
    "33 have 3 divisors: 1, 3, 11, and 33. \\\n",
    "If we add all factors except itself, 15 = 1 + 3 + 11.\n",
    "\n"
   ]
  },
  {
   "cell_type": "code",
   "execution_count": 22,
   "metadata": {
    "id": "WxrTdQ67SK6E"
   },
   "outputs": [
    {
     "name": "stdout",
     "output_type": "stream",
     "text": [
      "enter a number: 6\n",
      "6 is a perfect number\n"
     ]
    }
   ],
   "source": [
    "#Todo\n",
    "#taking a number from the user \n",
    "number=int(input('enter a number: '))\n",
    "#taking sum as an empty integer \n",
    "sum=0\n",
    "for i in range(1,number): #range from 1 to number-1\n",
    "    divisor=number%i #6%i==0, to find the divisors of 6 when the remainder is 0\n",
    "    if(divisor==0):\n",
    "        sum=sum+i  #for the divisors for remainder=0, sum up \n",
    "if(sum==number):\n",
    "    print(number,'is a perfect number') #sum=numper input, number is perfect\n",
    "else:\n",
    "    print(number,'is not a perfect number')\n",
    "   \n",
    "        "
   ]
  },
  {
   "cell_type": "code",
   "execution_count": 88,
   "metadata": {},
   "outputs": [
    {
     "name": "stdout",
     "output_type": "stream",
     "text": [
      "enter a number: 6\n",
      "6 is a perfect number\n"
     ]
    }
   ],
   "source": [
    "num = int(input('enter a number: '))\n",
    "summ = 0 \n",
    "for i in range(1,num):\n",
    "    if num % i == 0 :\n",
    "        summ+=i\n",
    "if summ == num:\n",
    "    print(num,'is a perfect number')\n",
    "else:\n",
    "    print(num,'is not a perfect number')"
   ]
  },
  {
   "cell_type": "markdown",
   "metadata": {
    "id": "JunF6mTuSK6H"
   },
   "source": [
    "### Task 16\n",
    "\n",
    "Write a Python program that asks the user for one number and tells if it is a prime number or not. <font color='red'>[The input number has to be an INTEGER]</font>\n",
    "\n",
    "**Prime Number:** If a number has only two divisors, (1 and itself), then it is prime. If it is divisible by more numbers, then it is not a prime.\n",
    "\n",
    "==========================================================\n",
    "\n",
    "**Hint:** use the divisor count from task 16. \n",
    "\n",
    "==========================================================\n",
    "\n",
    "**Example01:** \n",
    "\n",
    "**Input:**\\\n",
    "11\n",
    "\n",
    "**Output:**\\\n",
    "11 is a prime number\n",
    "\n",
    "**Explanation:**\\\n",
    "11 has only 2 divisors: 1, and 11.\n",
    "\n",
    "==========================================================\n",
    "\n",
    "**Example02:** \n",
    "\n",
    "**Input:**\\\n",
    "6\n",
    "\n",
    "**Output:**\\\n",
    "6 is not a prime number\n",
    "\n",
    "**Explanation:**\\\n",
    "6 have 4 divisors: 1, 2, 3 and 6.\n",
    "\n",
    "\n",
    "\n",
    "\n"
   ]
  },
  {
   "cell_type": "code",
   "execution_count": 42,
   "metadata": {
    "id": "s_UhmEARSK6I"
   },
   "outputs": [
    {
     "name": "stdout",
     "output_type": "stream",
     "text": [
      "enter a number: 6\n",
      "6 is not a prime number\n"
     ]
    }
   ],
   "source": [
    "#Todo\n",
    "#taking a number from user \n",
    "number=int(input('enter a number: '))\n",
    "#taking counter as an emoty integer \n",
    "counter=0\n",
    "for i in range(1,number+1): #range from 1 to number \n",
    "    divisor=number%i\n",
    "    if(divisor==0):  #6%i=0 to find all the divisors of 6 when remainder=0\n",
    "        counter=counter+1 #incremating \n",
    "if(counter<=2):\n",
    "    print(number,'is a prime number') #when numbers of  divisors (counter) are 2 or less\n",
    "else:\n",
    "    print(number,'is not a prime number') #when numbers of divisors are more than 2\n",
    "\n"
   ]
  },
  {
   "cell_type": "code",
   "execution_count": 41,
   "metadata": {},
   "outputs": [
    {
     "name": "stdout",
     "output_type": "stream",
     "text": [
      "enter a number:5,7,8,9\n",
      "The list has prime numbers: []\n",
      "The list has not prime numbers: [7, 8, 9]\n",
      "Prime or not prime dictionary: {'Prime numbers': [], 'Not prime numbers': [7, 8, 9]}\n"
     ]
    }
   ],
   "source": [
    "#extra \n",
    "number_list=input('enter a number:').split(',')\n",
    "prime_list=[]\n",
    "not_prime_list=[]\n",
    "for number in range(1,len(number_list)):\n",
    "    counter=0\n",
    "    if(int(number_list[number])%number==0):\n",
    "        counter+=1\n",
    "    if(counter==0) and (number_list[number] not in prime_list):\n",
    "        prime_list.append(int(number_list[number]))\n",
    "    if(counter>0) and (number_list[number] not in not_prime_list):\n",
    "        not_prime_list.append(int(number_list[number]))\n",
    "my_dict={'Prime numbers':prime_list,'Not prime numbers':not_prime_list}\n",
    "print('The list has prime numbers:',prime_list)\n",
    "print('The list has not prime numbers:',not_prime_list)\n",
    "print('Prime or not prime dictionary:',my_dict)"
   ]
  },
  {
   "cell_type": "markdown",
   "metadata": {
    "id": "2LrNlU1XSK6L"
   },
   "source": [
    "### Task 17\n",
    "\n",
    "Write a Python program that asks the user for a quantity then takes that many numbers and prints the maximum, minimum and average of those numbers. \n",
    "\n",
    "**<font color='red'>[CANNOT USE MAX,MIN BUILT-IN FUNCTIONS][FOR THIS TASK YOU DO NOT NEED TO USE LISTS]</font>** \n",
    "\n",
    "==========================================================\n",
    "\n",
    "**Example01:** If the user enters 5 as an input for quantity. Then enters 10, 4, -1, -100, and 1. \\\n",
    "Your program output should be: “Maximum 10”, “Minimum -100”, “Average is -17.2”\n",
    "\n",
    "**Input:**\\\n",
    "5\n",
    "10\n",
    "4\n",
    "-1\n",
    "-100\n",
    "1.\n",
    "\n",
    "**Output:**\\\n",
    "Maximum 10\\\n",
    "Minimum -100\\\n",
    "Average is -17.2\n",
    "\n",
    "**Explanation:**\\\n",
    "Average calculation: (10+4 + (-1) + (-100) + 1)/5 = -86/5=-17.2\n",
    "\n"
   ]
  },
  {
   "cell_type": "code",
   "execution_count": 2,
   "metadata": {
    "id": "TK68v25sSK6L"
   },
   "outputs": [
    {
     "name": "stdout",
     "output_type": "stream",
     "text": [
      "enter a number: 10\n",
      "enter a number: 4\n",
      "enter a number: -1\n",
      "enter a number: -100\n",
      "enter a number: 1\n",
      "maximum 10\n",
      "minimum -100\n",
      "average -17.2\n"
     ]
    }
   ],
   "source": [
    "#Todo\n",
    "#taking sum and integer as empty integers \n",
    "sum=0\n",
    "average=0\n",
    "for i in range(0,5): #range from 0 to 4 for input \n",
    "    number=int(input('enter a number: '))  \n",
    "    sum=sum+number\n",
    "    average=sum/5\n",
    "    if(i==0): #maximum=minimum=number\n",
    "        maximum=number\n",
    "        minimum=number\n",
    "    elif(number>maximum): \n",
    "        maximum=number\n",
    "    elif(number<minimum):\n",
    "        minimum=number \n",
    "print('maximum' ,maximum)\n",
    "print('minimum',minimum)\n",
    "print('average',average)\n",
    "        \n"
   ]
  },
  {
   "cell_type": "code",
   "execution_count": 100,
   "metadata": {},
   "outputs": [
    {
     "name": "stdout",
     "output_type": "stream",
     "text": [
      "enter a number: 5\n",
      "enter numbers: 10\n",
      "enter numbers: 4\n",
      "enter numbers: -1\n",
      "enter numbers: -100\n",
      "enter numbers: 1\n",
      "Maximum number:  10\n",
      "Minimum number:  -100\n",
      "Average:  -17.2\n"
     ]
    }
   ],
   "source": [
    "num = int(input('enter a number: '))\n",
    "maxim = 0 \n",
    "minim = 9999999\n",
    "summ=0\n",
    "for i in range(0,num):\n",
    "    nums = int(input('enter numbers: ')) \n",
    "    summ+=nums\n",
    "    avg=summ/num\n",
    "    if maxim < nums :\n",
    "        maxim = nums \n",
    "    if minim > nums :\n",
    "        minim = nums \n",
    "\n",
    "print('Maximum number: ',maxim)\n",
    "print('Minimum number: ',minim)\n",
    "print('Average: ',avg)"
   ]
  },
  {
   "cell_type": "code",
   "execution_count": 6,
   "metadata": {},
   "outputs": [
    {
     "name": "stdout",
     "output_type": "stream",
     "text": [
      "enter numbers:10\n",
      "enter numbers:4\n",
      "enter numbers:-1\n",
      "enter numbers:-100\n",
      "enter numbers:1\n",
      "Minimum number: -100\n",
      "Maximum number: 10\n",
      "Average: -17.2\n"
     ]
    }
   ],
   "source": [
    "number_list=[]\n",
    "summ=0\n",
    "count=0\n",
    "for i in range(5):\n",
    "    number=int(input('enter numbers:'))\n",
    "    count+=1\n",
    "    number_list.append(number)\n",
    "    summ+=number\n",
    "    average=summ/count\n",
    "for num1 in range(0,len(number_list)):\n",
    "    minimum=number_list[num1]\n",
    "    minimum_index=num1\n",
    "    for num2 in range(num1+1,len(number_list)):\n",
    "        if(number_list[num2]<minimum):\n",
    "            minimum=number_list[num2]\n",
    "            minimum_index=num2\n",
    "    temp=number_list[minimum_index]\n",
    "    number_list[minimum_index]=number_list[num1]\n",
    "    number_list[num1]=temp\n",
    "print('Minimum number:',number_list[0])\n",
    "print('Maximum number:',number_list[-1])\n",
    "print('Average:',average)"
   ]
  },
  {
   "cell_type": "markdown",
   "metadata": {
    "id": "QLXvNSiOxhlI"
   },
   "source": [
    "## Task 18\n",
    "\n",
    "Write a python program that prints a square of size N using + where N will be given as input.\n",
    "\n",
    "=======================================\n",
    "\n",
    "**Sample Input**\n",
    "5\n",
    "\n",
    "**Sample Output**<br>\n",
    "+++++<br>\n",
    "+++++<br>\n",
    "+++++<br>\n",
    "+++++<br>\n",
    "+++++<br>\n",
    "\n",
    "\n",
    "=======================================\n",
    "\n",
    "**Sample Input**\n",
    "3\n",
    "\n",
    "**Sample Output**<br>\n",
    "+++<br>\n",
    "+++<br>\n",
    "+++<br>"
   ]
  },
  {
   "cell_type": "code",
   "execution_count": 1,
   "metadata": {
    "id": "nuU0BJmQwsSa"
   },
   "outputs": [
    {
     "name": "stdout",
     "output_type": "stream",
     "text": [
      "enter a number: 5\n",
      "+++++\n",
      "+++++\n",
      "+++++\n",
      "+++++\n",
      "+++++\n"
     ]
    }
   ],
   "source": [
    "#Todo\n",
    "#taking a number from user \n",
    "N=int(input('enter a number: '))\n",
    "for row in range(1,N+1): #range from 1 to N \n",
    "    for column in range(1,N+1): #range from 1 to N\n",
    "        print('+',end='') #print + for column in a horizontal line \n",
    "    print(  ) #print + for row in vertical line "
   ]
  },
  {
   "cell_type": "code",
   "execution_count": 101,
   "metadata": {},
   "outputs": [
    {
     "name": "stdout",
     "output_type": "stream",
     "text": [
      "Enter a number: 5\n",
      "+++++\n",
      "+++++\n",
      "+++++\n",
      "+++++\n",
      "+++++\n"
     ]
    }
   ],
   "source": [
    "N = int(input('Enter a number: '))\n",
    "for i in range(1,N+1) : \n",
    "    for j in range(1,N+1):\n",
    "        print('+',end='')\n",
    "    print( )"
   ]
  },
  {
   "cell_type": "markdown",
   "metadata": {
    "id": "9tK1-MjFwqM-"
   },
   "source": [
    "### Task 19\n",
    "\n",
    "Write a python program that prints a rectangle of size M (height/line numbers) and N(length/column numbers) using incrementing numbers where M,N will be given as input.\n",
    "\n",
    "===================================\n",
    "\n",
    "**Sample Input**\n",
    "4,6\n",
    "\n",
    "**Sample Output**<br>\n",
    "123456<br>\n",
    "123456<br>\n",
    "123456<br>\n",
    "123456<br>\n",
    "\n",
    "\n",
    "===================================\n",
    "\n",
    "\n",
    "**Sample Input**\n",
    "3,2\n",
    "\n",
    "**Sample Output**<br>\n",
    "12<br>\n",
    "12<br>\n",
    "12<br>\n"
   ]
  },
  {
   "cell_type": "code",
   "execution_count": 105,
   "metadata": {
    "id": "KcyhD8gNxYdi"
   },
   "outputs": [
    {
     "name": "stdout",
     "output_type": "stream",
     "text": [
      "enter a number: 2\n",
      "enter a number: 4\n",
      "1234\n",
      "1234\n"
     ]
    }
   ],
   "source": [
    "#Todo\n",
    "#taking M and N from user \n",
    "M=int(input('enter a number: '))\n",
    "N=int(input('enter a number: '))\n",
    "for row in range(1,M+1): #range from 1 to M  #outside loop \n",
    "    for column in range(1,N+1): #range from 1 to N #inside loop \n",
    "        print(column,end='') \n",
    "    print()\n",
    "    \n",
    "\n"
   ]
  },
  {
   "cell_type": "code",
   "execution_count": 104,
   "metadata": {},
   "outputs": [
    {
     "name": "stdout",
     "output_type": "stream",
     "text": [
      "enter a number for N: 2\n",
      "enter a number for M: 4\n",
      "1234\n",
      "1234\n"
     ]
    }
   ],
   "source": [
    "N = int(input('enter a number for N: '))\n",
    "M = int(input('enter a number for M: '))\n",
    "for i in range(1,N+1):\n",
    "    for j in range(1,M+1):\n",
    "        print(j,end='')\n",
    "    print( )"
   ]
  },
  {
   "cell_type": "markdown",
   "metadata": {
    "id": "ReUpRcLuw0_b"
   },
   "source": [
    "### Task 20\n",
    "\n",
    "Write a python program that prints a right angled triangle of height N using incrementing numbers where N will be given as input.\n",
    "\n",
    "====================================\n",
    "\n",
    "**Sample Input**\n",
    "4\n",
    "\n",
    "**Sample Output**<br>\n",
    "1<br>\n",
    "12<br>\n",
    "123<br>\n",
    "1234<br>\n",
    "\n",
    "====================================\n",
    "\n",
    "**Sample Input**\n",
    "5\n",
    "\n",
    "**Sample Output**<br>\n",
    "1<br>\n",
    "12<br>\n",
    "123<br>\n",
    "1234<br>\n",
    "12345<br>"
   ]
  },
  {
   "cell_type": "code",
   "execution_count": 9,
   "metadata": {
    "id": "UtqBxocnxai9"
   },
   "outputs": [
    {
     "name": "stdout",
     "output_type": "stream",
     "text": [
      "enter a number: 10\n",
      "1\n",
      "12\n",
      "123\n",
      "1234\n",
      "12345\n",
      "123456\n",
      "1234567\n",
      "12345678\n",
      "123456789\n",
      "12345678910\n"
     ]
    }
   ],
   "source": [
    "#Todo\n",
    "#taking a number from user \n",
    "number=int(input('enter a number: '))\n",
    "for row in range(1,number+1): #range from 1 to number #outside loop\n",
    "    for column in range(1,row+1): #range from 1 to row #inside loop \n",
    "        print(column,end='') \n",
    "    print('')\n"
   ]
  },
  {
   "cell_type": "code",
   "execution_count": 106,
   "metadata": {},
   "outputs": [
    {
     "name": "stdout",
     "output_type": "stream",
     "text": [
      "enter a number: 3\n",
      "1\n",
      "12\n",
      "123\n"
     ]
    }
   ],
   "source": [
    "N = int(input('enter a number: '))\n",
    "for i in range(1,N+1):\n",
    "    for j in range(1,i+1):\n",
    "        print(j,end='')\n",
    "    print( )"
   ]
  },
  {
   "cell_type": "markdown",
   "metadata": {
    "id": "AWbbbs5mSK6O"
   },
   "source": [
    "## Optional Tasks (21 -26) [Ungraded]"
   ]
  },
  {
   "cell_type": "markdown",
   "metadata": {
    "id": "a0SjEWlsw6Vt"
   },
   "source": [
    "### Task 21\n",
    "\n",
    "Write a python program that prints all the fibonacci number from 0 to N where N will be given. \n",
    "\n",
    "**A Fibonacci number is a number which is the summation of its previous two fibonacci number.**\n",
    "\n",
    "First two fibonacci number are 0 and 1. So the 3rd Fib will be 0+1=1, 4th Fib will be 1+1=2, 5th Fib will be 1+2=3 and so on.\n",
    "\n",
    "==============================\n",
    "\n",
    "**Sample Input**<br>\n",
    "10\n",
    "\n",
    "**Sample Output**<br>\n",
    "0 1 1 2 3 5 8\n",
    "\n",
    "==============================\n",
    "\n",
    "\n",
    "**Sample Input**<br>\n",
    "15\n",
    "\n",
    "**Sample Output**<br>\n",
    "0 1 1 2 3 5 8 13"
   ]
  },
  {
   "cell_type": "code",
   "execution_count": 2,
   "metadata": {
    "id": "vQhQFFBWx-h0"
   },
   "outputs": [
    {
     "name": "stdout",
     "output_type": "stream",
     "text": [
      "enter a number: 10\n",
      "0 1 1 2 3 5 8 "
     ]
    }
   ],
   "source": [
    "#Todo\n",
    "#taking a number from user  \n",
    "number=int(input('enter a number: '))\n",
    "#storing 1 and 0 in variables \n",
    "number1=0\n",
    "number2=1\n",
    "if(number==0): #if input is 0, print 0 only \n",
    "    print(number1)\n",
    "else:  #if input is 1 => print 0 1 and if input is 3 => 0 1 1 and so on \n",
    "    print(number1,number2,end=' ')\n",
    "#loop structure \n",
    "while(number2<=number): #input is greater than or equal to 1  \n",
    "    sum=number1+number2\n",
    "    if(sum<=number): #input is less than sum, so print sum \n",
    "        print(sum,end=' ')\n",
    "    #updating variables \n",
    "    number1=number2 #sum=number2+number2 =>sum=1+1=2 (4th value in sequence)\n",
    "    number2=sum #sum=sum+number2 => sum=2+1=3 (5th value in sequence)\n",
    "    "
   ]
  },
  {
   "cell_type": "markdown",
   "metadata": {
    "id": "bByH1fWsw7av"
   },
   "source": [
    "## Task 22\n",
    "\n",
    "Write a python program that converts a Decimal Integer number to a Binary Number. \n",
    "\n",
    "**A decimal can be converted to a binary number by keeping track of the remainders after each division of that number by 2. **\n",
    "\n",
    "================================\n",
    "\n",
    "For example, to convert 10 to a binary number, we can follow the following approach\n",
    "\n",
    "10/2 = 5 (Remainder 0) \n",
    "<br>5/2 = 2 (Remainder 1) \n",
    "<br>2/2 = 1 (Remainder 0) \n",
    "<br>1/2 = 0 (Remainder 1) \n",
    "\n",
    "Take the remainders from bottom to top, which is, 1010. Binary of 10 is 1010.\n",
    "\n",
    "**Sample Input** <br>\n",
    "10\n",
    "\n",
    "**Sample Output**<br>\n",
    "1010\n",
    "\n",
    "================================\n",
    "\n",
    "For example, to convert 13 to a binary number, we can follow the following approach\n",
    "\n",
    "13/2 = 6 (Remainder 1) \n",
    "<br>6/2 = 3 (Remainder 0) \n",
    "<br>3/2 = 1 (Remainder 1) \n",
    "<br>1/2 = 0 (Remainder 1) \n",
    "\n",
    "Take the remainders from bottom to top, which is, 1101. Binary of 13 is 1101.\n",
    "\n",
    "**Sample Input** <br>\n",
    "13\n",
    "\n",
    "**Sample Output**<br>\n",
    "1101"
   ]
  },
  {
   "cell_type": "code",
   "execution_count": null,
   "metadata": {
    "id": "AEXGx3skyBha"
   },
   "outputs": [],
   "source": [
    "#Todo\n",
    "number=int(input('enter a number: '))\n",
    "remainder=''\n",
    "while(number!=0):\n",
    "    remainder+=str(number%2)\n",
    "#     print(remainder)\n",
    "    number=number//2\n",
    "#     print(number)\n",
    "print(remainder)\n",
    "    "
   ]
  },
  {
   "cell_type": "markdown",
   "metadata": {
    "id": "g_aR1Ozgw_rr"
   },
   "source": [
    "### Task 23\n",
    "\n",
    "Write a python program that converts a Binary number to a Decimal Integer Number. \n",
    "\n",
    "**A binary number can be converted to its corresponding decimal number by multiplying each binary digit with a power of 2 where the power denotes the position of the binary digit**\n",
    "\n",
    "========================================\n",
    "\n",
    "For example, to convert 1010, we can do this -\n",
    "\n",
    "\n",
    "$2^{3}$ x 1 + $2^{2}$ x 0 + $2^{1}$ x 1 + $2^{0}$ x 0 = 10\n",
    "\n",
    "\n",
    "**Sample Input** <br>\n",
    "1010\n",
    "\n",
    "**Sample Output** <br>\n",
    "10\n",
    "\n",
    "========================================\n",
    "\n",
    "For example, to convert 1101, we can do this -\n",
    "\n",
    "\n",
    "$2^{3}$ x 1 + $2^{2}$ x 1 + $2^{1}$ x 0 + $2^{0}$ x 1 = 13\n",
    "\n",
    "\n",
    "**Sample Input** <br>\n",
    "1101\n",
    "\n",
    "**Sample Output** <br>\n",
    "13"
   ]
  },
  {
   "cell_type": "code",
   "execution_count": 13,
   "metadata": {},
   "outputs": [
    {
     "name": "stdout",
     "output_type": "stream",
     "text": [
      "enter number: 1101\n",
      "1\n",
      "1\n",
      "5\n",
      "13\n"
     ]
    }
   ],
   "source": [
    "#Todo\n",
    "number=int(input('enter number: '))\n",
    "counter=0\n",
    "n=number\n",
    "while(n>0):\n",
    "    n=n//10\n",
    "    counter=counter+1\n",
    "#     print(n)\n",
    "result=0\n",
    "for i in range(counter):\n",
    "#     print(i)\n",
    "    a=number%10\n",
    "#     print(a)\n",
    "    number=number//10\n",
    "#     print(number)\n",
    "    result=result+(a*2**i)\n",
    "    print(result)\n",
    "# print(result)\n",
    "\n",
    "\n",
    "    \n",
    "    \n",
    "\n"
   ]
  },
  {
   "cell_type": "code",
   "execution_count": 1,
   "metadata": {},
   "outputs": [
    {
     "name": "stdout",
     "output_type": "stream",
     "text": [
      "enter a number: 1101\n",
      "13\n"
     ]
    }
   ],
   "source": [
    "number=input('enter a number: ')\n",
    "newList=[]\n",
    "lenght=len(number)\n",
    "add=0\n",
    "for i in range(len(number)):\n",
    "    add=add+(2**(lenght-1))*int(number[i])\n",
    "    lenght=lenght-1\n",
    "print(add)"
   ]
  },
  {
   "cell_type": "markdown",
   "metadata": {
    "id": "GymIX5_vSK6Q"
   },
   "source": [
    "### Task 24\n",
    "\n",
    "Take five numbers from the user and find the minimum and the average of **only the even** numbers entered by the user. [If the user enters odd numbers ignore them] \n",
    "\n",
    "**<font color='red'>[CANNOT USE MAX,MIN BUILT-IN FUNCTIONS] [FOR THIS TASK YOU DO NOT NEED TO USE LISTS]</font>** \n",
    "\n",
    "Assume, the first input is always an even number.\n",
    "\n",
    "============================================================\n",
    "\n",
    "**Example01:** If the user enters 10, 4, -1, -100, and 1. \\\n",
    "Output: “Minimum -100”, “Average is 28.66667”\n",
    "\n",
    "**Input:**\\\n",
    "10\n",
    "\n",
    "4\n",
    "\n",
    "-1\n",
    "\n",
    "-100\n",
    "\n",
    "1\n",
    "\n",
    "**Output:**\\\n",
    "Minimum -100\\\n",
    "Average is 28.66667\n",
    "\n",
    "**Explanation:**\\\n",
    "Average calculation: (10+4 + (-100))/3 = -86/3=-28.66667\n",
    "\n",
    "============================================================\n",
    "\n",
    "**Example02:** If the user enters 2, 10, 1, 21, and 3. \\\n",
    "Output: Minimum 2”, “Average is 6.0”\n",
    "\n",
    "**Input:**\\\n",
    "2\n",
    "\n",
    "10\n",
    "\n",
    "1\n",
    "\n",
    "21\n",
    "\n",
    "3\n",
    "\n",
    "**Output:**\\\n",
    "Minimum 2\\\n",
    "Average is 6.0\n",
    "\n",
    "**Explanation:**\\\n",
    "Average calculation: (2+10)/2 = 12/2= 6\n",
    "\n",
    "\n",
    "\n"
   ]
  },
  {
   "cell_type": "code",
   "execution_count": 3,
   "metadata": {
    "id": "CnrBzeq1SK6R"
   },
   "outputs": [
    {
     "name": "stdout",
     "output_type": "stream",
     "text": [
      "enter a number: 2\n",
      "enter a number: 10\n",
      "enter a number: 1\n",
      "enter a number: 21\n",
      "enter a number: 3\n",
      "minimum: 2\n",
      "average: 6.0\n"
     ]
    }
   ],
   "source": [
    "#Todo  \n",
    "counter=0\n",
    "sum=0\n",
    "average=0\n",
    "minimum = 99999999999999\n",
    "for i in range(0,5):\n",
    "    number=int(input('enter a number: '))\n",
    "    if(number%2==0):\n",
    "        counter=counter+1\n",
    "        sum=sum+number\n",
    "        average=sum/counter\n",
    "        if(number<=minimum):\n",
    "            minimum=number\n",
    "print('minimum:',minimum)\n",
    "print('average:',average)       "
   ]
  },
  {
   "cell_type": "markdown",
   "metadata": {
    "id": "F2iSIEcHSK6U"
   },
   "source": [
    "###### Task 25\n",
    "\n",
    "Write a Python code for the following:\n",
    "* Ask the user to enter a number, N (Total number of inputs to be taken). Assume that the user will never enter the first number as zero.\n",
    "* Take N number of inputs\n",
    "* Prints out the product of all the numbers read\n",
    "\n",
    "For example, if the first input is 4, then the program has to read in four numbers from the user and print the product of these four numbers. \n",
    "\n",
    "=========================================================================\n",
    "\n",
    "**Example01:**\n",
    "\n",
    "**Input:**\\\n",
    "5 \n",
    "\n",
    "10 \n",
    "\n",
    "6 \n",
    "\n",
    "4 \n",
    "\n",
    "2 \n",
    "\n",
    "1 \n",
    "\n",
    "**Output:**\\\n",
    "480\n",
    "\n",
    "**Explanation:**\\\n",
    "5 is the total number of inputs taken. Then, the calculation should be 10 X 6 X 4 X 2 X 1 = 480 \n",
    "\n",
    "\n",
    "\n",
    "\n",
    "\n"
   ]
  },
  {
   "cell_type": "code",
   "execution_count": 20,
   "metadata": {
    "id": "NFDi7tjZSK6U"
   },
   "outputs": [
    {
     "name": "stdout",
     "output_type": "stream",
     "text": [
      "enter number of inputs: 5\n",
      "enter a number: 2\n",
      "2\n",
      "enter a number: 3\n",
      "6\n",
      "enter a number: 4\n",
      "24\n",
      "enter a number: 5\n",
      "120\n",
      "enter a number: 6\n",
      "720\n"
     ]
    }
   ],
   "source": [
    "#Todo \n",
    "number=int(input('enter number of inputs: '))\n",
    "multiply=1\n",
    "for i in range(1,number+1):\n",
    "    number1=int(input('enter a number: '))\n",
    "    if(number1!=0):\n",
    "        multiply=number1*multiply\n",
    "        print(multiply)\n",
    "        \n",
    "   "
   ]
  },
  {
   "cell_type": "markdown",
   "metadata": {
    "id": "1Ef3zxQsSK6Y"
   },
   "source": [
    "### Task 26\n",
    "Ask the user for a range (a starting number and an ending number). \n",
    "**Count** how many numbers are prime numbers and how many numbers are perfect numbers between that range and **print** those numbers. \n",
    "\n",
    "\n",
    "=========================================================================\n",
    "\n",
    "**Hint (1):** Declare two strings/lists to store the prime and perfect numbers. Inside the iteration store the values of the prime and perfect numbers in the pre- declared variables.\n",
    "\n",
    "**Hint (2):**\n",
    "\n",
    "\n",
    "ans = \"Prime numbers: \"\\\n",
    "prime_value = 11\n",
    "ans = ans + str(prime_value) + \" \"\\\n",
    "print(ans)\n",
    "\n",
    "ans = ans + str(13) + \" \"\\\n",
    "print(ans)\n",
    "\n",
    "*Output:*\n",
    "\n",
    "Prime numbers: 11 \\\n",
    "Prime numbers: 11 13 \n",
    "\n",
    "=========================================================================\n",
    "\n",
    "**Example:**between 2 and 6, there are 3 prime numbers (2, 3, 5) and 1 perfect number (6). \n",
    "\n",
    "**Input:**\\\n",
    "2\n",
    "\n",
    "6\n",
    "\n",
    "**Output:**\\\n",
    "Between 2 and 6,\\\n",
    "Found 3 prime numbers \\\n",
    "Found 1 perfect number\\\n",
    "Prime numbers: 2  3  5 \\\n",
    "Perfect numbers: 6 \n",
    "\n"
   ]
  },
  {
   "cell_type": "code",
   "execution_count": 32,
   "metadata": {
    "id": "_YU9xdPBSK6Y"
   },
   "outputs": [
    {
     "name": "stdout",
     "output_type": "stream",
     "text": [
      "enter a starting number: 2\n",
      "enter an ending number: 6\n",
      "between 2 and 6\n",
      "found 3 prime numbers\n",
      "found 1 perfect numbers\n",
      "Prime numbers: 2 3 5 \n",
      "Perfect numbers: 6 \n"
     ]
    }
   ],
   "source": [
    "#Todo\n",
    "number1=int(input('enter a starting number: '))\n",
    "number2=int(input('enter an ending number: '))\n",
    "print('between',number1,'and',number2)\n",
    "primeNumber=''\n",
    "perfectNumber=''\n",
    "counter=0\n",
    "counter1=0\n",
    "count=0\n",
    "sum=1\n",
    "for i in range(number1,number2+1): #range(2,6) #2,3,4,5,6 \n",
    "#     print(i,end=' , ')\n",
    "    for j in range(2,i): #2=>range(2,1)/3=>range(2,2)/4=>(2,3)\n",
    "#         print(j,end=' , ')\n",
    "        if(i%j==0): #i=2,no entry/i=3,no entry/i=4=>4%2=2,no entry \n",
    "            sum=sum+j #i=4=>is divisible by 2 only,so,sum=2\n",
    "            count=count+1 \n",
    "    if(sum==i): #i=2=>no entry/i=3,no entry/i=4,no entry[sum=2,i=4]/\n",
    "        perfectNumber+= str(i) + ' '\n",
    "        counter1=counter1+1\n",
    "    if(count==0): #i=2,count remains 0,so,is a prime number/i=3,count remains 0,so,is a prime number/\n",
    "        primeNumber+= str(i) + ' '\n",
    "        counter=counter+1\n",
    "    sum=1\n",
    "    count=0\n",
    "\n",
    "print('found',counter,'prime numbers')\n",
    "print('found',counter1,'perfect numbers')\n",
    "print('Prime numbers:',primeNumber)\n",
    "print('Perfect numbers:',perfectNumber)\n",
    "\n",
    "    \n",
    "\n"
   ]
  },
  {
   "cell_type": "code",
   "execution_count": null,
   "metadata": {},
   "outputs": [],
   "source": []
  }
 ],
 "metadata": {
  "colab": {
   "collapsed_sections": [],
   "name": "CSE110 Lab Assignment 2.ipynb",
   "provenance": []
  },
  "kernelspec": {
   "display_name": "Python 3",
   "language": "python",
   "name": "python3"
  },
  "language_info": {
   "codemirror_mode": {
    "name": "ipython",
    "version": 3
   },
   "file_extension": ".py",
   "mimetype": "text/x-python",
   "name": "python",
   "nbconvert_exporter": "python",
   "pygments_lexer": "ipython3",
   "version": "3.8.8"
  }
 },
 "nbformat": 4,
 "nbformat_minor": 1
}
