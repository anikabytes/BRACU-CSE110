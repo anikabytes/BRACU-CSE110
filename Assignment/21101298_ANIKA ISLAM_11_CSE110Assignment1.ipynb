{
 "cells": [
  {
   "cell_type": "markdown",
   "metadata": {
    "id": "uyPy6C3yGxw7"
   },
   "source": [
    "# CSE110 Lab Assignment 1\n",
    "\n",
    "This assignment is to guide you to solve basic programming problems in Python. Since this is the first assignment, the first problem is solved for you with explanations. Some problems are partially solved to help you. Go through them and try to understand each statment. If you can understand the problems and the solutions done for you, you can solve the rest of the tasks by yourself. \n",
    "\n",
    "**<font color='red'>[MUST MAINTAIN VARIABLE NAMING CONVENTIONS FOR ALL THE TASKS]</font>**\n",
    "\n",
    "## Write the Python code of the following problems:\n"
   ]
  },
  {
   "cell_type": "markdown",
   "metadata": {
    "id": "YuyYBntuGxxB"
   },
   "source": [
    "### Task 1\n",
    "\n",
    "Write Python code of a program that reads two numbers from the user, and prints their sum, product, and difference.\n",
    "\n",
    "==========================================================\n",
    "\n",
    "*hint: Subtract the second number from the first one*\n",
    "\n",
    "==========================================================\n",
    "\n",
    "**Example01:**\n",
    "\n",
    "Input:\\\n",
    " 4\\\n",
    " 5\n",
    "\n",
    "Output:\\\n",
    "Sum = 9\\\n",
    "Product = 20\\\n",
    "Difference = -1\n",
    "\n",
    "==========================================================\n",
    "\n",
    "**Example02:**\n",
    "\n",
    "Input:\\\n",
    " 30\\\n",
    " 2\n",
    "\n",
    "Output:\\\n",
    "Sum = 32\\\n",
    "Product = 60\\\n",
    "Difference = 28\n",
    "\n",
    "==========================================================\n",
    "\n",
    "For your explanation, the first question's code is done below. Try relating the block of code with the lesson you have learned and understand the significance of each line. You're most welcome to play around with the code. This will strengthen your understanding.\n"
   ]
  },
  {
   "cell_type": "code",
   "execution_count": 7,
   "metadata": {
    "colab": {
     "base_uri": "https://localhost:8080/",
     "height": 144
    },
    "id": "Nm8cn6LGGxxB",
    "outputId": "30d3467d-eccb-4455-e945-37ded0a1a1de"
   },
   "outputs": [
    {
     "name": "stdout",
     "output_type": "stream",
     "text": [
      "Please Enter Your First Number30\n",
      "Please Enter Your Second Number2\n",
      "<class 'str'>\n",
      "<class 'str'>\n",
      "Sum = 32\n",
      "Product = 60\n",
      "Difference = 28\n"
     ]
    }
   ],
   "source": [
    "### Take input of 2 numbers from the user\n",
    "var_1 = input('Please Enter Your First Number')\n",
    "var_2 = input('Please Enter Your Second Number')\n",
    "\n",
    "#Since input() function converts everything to String,\n",
    "#for performing any kind of mathematical operation you need to convert them to int.\n",
    "#For this conversion, we need to use int() function\n",
    "\n",
    "\n",
    "# First, let's clarify whether the inputs are actually Strings or not. \n",
    "print(type(var_1))\n",
    "print(type(var_2))\n",
    "\n",
    "\n",
    "# Convert Strings to integer using the int() function\n",
    "var_3 = int(var_1)\n",
    "var_4 = int(var_2)\n",
    "\n",
    "#===============================================================\n",
    "#input taking and conversion can be done in a single sentense\n",
    "#var_1 = int(input('Please Enter Your First Number'))\n",
    "#var_2 = int(input('Please Enter Your Second Number'))\n",
    "\n",
    "#===============================================================\n",
    "\n",
    "# Perform Addition\n",
    "sum = var_3 + var_4\n",
    "\n",
    "# Perform Multiplication \n",
    "product = var_3 * var_4\n",
    "\n",
    "# Perform Substraction \n",
    "difference = var_3 - var_4\n",
    "\n",
    "# Print all the calculated results\n",
    "print(\"Sum =\", sum)\n",
    "print(\"Product =\", product)\n",
    "print(\"Difference =\", difference)\n"
   ]
  },
  {
   "cell_type": "code",
   "execution_count": 5,
   "metadata": {},
   "outputs": [
    {
     "name": "stdout",
     "output_type": "stream",
     "text": [
      "enter 1st number: 4\n",
      "enter 2nd number: 5\n",
      "Output\n",
      "Sum =  9\n",
      "Product =  20\n",
      "Difference =  -1\n"
     ]
    }
   ],
   "source": [
    "input_1=int(input('enter 1st number: '))\n",
    "input_2=int(input('enter 2nd number: '))\n",
    "summ=input_1+input_2\n",
    "prod=input_1*input_2\n",
    "diff=input_1-input_2\n",
    "print('Output')\n",
    "print('Sum = ',summ)\n",
    "print('Product = ',prod)\n",
    "print('Difference = ',diff)"
   ]
  },
  {
   "cell_type": "markdown",
   "metadata": {
    "id": "RsWYzW1HGxxM"
   },
   "source": [
    "### Task 2\n",
    "\n",
    "Write Python code of a program that reads the radius of a circle and prints its circumference and area.\n",
    "\n",
    "==========================================================\n",
    "\n",
    "*hint(1): import math and then use **math.pi** for getting the value of pi.\\\n",
    "For details read from https://docs.python.org/3/library/math.html*\n",
    "\n",
    "*hints(2): You can import math and use math function for making squares math.pow(number, power)   Or you can simply write using power opeartor. For example:  S**2.*\n",
    "\n",
    "==========================================================\n",
    "\n",
    "**Example01:**\n",
    "\n",
    "Input: 4\n",
    "\n",
    "Output:\\\n",
    "Area is 50.26548245743669\\\n",
    "Circumference is 25.132741228718345\n",
    "\n",
    "==========================================================\n",
    "\n",
    "**Example02:**\n",
    "\n",
    "Input: 3.5\n",
    "\n",
    "Output:\\\n",
    "Area is 38.48451000647496\\\n",
    "Circumference is 21.991148575128552\n",
    "\n",
    "==========================================================\n",
    "\n",
    "For your explanation, the the first part of the question(area calculation) is done below."
   ]
  },
  {
   "cell_type": "code",
   "execution_count": 6,
   "metadata": {
    "id": "CsvW0BrsGxxM",
    "outputId": "7a4d33f7-4806-42fa-81b1-e7de132c7f47"
   },
   "outputs": [
    {
     "name": "stdout",
     "output_type": "stream",
     "text": [
      "please enter the radius value:3\n",
      "Area result is: 28.274333882308138\n",
      "Area result is: 28.274333882308138\n",
      "Area result is: 28.274333882308138\n",
      "Circumference result is:  18.84955592153876\n"
     ]
    }
   ],
   "source": [
    "import math \n",
    "\n",
    "#taking input from the user, then converting it to float.\n",
    "#Since radius can be a floating point value\n",
    "\n",
    "radius  = float(input(\"please enter the radius value:\")) \n",
    "\n",
    "\n",
    "# squares can be made using this 3 ways, as written in hints. \n",
    "# all 3 ways, generates the same result of area\n",
    "\n",
    "area = math.pi * radius **2 \n",
    "print(\"Area result is:\", area)\n",
    "\n",
    "area = math.pi * math.pow(radius, 2)\n",
    "print(\"Area result is:\", area)\n",
    "\n",
    "area = math.pi * radius * radius\n",
    "print(\"Area result is:\", area)\n",
    "\n",
    "#Todo\n",
    "circumference = 2 * math.pi* radius \n",
    "print(\"Circumference result is: \",circumference)\n",
    "# calculate circumference"
   ]
  },
  {
   "cell_type": "code",
   "execution_count": 8,
   "metadata": {},
   "outputs": [
    {
     "name": "stdout",
     "output_type": "stream",
     "text": [
      "Enter the radius of a circle: 3\n",
      "Area is  28.274333882308138\n",
      "Circumference is  18.84955592153876\n"
     ]
    }
   ],
   "source": [
    "radius=int(input('Enter the radius of a circle: '))\n",
    "circumference = 2 * math.pi * radius \n",
    "area = math.pi * radius**2 \n",
    "print('Area is ',area)\n",
    "print('Circumference is ',circumference)"
   ]
  },
  {
   "cell_type": "markdown",
   "metadata": {
    "id": "_ix8TYCXGxxU"
   },
   "source": [
    "### Task 3\n",
    "\n",
    "Write Python code of a program that reads two numbers from the user. Your program should then print \"First is greater\" if the first number is greater, \"Second is greater\" if the second number is greater, and \"The numbers are equal\" otherwise.\n",
    "\n",
    "==========================================================\n",
    "\n",
    "**Example:**\n",
    "\n",
    "Input:\\\n",
    "-4\\\n",
    "-4\n",
    "\n",
    "Output:\\\n",
    "The numbers are equal\n",
    "\n",
    "==========================================================\n",
    "\n",
    "**Example:**\n",
    "\n",
    "Input:\\\n",
    "-40\\\n",
    "-4\n",
    "\n",
    "Output:\\\n",
    "Second is greater\n",
    "\n"
   ]
  },
  {
   "cell_type": "code",
   "execution_count": 2,
   "metadata": {
    "id": "0cXCOjm0GxxU"
   },
   "outputs": [
    {
     "name": "stdout",
     "output_type": "stream",
     "text": [
      "enter your first number: -4\n",
      "enter your second number: 0\n",
      "<class 'str'>\n",
      "<class 'str'>\n",
      "second number is greater\n"
     ]
    }
   ],
   "source": [
    "#Todo\n",
    "# taking two numbers from the user\n",
    "var_1 = input('enter your first number: ')\n",
    "var_2 = input('enter your second number: ')\n",
    "# input() converts everthing to string\n",
    "# we need to convert from string to integer  to get a value\n",
    "# we need to use int()\n",
    "\n",
    "# firstly, we need to know the data type of the variables\n",
    "print(type(var_1))\n",
    "print(type(var_2))\n",
    "\n",
    "# then, we need to convert the variables into integer \n",
    "int(var_1)\n",
    "int(var_2)\n",
    "\n",
    "# now, we need first number is greater than second number\n",
    "if (var_1 > var_2):\n",
    "    print(\"first number is greater\")\n",
    "\n",
    "# we need to see second number is greater than first number\n",
    "if (var_2 > var_1):\n",
    "    print(\"second number is greater\")\n",
    "\n",
    "# we need to see both numbers are equal\n",
    "if (var_1==var_2):\n",
    "    print(\"the numbers are equal\")\n",
    "#show which number is greater or both are equal "
   ]
  },
  {
   "cell_type": "code",
   "execution_count": 12,
   "metadata": {},
   "outputs": [
    {
     "name": "stdout",
     "output_type": "stream",
     "text": [
      "Enter 1st number: -4\n",
      "Enter 2nd number: 0\n",
      "Second is greater\n"
     ]
    }
   ],
   "source": [
    "input_1=int(input('Enter 1st number: '))\n",
    "input_2=int(input('Enter 2nd number: '))\n",
    "if input_1 > input_2 :\n",
    "    print('First is greater')\n",
    "elif input_2 > input_1 : \n",
    "    print('Second is greater')\n",
    "else:\n",
    "    print('The numbers are equal')"
   ]
  },
  {
   "cell_type": "markdown",
   "metadata": {
    "id": "B-lEymPxGxxZ"
   },
   "source": [
    "### Task 4\n",
    "\n",
    "Write Python code of a program that reads two numbers, subtracts the smaller number from the larger one, and prints the result.\n",
    "\n",
    "*hint(1): First check which number is greater*\n",
    "\n",
    "==========================================================\n",
    "\n",
    "**Example:**\n",
    "\n",
    "Input:\\\n",
    "-40\\\n",
    "-4\n",
    "\n",
    "Output:\\\n",
    "36\n",
    "\n",
    "==========================================================\n",
    "\n",
    "**Example:**\n",
    "\n",
    "Input:\\\n",
    "6\\\n",
    "2\n",
    "\n",
    "Output:\\\n",
    "4\n"
   ]
  },
  {
   "cell_type": "code",
   "execution_count": 6,
   "metadata": {
    "id": "XBdXtfEtGxxa"
   },
   "outputs": [
    {
     "name": "stdout",
     "output_type": "stream",
     "text": [
      "enter your first number: 43\n",
      "enter your second number: 40\n",
      "sub= 3\n"
     ]
    }
   ],
   "source": [
    "#Todo\n",
    "#taking two numbers from the user\n",
    "#input() converts everything to string  \n",
    "# need to convert from  string to integer\n",
    "#we use int()\n",
    "var_1 = int(input('enter your first number: '))\n",
    "var_2 = int(input('enter your second number: '))\n",
    "#the var_1 and var_2 are stored in another variable for subtraction\n",
    "sub = var_1 - var_2\n",
    "#when var_1 is greater than var_2, output will be shown\n",
    "#no output is shown if var_2 is greater than var_1\n",
    "if(var_1>var_2):\n",
    "    print('sub=',sub)\n",
    "else:\n",
    "    print('no output')\n",
    "#subtraction of a smaller number from a greater number "
   ]
  },
  {
   "cell_type": "code",
   "execution_count": 16,
   "metadata": {},
   "outputs": [
    {
     "name": "stdout",
     "output_type": "stream",
     "text": [
      "Enter 1st number: -40\n",
      "Enter 2nd number: -4\n",
      "36\n"
     ]
    }
   ],
   "source": [
    "input_1 = abs(int(input('Enter 1st number: ')))\n",
    "input_2 = abs(int(input('Enter 2nd number: ')))\n",
    "if input_1 > input_2:\n",
    "    print(input_1-input_2)"
   ]
  },
  {
   "cell_type": "markdown",
   "metadata": {
    "id": "jQEW8unEGxxf"
   },
   "source": [
    "### Task 5\n",
    "\n",
    "Write Python code of a program that reads a number, and prints \"The number is even\" or \"The number is odd\", depending on whether the number is even or odd. \n",
    "\n",
    "*hint(1): use the modulus (%) operator*\n",
    "\n",
    "*hint(2): You can consider the number to be an integer* \n",
    "\n",
    "==========================================================\n",
    "\n",
    "**Example:**\n",
    "\n",
    "Input:\\\n",
    "5\n",
    "\n",
    "Output:\\\n",
    "The number is odd\n",
    "\n",
    "\n",
    "==========================================================\n",
    "\n",
    "**Example:**\n",
    "\n",
    "Input:\\\n",
    "-44\n",
    "\n",
    "Output:\\\n",
    "The number is even\n"
   ]
  },
  {
   "cell_type": "code",
   "execution_count": 7,
   "metadata": {
    "id": "SsjHXfW_Gxxg"
   },
   "outputs": [
    {
     "name": "stdout",
     "output_type": "stream",
     "text": [
      "enter your number: 5\n",
      "The number is odd\n"
     ]
    }
   ],
   "source": [
    "#Todo\n",
    "#taking a number from the user\n",
    "#we need to use input()\n",
    "#value is converted to string in input()\n",
    "#we can convert string into integer using int()\n",
    "var_1 = int(input('enter your number: '))\n",
    "#var_1 is placed into another variable for modulus\n",
    "num=var_1%2\n",
    "#if remainder is 0 or an even value, number is even\n",
    "#if remainder is odd value, number is odd \n",
    "if(num==0):\n",
    "    print('The number is even')\n",
    "else:\n",
    "    print('The number is odd')\n",
    "#even or odd number "
   ]
  },
  {
   "cell_type": "code",
   "execution_count": 17,
   "metadata": {},
   "outputs": [
    {
     "name": "stdout",
     "output_type": "stream",
     "text": [
      "Enter a number: 3\n",
      "The number is odd\n"
     ]
    }
   ],
   "source": [
    "input_1=int(input('Enter a number: '))\n",
    "if input_1 % 2 == 0 :\n",
    "    print('The number is even')\n",
    "else:\n",
    "    print('The number is odd')"
   ]
  },
  {
   "cell_type": "markdown",
   "metadata": {
    "id": "bXNE8TTGGxxn"
   },
   "source": [
    "### Task 6\n",
    "\n",
    "Write Python code of a program that reads an integer, and prints the integer if it is a multiple of **either 2 or 5.**\n",
    "\n",
    "For example, 2, 4, 5, 6, 8, 10, 12, 14, 15, 16, 18, 20, 22 …\n",
    "\n",
    "==========================================================\n",
    "\n",
    "*hint(1): use the modulus (%) operator for checking the divisibility*\n",
    "\n",
    "*hint(2): You can consider the number to be an integer* \n",
    "\n",
    "\n",
    "==========================================================\n",
    "\n",
    "**Example01:**\n",
    "\n",
    "Input:\\\n",
    "5\n",
    "\n",
    "Output:\\\n",
    "5\n",
    "\n",
    "\n",
    "==========================================================\n",
    "\n",
    "**Example02:**\n",
    "\n",
    "Input:\\\n",
    "10\n",
    "\n",
    "Output:\\\n",
    "10\n",
    "\n",
    "==========================================================\n",
    "\n",
    "**Example03:**\n",
    "\n",
    "Input:\\\n",
    "3\n",
    "\n",
    "Output:\\\n",
    "Not a multiple\n"
   ]
  },
  {
   "cell_type": "code",
   "execution_count": 9,
   "metadata": {
    "id": "J2siE5HRGxxo"
   },
   "outputs": [
    {
     "name": "stdout",
     "output_type": "stream",
     "text": [
      "enter your number: 55\n",
      "output:  55\n"
     ]
    }
   ],
   "source": [
    "#Todo\n",
    "#taking a number from the user\n",
    "#we need to use input()\n",
    "#value is converted to string in input()\n",
    "#we can convert string into integer using int()\n",
    "output=int(input('enter your number: '))\n",
    "#if the input is divisible by 2 or 5 to give a remainder of 0, an output is obtained \n",
    "#not a multiple, if the input is not divisible by 2 or 5 \n",
    "if((output%2==0) or (output%5==0)):\n",
    "    print('output: ',output)\n",
    "else:\n",
    "    print('not a multiple of 2 or 5')\n",
    "#to see whether the input is a multiple of either of 2 or 5"
   ]
  },
  {
   "cell_type": "code",
   "execution_count": 22,
   "metadata": {},
   "outputs": [
    {
     "name": "stdout",
     "output_type": "stream",
     "text": [
      "Enter a number: 10\n",
      "10\n"
     ]
    }
   ],
   "source": [
    "input_1 = int(input('Enter a number: '))\n",
    "if input_1 % 2 == 0 or input_1 % 5 == 0 :\n",
    "    print(input_1)\n",
    "else:\n",
    "    print('Not a multiple')"
   ]
  },
  {
   "cell_type": "markdown",
   "metadata": {
    "id": "W0VUh6LyGxxr"
   },
   "source": [
    "### Task 7\n",
    "Write Python code of a program that reads an integer, and prints the integer  it is a multiple of **either 2 or 5 but not both.** \n",
    "\n",
    "For example, 2, 4, 5, 6, 8, 12, 14, 15, 16, 18, 22 …\n",
    "\n",
    "==========================================================\n",
    "\n",
    "*hint(1): use the modulus (%) operator for checking the divisibility*\n",
    "\n",
    "*hint(2): You can consider the number to be an integer* \n",
    "\n",
    "==========================================================\n",
    "\n",
    "**Example01:**\n",
    "\n",
    "Input:\\\n",
    "5\n",
    "\n",
    "Output:\\\n",
    "5\n",
    "\n",
    "==========================================================\n",
    "\n",
    "**Example02:**\n",
    "\n",
    "Input:\\\n",
    "10\n",
    "\n",
    "Output:\\\n",
    "multiple of 2 and 5 both\n",
    "\n",
    "==========================================================\n",
    "\n",
    "**Example02:**\n",
    "\n",
    "Input:\\\n",
    "44\n",
    "\n",
    "Output:\\\n",
    "44"
   ]
  },
  {
   "cell_type": "code",
   "execution_count": 13,
   "metadata": {
    "id": "O_kEf_WsGxxr"
   },
   "outputs": [
    {
     "name": "stdout",
     "output_type": "stream",
     "text": [
      "enter your number: 8\n",
      "output:  8\n"
     ]
    }
   ],
   "source": [
    "#taking a number from the user\n",
    "#we need to use input()\n",
    "#value is converted to string in input()\n",
    "#we can convert string into integer using int()\n",
    "output=int(input('enter your number: '))\n",
    "#if the input is divisible by both 2 and 5, the remainder equals to 0,the output obtained is multiple of both 2 and 5\n",
    "#if the input is divisible by 2,the remainder equals to 0,the output obtained is a multiple of 2 only#if the input is divisible by 2,the remainder equals to 0,the output obtained is a multiple of 2 only\n",
    "#if the input is divisible by 5,the remainder equals to 0,the output obtained is a multiple of 5 only\n",
    "if((output%2==0) and (output%5==0)):\n",
    "    print('multiple of both 2 and 5')\n",
    "elif((output%2==0)):\n",
    "    print('output: ',output)\n",
    "elif((output%5==0)):\n",
    "    print('output: ',output)\n",
    "else:\n",
    "    print('no output')\n",
    "#to see whether the input is an integer of either 2 or 5 but not both"
   ]
  },
  {
   "cell_type": "code",
   "execution_count": 35,
   "metadata": {},
   "outputs": [
    {
     "name": "stdout",
     "output_type": "stream",
     "text": [
      "Enter a number: 10\n",
      "Multiple of 2 and 5 both\n"
     ]
    }
   ],
   "source": [
    "input_1 = int(input('Enter a number: '))\n",
    "if input_1 % 2 == 0 and input_1 % 5 == 0 :\n",
    "    print('Multiple of 2 and 5 both')\n",
    "elif input_1 % 2 == 0 or input_1 % 5 == 0:\n",
    "    print(input_1)"
   ]
  },
  {
   "cell_type": "markdown",
   "metadata": {
    "id": "w6Yoi7DfGxxw"
   },
   "source": [
    "### Task 8\n",
    "Write Python code of a program that reads an integer, and prints the integer if it is a multiple of **2 and 5.**\n",
    "\n",
    "\n",
    "==========================================================\n",
    "\n",
    "For example, 10, 20, 30, 40, 50 …\n",
    "\n",
    "*hint(1): use the modulus (%) operator for checking the divisibility*\n",
    "\n",
    "*hint(2): You can consider the number to be an integer* \n",
    "\n",
    "\n",
    "==========================================================\n",
    "\n",
    "**Example01:**\n",
    "\n",
    "Input:\\\n",
    "5\n",
    "\n",
    "Output:\\\n",
    "Not multiple of 2 and 5 both\n",
    "\n",
    "\n",
    "==========================================================\n",
    "\n",
    "**Example02:**\n",
    "\n",
    "Input:\\\n",
    "40\n",
    "\n",
    "Output:\\\n",
    "40\n",
    "\n",
    "==========================================================\n",
    "\n",
    "**Example02:**\n",
    "\n",
    "Input:\\\n",
    "40\n",
    "\n",
    "Output:\\\n",
    "40"
   ]
  },
  {
   "cell_type": "code",
   "execution_count": 14,
   "metadata": {
    "id": "-Zjnff92Gxxx"
   },
   "outputs": [
    {
     "name": "stdout",
     "output_type": "stream",
     "text": [
      "enter your number: 13\n",
      "not a multiple of 2 and 5\n"
     ]
    }
   ],
   "source": [
    "#Todo\n",
    "#taking a number from the user\n",
    "#we need to use input()\n",
    "#value is converted to string in input()\n",
    "#we can convert string into integer using int()\n",
    "output=int(input('enter your number: '))\n",
    "#if the input is divisible by 2 and 5,the remainder is eqaul to 0, output obtained is a multiple both of 2 and 5\n",
    "#else output obtained not a multiple of 2 and 5 \n",
    "if((output%2==0) and (output%5==0)):\n",
    "    print('output=',output)\n",
    "else:\n",
    "    print('not a multiple of 2 and 5')\n",
    "#to see whether the input is an multiple of 2 and 5 or not "
   ]
  },
  {
   "cell_type": "code",
   "execution_count": 37,
   "metadata": {},
   "outputs": [
    {
     "name": "stdout",
     "output_type": "stream",
     "text": [
      "Enter a number: 40\n",
      "40\n"
     ]
    }
   ],
   "source": [
    "input_1 = int(input('Enter a number: '))\n",
    "if input_1 % 2 == 0 and input_1 % 5 == 0 :\n",
    "    print(input_1)\n",
    "else:\n",
    "    print('Not a multiple of 2 and 5 both')\n"
   ]
  },
  {
   "cell_type": "markdown",
   "metadata": {
    "id": "APBZn5NOGxx0"
   },
   "source": [
    "### Task 9\n",
    "\n",
    "\n",
    "Write Python code of a program that reads an integer, and prints the integer if it is a multiple of **NEITHER 2 NOR 5.** \n",
    "\n",
    "For example, 1, 3, 7, 9, 11, 13, 17, 19, 21, 23, 27, 29, 31, 33, 37, 39 …\n",
    "\n",
    "==========================================================\n",
    "\n",
    "*hint(1): use the modulus (%) operator for checking the divisibility*\n",
    "\n",
    "*hint(2): You can consider the number to be an integer* \n",
    "\n",
    "\n",
    "==========================================================\n",
    "\n",
    "**Example01:**\n",
    "\n",
    "Input:\\\n",
    "3\n",
    "\n",
    "Output:\\\n",
    "3\n",
    "\n",
    "\n",
    "==========================================================\n",
    "\n",
    "**Example02:**\n",
    "\n",
    "Input:\\\n",
    "19\n",
    "\n",
    "Output:\\\n",
    "19\n",
    "\n",
    "==========================================================\n",
    "\n",
    "**Example03:**\n",
    "\n",
    "Input:\\\n",
    "5\n",
    "\n",
    "Output:\\\n",
    "No\n",
    "\n",
    "==========================================================\n",
    "\n",
    "**Example04:**\n",
    "\n",
    "Input:\\\n",
    "12\n",
    "\n",
    "Output:\\\n",
    "No\n"
   ]
  },
  {
   "cell_type": "code",
   "execution_count": 16,
   "metadata": {
    "id": "3j7LKP26Gxx2"
   },
   "outputs": [
    {
     "name": "stdout",
     "output_type": "stream",
     "text": [
      "enter your number: 20\n",
      "no output \n"
     ]
    }
   ],
   "source": [
    "#taking a number from the user\n",
    "#we need to use input()\n",
    "#value is converted to string in input()\n",
    "#we can convert string into integer using int()\n",
    "output=int(input('enter your number: '))\n",
    "#if the input is divisible by 2 or 5,but,the remainder is  equal to 0, output obtained is no \n",
    "#else output shows neither a multiple of 2 or 5 \n",
    "if((output%2==0) or (output%5==0)):\n",
    "    print('no output ')\n",
    "else:\n",
    "    print('output:',output)\n",
    "#Todo\n",
    "#to see whether the input is an integer neither a multiple of 2 nor 5 "
   ]
  },
  {
   "cell_type": "code",
   "execution_count": 40,
   "metadata": {},
   "outputs": [
    {
     "name": "stdout",
     "output_type": "stream",
     "text": [
      "Enter a number: 19\n",
      "19\n"
     ]
    }
   ],
   "source": [
    "input_1 = int(input('Enter a number: '))\n",
    "if input_1 % 2 == 0 or input_1 % 5 == 0 :\n",
    "    print('No')\n",
    "else:\n",
    "    print(input_1)"
   ]
  },
  {
   "cell_type": "markdown",
   "metadata": {
    "id": "rhv6Zkj7Gxx5"
   },
   "source": [
    "### Task 10\n",
    "\n",
    "Write Python code of a program that reads an integer, and prints the integer if it is **NOT a multiple of 2** OR **NOT a multiple of 5.**\n",
    "\n",
    "For example, 1, 2, 3, 4, 5, 6, 7, 8, 9, 11, 12, 13, 14, 15, 16, 17, 18, 19, 21, 22\n",
    "\n",
    "==========================================================\n",
    "\n",
    "*hint(1): use the modulus (%) operator for checking the divisibility*\n",
    "\n",
    "*hint(2): You can consider the number to be an integer* \n",
    "\n",
    "\n",
    "==========================================================\n",
    "\n",
    "**Example01:**\n",
    "\n",
    "Input:\\\n",
    "3\n",
    "\n",
    "Output:\\\n",
    "3\n",
    "\n",
    "==========================================================\n",
    "\n",
    "**Example02:**\n",
    "\n",
    "Input:\\\n",
    "11\n",
    "\n",
    "Output:\\\n",
    "11\n",
    "\n",
    "==========================================================\n",
    "\n",
    "**Example03:**\n",
    "\n",
    "Input:\\\n",
    "20\n",
    "\n",
    "Output:\\\n",
    "No"
   ]
  },
  {
   "cell_type": "code",
   "execution_count": 21,
   "metadata": {
    "id": "mEjdHcbGGxx5"
   },
   "outputs": [
    {
     "name": "stdout",
     "output_type": "stream",
     "text": [
      "enter your number: 20\n",
      "no output \n"
     ]
    }
   ],
   "source": [
    "#Todo\n",
    "#taking a number from the user\n",
    "#we need to use input()\n",
    "#value is converted to string in input()\n",
    "#we can convert string into integer using int()\n",
    "output=int(input('enter your number: '))\n",
    "#if the input is not  divisible by 2 and 5, the output is not a multiple of 2 and 5\n",
    "#if the input is not divisible by 2, the output is not a multiple of 2\n",
    "#if the input id not divisible by 5, the output is not a multiple of 5\n",
    "if(output%2!=0 and output%5!=0):\n",
    "    print('output:',output)\n",
    "elif(output%2!=0):\n",
    "    print('output:',output)\n",
    "elif(output%5!=0):\n",
    "    print('output:',output)\n",
    "else:\n",
    "    print('no output ')\n",
    "#to see the input is not a multiple of 2 or 5 and both "
   ]
  },
  {
   "cell_type": "code",
   "execution_count": 47,
   "metadata": {},
   "outputs": [
    {
     "name": "stdout",
     "output_type": "stream",
     "text": [
      "Enter a number: 10\n",
      "No\n"
     ]
    }
   ],
   "source": [
    "input_1=int(input('Enter a number: '))\n",
    "if input_1 % 2 == 0 or input_1 % 5 == 0 :\n",
    "    print('No')\n",
    "else:\n",
    "    print(input_1)"
   ]
  },
  {
   "cell_type": "markdown",
   "metadata": {
    "id": "KV1hMmd2Gxx9"
   },
   "source": [
    "### Task 11\n",
    "\n",
    "Write Python code of a program that reads a student’s mark for a single subject, and prints out the corresponding grade for that mark. The mark ranges and corresponding grades are shown in the table below. You need to make sure that the marks are valid. For example, a student cannot receive -5 or 110. So the valid marks range is 0 to 100.\n",
    "\n",
    "*hint(1): You can consider the number to be an integer* \n",
    "\n",
    "*hint(2): This problem can be solved in two ways: top-down (starts from A) and bottom-up (starts from F)*\n",
    "\n",
    "\n",
    "| Marks | Grage|\n",
    "| --- | --- | \n",
    "|90 or above| A |\n",
    "|  |  | \n",
    "|80-89| B |\n",
    "|  |  | \n",
    "|70-79| C |\n",
    "|  |  | \n",
    "|60-69| D |\n",
    "|  |  | \n",
    "|50-59| E |\n",
    "|  |  | \n",
    "|Below 50| F |\n",
    "\n",
    "\n",
    "\n",
    "\n",
    "\n"
   ]
  },
  {
   "cell_type": "code",
   "execution_count": 25,
   "metadata": {
    "id": "9sr1xTkMGxx_"
   },
   "outputs": [
    {
     "name": "stdout",
     "output_type": "stream",
     "text": [
      "enter mark of the student: 56\n",
      "grade:E\n"
     ]
    }
   ],
   "source": [
    "#Todo\n",
    "#taking the marks of the student \n",
    "#input() converts everything to string  \n",
    "# need to convert from  string to integer\n",
    "#we use int()\n",
    "mark=int(input('enter mark of the student: '))\n",
    "#mark of students put in range according to the gradesheet\n",
    "#each mark gives a grade as an output between 0 and 100\n",
    "if(mark>=90 and mark<=100):\n",
    "    print('grade:A')\n",
    "elif(mark>=80 and mark<90):\n",
    "    print('grade:B')\n",
    "elif(mark>=70 and mark<80):\n",
    "    print('grade:C')\n",
    "elif(mark>=60 and mark<70):\n",
    "    print('grade:D')\n",
    "elif(mark>=50 and mark<60):\n",
    "    print('grade:E')\n",
    "elif(mark>=0 and mark<50):\n",
    "    print('grade:F')\n",
    "else:\n",
    "    print('no result')\n",
    "#marks to grade "
   ]
  },
  {
   "cell_type": "code",
   "execution_count": 60,
   "metadata": {},
   "outputs": [
    {
     "name": "stdout",
     "output_type": "stream",
     "text": [
      "Enter your marks: 100\n",
      "grade:A\n"
     ]
    }
   ],
   "source": [
    "marks = int(input('Enter your marks: '))\n",
    "if marks >= 90 and marks <=100:\n",
    "    print('grade:A')\n",
    "if marks >= 80 and marks <=89:\n",
    "    print('grade:B')\n",
    "if marks >= 70 and marks <=79:\n",
    "    print('grade:C')\n",
    "if marks >= 60 and marks <=69:\n",
    "    print('grade:D')\n",
    "if marks >= 50 and marks <=59:\n",
    "    print('grade:E')\n",
    "if marks >= 0 and marks < 50:\n",
    "    print('grade:F')\n"
   ]
  },
  {
   "cell_type": "markdown",
   "metadata": {
    "id": "2LC9or6kGxyD"
   },
   "source": [
    "### Task 12\n",
    "\n",
    "Write Python code of a program to compute and display a person’s weekly salary as determined by the following conditions:\n",
    "If the hours worked are less than or equal to 40, the person receives Tk200.00 per hour, else the person receives Tk8000.00 plus Tk300.00 for each hour worked over 40 hours.\n",
    "The program should request the hours worked as input and should display the salary as output.\n",
    "\n",
    "==========================================================\n",
    "\n",
    "*hint: You can consider the hour(the user input) to be an integer* \n",
    "\n",
    "==========================================================\n",
    "\n",
    "**Example1:**\\\n",
    "Input: 100\\\n",
    "Output: 26000\n",
    "\n",
    "==========================================================\n",
    "\n",
    "**Example2:**\\\n",
    "Input: 30\\\n",
    "Output: 6000\n"
   ]
  },
  {
   "cell_type": "code",
   "execution_count": 27,
   "metadata": {
    "id": "L5JmB1bDGxyD"
   },
   "outputs": [
    {
     "name": "stdout",
     "output_type": "stream",
     "text": [
      "enter the number of hours you have worked: 85\n",
      "salary:Tk. 21500\n"
     ]
    }
   ],
   "source": [
    "#Todo\n",
    "#taking the number of works the person has done  \n",
    "#input() converts everything to string  \n",
    "# need to convert from  string to integer\n",
    "#we use int()\n",
    "hours=int(input('enter the number of hours you have worked: '))\n",
    "#the salary depends on the number of hours the person has worked and is stored into two new variables \n",
    "#variables are salary1 and salary2\n",
    "salary1=(hours*200)\n",
    "salary2=8000+((hours-40)*300)\n",
    "#salary1 is given to those who works for less than or equal to 40hrs \n",
    "#salary2 is given to those who works for more than 40hrs\n",
    "if(hours<=40):\n",
    "    print('salary:Tk.',salary1)\n",
    "elif(hours>40):\n",
    "    print('salary:Tk.',salary2)\n",
    "else:\n",
    "    print('no salary')\n",
    "#Todo\n",
    "#to find out the salary received by a person depending on the number of hours he has worked "
   ]
  },
  {
   "cell_type": "code",
   "execution_count": 64,
   "metadata": {},
   "outputs": [
    {
     "name": "stdout",
     "output_type": "stream",
     "text": [
      "Enter hours of working: 85\n",
      "21500\n"
     ]
    }
   ],
   "source": [
    "hrs = int(input('Enter hours of working: '))\n",
    "if hrs <= 40 :\n",
    "    print( hrs*200)\n",
    "else:\n",
    "    print(8000 + (hrs-40) * 300)"
   ]
  },
  {
   "cell_type": "markdown",
   "metadata": {
    "id": "_6lrd5lZGxyJ"
   },
   "source": [
    "### Task 13\n",
    "Write Python code of a program that finds the number of hours, minutes, and seconds in a **given number of seconds.** \n",
    "\n",
    "==========================================================\n",
    "\n",
    "*hint(1): The user input will be an integer value* \n",
    "\n",
    "*hint(2): 1 hour = 60 mins = 3600 seconds*\\\n",
    "*1min = 60 seconds* \n",
    "\n",
    "==========================================================\n",
    "\n",
    "\n",
    "**Example01:**\\\n",
    "Input: 10000\\\n",
    "Output: Hours: 2  Minutes: 46  Seconds: 40\n",
    "\n",
    "==========================================================\n",
    "\n",
    "**Example02:**\\\n",
    "Input: 500\\\n",
    "Output: Hours: 0  Minutes: 8  Seconds: 20\n",
    "\n",
    "\n"
   ]
  },
  {
   "cell_type": "code",
   "execution_count": 33,
   "metadata": {
    "id": "xd9l2gQvGxyN"
   },
   "outputs": [
    {
     "name": "stdout",
     "output_type": "stream",
     "text": [
      "enter your time in seconds: 20500\n",
      "hours: 5 minutes: 41 seconds: 40\n"
     ]
    }
   ],
   "source": [
    "#Todo\n",
    "#taking a time in second from the user \n",
    "#input() converts everything to string  \n",
    "# need to convert from  string to integer\n",
    "#we use int()\n",
    "time=int(input('enter your time in seconds: '))\n",
    "#time//3600=time in hour \n",
    "hours=time//3600\n",
    "#time%3600=remaining time in second present in hour\n",
    "second1=time%3600\n",
    "#second1//60=time in minute \n",
    "minutes=second1//60\n",
    "#second%60=remaining time in second present in minute\n",
    "seconds=second1%60\n",
    "print('hours:',hours,end=' ')\n",
    "print('minutes:',minutes,end=' ')\n",
    "print('seconds:',seconds)     \n",
    "#convert second into hour,minute,remaining second"
   ]
  },
  {
   "cell_type": "code",
   "execution_count": 69,
   "metadata": {},
   "outputs": [
    {
     "name": "stdout",
     "output_type": "stream",
     "text": [
      "Enter the time in seconds: 20500\n",
      "5 minutes : 41 seconds : 40\n"
     ]
    }
   ],
   "source": [
    "time = int(input('Enter the time in seconds: '))\n",
    "hours = time // 3600 \n",
    "remaining_minutes = time % 3600 \n",
    "minutes = remaining_minutes // 60 \n",
    "remaining_seconds = remaining_minutes % 60\n",
    "print(hours, 'minutes',':', minutes, 'seconds', ':', remaining_seconds )"
   ]
  },
  {
   "cell_type": "markdown",
   "metadata": {
    "id": "NQZL_Wh-GxyW"
   },
   "source": [
    "### Task 14\n",
    "Suppose the following expressions are used to calculate the values of L for different values of S:\n",
    "\n",
    "$L =  3000-125S^2$ \n",
    "if     $S<100$\n",
    "\n",
    "$ L =  \\frac{12000}{4+S^2/14900}$\n",
    "if     $S\\geq100$\n",
    "\n",
    "Write a Python code of a program that reads a value of S and then calculates the value of L.\n",
    "\n",
    "==========================================================\n",
    "\n",
    "*hint(1): You can import math and use math function for making squares math.pow(number, power)   Or you can simply write S**2.*\n",
    "\n",
    "*hint(2): The value of S(user input) will be an integer* \n",
    "\n",
    "==========================================================\n",
    "\n",
    "**Example01:**\\\n",
    "Input: 120\\\n",
    "Output: 2416.2162162162163\n",
    "\n",
    "\n",
    "==========================================================\n",
    "\n",
    "**Example02:**\\\n",
    "Input: 3\\\n",
    "Output: 1875\n"
   ]
  },
  {
   "cell_type": "code",
   "execution_count": 1,
   "metadata": {
    "id": "nxgt9wlFGxyY"
   },
   "outputs": [
    {
     "name": "stdout",
     "output_type": "stream",
     "text": [
      "enter a number for S:3000\n",
      "19.735970683032367\n"
     ]
    }
   ],
   "source": [
    "#Todo\n",
    "#taking a time in second from the user \n",
    "#input() converts everything to string  \n",
    "# need to convert from  string to integer\n",
    "#we use int()\n",
    "S=int(input('enter a number for S:'))\n",
    "#S<100 gives the output for L=3000-125*(S**2)\n",
    "#S>=100 gives the output for L=12000/4+S**2/14900\n",
    "if(S<100):\n",
    "    print(3000-125*(S**2))\n",
    "elif(S>=100):\n",
    "    print((12000)/(4+S**2/14900))\n",
    "#to find the output from the formulas given"
   ]
  },
  {
   "cell_type": "code",
   "execution_count": 73,
   "metadata": {},
   "outputs": [
    {
     "name": "stdout",
     "output_type": "stream",
     "text": [
      "Enter a number for S: 3000\n",
      "19.735970683032367\n"
     ]
    }
   ],
   "source": [
    "S = int(input('Enter a number for S: '))\n",
    "if S<100:\n",
    "    L = 3000 - 125 * S ** 2 \n",
    "elif S>=100:\n",
    "    L = 12000 / (4 + (S ** 2) / 14900)\n",
    "print(L)"
   ]
  },
  {
   "cell_type": "markdown",
   "metadata": {
    "id": "WykwxxMBGxyd"
   },
   "source": [
    "### Task 15\n",
    "\n",
    "Take an hour from the user as input and tell it is time for which meal.\n",
    "\n",
    "•\tThe user will input the number in a 24-hour format. So, 14 means 2 pm, 3 means 3 am, 18 means 6 pm, etc.\\\n",
    "•\tValid inputs are 0 to 23. Inputs less than 0 or more than 23 are invalid in 24-hour clock.\\\n",
    "•\tAssume, Input will be whole numbers. For example, 3.5 will NOT be given as input.\n",
    "\n",
    "==========================================================\n",
    "\n",
    "Inputs: Message to be printed\\\n",
    "4 to 6: Breakfast\\\n",
    "12 to 13: Lunch\\\n",
    "16 to 17: Snacks\\\n",
    "19 to 20: Dinner\\\n",
    "For all other valid inputs, say \"Patience is a virtue\"\\\n",
    "For all other invalid inputs, say \"Wrong time\"\n",
    "\n",
    "==========================================================\n",
    "\n",
    "For example,\\\n",
    "If the user enters 4, your program should print the message \"Breakfast\".\\\n",
    "If the user enters 5, your program should print the message \"Breakfast\".\\\n",
    "If the user enters 6, your program should print the message \"Breakfast\".\\\n",
    "If the user enters 0, your program should print the message \"Patience is a virtue\".\\\n",
    "If the user enters 1, your program should print the message \"Patience is a virtue\".\\\n",
    "If the user enters 18, your program should print the message \"Patience is a virtue\".\\\n",
    "If the user enters 23, your program should print the message \"Patience is a virtue\".\\\n",
    "If the user enters 24, your program should print the message \"Wrong Time\".\\\n",
    "If the user enters -1, your program should print the message \"Wrong Time\".\\\n",
    "If the user enters 27, your program should print the message \"Wrong time\".\n",
    "\n",
    "==========================================================\n",
    "\n",
    "Hints:\\\n",
    "You can use nested conditionals (if-else) or chained conditions (if-elif-else) to solve this problem.\n",
    "\n"
   ]
  },
  {
   "cell_type": "code",
   "execution_count": 17,
   "metadata": {
    "id": "0qbV5e33Gxye"
   },
   "outputs": [
    {
     "name": "stdout",
     "output_type": "stream",
     "text": [
      "enter your time (0 to 23): 21\n",
      "patience is virtue\n"
     ]
    }
   ],
   "source": [
    "#Todo\n",
    "#taking a time in second from the user \n",
    "#input() converts everything to string  \n",
    "# need to convert from  string to integer\n",
    "#we use int()\n",
    "time=int(input('enter your time (0 to 23): '))\n",
    "if(time>=0 and time<=23):\n",
    "    if(time>=4 and time<=6):\n",
    "        print('breakfast')\n",
    "    elif(time>=12 and time<=13):\n",
    "        print('lunch')\n",
    "    elif(time>=16 and time<=17):\n",
    "        print('snacks')\n",
    "    elif(time>=19 and time<=20):\n",
    "        print('dinner')\n",
    "    else:\n",
    "        print('patience is virtue')\n",
    "else:\n",
    "    print('wrong time')\n",
    "\n",
    "#To see the time when to have which meal "
   ]
  },
  {
   "cell_type": "code",
   "execution_count": 83,
   "metadata": {},
   "outputs": [
    {
     "name": "stdout",
     "output_type": "stream",
     "text": [
      "Enter your time (0 to 23): 44\n",
      "Wrong time\n"
     ]
    }
   ],
   "source": [
    "time = int(input('Enter your time (0 to 23): '))\n",
    "if time<0 or time>=24:\n",
    "    meal = 'Wrong time'\n",
    "if 4<=time<=6 :\n",
    "    meal = 'Breakfast'\n",
    "elif 12<=time<=13:\n",
    "    meal = 'Lunch'\n",
    "elif 16<=time<=17:\n",
    "    meal = 'Snacks'\n",
    "elif 0<=time<=3 or time == 11 or time == 12 or time == 14 or time == 15 or 18<=time<=23:\n",
    "    meal = 'Patience is virtue'\n",
    "print(meal)\n"
   ]
  },
  {
   "cell_type": "code",
   "execution_count": null,
   "metadata": {},
   "outputs": [],
   "source": []
  }
 ],
 "metadata": {
  "colab": {
   "collapsed_sections": [],
   "name": "CSE110 Lab Assignment 1.ipynb",
   "provenance": []
  },
  "kernelspec": {
   "display_name": "Python 3",
   "language": "python",
   "name": "python3"
  },
  "language_info": {
   "codemirror_mode": {
    "name": "ipython",
    "version": 3
   },
   "file_extension": ".py",
   "mimetype": "text/x-python",
   "name": "python",
   "nbconvert_exporter": "python",
   "pygments_lexer": "ipython3",
   "version": "3.8.8"
  }
 },
 "nbformat": 4,
 "nbformat_minor": 1
}
