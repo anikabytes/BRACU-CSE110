{
 "cells": [
  {
   "cell_type": "markdown",
   "metadata": {
    "id": "xDNsncrtU1yM"
   },
   "source": [
    "# CSE110 Lab Assignment 4\n",
    "\n",
    "This Assignment is to help you develop your concept of Lists in Python."
   ]
  },
  {
   "cell_type": "markdown",
   "metadata": {
    "id": "gh4GUDaIU1yO"
   },
   "source": [
    "\n",
    "\n",
    "\n",
    "\n",
    "\n",
    "\n",
    "##Write your name, student ID and CSE110 theory section number below:\n",
    "\n",
    "\n",
    "\n",
    "\n",
    "\n"
   ]
  },
  {
   "cell_type": "code",
   "execution_count": null,
   "metadata": {
    "id": "OAYfzLIqgqyE"
   },
   "outputs": [],
   "source": [
    "#STUDENT NAME:ANIKA ISLAM \n",
    "#STUDENT ID:21101298\n",
    "#CSE110 THEORY SECTION: 11"
   ]
  },
  {
   "cell_type": "markdown",
   "metadata": {
    "id": "KD4EKJf6U1yQ"
   },
   "source": [
    "## Write the code in Python to do the following tasks:\n",
    "\n",
    "**<font color='red'>[MUST MAINTAIN VARIABLE NAMING CONVENTIONS FOR ALL THE TASKS]</font>**"
   ]
  },
  {
   "cell_type": "markdown",
   "metadata": {
    "id": "pbdeIVcyU1yi"
   },
   "source": [
    "### Task 1\n",
    "Write a Python program that reads 10 numbers from the user into a list. After reading each number, print all the numbers that have been entered so far in the list. \n",
    "\n",
    "**Example:**\\\n",
    "After the user enters 3, prints “Numbers in the list: [3]”\\\n",
    "After the user enters 5, prints “Numbers in the list: [3, 5]”\\\n",
    "After the user enters 34, prints “Numbers in the list: [3, 5, 34]”\\\n",
    ".... and so on"
   ]
  },
  {
   "cell_type": "code",
   "execution_count": 32,
   "metadata": {
    "id": "A5df9pmJU1yj"
   },
   "outputs": [
    {
     "name": "stdout",
     "output_type": "stream",
     "text": [
      "enter a number: 1\n",
      "[1]\n",
      "enter a number: 2\n",
      "[1, 2]\n",
      "enter a number: 3\n",
      "[1, 2, 3]\n",
      "enter a number: 4\n",
      "[1, 2, 3, 4]\n",
      "enter a number: 5\n",
      "[1, 2, 3, 4, 5]\n",
      "enter a number: 6\n",
      "[1, 2, 3, 4, 5, 6]\n",
      "enter a number: 7\n",
      "[1, 2, 3, 4, 5, 6, 7]\n",
      "enter a number: 8\n",
      "[1, 2, 3, 4, 5, 6, 7, 8]\n",
      "enter a number: 9\n",
      "[1, 2, 3, 4, 5, 6, 7, 8, 9]\n",
      "enter a number: 10\n",
      "[1, 2, 3, 4, 5, 6, 7, 8, 9, 10]\n"
     ]
    }
   ],
   "source": [
    "#to do\n",
    "#taking an empty list \n",
    "number1=[ ]\n",
    "#loop structure \n",
    "for item in range(0,10):\n",
    "    number=int(input('enter a number: ')) #taking number as input \n",
    "    number1.append(number) #appending numbers into a list \n",
    "    print(number1)"
   ]
  },
  {
   "cell_type": "code",
   "execution_count": 2,
   "metadata": {},
   "outputs": [
    {
     "name": "stdout",
     "output_type": "stream",
     "text": [
      "Enter numbers: 1\n",
      "[1]\n",
      "Enter numbers: 2\n",
      "[1, 2]\n",
      "Enter numbers: 3\n",
      "[1, 2, 3]\n",
      "Enter numbers: 4\n",
      "[1, 2, 3, 4]\n",
      "Enter numbers: 5\n",
      "[1, 2, 3, 4, 5]\n",
      "Enter numbers: 6\n",
      "[1, 2, 3, 4, 5, 6]\n",
      "Enter numbers: 7\n",
      "[1, 2, 3, 4, 5, 6, 7]\n",
      "Enter numbers: 8\n",
      "[1, 2, 3, 4, 5, 6, 7, 8]\n",
      "Enter numbers: 9\n",
      "[1, 2, 3, 4, 5, 6, 7, 8, 9]\n",
      "Enter numbers: 10\n",
      "[1, 2, 3, 4, 5, 6, 7, 8, 9, 10]\n"
     ]
    }
   ],
   "source": [
    "numList = []\n",
    "for num in range(0,10):\n",
    "    nums = int(input('Enter numbers: '))\n",
    "    numList.append(nums)\n",
    "    print(numList)"
   ]
  },
  {
   "cell_type": "markdown",
   "metadata": {
    "id": "ZrjtT-I_U1zD"
   },
   "source": [
    "## Task 2\n",
    "\n",
    "Write a Python program that takes a list as an input from the user.Then creates a new list excluding the first and last two elements of the given list and prints the new list. If there are not enough elements in the list to do the task, the print \"Not possible\".\n",
    "\n",
    "**Note:** You may use list slicing.\n",
    "\n",
    "===================================================================\n",
    "\n",
    "**Sample Input 1:**<br/>\n",
    "[10, 20, 24, 25, 26, 35, 70]<br/>\n",
    "**Sample Output 1:**<br/>\n",
    "[24, 25, 26]<br/>\n",
    "\n",
    "===================================================================\n",
    "\n",
    "**Sample Input 2:**<br/>\n",
    "[10, 20, 24, 25, 26]<br/>\n",
    "**Sample Output 2:**<br/>\n",
    "[24]<br/>\n",
    "\n",
    "===================================================================\n",
    "\n",
    "**Sample Input 3:**<br/>\n",
    "[10, 20, 24, 25]<br/>\n",
    "**Sample Output 3:**<br/>\n",
    "[]<br/>\n",
    "\n",
    "===================================================================\n",
    "\n",
    "**Sample Input 4:**<br/>\n",
    "[10, 20, 24]<br/>\n",
    "**Sample Output 4:**<br/>\n",
    "Not possible<br/>\n",
    "\n",
    "==================================================================="
   ]
  },
  {
   "cell_type": "code",
   "execution_count": 4,
   "metadata": {
    "id": "3r7Ripj7U1zE"
   },
   "outputs": [
    {
     "name": "stdout",
     "output_type": "stream",
     "text": [
      "enter a list: 10, 20, 24, 25, 26, 35, 70\n",
      "[24, 25, 26]\n"
     ]
    }
   ],
   "source": [
    "#to do\n",
    "#taking an empty list \n",
    "newList=[]\n",
    "#taking an input \n",
    "list1=[int(item) for item in input('enter a list: ').split(',')]  #split is used so that number is split before and after comma (10, 20, 24, 25, 26, 35,70 )\n",
    "for item in range(len(list1)):\n",
    "    if(item==0 or item==1 or item==len(list1)-2 or item==len(list1)-1): \n",
    "        continue #does not append first two  (10,20) and the two last (35,70) items\n",
    "    else:\n",
    "        newList.append(list1[item]) #append the rest item in number \n",
    "if(item<3):\n",
    "    print('Not possible') #item(index) is less than 3 (10,20,30), this is not possible as first and the last numbers are removed \n",
    "else: \n",
    "    print(newList) #print the output as string \n",
    "\n",
    "    \n"
   ]
  },
  {
   "cell_type": "code",
   "execution_count": 9,
   "metadata": {},
   "outputs": [
    {
     "name": "stdout",
     "output_type": "stream",
     "text": [
      "enter a number for inputs in a list: 4\n",
      "enter numbers: 1\n",
      "enter numbers: 2\n",
      "enter numbers: 3\n",
      "enter numbers: 4\n",
      "[2, 3]\n"
     ]
    }
   ],
   "source": [
    "numList = int(input('enter a number for inputs in a list: '))\n",
    "list1 = []\n",
    "list2 = []\n",
    "for num in range(0,numList) : \n",
    "    nums = int(input('enter numbers: '))\n",
    "    list1.append(nums)\n",
    "if len(list1) <= 3 :\n",
    "    print('Not possible')\n",
    "else:\n",
    "    for num in range(1,len(list1)-1):\n",
    "        list2.append(list1[num])\n",
    "print(list2)"
   ]
  },
  {
   "cell_type": "code",
   "execution_count": 1,
   "metadata": {},
   "outputs": [
    {
     "name": "stdout",
     "output_type": "stream",
     "text": [
      "enter: 10,20,24,25,26,35,70\n",
      "[24, 25, 26]\n"
     ]
    }
   ],
   "source": [
    "list1=[int(item) for item in input('enter: ').split(',')]\n",
    "if(len(list1)>3):\n",
    "    list1=list1[2:-2]\n",
    "    print(list1)\n",
    "else:\n",
    "    print('Not possible')"
   ]
  },
  {
   "cell_type": "markdown",
   "metadata": {
    "id": "AWgZaBZCzmaM"
   },
   "source": [
    "### Task 3\n",
    "\n",
    "Write a python program that reads 5 numbers from the user into a list, and then prints them in the reverse order.\n",
    "\n",
    "*Hint: You may create a list to store the input numbers and then use loop to print them in reverse order*\n",
    "\n",
    "===================================================================\n",
    "\n",
    "**Sample Input:**\\\n",
    "5\\\n",
    "-5\\\n",
    "100\\\n",
    "1\\\n",
    "0\n",
    "\n",
    "**Sample Output:**\\\n",
    "0\\\n",
    "1\\\n",
    "100\\\n",
    "-5\\\n",
    "5\n",
    "\n",
    "==================================================================="
   ]
  },
  {
   "cell_type": "code",
   "execution_count": 13,
   "metadata": {
    "id": "ICW-03YOznTp"
   },
   "outputs": [
    {
     "name": "stdout",
     "output_type": "stream",
     "text": [
      "enter a number:5\n",
      "enter a number:-5\n",
      "enter a number:100\n",
      "enter a number:1\n",
      "enter a number:0\n",
      "0\n",
      "1\n",
      "100\n",
      "-5\n",
      "5\n"
     ]
    }
   ],
   "source": [
    "#to do\n",
    "number1=[]\n",
    "for item in range(0,5):\n",
    "    number=input('enter a number:') \n",
    "    number1.append(number) #appending number into list in number1 \n",
    "    number2=number1[::-1]  #decremating to reverse \n",
    "#loop structure for getting the values in a row \n",
    "for item1 in number2:\n",
    "    print(item1)\n"
   ]
  },
  {
   "cell_type": "code",
   "execution_count": 18,
   "metadata": {},
   "outputs": [
    {
     "name": "stdout",
     "output_type": "stream",
     "text": [
      "enter numbers: 1\n",
      "enter numbers: 2\n",
      "enter numbers: 3\n",
      "enter numbers: 4\n",
      "enter numbers: 5\n",
      "5\n",
      "4\n",
      "3\n",
      "2\n",
      "1\n"
     ]
    }
   ],
   "source": [
    "numList = []\n",
    "for num in range(0,5) : \n",
    "    nums = int(input('enter numbers: '))\n",
    "    numList.append(nums)\n",
    "for numb in range(len(numList)-1,-1,-1):\n",
    "    print(numList[numb])"
   ]
  },
  {
   "cell_type": "markdown",
   "metadata": {
    "id": "7a_1pYjfU1zI"
   },
   "source": [
    "###### Task 4\n",
    "Assume, you have been given two lists. [Your program should work for any two given lists; change the following lists and check whether your program works correctly for the code you have written]\n",
    "\n",
    "list_one = [1, 2, 3, 4, 5, 6, 7, 8, 9]\\\n",
    "list_two = [10, 11, 12, -13, -14, -15, -16]\n",
    "\n",
    "Write a Python program that creates a new list with all the **even elements** of both of the given lists and prints the new list.\n",
    "\n",
    "**Hint:** You may create a third list to store the even elements of the given lists.\n",
    "\n",
    "===================================================================\n",
    "\n",
    "**Output for the above lists:** [2, 4, 6, 8, 10, 12, -14, -16]\n",
    "\n",
    "==================================================================="
   ]
  },
  {
   "cell_type": "code",
   "execution_count": 5,
   "metadata": {
    "id": "vToa7yazU1zI"
   },
   "outputs": [
    {
     "name": "stdout",
     "output_type": "stream",
     "text": [
      "[2, 4, 6, 8, 10, 12, -14, -16]\n"
     ]
    }
   ],
   "source": [
    "#to do\n",
    "#taking an empty list to store the even items \n",
    "list1=[]\n",
    "list_one = [1, 2, 3, 4, 5, 6, 7, 8, 9]\n",
    "list_two = [10, 11, 12, -13, -14, -15, -16]\n",
    "#loop structure 1\n",
    "for item1 in range(len(list_one)):\n",
    "    if(int(list_one[item1])%2==0):\n",
    "        list1.append((list_one[item1])) #when item in list_one is even,so append that in list1 \n",
    "#loop structure 2 \n",
    "for item2 in range(len(list_two)):\n",
    "    if(int(list_two[item2])%2==0):\n",
    "        list1.append((list_two[item2])) #when item in list_two is even,so append that in list1 also \n",
    "#storing the item1 of list10,11,12,-13,-14,-15,-16_one and item2 of list_two in a new variable \n",
    "item3=list_one[item1]=list_two[item2]\n",
    "strToInt=[int(item3) for item3 in list1]\n",
    "print(strToInt) #converting string list to integer list "
   ]
  },
  {
   "cell_type": "code",
   "execution_count": 2,
   "metadata": {},
   "outputs": [
    {
     "name": "stdout",
     "output_type": "stream",
     "text": [
      "[2, 4, 6, 8, 10, 12, -14, -16]\n"
     ]
    }
   ],
   "source": [
    "list_one = [1, 2, 3, 4, 5, 6, 7, 8, 9]\n",
    "list_two = [10, 11, 12, -13, -14, -15, -16]\n",
    "newList = []\n",
    "for num1 in range(len(list_one)) : \n",
    "    if list_one[num1] % 2 == 0 :\n",
    "        newList.append(list_one[num1])\n",
    "for num2 in range(len(list_two)) : \n",
    "    if list_two[num2] % 2 == 0 :\n",
    "        newList.append(list_two[num2])\n",
    "print(newList)"
   ]
  },
  {
   "cell_type": "markdown",
   "metadata": {
    "id": "QaD4hLn92EKT"
   },
   "source": [
    "### Task 5\n",
    "\n",
    "Write a Python program that takes numbers as input into a list, removes multiple occurences of any number and then finally prints a list **without duplicate values**.\n",
    "\n",
    "*Hint: You may create a third list to store the results. You can use membership operators (in, not in) to make sure no duplicates are added.*\n",
    "\n",
    "===================================================================\n",
    "\n",
    "**Sample Input 1:**<br/>\n",
    "0, 0, 1, 2, 3, 4, 4, 5, 6, 6, 6, 7, 8, 9, 4, 4<br/>\n",
    "\n",
    "\n",
    "**Sample Output 1:**<br/>\n",
    "[0, 1, 2, 3, 4, 5, 6, 7, 8, 9]<br/>\n",
    "\n",
    "===================================================================\n",
    "\n",
    "**Sample Input 2:**<br/>\n",
    "7, 7, 7, 1, 0, 3, 3, 55, 9<br/>\n",
    "\n",
    "\n",
    "**Sample Output 2:**<br/>\n",
    "[7, 1, 0, 3, 55, 9]<br/>\n",
    "\n",
    "==================================================================="
   ]
  },
  {
   "cell_type": "code",
   "execution_count": 1,
   "metadata": {
    "id": "EUbQbz5hU1zP"
   },
   "outputs": [
    {
     "name": "stdout",
     "output_type": "stream",
     "text": [
      "enter a list of numbers: 0,0,1,2,3,4,4,5,6,6,6,7,8,9,4,4\n",
      "[0, 1, 2, 3, 4, 5, 6, 7, 8, 9]\n"
     ]
    }
   ],
   "source": [
    "#to do\n",
    "#taking an empty list to store the new list \n",
    "newList=[]\n",
    "#taking a list from useer \n",
    "list1=[int(item1) for item1 in input('enter a list of numbers: ').split(',')]  \n",
    "#loop structure \n",
    "for item in list1:\n",
    "    if(item not in newList): \n",
    "        newList.append(item) #append the items in list1 to newList when item in list1 is not prseent in newList \n",
    "                             #append only the first number in the occurence in newList \n",
    "print(newList)\n"
   ]
  },
  {
   "cell_type": "code",
   "execution_count": 4,
   "metadata": {},
   "outputs": [
    {
     "name": "stdout",
     "output_type": "stream",
     "text": [
      "enter a number for the list: 16\n",
      "enter numbers: 0\n",
      "enter numbers: 0\n",
      "enter numbers: 1\n",
      "enter numbers: 2\n",
      "enter numbers: 3\n",
      "enter numbers: 4\n",
      "enter numbers: 4\n",
      "enter numbers: 5\n",
      "enter numbers: 6\n",
      "enter numbers: 6\n",
      "enter numbers: 6\n",
      "enter numbers: 7\n",
      "enter numbers: 8\n",
      "enter numbers: 9\n",
      "enter numbers: 4\n",
      "enter numbers: 4\n",
      "[0, 1, 2, 3, 4, 5, 6, 7, 8, 9]\n"
     ]
    }
   ],
   "source": [
    "num = int(input('enter a number for the list: '))\n",
    "numList = []\n",
    "newList =[]\n",
    "for nums in range(0,num) : \n",
    "    number = int(input('enter numbers: '))\n",
    "    numList.append(number)\n",
    "for nums in numList:\n",
    "    if nums not in newList :\n",
    "        newList.append(nums)\n",
    "print(newList)"
   ]
  },
  {
   "cell_type": "markdown",
   "metadata": {
    "id": "wfcSytFVU1zU"
   },
   "source": [
    "### Task 6\n",
    "\n",
    "Write a Python program that reads 5 numbers into a list and prints the largest number and its location or index position on the list. <font color='red'>[You are not allowed to use the max(), sort(), sorted() function here]</font>\n",
    "\n",
    "**Hint:** Assume the first input to be the largest value initially and the largest value’s location to be 0.\n",
    "\n",
    "**Note:** You may need to be careful while printing the output. Depending on your code, you might need data conversion.\n",
    "\n",
    "===================================================================\n",
    "\n",
    "**Sample Input:**\\\n",
    " 7, 13, 2, 10, 6\n",
    "\n",
    "**Sample Output:**\\\n",
    "My list: [7, 13, 2, 10, 6]\\\n",
    "Largest number in the list is 13 which was found at index 1.\n",
    "\n",
    "==================================================================="
   ]
  },
  {
   "cell_type": "code",
   "execution_count": 44,
   "metadata": {
    "id": "kXbEh1t3U1zV"
   },
   "outputs": [
    {
     "name": "stdout",
     "output_type": "stream",
     "text": [
      "enter a list: 7, 13, 2, 10, 6\n",
      "My list: [7, 13, 2, 10, 6]\n",
      "Largest number in the list is 13 which was found at index 1\n"
     ]
    }
   ],
   "source": [
    "#to do\n",
    "#taking a list from the user \n",
    "list1=[int(item) for item in  input('enter a list: ').split(',')] #7,13,2,10,6\n",
    "print('My list:',list1) #printing out the list \n",
    "#initialy\n",
    "largest=list1[0] #assuming the first item to be the largest \n",
    "largestLocation=0 #assuming the largest number to be at 0 index \n",
    "for item1 in range(len(list1)): #item=>(0,1,2,3,4)   len(list1)=>(7,13,2,10,6)\n",
    "     if(largest<list1[item1]):\n",
    "          largest=list1[item1] #storing the len(list1) {value} which is the largest (13)\n",
    "          largestLocation=item1 #storing the item1 {index} at which the largest item exists (1)\n",
    "#printing out the outputs \n",
    "print('Largest number in the list is',largest,end=' ')\n",
    "print('which was found at index' ,largestLocation)\n",
    "        \n",
    "    \n",
    "\n",
    "    "
   ]
  },
  {
   "cell_type": "code",
   "execution_count": 5,
   "metadata": {},
   "outputs": [
    {
     "name": "stdout",
     "output_type": "stream",
     "text": [
      "enter a list: 1,9,8,88,234\n",
      "My list: [1, 9, 8, 88, 234]\n",
      "Largest number in the list is 234 which was found at index 4\n"
     ]
    }
   ],
   "source": [
    "list1=[int(item) for item in  input('enter a list: ').split(',')]\n",
    "beforeList=list1\n",
    "print('My list:',beforeList)\n",
    "for num1 in range(len(list1)):\n",
    "    maximum=list1[0]\n",
    "    maximum=0\n",
    "    for num2 in range(1,len(list1)):\n",
    "        if(maximum<list1[num2]):\n",
    "            maximum=list1[num2]\n",
    "            maximum_index=num2\n",
    "print('Largest number in the list is',maximum,'which was found at index',maximum_index)"
   ]
  },
  {
   "cell_type": "code",
   "execution_count": 8,
   "metadata": {},
   "outputs": [
    {
     "name": "stdout",
     "output_type": "stream",
     "text": [
      "enter numbers: 1\n",
      "enter numbers: 9\n",
      "enter numbers: 8\n",
      "enter numbers: 88\n",
      "enter numbers: 234\n",
      "My List:  [1, 9, 8, 88, 234]\n",
      "Largest number in the list is  234 which was found at index  4\n"
     ]
    }
   ],
   "source": [
    "numList = []\n",
    "for num in range(0,5) : \n",
    "    nums = int(input('enter numbers: '))\n",
    "    numList.append(nums)\n",
    "    maxim_index = 0\n",
    "    maxim = 0 \n",
    "    if maxim < num :\n",
    "        maxim = nums\n",
    "        maxim_index = num \n",
    "print('My List: ',numList)\n",
    "print('Largest number in the list is ',maxim,'which was found at index ',maxim_index)"
   ]
  },
  {
   "cell_type": "markdown",
   "metadata": {
    "id": "nwRZ3_0tC3fq"
   },
   "source": [
    "### Task 7\n",
    "\n",
    "\n",
    "Assume, you have been given two lists. [Your program should work for any two given lists; make changes to the lists below and check whether your program works correctly]\n",
    "\n",
    "list_one = [1, 2 , 2, 4, 5, 5, 7, 99, 200, 303, 70]\\\n",
    "list_two = [1, 1, 2, 3, 3, 3, 4, 5, 200, 500, -5]\n",
    "\n",
    "Write a Python program that creates a new list with all the **unique elements** of both the given lists. \n",
    "<font color='red'> **You need to make sure that there are no duplicates in the resulting list.**</font> Finally, print the updated list.\n",
    "\n",
    "**Hint:** You may create a third list to store the results. You can use membership operators (in, not in) to make sure no duplicates are added.\n",
    "\n",
    "===================================================================\n",
    "\n",
    "**Output for the above two lists**: \n",
    "[1, 2, 4, 5, 7, 99, 200, 303, 70, 3, 500, -5]\n",
    "\n",
    "===================================================================\n",
    "\n"
   ]
  },
  {
   "cell_type": "code",
   "execution_count": 1,
   "metadata": {
    "id": "LEnaTlyoMJdS"
   },
   "outputs": [
    {
     "name": "stdout",
     "output_type": "stream",
     "text": [
      "[1, 2, 4, 5, 7, 99, 200, 303, 70, 3, 20, 500, -5]\n"
     ]
    }
   ],
   "source": [
    "#to do\n",
    "newList=[] #to store the values without any duplicates from both lists \n",
    "#two empty lists for storing integers into lists \n",
    "list3=[1,2,2,4,5,5,7,99,200,303,70]\n",
    "list4=[1,1,2,3,3,3,4,5,20,500,-5]\n",
    "\n",
    "#loop structure for appending values into list3 \n",
    "# for item1 in range(0,11): \n",
    "#     list1=int(input('enter a list: '))\n",
    "#     list3.append(list1)\n",
    "# #loop structure 2 for appending values into list4  \n",
    "# for item2 in range(0,11):\n",
    "#     list2=int(input('enter another list: '))\n",
    "#     list4.append(list2)\n",
    "\n",
    "# list1=[int(i) for i in input().split(',')]\n",
    "# print(list1)\n",
    "\n",
    "#loop structure 3 for appending the items of list3 without any duplicates into newList \n",
    "for item3 in list3:\n",
    "    if(item3 not in newList):\n",
    "        newList.append(item3)\n",
    "#loop structure 4 for appending the items of list4 without any duplicates into newList \n",
    "for item4 in list4:\n",
    "    if(item4 not in newList):\n",
    "        newList.append(item4)\n",
    "#printing all the values of list3 and list4 appended into loop structure 3 and 4 \n",
    "print(newList)\n",
    "        "
   ]
  },
  {
   "cell_type": "code",
   "execution_count": 9,
   "metadata": {},
   "outputs": [
    {
     "name": "stdout",
     "output_type": "stream",
     "text": [
      "[1, 2, 4, 5, 7, 99, 200, 303, 70, 3, 500, -5]\n"
     ]
    }
   ],
   "source": [
    "list_one = [1, 2 , 2, 4, 5, 5, 7, 99, 200, 303, 70]\n",
    "list_two = [1, 1, 2, 3, 3, 3, 4, 5, 200, 500, -5]\n",
    "newList = []\n",
    "for num1 in list_one:\n",
    "    if num1 not in newList :\n",
    "        newList.append(num1)\n",
    "for num2 in list_two : \n",
    "    if num2 not in newList : \n",
    "        newList.append(num2)\n",
    "print(newList)"
   ]
  },
  {
   "cell_type": "markdown",
   "metadata": {
    "id": "bvF30RQlemBW"
   },
   "source": [
    "## Task 8\n",
    "\n",
    "Write a Python program that takes two lists and prints True if they have at least one common member.\n",
    "\n",
    "===================================================================\n",
    "\n",
    "**Sample Input 1:**\\\n",
    "List_one : [1, 4, 3, 2, 6]\\\n",
    "List_two : [5, 6, 9, 8, 7]\n",
    "\n",
    "**Sample Output 1:**\\\n",
    "True\n",
    "\n",
    "===================================================================\n",
    "\n",
    "**Sample Input 2:**\\\n",
    "List_one : [1, 4, 3, 2, 5]\\\n",
    "List_two : [8, 7, 6, 9]\n",
    "\n",
    "**Sample Output 2:**\\\n",
    "False\n",
    "\n",
    "===================================================================\n"
   ]
  },
  {
   "cell_type": "code",
   "execution_count": 7,
   "metadata": {},
   "outputs": [
    {
     "name": "stdout",
     "output_type": "stream",
     "text": [
      "enter a list:1,4,3,2,5\n",
      "enter a second list: 8,7,6,9\n",
      "False\n"
     ]
    }
   ],
   "source": [
    "#To do \n",
    "#taking two lists from user \n",
    "list_one=[int(item1) for item1 in input('enter a list:').split(',')]  #1,4,3,2,6\n",
    "list_two=[int(item2) for item2 in input('enter a second list: ').split(',')] #5,6,9,8,7\n",
    "#loop structure \n",
    "for item in list_one:\n",
    "    if(item in list_two): #item in list1 = item in list2 (6=6)\n",
    "        print('True')\n",
    "        break #loop stops when if condition not fulfilled \n",
    "else:\n",
    "    print('False') #when item in list1 not in item in list2 "
   ]
  },
  {
   "cell_type": "code",
   "execution_count": 21,
   "metadata": {},
   "outputs": [
    {
     "name": "stdout",
     "output_type": "stream",
     "text": [
      "enter numbers for 1st list: 1,4,3,2,6\n",
      "enter numbers for 2nd list: 5,6,9,8,7\n",
      "True\n"
     ]
    }
   ],
   "source": [
    "numList1 = input('enter numbers for 1st list: ').split(',')\n",
    "numList2 = input('enter numbers for 2nd list: ').split(',')\n",
    "newList = []\n",
    "for num1 in numList1 : \n",
    "    if num1 in numList2 : \n",
    "        newList.append(int(num1)) \n",
    "if len(newList) > 0 :\n",
    "    print('True')\n",
    "else:\n",
    "    print('False')"
   ]
  },
  {
   "cell_type": "markdown",
   "metadata": {
    "id": "vyFt-Ra5erR4"
   },
   "source": [
    "# Task 9\n",
    "\n",
    "Write a Python program that reads 10 numbers into a list and prints the numbers of that specified list after removing **even numbers** from it.\n",
    "\n",
    "=========================================================================\n",
    "\n",
    "**Sample Input:**\n",
    "\n",
    "7,12,4,55,96,2,11,61,33,42\n",
    "\n",
    "**Sample Output:**\n",
    "\n",
    "[7, 55, 11, 61, 33]\n",
    "\n",
    "=========================================================================\n",
    "\n",
    "\n",
    "\n"
   ]
  },
  {
   "cell_type": "code",
   "execution_count": 2,
   "metadata": {
    "id": "1U3bswq9e9B3"
   },
   "outputs": [
    {
     "name": "stdout",
     "output_type": "stream",
     "text": [
      "enter a list of 10 numbers:7,12,4,55,96,2,11,61,33,42\n",
      "[7, 55, 11, 61, 33]\n"
     ]
    }
   ],
   "source": [
    "#to do\n",
    "#taking an empty list to store the new list \n",
    "newList=[]\n",
    "#taking a list of 10 numbers from user \n",
    "list1=[int(item) for item in input('enter a list of 10 numbers:').split(',')]\n",
    "#loop structure \n",
    "for item1 in list1:\n",
    "    if(item1%2!=0):\n",
    "        newList.append(item1) #appending the item1 into newList if not even \n",
    "print(newList)\n",
    "\n"
   ]
  },
  {
   "cell_type": "code",
   "execution_count": 22,
   "metadata": {},
   "outputs": [
    {
     "name": "stdout",
     "output_type": "stream",
     "text": [
      "enter numbers: 7\n",
      "enter numbers: 12\n",
      "enter numbers: 4\n",
      "enter numbers: 55\n",
      "enter numbers: 96\n",
      "enter numbers: 2\n",
      "enter numbers: 11\n",
      "enter numbers: 61\n",
      "enter numbers: 33\n",
      "enter numbers: 42\n",
      "[7, 55, 11, 61, 33]\n"
     ]
    }
   ],
   "source": [
    "numList = []\n",
    "oddList = []\n",
    "for num in range(0,10) : \n",
    "    numList.append(int(input('enter numbers: ')))\n",
    "for num in numList : \n",
    "    if num%2 != 0 :\n",
    "        oddList.append(num)\n",
    "print(oddList)"
   ]
  },
  {
   "cell_type": "markdown",
   "metadata": {
    "id": "G9jPuLWOetqd"
   },
   "source": [
    "## Task 10\n",
    "\n",
    "Write a Python program that removes all Empty strings from a given list and print the new list.\n",
    "\n",
    "=========================================================================\n",
    "\n",
    "**Sample Input:**\n",
    "\n",
    "[\"hey\", \"there\", \" \", \"what's\", \" \", \"up\", \" \", \"?\"]\n",
    "\n",
    "**Sample Output:**\n",
    "\n",
    "Original List:\n",
    "[\"hey\", \"there\", \" \", \"what's\", \" \", \"up\", \" \", \"?\"]\n",
    "\n",
    "Modified List:\n",
    "[\"hey\", \"there\", \"what's\", \"up\", \"?\"]\n",
    "\n",
    "==========================================================================\n",
    "\n",
    "\n"
   ]
  },
  {
   "cell_type": "code",
   "execution_count": 19,
   "metadata": {
    "id": "OlrhifBge-TA"
   },
   "outputs": [
    {
     "name": "stdout",
     "output_type": "stream",
     "text": [
      "enter a list: hey,there, ,what's, ,up, ,?\n",
      "Original List: ['hey', 'there', ' ', \"what's\", ' ', 'up', ' ', '?']\n",
      "Modified List: ['hey', 'there', \"what's\", 'up', '?']\n"
     ]
    }
   ],
   "source": [
    "#to do\n",
    "#taking a list from user \n",
    "list1=input('enter a list: ').split(',')\n",
    "print('Original List:',list1) \n",
    "#taking an empty list to store the modified list\n",
    "newList=[]\n",
    "#loop structure \n",
    "for item1 in list1:\n",
    "    if(item1==' '):\n",
    "       pass #when item1 has space, if condition is passed \n",
    "    else:\n",
    "        newList.append(item1) #appending list1 without any space \n",
    "print('Modified List:',newList)"
   ]
  },
  {
   "cell_type": "code",
   "execution_count": 25,
   "metadata": {},
   "outputs": [
    {
     "name": "stdout",
     "output_type": "stream",
     "text": [
      "enter a list of words: hey,there, , what's, ,up, ,?\n",
      "Original list:  ['hey', 'there', ' ', \" what's\", ' ', 'up', ' ', '?']\n",
      "Modified list:  ['hey', 'there', \" what's\", 'up', '?']\n"
     ]
    }
   ],
   "source": [
    "alist = input('enter a list of words: ').split(',')\n",
    "print('Original list: ',alist)\n",
    "newList = []\n",
    "for char in alist : \n",
    "    if char == ' ' : \n",
    "        pass\n",
    "    else:\n",
    "        newList.append(char)\n",
    "print('Modified list: ',newList)"
   ]
  },
  {
   "cell_type": "markdown",
   "metadata": {
    "id": "UjTy79X6ewce"
   },
   "source": [
    "## Task 11\n",
    "\n",
    "Write a Python program that replaces the last element of first list with second list.\n",
    "\n",
    "===================================================================\n",
    "\n",
    "**Sample Input 1:**\\\n",
    "List_one : [1, 4, 7, 5]\\\n",
    "List_two : [6, 1, 3, 9]\n",
    "\n",
    "**Sample Output 1:**\\\n",
    "[1, 4, 7, 6, 1, 3, 9]\n",
    "\n",
    "===================================================================\n",
    "\n",
    "**Sample Input 2:**\\\n",
    "List_one : [1, 3, 5, 7, 9, 10]\\\n",
    "List_two : [2, 4, 6, 8]\n",
    "\n",
    "**Sample Output 2:**\\\n",
    "[1, 3, 5, 7, 9, 2, 4, 6, 8]\n",
    "\n",
    "===================================================================\n",
    "\n",
    "\n",
    "\n"
   ]
  },
  {
   "cell_type": "code",
   "execution_count": 2,
   "metadata": {
    "id": "bBseKJuse_bX"
   },
   "outputs": [
    {
     "name": "stdout",
     "output_type": "stream",
     "text": [
      "enter a list: 1, 3, 5, 7, 9, 10\n",
      "enter another list: 2,4,6,8\n",
      "[1, 3, 5, 7, 9, 2, 4, 6, 8]\n"
     ]
    }
   ],
   "source": [
    "#to do\n",
    "#taking two lists from user \n",
    "list_one=[int(item1) for item1 in input('enter a list: ').split(',')]\n",
    "list_two=[int(item2) for item2 in input('enter another list: ').split(',')]\n",
    "#slicing to remove the last item from list_one \n",
    "list_three=list_one[:-1:]\n",
    "#storing list_three and list_two into list_four \n",
    "list_four=list_three+list_two\n",
    "print(list_four)\n",
    "\n",
    "\n",
    "    \n"
   ]
  },
  {
   "cell_type": "code",
   "execution_count": 1,
   "metadata": {},
   "outputs": [
    {
     "name": "stdout",
     "output_type": "stream",
     "text": [
      "enter a list: 1, 3, 5, 7, 9, 10\n",
      "enter another list: 2,4,6,8\n",
      "[1, 3, 5, 7, 9, 2, 4, 6, 8]\n"
     ]
    }
   ],
   "source": [
    "list_one=[int(item1) for item1 in input('enter a list: ').split(',')]\n",
    "list_two=[int(item2) for item2 in input('enter another list: ').split(',')]\n",
    "newList=[]\n",
    "for i in range(0,len(list_one)-1):\n",
    "    newList.append(list_one[i])\n",
    "for j in range(len(list_two)):\n",
    "    newList.append(list_two[j])\n",
    "print(newList)"
   ]
  },
  {
   "cell_type": "code",
   "execution_count": 4,
   "metadata": {},
   "outputs": [
    {
     "name": "stdout",
     "output_type": "stream",
     "text": [
      "enter numbers for 1st list: 1,2,3,4\n",
      "enter numbers for 2nd list: 5,6,7,8\n",
      "[1, 2, 3, 5, 6, 7, 8]\n"
     ]
    }
   ],
   "source": [
    "list1 = input('enter numbers for 1st list: ').split(',')\n",
    "newList1 = list1[:-1:]\n",
    "list2 = input('enter numbers for 2nd list: ').split(',')\n",
    "newList2 = newList1 + list2 \n",
    "newList = []\n",
    "for num in newList2 :\n",
    "    newList.append(int(num))\n",
    "print(newList)\n",
    "    "
   ]
  },
  {
   "cell_type": "markdown",
   "metadata": {
    "id": "4pBLPmvre0jv"
   },
   "source": [
    "### Task 12\n",
    "\n",
    "Write a Python program that turns every item of a list into its square.\n",
    "\n",
    "===================================================================\n",
    "\n",
    "**Sample Input 1:**\\\n",
    "[1, 2, 3, 4, 5, 6, 7]\n",
    "\n",
    "**Sample Output 1:**\\\n",
    "[1, 4, 9, 16, 25, 36, 49]\n",
    "\n",
    "===================================================================\n",
    "\n",
    "**Sample Input 2:**\\\n",
    "[3, 5, 1, 6]\n",
    "\n",
    "**Sample Output 2:**\\\n",
    "[9, 25, 1, 36]\n",
    "\n",
    "\n",
    "===================================================================\n",
    "\n",
    "\n",
    "\n",
    "\n",
    "\n"
   ]
  },
  {
   "cell_type": "code",
   "execution_count": 5,
   "metadata": {
    "id": "5NDg0odDfANt"
   },
   "outputs": [
    {
     "name": "stdout",
     "output_type": "stream",
     "text": [
      "enter a list: 3,-5,1,6\n",
      "[9, 25, 1, 36]\n"
     ]
    }
   ],
   "source": [
    "#to do\n",
    "#taking a list from user \n",
    "list_one=[int(item) for item in input('enter a list: ').split(',')]\n",
    "#taking an empty list to store new list \n",
    "newList=[]\n",
    "#loop structure \n",
    "for item1 in list_one:\n",
    "    item1=item1**2 #squaring the items \n",
    "    newList.append(item1) #appending the squared items in newList \n",
    "print(newList)\n"
   ]
  },
  {
   "cell_type": "code",
   "execution_count": 5,
   "metadata": {},
   "outputs": [
    {
     "name": "stdout",
     "output_type": "stream",
     "text": [
      "enter numbers in a list: 3,-5,1,6\n",
      "[9, 25, 1, 36]\n"
     ]
    }
   ],
   "source": [
    "list1 = input('enter numbers in a list: ').split(',')\n",
    "newList1 = []\n",
    "for num in list1 :\n",
    "    newList1.append(int(num)**2)\n",
    "print(newList1)"
   ]
  },
  {
   "cell_type": "markdown",
   "metadata": {
    "id": "WZXnxHTdGrMC"
   },
   "source": [
    "## Optional Tasks (13-15) [Ungraded]"
   ]
  },
  {
   "cell_type": "markdown",
   "metadata": {
    "id": "lvSiLaobU1zY"
   },
   "source": [
    "### Task 13\n",
    "\n",
    "Write a Python program that reads 5 numbers into a list and prints the smallest and largest number and their locations in the list. <font color='red'>[You are not allowed to use the max(), min(), sort(), sorted() functions here]</font>\n",
    "\n",
    "**Hint:** You may assume the first input to be the largest value initially and the largest value’s location to be 0. Similarly, you can assume the first input to be the smallest value initially and the smallest value’s location to be 0. \n",
    "\n",
    "**Note:** You may need to be careful while printing the output. Depending on your code, you might need data conversion.\n",
    "\n",
    "===================================================================\n",
    "\n",
    "**Sample Input:**\\\n",
    "7, 13, -5, 10, 6\n",
    "\n",
    "**Sample Output:**\\\n",
    "My list: [7, 13, -5, 10, 6]\\\n",
    "Smallest number in the list is -5 which was found at index 2\\\n",
    "Largest number in the list is 13 which was found at index 1\n",
    "\n",
    "==================================================================="
   ]
  },
  {
   "cell_type": "code",
   "execution_count": 16,
   "metadata": {},
   "outputs": [
    {
     "name": "stdout",
     "output_type": "stream",
     "text": [
      "enter a list:7,13,-5,10,6\n",
      "My list:  [7, 13, -5, 10, 6]\n",
      "Smallest number in the list is -5 which was found at index 2\n",
      "Largest number in the list is 13 which was found at index 1\n"
     ]
    }
   ],
   "source": [
    "#to do \n",
    "#taking a list from the user \n",
    "list1=[int(item) for item in input('enter a list:').split(',')]\n",
    "print('My list: ',list1) #printing out the list\n",
    "largest=list1[item1] #assuming the first value to be the largest \n",
    "largetLocation=0 #assuming the largest number to be at 0 index \n",
    "smallest=list1[item1] #assuming the first value to be the smallest\n",
    "smallestLocation=0 #assuming the smallest number to be at 0 index \n",
    "for item1 in range(len(list1)):\n",
    "    if(smallest>list1[item1]):\n",
    "        smallest=list1[item1] #storing the len(list1) {value} which is the smallest (-5)\n",
    "        smallestLocation=item1 #storing the item1 {index} which is the smallest (2)\n",
    "    if(largest<list1[item1]):\n",
    "        largest=list1[item1] #storing the len(list1) {value} which is the largest (13)\n",
    "        largestLocation=item1 #storing the item1 {index} at which the largest item exists (1)\n",
    "#printing out the outputs \n",
    "print('Smallest number in the list is',smallest,end=' ')\n",
    "print('which was found at index',smallestLocation)\n",
    "print('Largest number in the list is',largest,end=' ')\n",
    "print('which was found at index',largestLocation)\n"
   ]
  },
  {
   "cell_type": "code",
   "execution_count": 5,
   "metadata": {},
   "outputs": [
    {
     "name": "stdout",
     "output_type": "stream",
     "text": [
      "My list: (7, 13, -5, 10, 6)\n",
      "Smallest number in the list is -5 which was found at index 2\n",
      "Largest number in the list is 13 which was found at index 1\n"
     ]
    }
   ],
   "source": [
    "list1=7, 13, -5, 10, 6\n",
    "print('My list:',list1)\n",
    "for num1 in range(len(list1)):\n",
    "    maximum=list1[0]\n",
    "    maximum_index=0\n",
    "    minimum=list1[0]\n",
    "    minimum_index=0\n",
    "    for num2 in range(1,len(list1)):\n",
    "        if(maximum<list1[num2]):\n",
    "            maximum=list1[num2]\n",
    "            maximum_index=num2\n",
    "        if(minimum>list1[num2]):\n",
    "            minimum=list1[num2]\n",
    "            minimum_index=num2\n",
    "print('Smallest number in the list is',minimum,'which was found at index',minimum_index)\n",
    "print('Largest number in the list is',maximum,'which was found at index',maximum_index)"
   ]
  },
  {
   "cell_type": "markdown",
   "metadata": {
    "id": "rguDZ8SBCHD8"
   },
   "source": [
    "### Task 14\n",
    "Write a Python program that takes two lists as an input from the user. Then print a new list with the **common elements** of both the input lists. \n",
    "\n",
    "*Hint: You may need to create a third list to store the results. You can use membership operators (in, not in) to make sure similar elements are added.*\n",
    "\n",
    "===================================================================\n",
    "\n",
    "**Sample Input 1:**<br/>\n",
    "A, B, C, D\n",
    "\n",
    "\n",
    "C, E , F, B\n",
    "\n",
    "\n",
    "**Sample Output 1:**<br/>\n",
    "['C', 'B']\n",
    "\n",
    "===================================================================\n",
    "\n",
    "**Sample Input 2:**<br/>\n",
    "1, 3, A, H, P\n",
    "\n",
    "\n",
    "A, G, 1, P, O\n",
    "\n",
    "\n",
    "**Sample Output 2:**<br/>\n",
    "['1', 'A', 'P']\n",
    "\n",
    "===================================================================\n"
   ]
  },
  {
   "cell_type": "code",
   "execution_count": 1,
   "metadata": {
    "id": "3iueGiPPGG66"
   },
   "outputs": [
    {
     "name": "stdout",
     "output_type": "stream",
     "text": [
      "enter a list:a,b,c,d\n",
      "enter another list:c,e,f,b\n",
      "['b', 'c']\n"
     ]
    }
   ],
   "source": [
    "# to do\n",
    "#taking two lists from user \n",
    "list1=[str(item) for item in input('enter a list:').split(',')]\n",
    "list2=[str(item) for item in input('enter another list:').split(',')]\n",
    "#taking an empty list to store new list \n",
    "newList=[]\n",
    "#loop structure for list1 \n",
    "for item1 in list1:\n",
    "#loop structure for list2 \n",
    "    for item2 in list2:\n",
    "        if(item1 in item2):\n",
    "            newList.append(item1) #appending all the items present in both in list1 and list2 \n",
    "print(newList)\n",
    "\n",
    "    \n",
    "\n"
   ]
  },
  {
   "cell_type": "code",
   "execution_count": 3,
   "metadata": {},
   "outputs": [
    {
     "name": "stdout",
     "output_type": "stream",
     "text": [
      "enter a list:A,B,C,D\n",
      "enter another list:C,E,F,B\n",
      "['B', 'C']\n"
     ]
    }
   ],
   "source": [
    "# to do\n",
    "#taking two lists from user \n",
    "list1=[str(item) for item in input('enter a list:').split(',')]\n",
    "list2=[str(item) for item in input('enter another list:').split(',')]\n",
    "#taking an empty list to store new list \n",
    "newList=[]\n",
    "#loop structure for list1 \n",
    "for item1 in list1:\n",
    "#loop structure for list2 \n",
    "        if(item1 in list2):\n",
    "            newList.append(item1) #appending all the items present in both in list1 and list2 \n",
    "print(newList)\n"
   ]
  },
  {
   "cell_type": "markdown",
   "metadata": {
    "id": "tjcE5oitCM2s"
   },
   "source": [
    "### Task 15\n",
    "\n",
    "\n",
    "Write a Python program that reads 5 numbers into a list and prints the second largest number and its location or index position on the list. <font color='red'>[You are not allowed to use the max(), sort(), sorted() function here]</font>\n",
    "\n",
    "===================================================================\n",
    "\n",
    "**Sample Input:**\\\n",
    " 7, 13, 2, 10, 6\n",
    "\n",
    "**Sample Output:**\\\n",
    "My list: [7, 13, 2, 10, 6]\\\n",
    "Second largest number in the list is 10 which was found at index 3.\n",
    "\n",
    "==================================================================="
   ]
  },
  {
   "cell_type": "code",
   "execution_count": 11,
   "metadata": {
    "id": "b2TwkUqnGZU-"
   },
   "outputs": [
    {
     "name": "stdout",
     "output_type": "stream",
     "text": [
      "enter a list of 5 numbers: 7,13,2,10,6\n",
      "My list: [7, 13, 2, 10, 6]\n",
      "Second largest number in the list is 10 which was found at 3\n"
     ]
    }
   ],
   "source": [
    "# to do\n",
    "#taking a list of 5 numbers from user \n",
    "list1=[int(item) for item in input('enter a list of 5 numbers: ').split(',')]\n",
    "print('My list:',list1)\n",
    "largest=list1[0] #assuming the first value to be the largest \n",
    "largestLocation=0 #assuming the largest value to be at 0 index \n",
    "largest2=list1[0] #assuming the first value to be the second largest \n",
    "largest2Location=0 #assuimg the second largest value to be at 0 index \n",
    "#loop structure \n",
    "for item1 in range(len(list1)):\n",
    "    if(largest<list1[item1]): #finding the largest value \n",
    "        largest=list1[item1]\n",
    "        largestLocation=item1\n",
    "    if(largest!=list1[item1] and largest2<list1[item1]): #is not largest value and is larger than the largest2= second largest \n",
    "        largest2=list1[item1]\n",
    "        largest2Location=item1\n",
    "#printing out the outputs \n",
    "print('Second largest number in the list is',largest2,end=' ')\n",
    "print('which was found at',largest2Location)"
   ]
  },
  {
   "cell_type": "code",
   "execution_count": 9,
   "metadata": {},
   "outputs": [
    {
     "name": "stdout",
     "output_type": "stream",
     "text": [
      "My list: [7, 13, -5, 10, 6]\n",
      "Second largest number in the list is 10 which was found at index 3\n"
     ]
    }
   ],
   "source": [
    "list1=[7, 13, -5, 10, 6]\n",
    "print('My list:',list1)\n",
    "for num1 in range(len(list1)):\n",
    "    maximum=list1[0]\n",
    "    maximum_index=0\n",
    "    maximum_two=list1[0]\n",
    "    maximum_two_index=0\n",
    "    for num2 in range(1,len(list1)):\n",
    "        if(maximum<list1[num2]):\n",
    "            maximum=list1[num2]\n",
    "            maximum_index=num2\n",
    "        if (maximum_two<list1[num2]) and (list1[num2]!=maximum):\n",
    "            maximum_two=list1[num2]\n",
    "            maximum_two_index=num2\n",
    "print('Second largest number in the list is',maximum_two,'which was found at index',maximum_two_index)"
   ]
  },
  {
   "cell_type": "code",
   "execution_count": null,
   "metadata": {},
   "outputs": [],
   "source": []
  }
 ],
 "metadata": {
  "colab": {
   "collapsed_sections": [],
   "name": "CSE110 Lab Assignment 4.ipynb",
   "provenance": []
  },
  "kernelspec": {
   "display_name": "Python 3",
   "language": "python",
   "name": "python3"
  },
  "language_info": {
   "codemirror_mode": {
    "name": "ipython",
    "version": 3
   },
   "file_extension": ".py",
   "mimetype": "text/x-python",
   "name": "python",
   "nbconvert_exporter": "python",
   "pygments_lexer": "ipython3",
   "version": "3.8.8"
  }
 },
 "nbformat": 4,
 "nbformat_minor": 1
}
