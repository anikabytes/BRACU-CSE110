{
 "cells": [
  {
   "cell_type": "markdown",
   "metadata": {
    "id": "xDNsncrtU1yM"
   },
   "source": [
    "# CSE110 Lab Assignment 3\n",
    "\n",
    "This Assignment is to help you develop your concept of Strings in Python."
   ]
  },
  {
   "cell_type": "markdown",
   "metadata": {
    "id": "gh4GUDaIU1yO"
   },
   "source": [
    "\n",
    "\n",
    "\n",
    "\n",
    "\n",
    "\n",
    "##Write your name, student ID and CSE110 theory section number below:\n",
    "\n",
    "\n",
    "\n",
    "\n",
    "\n"
   ]
  },
  {
   "cell_type": "code",
   "execution_count": null,
   "metadata": {
    "id": "OAYfzLIqgqyE"
   },
   "outputs": [],
   "source": [
    "#STUDENT NAME:ANIKA ISLAM\n",
    "#STUDENT ID:21101298\n",
    "#CSE110 THEORY SECTION: 11"
   ]
  },
  {
   "cell_type": "markdown",
   "metadata": {
    "id": "KD4EKJf6U1yQ"
   },
   "source": [
    "## Write the code in Python to do the following tasks:\n",
    "\n",
    "**<font color='red'>[MUST MAINTAIN VARIABLE NAMING CONVENTIONS FOR ALL THE TASKS]</font>**\n",
    "\n",
    "\n",
    "### Task 1 \n",
    "\n",
    "Write a Python program that will ask the user to input a string (containing exactly one word). Then your program should print subsequent substrings of the given string as shown in the examples below.\n",
    "\n",
    "=====================================================================\n",
    "\n",
    "**Example 1:**\\\n",
    "Input: BANGLA\\\n",
    "Output:\\\n",
    "B\\\n",
    "BA\\\n",
    "BAN\\\n",
    "BANG\\\n",
    "BANGL\\\n",
    "BANGLA\n",
    "\n",
    "=====================================================================\n",
    "\n",
    "**Example 2:**\\\n",
    "Input: DREAM\\\n",
    "Output:\\\n",
    "D\\\n",
    "DR\\\n",
    "DRE\\\n",
    "DREA\\\n",
    "DREAM\n",
    "\n",
    "=====================================================================\n",
    "\n",
    "**Hints(1):** Need to use \"for loop\" for this task.\n",
    "\n",
    "**Hints(2):** Need to use print() function for printing newlines.\n",
    "\n",
    "For example:\\\n",
    "print(1)\\\n",
    "print(2)\n",
    "\n",
    "Output:\\\n",
    "1\\\n",
    "2\n",
    "\n",
    "=====================================================================\n",
    "\n",
    "We need use print(end = \"\") to skip printing the additional newline.\n",
    "\n",
    "For example:\\\n",
    "print(1, end =\" \")\\\n",
    "print(2)\n",
    "\n",
    "Output:(prints the following output right next to the previous one)\\\n",
    "12\n",
    "\n",
    "=====================================================================\n",
    "\n",
    "\n",
    "\n",
    "\n"
   ]
  },
  {
   "cell_type": "code",
   "execution_count": 2,
   "metadata": {
    "id": "vJhpmj2XU1yR"
   },
   "outputs": [
    {
     "name": "stdout",
     "output_type": "stream",
     "text": [
      "enter a word: 1234\n",
      "1\n",
      "12\n",
      "123\n",
      "1234\n"
     ]
    }
   ],
   "source": [
    "#to do\n",
    "#taking a word from user\n",
    "word=input('enter a word: ')\n",
    "#taking an empty string to put the new word \n",
    "string=''\n",
    "#loop structure \n",
    "for char in word:\n",
    "    #taking character from word and concatanate with string\n",
    "    string=string+char\n",
    "    print(string)\n",
    "    \n",
    "    \n",
    "    "
   ]
  },
  {
   "cell_type": "code",
   "execution_count": 2,
   "metadata": {},
   "outputs": [
    {
     "name": "stdout",
     "output_type": "stream",
     "text": [
      "Enter a word: BANGLA\n",
      "B\n",
      "BA\n",
      "BAN\n",
      "BANG\n",
      "BANGL\n",
      "BANGLA\n"
     ]
    }
   ],
   "source": [
    "word = input('Enter a word: ')\n",
    "newWord = ''\n",
    "for char in word:\n",
    "    newWord+=char\n",
    "    print(newWord)"
   ]
  },
  {
   "cell_type": "markdown",
   "metadata": {
    "id": "pbdeIVcyU1yi"
   },
   "source": [
    "### Task 2\n",
    "\n",
    "Write a Python program that will ask the user to enter a  word as an input. \n",
    "\n",
    "* If the length of the input string is less than 4, then your program should print the same string as an output. \n",
    "* If the input string’s length is greater than 3, then your program should add \"er\" at the end of the input string. \n",
    "* If the input string already ends with \"er\", then add \"est\" instead. \n",
    "* If the input string already ends with \"est\", then your program should print the same input string as an output.\n",
    "\n",
    "=====================================================================\n",
    "\n",
    "**Example 1:**\\\n",
    "Input: strong\\\n",
    "Output: stronger\n",
    "\n",
    "=====================================================================\n",
    "\n",
    "**Example 2:**\\\n",
    "Input: stronger\\\n",
    "Output: strongest\n",
    "\n",
    "=====================================================================\n",
    "\n",
    "**Example 3:**\\\n",
    "Input: strongest\\\n",
    "Output: strongest\n",
    "\n",
    "=====================================================================\n",
    "\n",
    "**Example 4:**\\\n",
    "Input: abc\\\n",
    "Output: abc\n",
    "\n",
    "====================================================================="
   ]
  },
  {
   "cell_type": "code",
   "execution_count": 32,
   "metadata": {
    "id": "A5df9pmJU1yj"
   },
   "outputs": [
    {
     "name": "stdout",
     "output_type": "stream",
     "text": [
      "enter a word: strang\n",
      "stranger\n"
     ]
    }
   ],
   "source": [
    "#to do\n",
    "#taking a word from user \n",
    "word=input('enter a word: ')\n",
    "#if-else condition \n",
    "if(word.endswith('er')):\n",
    "        print(word.replace('er','est')) #word ends with 'er' replaces 'er' with 'est'\n",
    "elif(word.endswith('est')): \n",
    "        print(word) #word ends with 'est' prints the same word as input \n",
    "else:\n",
    "    if(len(word)<4): \n",
    "        print(word) #lenght of word is less than 4, prints the same word as input \n",
    "    elif(len(word)>3):\n",
    "        word=word+'er' #lenght of word is greater than 3, prints with 'er' at the end \n",
    "        print(word)\n"
   ]
  },
  {
   "cell_type": "code",
   "execution_count": 10,
   "metadata": {},
   "outputs": [
    {
     "name": "stdout",
     "output_type": "stream",
     "text": [
      "Enter a word: abd\n",
      "abd\n"
     ]
    }
   ],
   "source": [
    "word = input('Enter a word: ')\n",
    "if word.endswith('er') :\n",
    "    print(word.replace('er','est'))\n",
    "elif word.endswith('est') :\n",
    "    print(word)\n",
    "else:\n",
    "    if len(word) > 3 :\n",
    "        print(word+'er')\n",
    "    elif len(word) < 4 :\n",
    "        print(word)\n"
   ]
  },
  {
   "cell_type": "markdown",
   "metadata": {
    "id": "PsBbgc4YU1yp"
   },
   "source": [
    "### Task 3\n",
    "\n",
    "Write a Python program that will ask the user to input a string (containing exactly one word). Then print the ASCII code for each character in the String using the ord() function. \n",
    "\n",
    "To check if your program is working correctly or not, you can find a list of all correct values from the following website. Look at “Dec” and “Char” columns only, ignore other columns.\\\n",
    "link: http://www.asciitable.com/\n",
    "\n",
    "=====================================================================\n",
    "\n",
    "**Example 1:**\\\n",
    "Input: Programming\\\n",
    "Output:\\\n",
    "P : 80\\\n",
    "r : 114\\\n",
    "o : 111\\\n",
    "g : 103\\\n",
    "r : 114\\\n",
    "a : 97\\\n",
    "m : 109\\\n",
    "m : 109\\\n",
    "i : 105\\\n",
    "n : 110\\\n",
    "g : 103\n",
    "\n",
    "=====================================================================\n",
    "\n",
    "**Example 2:**\\\n",
    "Input: hunger\\\n",
    "Output:\\\n",
    "h : 104\\\n",
    "u : 117\\\n",
    "n : 110\\\n",
    "g : 103\\\n",
    "e : 101\\\n",
    "r : 114 \n",
    "\n",
    "====================================================================="
   ]
  },
  {
   "cell_type": "code",
   "execution_count": 7,
   "metadata": {
    "id": "r8by7ONZU1ys"
   },
   "outputs": [
    {
     "name": "stdout",
     "output_type": "stream",
     "text": [
      "enter a word: hunger\n",
      "h : 104\n",
      "u : 117\n",
      "n : 110\n",
      "g : 103\n",
      "e : 101\n",
      "r : 114\n"
     ]
    }
   ],
   "source": [
    "#to do\n",
    "#taking a word from user \n",
    "word=input('enter a word: ')\n",
    "#loop structure \n",
    "for char in word:\n",
    "    print(char,':'+'',ord(char)) #prints out the ASCII code of each characters of the word \n"
   ]
  },
  {
   "cell_type": "code",
   "execution_count": 12,
   "metadata": {},
   "outputs": [
    {
     "name": "stdout",
     "output_type": "stream",
     "text": [
      "Enter a word: hunger\n",
      "h : 104\n",
      "u : 117\n",
      "n : 110\n",
      "g : 103\n",
      "e : 101\n",
      "r : 114\n"
     ]
    }
   ],
   "source": [
    "word = input('Enter a word: ')\n",
    "for char in word:\n",
    "    print(char,':',ord(char))"
   ]
  },
  {
   "cell_type": "markdown",
   "metadata": {
    "id": "O8lIVppgU1yw"
   },
   "source": [
    "### Task 4\n",
    "\n",
    "Take a string as a input from the user with all small letters. Then print the next alphabet in sequence for each alphabet found in the input.\n",
    "\n",
    "=====================================================================\n",
    "\n",
    "\n",
    "*Hint: You need to use functions ord() and chr(). The ASCII value of ‘a’ is 97 and ‘z’ is 122.*\n",
    "\n",
    "=====================================================================\n",
    "\n",
    "**Example 1:**\\\n",
    "Input: abcd\\\n",
    "Output: bcde\n",
    "\n",
    "=====================================================================\n",
    "\n",
    "**Example 2:**\\\n",
    "Input: the cow\\\n",
    "Output: uif!dpx\n",
    "\n",
    "=====================================================================\n",
    "\n",
    "**Example 3: <font color='red'>[Must fulfil this criteria]</font>**\\\n",
    "Input: xyzabc\\\n",
    "Output: yzabcd\n",
    "\n",
    "=====================================================================\n"
   ]
  },
  {
   "cell_type": "code",
   "execution_count": 2,
   "metadata": {
    "id": "Hyvy8WNNU1yx"
   },
   "outputs": [
    {
     "name": "stdout",
     "output_type": "stream",
     "text": [
      "enter a name: the cow\n",
      "uif!dpx"
     ]
    }
   ],
   "source": [
    "#to do\n",
    "#taking  a word from user \n",
    "words=input('enter a name: ')\n",
    "#loop structure \n",
    "for char in words:\n",
    "    char1=ord(char)+1 #storing the ASCII code of character plus 1 in char1 to get the next ASCII code of char as input \n",
    "    char2=chr(char1) #storing char1 in char2 to get the char1 back from its ASCII code\n",
    "    if(char=='z'):\n",
    "        print('a',end='') #if char is z, then print a after it in the sequence \n",
    "    else:    \n",
    "        print(char2,end='') "
   ]
  },
  {
   "cell_type": "code",
   "execution_count": 17,
   "metadata": {},
   "outputs": [
    {
     "name": "stdout",
     "output_type": "stream",
     "text": [
      "enter a word: the cow\n",
      "uif!dpx"
     ]
    }
   ],
   "source": [
    "word = input('enter a word: ')\n",
    "word = word.lower()\n",
    "for char in word:\n",
    "    if char == 'z':\n",
    "        print('a',end='')\n",
    "    else:\n",
    "        print(chr(ord(char)+1),end='')"
   ]
  },
  {
   "cell_type": "markdown",
   "metadata": {
    "id": "leVtdAsdymXM"
   },
   "source": [
    "### Task 5\n",
    "\n",
    "Write a Python program that will ask the user to enter two strings (s1, s2) as an input. Then create a mixed string with alternative characters from each string. Any leftover chars will be appended at the end of the resulting string.\n",
    "\n",
    "=====================================================================\n",
    "\n",
    "*Hint: For adding the leftover characters you may use string slicing.*\n",
    "\n",
    "=====================================================================\n",
    "\n",
    "**Example 1:**\\\n",
    "Input:\\\n",
    "\"ABCD\"\\\n",
    "\"efgh\"\n",
    "\n",
    "Output:\\\n",
    "AeBfCgDh\n",
    "\n",
    "=====================================================================\n",
    "\n",
    "**Example 2:**\\\n",
    "Input:\\\n",
    "\"ABCDENDFGH\"\\\n",
    "\"ijkl\"\n",
    "\n",
    "Output:\\\n",
    "AiBjCkDlENDFGH\n",
    "\n",
    "=====================================================================\n",
    "\n",
    "**Example 3:**\\\n",
    "Input:\\\n",
    "\"ijkl\"\\\n",
    "\"ABCDENDFGH\"\n",
    "\n",
    "Output:\\\n",
    "iAjBkClDENDFGH\n",
    "\n",
    "=====================================================================\n"
   ]
  },
  {
   "cell_type": "code",
   "execution_count": 44,
   "metadata": {
    "id": "kC1cq47myny6"
   },
   "outputs": [
    {
     "name": "stdout",
     "output_type": "stream",
     "text": [
      "enter your 1st string: ABCD\n",
      "enter your 2nd string: IH\n",
      "AIBHCD\n"
     ]
    }
   ],
   "source": [
    "#todo\n",
    "#taking two strings from user \n",
    "s1=input('enter your 1st string: ')\n",
    "s2=input('enter your 2nd string: ')\n",
    "#taking two counters \n",
    "char1=0\n",
    "char2=0\n",
    "#taking an empty string \n",
    "string=''\n",
    "#loop structure \n",
    "while (char1<len(s1)) or (char2<len(s2)):\n",
    "    if (char1<len(s1)):\n",
    "        string=string+s1[char1] #if char1 in s1 is less than len(s1),then find concatanate the index of s1 with string \n",
    "        char1=char1+1 #updating loop centre \n",
    "    if(char2<len(s2)):\n",
    "        string=string+s2[char2] #if char2 in s2 is less than len(s2),then find concatanate the index of s2 with string \n",
    "        char2=char2+1 #updating loop centre \n",
    "print(string) #alternative char from s1 and s2 are printed (A from s1 and e from s2 are printed side by side)\n",
    "  \n"
   ]
  },
  {
   "cell_type": "code",
   "execution_count": 36,
   "metadata": {},
   "outputs": [
    {
     "name": "stdout",
     "output_type": "stream",
     "text": [
      "enter a word: hello\n",
      "enter another word: bro\n",
      "hberlolo\n"
     ]
    }
   ],
   "source": [
    "word1 = input('enter a word: ')\n",
    "word2 = input('enter another word: ')\n",
    "ans = ''\n",
    "char1 = 0 \n",
    "char2 = 0\n",
    "while char1 < len(word1) or char2 < len(word2) :\n",
    "    if char1 < len(word1) :\n",
    "        ans += word1[char1]\n",
    "        char1+=1\n",
    "    if char2 < len(word2) : \n",
    "        ans += word2[char2]\n",
    "        char2+=1\n",
    "print(ans)\n"
   ]
  },
  {
   "cell_type": "code",
   "execution_count": 51,
   "metadata": {},
   "outputs": [
    {
     "name": "stdout",
     "output_type": "stream",
     "text": [
      "ABCD\n"
     ]
    }
   ],
   "source": [
    "n='ABCD'\n",
    "m='ih'\n",
    "s=''\n",
    "if(len(n)>len(m)):\n",
    "    for i in range(len(n)):\n",
    "        s+=n[i]\n",
    "if(len(n)<len(m)):\n",
    "    for j in range(len(m)):\n",
    "        s+=m[j]\n",
    "print(s)"
   ]
  },
  {
   "cell_type": "markdown",
   "metadata": {
    "id": "AWQJrJW3U1y3"
   },
   "source": [
    "### Task 6\n",
    "Given a string, create a new string with all the consecutive duplicates **removed**. \n",
    "\n",
    "=====================================================================\n",
    "\n",
    "**Hint:** You may make a new string to store the result. You can check whether the current character and the next character are the same, then add that character to the new string.\n",
    "\n",
    "=====================================================================\n",
    "\n",
    "\n",
    "**Sample Input**:\\\n",
    "AAABBBBCDDBBECE\n",
    "\n",
    "**Sample Output:**\\\n",
    "ABCDBECE\n",
    "\n",
    "=====================================================================\n"
   ]
  },
  {
   "cell_type": "code",
   "execution_count": 52,
   "metadata": {
    "id": "oNv_JNgUU1y4"
   },
   "outputs": [
    {
     "name": "stdout",
     "output_type": "stream",
     "text": [
      "enter your input: AAABBBBCDDBBECE\n",
      "ABCDBECE\n"
     ]
    }
   ],
   "source": [
    "#todo\n",
    "#taking a word from user \n",
    "word=input('enter your input: ') #AAABBBBCDDBBECE\n",
    "#taking an empty string \n",
    "newWord=''\n",
    "#loop structure \n",
    "for char in range(len(word)):\n",
    "    if(char==0): #only when counting when a character is at 0,A \n",
    "        newWord+=word[char] \n",
    "    elif(word[char]!=word[char-1]):#checking when index of character in word is 1 or more, whether or not it is the same as the previous character or not\n",
    "                                   #At index of character in word=1,word=A and at index=0, it's also A,so, no need to add A again \n",
    "        newWord+=word[char]\n",
    "print(newWord) #output \n",
    "        \n",
    "    \n"
   ]
  },
  {
   "cell_type": "code",
   "execution_count": 39,
   "metadata": {},
   "outputs": [
    {
     "name": "stdout",
     "output_type": "stream",
     "text": [
      "enter a word: aaappppaa\n",
      "apa\n"
     ]
    }
   ],
   "source": [
    "word = input('enter a word: ')\n",
    "ans = ''\n",
    "for char in range(len(word)) :\n",
    "    if char == 0 :\n",
    "        ans += word[char]\n",
    "    elif word[char] != word[char-1] :\n",
    "        ans+=word[char]\n",
    "print(ans)"
   ]
  },
  {
   "cell_type": "code",
   "execution_count": 59,
   "metadata": {},
   "outputs": [
    {
     "name": "stdout",
     "output_type": "stream",
     "text": [
      "ABCDBECE"
     ]
    }
   ],
   "source": [
    "word='AAABBBBCDDBBECE'\n",
    "list1=[]\n",
    "a=''\n",
    "for i in range(len(word)):\n",
    "    if(word[i]!=word[i-1]):\n",
    "        list1.append(word[i])\n",
    "for j in list1:\n",
    "    print(j,end='')"
   ]
  },
  {
   "cell_type": "markdown",
   "metadata": {
    "id": "4zI6tmFN0i4y"
   },
   "source": [
    "### Task 7\n",
    "\n",
    "Write a python program that takes 2 inputs from the user, where the first input is a string with length greater than 1. The second input is the index of the first given string from where you have to start reversing. Then print the new string back to the user.\n",
    "\n",
    "=====================================================================\n",
    "\n",
    "**Sample Input 1:**\n",
    "\n",
    "72418\n",
    "\n",
    "4\n",
    "\n",
    "**Sample Output 1:**\n",
    "\n",
    "81427\n",
    "\n",
    "\n",
    "**Explanation**: Our second input, index '4' is the last index of our first input String '72418', hence the entire string is reversed giving us '81427'.\n",
    "\n",
    "=====================================================================\n",
    "\n",
    "**Sample Input 2:**\n",
    "\n",
    "12345 \n",
    "\n",
    "2\n",
    "\n",
    "**Sample Output 2:**\n",
    "\n",
    "32145\n",
    "\n",
    "**Explanation**: The second input is '2' so we have to reverse from index 2 of our first input. The 2nd index of our first input String is '3', index 1 is '2' and index 0 is '1'. Hence, if we reverse indexes 0 to 2, we get '321'. Index 3 and 4 which is '4' and '5' respectively remains unchanged hence our final output is '32145'.\n",
    "\n",
    "=====================================================================\n",
    "\n",
    "**Sample Input 3:**\n",
    "\n",
    "aBcd1234defg\n",
    "\n",
    "5\n",
    "\n",
    "**Sample Output 3:**\n",
    "\n",
    "21dcBa34defg\n",
    "\n",
    "**Explanation**: From our first input String 'aBcd1234defg', \n",
    "\n",
    "index 0 = 'a'\n",
    "\n",
    "index 1 = 'B'\n",
    "\n",
    "index 2 = 'c'\n",
    "\n",
    "index 3 = 'd'\n",
    "\n",
    "index 4 = '1'\n",
    "\n",
    "index 5 = '2'\n",
    "\n",
    "index 6 = '3'\n",
    "\n",
    "Since our second input is 5, index 0 to index 5 is reversed and we have '21dcBa' and the rest is unchanged from indexes 6 to 11 ('34defg'). Therefore, we have '21dcBa34defg' finally.\n",
    "\n",
    "=====================================================================\n"
   ]
  },
  {
   "cell_type": "code",
   "execution_count": 67,
   "metadata": {
    "id": "NoqaHxEq81np"
   },
   "outputs": [
    {
     "name": "stdout",
     "output_type": "stream",
     "text": [
      "enter a number: 123456\n",
      "Index: 2\n",
      "321456\n"
     ]
    }
   ],
   "source": [
    "#to do\n",
    "#taking a number1 and number2 as inputs \n",
    "number1=input('enter a number: ')\n",
    "number2=int(input('Index: '))\n",
    "#taking an empty string \n",
    "string=''\n",
    "#loop structure \n",
    "for  char in range(len(number1)): #characters present within the lenght of number1 \n",
    "    if(char<=number2): #condition:character in number1 is less than or equal to that in the index in number\n",
    "        string=number1[char]+string#reverses the string from the index in number2 at index=0 (3 from number1 is in the index[2] of number2\n",
    "                                    #and reverses all the characters of number1 upto the index of number2 (reverses 123 to 321)\n",
    "    else:\n",
    "        string=string+number1[char] #adds the rest of number1 after the reverse is done (adds 45,the remaining characters,123+45=12345)\n",
    "print(string)    \n",
    "    \n",
    "   \n",
    "    \n",
    "    \n"
   ]
  },
  {
   "cell_type": "code",
   "execution_count": 44,
   "metadata": {},
   "outputs": [
    {
     "name": "stdout",
     "output_type": "stream",
     "text": [
      "enter a number: 12345\n",
      "enter a number from where swapping will occur: 3\n",
      "43215\n"
     ]
    }
   ],
   "source": [
    "number = input('enter a number: ')\n",
    "index = int(input('enter a number from where swapping will occur: '))\n",
    "ans = ''\n",
    "for char in range(len(number)) :\n",
    "    if char <= index :\n",
    "        ans = number[char] + ans \n",
    "    else:\n",
    "        ans += number[char]\n",
    "print(ans)"
   ]
  },
  {
   "cell_type": "markdown",
   "metadata": {
    "id": "G1KGod9C87t_"
   },
   "source": [
    "### Task 8\n",
    "\n",
    "Write a python program that splits a given string on a given split character. The first input is a String and the second input is the character that will be used to split the first String. <font color='red'>[You cannot use the built-in split function]</font>\n",
    "\n",
    "=====================================================================\n",
    "\n",
    "**Sample Input 1:**<br/>\n",
    "This-is-CSE110<br/>\n",
    "-<br/>\n",
    "\n",
    "**Sample Output 1:**<br/>\n",
    "This<br/>\n",
    "is<br/>\n",
    "CSE110\n",
    "\n",
    "**Explanation**: The second input which is the character '-', is used to split or divide the first input String 'This-is-CSE110' into 'This', 'is' and 'CSE110' which are printed individually in seperate lines.\n",
    "\n",
    "=====================================================================\n",
    "\n",
    "**Sample Input 2**:\n",
    "tom@gmail,harry@yahoo,bob@gmail,mary@gmail\n",
    "\n",
    ",\n",
    "\n",
    "**Sample Output 2**:\n",
    "\n",
    "tom@gmail\n",
    "\n",
    "harry@yahoo\n",
    "\n",
    "bob@gmail\n",
    "\n",
    "mary@gmail\n",
    "\n",
    "====================================================================="
   ]
  },
  {
   "cell_type": "code",
   "execution_count": 10,
   "metadata": {
    "id": "A9zuROkY9qre"
   },
   "outputs": [
    {
     "name": "stdout",
     "output_type": "stream",
     "text": [
      "enter your input: this-is-CSE110\n",
      "enter:-\n",
      "this\n",
      "is\n",
      "CSE110"
     ]
    }
   ],
   "source": [
    "#to do\n",
    "#taking word from user \n",
    "word=input('enter your input: ')\n",
    "#taking a string from where the spliting will take place \n",
    "split=input('enter:')\n",
    "#loop structure \n",
    "for char in word:\n",
    "    if(char==split):\n",
    "        print() #if character in word is found in split, the characters next to split goes to next line \n",
    "                #(- is the split so is goes to next line below this and CSE110 goes to next line after is)\n",
    "    else:\n",
    "        print(char,end='') #if character in word is not found in split, the characters remains in same line\n",
    "                           #(- is not present between this so this is printed as it is )\n"
   ]
  },
  {
   "cell_type": "code",
   "execution_count": 46,
   "metadata": {},
   "outputs": [
    {
     "name": "stdout",
     "output_type": "stream",
     "text": [
      "enter : anika,kaniz,esha\n",
      "enter the special character : ,\n",
      "anika\n",
      "kaniz\n",
      "esha"
     ]
    }
   ],
   "source": [
    "word = input('enter : ')\n",
    "split = input('enter the special character : ')\n",
    "for char in word :\n",
    "    if char == split :\n",
    "        print()\n",
    "    else:\n",
    "        print(char,end='')"
   ]
  },
  {
   "cell_type": "markdown",
   "metadata": {
    "id": "lPoDvm8YU1y9"
   },
   "source": [
    "### Task 9\n",
    "\n",
    "Suppose you are given two strings, s1, and s2. Now, print a new string made up of the last characters and then the first characters of the input strings.\n",
    "\n",
    "=====================================================================\n",
    "\n",
    "**Sample Input 1**:\n",
    "\n",
    "s1 = new\n",
    "\n",
    "s2= string\n",
    "\n",
    "**Sample Output 1**:\n",
    "\n",
    "gwsn\n",
    "\n",
    "**Explanation:** The last character of the String s2 is 'g'. The last character of the String s1 is 'w'. The first character of the String s2 is 's'. The first character of the String s1 is 'n'. Together they give us the ouput we want 'gwsn'.\n",
    "\n",
    "=====================================================================\n",
    "\n",
    "**Sample Input 2**:\n",
    "\n",
    "s1 = abcd\n",
    "\n",
    "s2= efgh\n",
    "\n",
    "**Sample Output 2**: \n",
    "\n",
    "hdea\n",
    "\n",
    "**Explanation:** The last characters of the Strings s2 and s1 is 'h' and 'd' respectively while the first characters of the Strings is 'e' and 'a' respectively. Together they give us the ouput we want 'gwsn'.\n",
    "\n",
    "=====================================================================\n"
   ]
  },
  {
   "cell_type": "code",
   "execution_count": 21,
   "metadata": {
    "id": "z26BN9B3U1y_"
   },
   "outputs": [
    {
     "name": "stdout",
     "output_type": "stream",
     "text": [
      "enter a number:new\n",
      "enter a number:string\n",
      "gwsn\n"
     ]
    }
   ],
   "source": [
    "#to do\n",
    "#taking s1 and s2 as inputs \n",
    "s1=input('enter a number:')\n",
    "s2=input('enter a number:')\n",
    "#taking an empty string\n",
    "string=''\n",
    "#loop structure \n",
    "for char in range(len(s1)): #characters present within the lenght of s1\n",
    "            if(char==0):\n",
    "                first_s1=s1[0] #storing first character of s1\n",
    "            elif(char==len(s1)-1):\n",
    "                last_s1=s1[-1] #storing last character of s1 \n",
    "                \n",
    "for char in range(len(s2)): #characters present within the lenght of s2\n",
    "            if(char==0):\n",
    "                first_s2=s2[0] #storing first character of s2\n",
    "            elif(char==len(s2)-1):\n",
    "                last_s2=s2[-1] #storing last character of s2\n",
    "\n",
    "string1=last_s2+last_s1 #storing the sum of last character of s2 and last character of s1\n",
    "string2=first_s2+first_s1 #storing the sum of first character of s2 and first character of s1\n",
    "string=string1+string2 #storing the sum of string_1 and string_2\n",
    "print(string)"
   ]
  },
  {
   "cell_type": "code",
   "execution_count": 49,
   "metadata": {},
   "outputs": [
    {
     "name": "stdout",
     "output_type": "stream",
     "text": [
      "enter a word: new\n",
      "enter another word: string\n",
      "gwsn\n"
     ]
    }
   ],
   "source": [
    "s1 = input('enter a word: ')\n",
    "s2 = input('enter another word: ')\n",
    "for char in range(len(s1)):\n",
    "    ans = s2[-1] + s1[-1] + s2[0] + s1[0]\n",
    "print(ans)"
   ]
  },
  {
   "cell_type": "markdown",
   "metadata": {
    "id": "ZrjtT-I_U1zD"
   },
   "source": [
    "### Task 10\n",
    "\n",
    "Write a Python program that takes a String as input from the user, removes the characters at even index and prints the resulting String in uppercase.\n",
    "\n",
    "=====================================================================\n",
    "\n",
    "**Sample Input 1**:\n",
    "\n",
    "String\n",
    "\n",
    "**Sample Output 1**: \n",
    "\n",
    "TIG\n",
    "\n",
    "**Explanation**: The characters 'S', 'r' and 'n' are at index positions 0, 2, and 4 respectively. Hence they are removed and the remaining characters 'tig' are capitalized giving us output 'TIG'.\n",
    "\n",
    "=====================================================================\n",
    "\n",
    "**Sample Input 2**:\n",
    "\n",
    "abcd\n",
    "\n",
    "**Sample Output 2**: \n",
    "\n",
    "BD\n",
    "\n",
    "=====================================================================\n"
   ]
  },
  {
   "cell_type": "code",
   "execution_count": 70,
   "metadata": {
    "id": "3r7Ripj7U1zE"
   },
   "outputs": [
    {
     "name": "stdout",
     "output_type": "stream",
     "text": [
      "enter a number: abcd\n",
      "BD"
     ]
    }
   ],
   "source": [
    "#to do\n",
    "#taking word from user \n",
    "word=input('enter a number: ')\n",
    "#loop structure \n",
    "for char in range(len(word)):\n",
    "    if(char==0): #skip the first character and continue the loop (string,remove 's' and remaining'tring')\n",
    "        continue\n",
    "    elif(char%2!=0): #if number of character is even, \n",
    "        word1=word[char].upper()\n",
    "        print(word1,end='')\n",
    "#     else:\n",
    "#         if(word!=word1):\n",
    "#             word2=word[char]\n",
    "#             print(word2.upper(),end='')\n",
    "#         else:\n",
    "#             break \n",
    "        \n",
    "       "
   ]
  },
  {
   "cell_type": "code",
   "execution_count": 68,
   "metadata": {},
   "outputs": [
    {
     "name": "stdout",
     "output_type": "stream",
     "text": [
      "enter a word: abcd\n",
      "BD"
     ]
    }
   ],
   "source": [
    "word = input('enter a word: ')\n",
    "for char in range(len(word)):\n",
    "    if char%2 != 0 :\n",
    "        print(chr(ord(word[char])-32),end='')"
   ]
  },
  {
   "cell_type": "code",
   "execution_count": 62,
   "metadata": {},
   "outputs": [
    {
     "name": "stdout",
     "output_type": "stream",
     "text": [
      "O\n"
     ]
    }
   ],
   "source": [
    "ans = 'o' \n",
    "print(chr(ord(ans)-32))"
   ]
  },
  {
   "cell_type": "markdown",
   "metadata": {
    "id": "AWgZaBZCzmaM"
   },
   "source": [
    "### Task 11\n",
    "\n",
    "Write a python program that takes two inputs. The first input is a string and the second input is a number. If the number is even then concatenate the given string two times the given number and if the number is odd then concatenate the given string three times the given number.\n",
    "\n",
    "=====================================================================\n",
    "\n",
    "**Sample Input 1**:\n",
    "\n",
    "CSE110\n",
    "\n",
    "4\n",
    "\n",
    "**Sample output 1**:\n",
    "\n",
    "CSE110CSE110CSE110CSE110CSE110CSE110CSE110CSE110\n",
    "\n",
    "**Explanation**: The second input which is the number 4 is even, therefore the first string input 'CSE110' is concatenated(joined together) 4*2 = 8 times.\n",
    "\n",
    "=====================================================================\n",
    "\n",
    "**Sample Input 2**:\n",
    "\n",
    "CSE110\n",
    "\n",
    "3\n",
    "\n",
    "**Sample Output 2**:\n",
    "\n",
    "CSE110CSE110CSE110CSE110CSE110CSE110CSE110CSE110CSE110\n",
    "\n",
    "=====================================================================\n"
   ]
  },
  {
   "cell_type": "code",
   "execution_count": 14,
   "metadata": {
    "id": "ICW-03YOznTp"
   },
   "outputs": [
    {
     "name": "stdout",
     "output_type": "stream",
     "text": [
      "enter a word:cse110\n",
      "enter a number:3\n",
      "cse110cse110cse110cse110cse110cse110cse110cse110cse110\n"
     ]
    }
   ],
   "source": [
    "#to do\n",
    "#taking a word from user \n",
    "word=input('enter a word:')\n",
    "#taking a number from user \n",
    "number=int(input('enter a number:'))\n",
    "#if-else condition \n",
    "if(number%2==0):\n",
    "    number1=number*2\n",
    "    print(word*number1) #even number input, gives even number*2 times the word output  \n",
    "else:\n",
    "    number2=number*3\n",
    "    print(word*number2) #odd number input, gives odd number*3 times the word output \n"
   ]
  },
  {
   "cell_type": "code",
   "execution_count": 73,
   "metadata": {},
   "outputs": [
    {
     "name": "stdout",
     "output_type": "stream",
     "text": [
      "enter a word: anika\n",
      "enter a number: 2\n",
      "anikaanikaanikaanika\n"
     ]
    }
   ],
   "source": [
    "word = input('enter a word: ')\n",
    "number = int(input('enter a number: '))\n",
    "if number%2 == 0 :\n",
    "    print(word*number*2)\n",
    "else:\n",
    "    print(word*number*3)"
   ]
  },
  {
   "cell_type": "markdown",
   "metadata": {
    "id": "7a_1pYjfU1zI"
   },
   "source": [
    "### Task 12\n",
    "\n",
    "Write a python program that takes 2 inputs from the user. The first input is a string and the second input is a letter. The program should remove all occurences of the letter from the given string and print the output. If the letter is not found in the string and the length of string is greater than 3, then remove the first letter and last letter of the given string and print it. Otherwise print the string as it is. [You can assume that all the input will be in lowercase letter]\n",
    "\n",
    "=====================================================================\n",
    "\n",
    "\n",
    "**Sample Input 1**:\n",
    "\n",
    "tanjiro kamado\n",
    "\n",
    "a\n",
    "\n",
    "**Sample output 1**:\n",
    "\n",
    "tnjiro kmdo\n",
    "\n",
    "**Explanation**: All 3 instances of the character 'a' is removed from the input String 'tanjiro kamado' to give us output 'tnjiro kmdo'.\n",
    "\n",
    "=====================================================================\n",
    "\n",
    "**Sample Input 2**:\n",
    "\n",
    "eren yeager\n",
    "\n",
    "k\n",
    "\n",
    "\n",
    "**Sample Output 2**:\n",
    "\n",
    "ren yeage\n",
    "\n",
    "**Explanation**: The character 'k' is absent in the first input String 'eren yeager' and it's length is 11 which is greater than 3 therefore the first character 'e' and the last character 'r' is removed. Hence, the final String is 'ren yeage'.\n",
    "\n",
    "=====================================================================\n",
    "\n",
    "Sample Input 3:\n",
    "\n",
    "hi\n",
    "\n",
    "a\n",
    "\n",
    "Sample Output 3:\n",
    "\n",
    "hi\n",
    "\n",
    "**Explanation**: The letter 'a' is not found in our first input 'hi', the length of which is 2. Since the character is not present and the length is less than 3, we print the String 'hi' as it is.\n",
    "\n",
    "=====================================================================\n"
   ]
  },
  {
   "cell_type": "code",
   "execution_count": 86,
   "metadata": {
    "id": "vToa7yazU1zI"
   },
   "outputs": [
    {
     "name": "stdout",
     "output_type": "stream",
     "text": [
      "enter a word: wifi\n",
      "enter a letter: i\n",
      "wf\n"
     ]
    }
   ],
   "source": [
    "#to do\n",
    "#taking a word as input \n",
    "word=input('enter a word: ')\n",
    "#taking a letter as input \n",
    "letter=input('enter a letter: ')\n",
    "#if-else condition \n",
    "if(letter in word):#letter present in word (o in hello)\n",
    "    newWord='' #taking an empty string to store the new word       \n",
    "    #loop structure \n",
    "    for char in word:\n",
    "             if(letter==char): \n",
    "                pass\n",
    "             else:#if letter not present in character in word (o in letter in 0 index and o in word in 4 index)\n",
    "                newWord=newWord+char #storing character in new word (excluding o from hello)\n",
    "    print(newWord)\n",
    "elif(letter not in word): #letter not present in word \n",
    "            if(len(word)>3):\n",
    "                print(word[1:-1]) #length of word is greater than 3, then print word removing first and last character \n",
    "            else:\n",
    "                print(word) #print the word as it is \n"
   ]
  },
  {
   "cell_type": "code",
   "execution_count": 89,
   "metadata": {},
   "outputs": [
    {
     "name": "stdout",
     "output_type": "stream",
     "text": [
      "enter a word: hell\n",
      "enter a letter: l\n",
      "he"
     ]
    }
   ],
   "source": [
    "word = input('enter a word: ')\n",
    "letter = input('enter a letter: ')\n",
    "ans = ''\n",
    "if letter in word :\n",
    "    for char in range(len(word)):\n",
    "        if letter == word[char] :\n",
    "            pass\n",
    "        else:\n",
    "            print(word[char],end='')\n",
    "else:\n",
    "    if len(word) > 3 :\n",
    "        for char in range(1,len(word)-1):\n",
    "            print(word[char],end='')\n",
    "    else:\n",
    "        print(word)"
   ]
  },
  {
   "cell_type": "markdown",
   "metadata": {
    "id": "WZXnxHTdGrMC"
   },
   "source": [
    "## Optional Tasks (13 - 15) [Ungraded]"
   ]
  },
  {
   "cell_type": "markdown",
   "metadata": {
    "id": "nwRZ3_0tC3fq"
   },
   "source": [
    "### Task 13\n",
    "\n",
    "\n",
    "Write a python program that takes a string as an input from the user and then modifies the string in such a way that the string always starts with an uppercase letter and the case of each subsequent letter is the opposite of the previous letter (uppercase character followed by a lowercase character followed by an uppercase character and so on).  Finally the modified string is printed to show the user.\n",
    "\n",
    "*Hints:  Flags/counters can be used to manage uppercase-lowercase.*\n",
    "\n",
    "=====================================================================\n",
    "\n",
    "**Sample Input 1:**\\\n",
    "Python programming is very easy\n",
    "\n",
    "**Sample Output 1:**\\\n",
    "PyThOn PrOgRaMmInG iS vErY eAsY\n",
    "\n",
    "=====================================================================\n",
    "\n",
    "**Sample Input 2:**\\\n",
    "I&nbsp;&nbsp;&nbsp;&nbsp;&nbsp;&nbsp;     love       &nbsp;&nbsp;&nbsp;&nbsp;&nbsp;&nbsp;&nbsp; Python &nbsp;&nbsp;&nbsp;&nbsp;&nbsp;&nbsp;&nbsp;&nbsp;Programming\n",
    "\n",
    "**Sample Output 2:**\\\n",
    "I&nbsp;&nbsp;&nbsp;&nbsp;&nbsp;&nbsp;     lOvE       &nbsp;&nbsp;&nbsp;&nbsp;&nbsp;&nbsp;&nbsp;pYtHoN&nbsp;&nbsp;&nbsp;&nbsp;&nbsp;&nbsp;&nbsp;&nbsp;pRoGrAmMiNg\n",
    "\n",
    "=====================================================================\n",
    "\n",
    "**Sample Input 3:**\\\n",
    "CSE110 Course\n",
    "\n",
    "**Sample Output 3**\\\n",
    "CsE110 cOuRsE\n",
    "\n",
    "\n",
    "\n",
    "=====================================================================\n",
    "\n",
    "**Sample Input 4:**\\\n",
    "c\n",
    "\n",
    "**Sample Output 4:**\\\n",
    "C\n",
    "\n",
    "=====================================================================\n"
   ]
  },
  {
   "cell_type": "code",
   "execution_count": 16,
   "metadata": {
    "id": "LEnaTlyoMJdS"
   },
   "outputs": [
    {
     "name": "stdout",
     "output_type": "stream",
     "text": [
      "enter an input:I       love         Python         Programming\n",
      "I       lOvE         pYtHoN         pRoGrAmMiNg\n"
     ]
    }
   ],
   "source": [
    "#to do\n",
    "#taking input from user \n",
    "word=input('enter an input:')\n",
    "#taking an empty string \n",
    "string=\"\"\n",
    "string1=\"0,1,2,3,4,5,6,7,8,9\"\n",
    "#initializing a counter \n",
    "counter=0\n",
    "#loop structure \n",
    "for char in range(len(word)):\n",
    "    if(char==0):\n",
    "        string=string+word[0].upper() #if counter is equal to 0,character at index 0 is coverted to uppercse \n",
    "        counter=counter+1 #incremating counter \n",
    "    elif((word[char] == \" \")): \n",
    "        string=string+word[char] #skip the space while converting into uppercase or lowercase \n",
    "        continue\n",
    "    elif(word[char] in string1):\n",
    "        string=string+word[char]\n",
    "        continue\n",
    "    elif(counter%2==0):\n",
    "        string=string+word[char].upper() #if counter is even, character in word is converted to uppercase \n",
    "        counter=counter+1 #incremating counter \n",
    "    else:\n",
    "        string=string+word[char].lower() #if counter is odd, character in word is converted to lowercase \n",
    "        counter=counter+1 #incremating counter \n",
    "print(string)  #printing string where the characters of the new word is stored \n",
    "\n",
    "\n",
    "        \n"
   ]
  },
  {
   "cell_type": "markdown",
   "metadata": {
    "id": "EEkcqbIJBKel"
   },
   "source": [
    "### Task 14 \n",
    "An anagram is a play on words created by rearranging the letters of the original word to make a new word or phrase.\n",
    "So we can say two words are anagrams if they contain all of the same letters, but in a different order.\n",
    "\n",
    "\n",
    "Write a python program that takes two strings from the user and tells if they are anagram or not.\n",
    "\n",
    "=====================================================================\n",
    "\n",
    "<b>Sample Input 1: </b><br/>\n",
    "dusty<br/>\n",
    "study<br/>\n",
    "<b>Sample Output 1: </b> <br/>\n",
    "They are anagram<br/>\n",
    "\n",
    "=====================================================================\n",
    "\n",
    "<b>Sample Input 2: </b><br/>\n",
    "dustyyy<br/>\n",
    "study<br/>\n",
    "<b>Sample Output 2: </b><br/>\n",
    "They are not anagram"
   ]
  },
  {
   "cell_type": "code",
   "execution_count": 11,
   "metadata": {
    "id": "dvjY9pE2BLVT"
   },
   "outputs": [
    {
     "name": "stdout",
     "output_type": "stream",
     "text": [
      "enter a word: studyyyy\n",
      "enter another word: dusty\n",
      "they are anagrams\n"
     ]
    }
   ],
   "source": [
    "# to do\n",
    "#taking two inputs from user \n",
    "word1=input('enter a word: ')\n",
    "word2=input('enter another word: ')\n",
    "#loop structure for word1 \n",
    "for char1 in range(len(word1)):\n",
    "    newWord1=word1[char1] #storing lenght of word1 in a variable\n",
    "#loop structure for word2 \n",
    "for char2 in range(len(word2)):\n",
    "    newWord2=word2[char2] #storing lenght of word2 in a variable \n",
    "#if-else condition \n",
    "if(len(word1)==len(word2)) or (newWord1==newWord2): \n",
    "    print('they are anagrams') #if both the words have same lenghts \n",
    "elif(len(word1)!=len(word2)) or (newWord1!=newWord2):\n",
    "    print('they are not anagrams') #if the words have different lenghts \n",
    "\n",
    "    "
   ]
  },
  {
   "cell_type": "code",
   "execution_count": 28,
   "metadata": {},
   "outputs": [
    {
     "name": "stdout",
     "output_type": "stream",
     "text": [
      "enter a word:studyyy\n",
      "enter another word:dusty\n",
      "They are not anagrams\n",
      "They are not anagrams\n"
     ]
    }
   ],
   "source": [
    "word1=input('enter a word:')\n",
    "word1_list=[]\n",
    "word2=input('enter another word:')\n",
    "word2_list=[]\n",
    "ans=False\n",
    "for i in word1:\n",
    "    word1_list.append(i)\n",
    "for j in word2:\n",
    "    word2_list.append(j)\n",
    "if(len(word1_list)==len(word2_list)):\n",
    "    for k in range(len(word1_list)):\n",
    "        if(word1_list[k] in word2_list):\n",
    "            ans=True\n",
    "else:\n",
    "    print('They are not anagrams')\n",
    "if(ans==True):\n",
    "    print('They are anagrams')\n",
    "else:\n",
    "    print('They are not anagrams')"
   ]
  },
  {
   "cell_type": "markdown",
   "metadata": {
    "id": "sHeGC4Tf7z81"
   },
   "source": [
    "###Task 15\n",
    "\n",
    "Write a python program thats prints the largest consecutive sequence from a given string S. For example, if S = ‘AABBBCCAAAA’, print ‘AAAA’. If more than one largest consecutive sequence exists, print the first one. Print NONE if no consecutive sequence is found.\n",
    "\n",
    "=====================================================================\n",
    "\n",
    "**Sample Input 1:**<br/>\n",
    "AABBBCCAAAA<br/>\n",
    "**Sample Output 1:**<br/>\n",
    "AAAA<br/>\n",
    "\n",
    "=====================================================================\n",
    "\n",
    "**Sample Input 2:**<br/>\n",
    "AABBCC<br/>\n",
    "**Sample Output 2:**<br/>\n",
    "AA<br/>\n",
    "\n",
    "=====================================================================\n",
    "\n",
    "**Sample Input 3:**<br/>\n",
    "ABCD<br/>\n",
    "**Sample Output 3:**<br/>\n",
    "NONE<br/>\n",
    "\n",
    "====================================================================="
   ]
  },
  {
   "cell_type": "code",
   "execution_count": 5,
   "metadata": {
    "id": "lModRb2L0oqS"
   },
   "outputs": [
    {
     "name": "stdout",
     "output_type": "stream",
     "text": [
      "enter an input: AABBBCCAAAA\n",
      "AAAA\n",
      "4\n"
     ]
    }
   ],
   "source": [
    "#to do\n",
    "word=input('enter an input: ') #AABBBCCAAAA\n",
    "maximum=0\n",
    "tempWord=1\n",
    "maximum_string=''\n",
    "tempWord_string=word[0] #for first occurence of A \n",
    "for char in range(1,len(word)):\n",
    "    if(word[char]==tempWord_string[-1]): #if last index of word[0] in tempWord_string=character in word\n",
    "                                         # A is the word[0] and A is the 1st index in word and the last index in word[0]\n",
    "        tempWord_string=tempWord_string+word[char] #concanate the word[0]+word[char],AA\n",
    "        tempWord=tempWord+1 #count the number of characters present in tempWord_string,for 1st occurence of A,it's 2\n",
    "    else: \n",
    "        if(tempWord>maximum): #2>0\n",
    "            maximum=tempWord #maximum=2\n",
    "            maximum_string=tempWord_string #maximum_string='AA'\n",
    "        tempWord_string=word[char] #tempWord_string='AA'\n",
    "        tempWord=1\n",
    "    if(char==len(word)-1): #for the last index of word \n",
    "        if(tempWord>maximum): #4>3 (for last occurence of A)\n",
    "            maximum=tempWord #maximum=4\n",
    "            maximum_string=tempWord_string  #AAAA  \n",
    "if(maximum==1):\n",
    "    print('none') #if maximum==tempWord,so, there is no occurence \n",
    "else:\n",
    "    print(maximum_string) \n"
   ]
  },
  {
   "cell_type": "code",
   "execution_count": null,
   "metadata": {},
   "outputs": [],
   "source": []
  }
 ],
 "metadata": {
  "colab": {
   "collapsed_sections": [],
   "name": "CSE110 Lab Assignment 3.ipynb",
   "provenance": []
  },
  "kernelspec": {
   "display_name": "Python 3",
   "language": "python",
   "name": "python3"
  },
  "language_info": {
   "codemirror_mode": {
    "name": "ipython",
    "version": 3
   },
   "file_extension": ".py",
   "mimetype": "text/x-python",
   "name": "python",
   "nbconvert_exporter": "python",
   "pygments_lexer": "ipython3",
   "version": "3.8.8"
  }
 },
 "nbformat": 4,
 "nbformat_minor": 1
}
