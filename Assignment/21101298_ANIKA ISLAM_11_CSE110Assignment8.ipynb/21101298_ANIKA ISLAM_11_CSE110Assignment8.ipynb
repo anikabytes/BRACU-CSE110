{
 "cells": [
  {
   "cell_type": "markdown",
   "metadata": {
    "id": "ZXvFDb3VLf5p"
   },
   "source": [
    "# CSE110 Lab Assignment 8 on File I/O & Exception\n",
    "\n",
    "Please write your name, student ID and CSE110 section below:\n",
    "\n",
    "\n"
   ]
  },
  {
   "cell_type": "code",
   "execution_count": null,
   "metadata": {
    "id": "ft6hkS9Oguhw"
   },
   "outputs": [],
   "source": [
    "#STUDENT NAME:ANIKA ISLAM\n",
    "#STUDENT ID:21101298\n",
    "#CSE110 SECTION: 11"
   ]
  },
  {
   "cell_type": "markdown",
   "metadata": {
    "id": "4fjLeMMMEEKB"
   },
   "source": [
    "**<font color='red'>[MUST MAINTAIN VARIABLE NAMING CONVENTIONS FOR ALL THE TASKS]</font>**\n",
    "\n",
    "## Part 1: File\n",
    "\n",
    "### Task 1\n",
    "\n",
    "Write a python program that reads the first n lines of a text file.\n",
    "\n",
    "Suppose you have a file with all these strings in a file.\n",
    "\n",
    "=========================================================\n",
    "\n",
    "I love Python Programming.\\\n",
    "It is very easy to understand the code.\\\n",
    "It can code very hard problems easily in python code.\\\n",
    "Python programming is the best programming language.\n",
    "\n",
    "=========================================================\n",
    "\n",
    "\n",
    "**Input :**\\\n",
    "2\\\n",
    "**Output :**\\\n",
    "I love Python Programming.\\\n",
    "It is very easy to understand the code.\n",
    "\n",
    "=========================================================\n",
    "\n",
    "**Hint(1):**\\\n",
    "Use counter to control line number.\n",
    "\n",
    "**Hint(2):**\\\n",
    "Use function readlines() to store in a list and then use loop\n",
    "\n",
    "OR you can use readline() in a loop.\n",
    "\n",
    "**Hint(3):**\\\n",
    "You might need to use strip() function"
   ]
  },
  {
   "cell_type": "code",
   "execution_count": 48,
   "metadata": {
    "id": "Kb0Fn1AsEHVR"
   },
   "outputs": [
    {
     "name": "stdout",
     "output_type": "stream",
     "text": [
      "enter the number of lines:2\n",
      "I love Python Programming.\n",
      "It is very easy to understand the code.\n"
     ]
    }
   ],
   "source": [
    "#to do\n",
    "file=open('task1.txt','r') #read file \n",
    "lines=file.readlines() #read all lines and take in a list\n",
    "number=int(input('enter the number of lines:')) \n",
    "for line in range(number): #for number of lines output \n",
    "    print(lines[line],end='')"
   ]
  },
  {
   "cell_type": "code",
   "execution_count": 2,
   "metadata": {},
   "outputs": [
    {
     "name": "stdout",
     "output_type": "stream",
     "text": [
      "enter number of lines: 4\n",
      "I love Python Programming.\n",
      "It is very easy to understand the code.\n",
      "It can code very hard problems easily in python code.\n",
      "Python programming is the best programming language."
     ]
    }
   ],
   "source": [
    "file = open('task1.txt' , 'r')\n",
    "lines = file.readlines()\n",
    "num = int(input('enter number of lines: '))\n",
    "for line in range(num) :\n",
    "    print(lines[line],end='')"
   ]
  },
  {
   "cell_type": "markdown",
   "metadata": {
    "id": "6C9IjoWsEJlJ"
   },
   "source": [
    "### Task 2\n",
    "\n",
    "Write a python program to find the longest word in a file. Then print the word.\\\n",
    "**Input: [in a file]**\\\n",
    "I love Python Programming\\\n",
    "It is very easy to understand the code\\\n",
    "It can code very hard problems easily in python code\\\n",
    "Python programming is the best programming language\n",
    "\n",
    "\n",
    "\n",
    "**Output:**\\\n",
    "Programming\n",
    "\n",
    "=========================================================\n",
    "\n",
    "**Hint(1):**\\\n",
    "You can use split function to separate the words into a list.\n",
    "\n",
    "**Hint(2):**\\\n",
    "Use function readlines()"
   ]
  },
  {
   "cell_type": "code",
   "execution_count": 49,
   "metadata": {
    "id": "WucZ7kEOEKrA"
   },
   "outputs": [
    {
     "name": "stdout",
     "output_type": "stream",
     "text": [
      "Programming\n",
      "\n"
     ]
    }
   ],
   "source": [
    "#to do\n",
    "file=open('task2.txt','r') #read file \n",
    "lines=file.readlines() #read all lines and take in a list\n",
    "max=-999999\n",
    "word=''\n",
    "for line in lines:\n",
    "    words=line.split(' ') #split to store all the elements before and after space in a list\n",
    "    for word in words:\n",
    "        counter=0 \n",
    "        for letter in range(len(word)):\n",
    "            counter+=1 #total number of letters in a word in words(list)\n",
    "        if(counter>max):\n",
    "            max=counter\n",
    "            max_word=word #the longest word is stored in max_word\n",
    "print(max_word)\n",
    "file.close()"
   ]
  },
  {
   "cell_type": "code",
   "execution_count": 22,
   "metadata": {},
   "outputs": [
    {
     "name": "stdout",
     "output_type": "stream",
     "text": [
      "Programming\n",
      "\n"
     ]
    }
   ],
   "source": [
    "file = open('task2.txt' , 'r')\n",
    "lines = file.readlines()\n",
    "maxim_word = ''\n",
    "maxim = 0 \n",
    "for line in lines : \n",
    "    wordList = line.split(' ')\n",
    "    for words in wordList :\n",
    "        count = 0 \n",
    "        for letter in words :\n",
    "            count += 1 \n",
    "        if count > maxim :\n",
    "            maxim = count \n",
    "            maxim_word = words\n",
    "print(maxim_word)"
   ]
  },
  {
   "cell_type": "markdown",
   "metadata": {
    "id": "Y0dBzRxdEK1R"
   },
   "source": [
    "### Task 3\n",
    "Write a python program that allows you to erase multiple spaces in a text file. Then re-write the sentence without extra spaces in a another text file.\n",
    "\n",
    "=========================================================\n",
    "\n",
    "**Input:**\n",
    "\n",
    "I&nbsp;&nbsp;&nbsp;&nbsp;&nbsp;&nbsp;love  &nbsp;&nbsp;&nbsp;&nbsp;&nbsp;&nbsp;&nbsp;             Python   &nbsp;&nbsp;&nbsp;&nbsp;&nbsp;&nbsp;&nbsp;&nbsp;          Programming\n",
    "\n",
    "**Output:**\\\n",
    "I love Python Programming.\n",
    "\n",
    "=========================================================\n",
    "\n",
    "**Hints:**\\\n",
    "You can use split function to separate the words into a list.\n"
   ]
  },
  {
   "cell_type": "code",
   "execution_count": 4,
   "metadata": {
    "id": "a0yJHr82ENWF"
   },
   "outputs": [
    {
     "name": "stdout",
     "output_type": "stream",
     "text": [
      "I love Python Programming "
     ]
    }
   ],
   "source": [
    "#to do\n",
    "file=open('task3.txt','r') #to read a file \n",
    "lines=file.readlines() #read all lines and take in a list\n",
    "for line in lines:\n",
    "    list_line=line.split() #split to store all the elements before and after space in a list\n",
    "    new_file=open('task3(new).txt','w') #write in a new file\n",
    "    for word in range(len(list_line)):\n",
    "        print(list_line[word],end=' ') #print the word in list_one in a line with appropiate gap\n",
    "        new_file.write(list_line[word]+' ') #write the word in sentence in a line with appropiate gap\n",
    "file.close()\n",
    "new_file.close()"
   ]
  },
  {
   "cell_type": "code",
   "execution_count": 28,
   "metadata": {},
   "outputs": [
    {
     "name": "stdout",
     "output_type": "stream",
     "text": [
      "I love Python Programming "
     ]
    }
   ],
   "source": [
    "file = open('task3.txt' , 'r')\n",
    "lines = file.readlines()\n",
    "for line in lines :\n",
    "    lineList = line.split()\n",
    "    newFile = open('task3(1).txt','w')\n",
    "    for words in lineList :\n",
    "        print(words,end=' ')\n",
    "        newFile.write(words + ' ')\n",
    "file.close()\n",
    "newFile.close()"
   ]
  },
  {
   "cell_type": "markdown",
   "metadata": {
    "id": "OOFNxcqqENje"
   },
   "source": [
    "### Task 4\n",
    "Write a Python program to count the number of lines in a text file. Then, finally print the total number of lines.\n",
    "\n",
    "=========================================================\n",
    "\n",
    "**Input:**\\\n",
    "Hello\\\n",
    "What are you doing\\\n",
    "I am fine\n",
    "\n",
    "**Output:**\\\n",
    "3\n"
   ]
  },
  {
   "cell_type": "code",
   "execution_count": 6,
   "metadata": {
    "id": "PRPocuTJEP0v"
   },
   "outputs": [
    {
     "name": "stdout",
     "output_type": "stream",
     "text": [
      "3\n"
     ]
    }
   ],
   "source": [
    "#to do\n",
    "file=open('task4.txt','r')\n",
    "lines=file.readlines()\n",
    "counter=0\n",
    "for line in lines:\n",
    "    counter+=1\n",
    "print(counter)"
   ]
  },
  {
   "cell_type": "code",
   "execution_count": 30,
   "metadata": {},
   "outputs": [
    {
     "name": "stdout",
     "output_type": "stream",
     "text": [
      "3\n"
     ]
    }
   ],
   "source": [
    "file = open('task4.txt','r')\n",
    "lines = file.readlines()\n",
    "count = 0 \n",
    "for line in lines :\n",
    "    count += 1 \n",
    "print(count)\n",
    "file.close()"
   ]
  },
  {
   "cell_type": "markdown",
   "metadata": {
    "id": "LiSNirheEQHf"
   },
   "source": [
    "### Task 5\n",
    "\n",
    "Write a Python program to combine each line from the first file with the corresponding line in the second file and then save it in a 3rd file.\n",
    "\n",
    "Consider, both the files have same number of lines. Assume, each line has a newline(\\n) at the end.\n",
    "\n",
    "=========================================================\n",
    "\n",
    "**Example:**\\\n",
    "**Input from file 1:**\\\n",
    "Hello\\\n",
    "Hi\\\n",
    "Nice\n",
    "\n",
    "**Input from file 2:**\\\n",
    "Bad\\\n",
    "Worse\\\n",
    "Worst\n",
    "\n",
    "**Output in 3rd FIle:**\\\n",
    "Hello Bad\\\n",
    "Hi Worse\\\n",
    "Nice Worst \n",
    "\n",
    "=========================================================\n",
    "\n",
    "**Hint(1):**\\\n",
    " Use the write() function\n",
    "\n",
    "\n",
    "\n"
   ]
  },
  {
   "cell_type": "code",
   "execution_count": 50,
   "metadata": {
    "id": "b-b4xnHLETDY"
   },
   "outputs": [
    {
     "name": "stdout",
     "output_type": "stream",
     "text": [
      "Hello Bad\n",
      "Hi Worse\n",
      "Nice Worst\n"
     ]
    }
   ],
   "source": [
    "#to do\n",
    "file_one=open('task5(1).txt','r') #read file_one \n",
    "file_two=open('task5(2).txt','r') #read file_two\n",
    "lines_one=file_one.readlines() #read all lines and store in a list\n",
    "lines_two=file_two.readlines() #read all lines and store in a list\n",
    "word3=''\n",
    "file_three=open('task5(3).txt','w') #write file_one and file_two in file_three\n",
    "for word in range(len(lines_one)): #same lenght of both lists so any one can be used \n",
    "    word1=lines_one[word].strip('\\n') #remove \\n \n",
    "    word2=lines_two[word].strip('\\n') #remove \\n\n",
    "    word3=word1+' '+word2 #store word1 and word2 (first word from file_one and first word from file_two) in word3 with space \n",
    "    print(word3) \n",
    "    file_three.write(word3+'\\n') #write word3 by seperating the lines \n",
    "file_one.close()\n",
    "file_two.close()\n",
    "file_three.close()"
   ]
  },
  {
   "cell_type": "code",
   "execution_count": 35,
   "metadata": {},
   "outputs": [
    {
     "name": "stdout",
     "output_type": "stream",
     "text": [
      "Hello Bad\n",
      "Hi Worse\n",
      "Nice Worst\n"
     ]
    }
   ],
   "source": [
    "file1 = open('task5(1).txt' , 'r')\n",
    "file2 = open('task5(2).txt' , 'r')\n",
    "lines1 = file1.readlines()\n",
    "lines2 = file2.readlines()\n",
    "file3 = open('task5(4).txt' , 'w')\n",
    "for line in range(len(lines1)) :\n",
    "    word1 = lines1[line].strip('\\n')\n",
    "    word2 = lines2[line].strip('\\n')\n",
    "    word3 = word1 + ' ' + word2 \n",
    "    file3.write(word1 + ' ' + word2 + '\\n')\n",
    "    print(word3)\n",
    "file1.close()\n",
    "file2.close()\n",
    "file3.close()"
   ]
  },
  {
   "cell_type": "markdown",
   "metadata": {
    "id": "6J7MA_zNCbCg"
   },
   "source": [
    "## Part 2: Exception \n"
   ]
  },
  {
   "cell_type": "markdown",
   "metadata": {
    "id": "tZow-v3MLoLE"
   },
   "source": [
    "### Task 6\n",
    "Given a list named my_list.\n",
    "my_list=[10,20,30,40,60,100,2,5]\n",
    "\n",
    "Write a python program that takes the position as an input from the user and prints the element of that position from the list. \n",
    "\n",
    "If the user’s input position is not in the range, return an exception stating “Index out of range”.\n",
    "\n",
    "Make sure your program always prints “Program ended” at the end, no matter what happens.\n",
    "\n",
    "=============================\n",
    "\n",
    "**Hint:** Use finally block\n",
    "\n",
    "=============================\n",
    "\n",
    "**Example 1:** \\\n",
    "**Input:**\\\n",
    "1\\\n",
    "**Output:**\\\n",
    "20\\\n",
    "Program ended\n",
    "\n",
    "=============================\n",
    "\n",
    "**Example 2:** \\\n",
    "**Input:**\\\n",
    "10\\\n",
    "**Output:**\\\n",
    "Index out of range.\\\n",
    "Program ended\n"
   ]
  },
  {
   "cell_type": "code",
   "execution_count": 52,
   "metadata": {
    "id": "c9yKuS5kLdDO"
   },
   "outputs": [
    {
     "name": "stdout",
     "output_type": "stream",
     "text": [
      "enter the position of number from my_list:10\n",
      "Index out of range\n",
      "Program ended\n"
     ]
    }
   ],
   "source": [
    "#to do\n",
    "my_list=[10,20,30,40,60,100,2,5]\n",
    "index=int(input('enter the position of number from my_list:'))\n",
    "try:\n",
    "    print(my_list[index]) #any index between 0 to 6\n",
    "except:\n",
    "    print('Index out of range') #index greater than 6\n",
    "finally:\n",
    "    print('Program ended')"
   ]
  },
  {
   "cell_type": "code",
   "execution_count": 41,
   "metadata": {},
   "outputs": [
    {
     "name": "stdout",
     "output_type": "stream",
     "text": [
      "enter a number for position : 2\n",
      "30\n",
      "Program Ended\n"
     ]
    }
   ],
   "source": [
    "my_list=[10,20,30,40,60,100,2,5]\n",
    "index = int(input('enter a number for position : '))\n",
    "for num in range(len(my_list)) :\n",
    "    if index == num :\n",
    "        ans = my_list[num]\n",
    "try : \n",
    "    print(ans)\n",
    "except  :\n",
    "    print ('Index out of range')\n",
    "finally : \n",
    "    print('Program Ended')"
   ]
  },
  {
   "cell_type": "markdown",
   "metadata": {
    "id": "gD4MMyO_Mtw4"
   },
   "source": [
    "### Task 7\n",
    "\n",
    "Suppose you have a dictionary named my_dictionary containing the name of some groceries and their prices.\\\n",
    "my_dictionary={“Potato”:12, “Onion”:16, “Ginger”:15, “Garlic”:12, “Tomato”:15}\n",
    "\n",
    "Now write a python program that takes the grocerie names as input from the users and shows the total price of the groceries.\n",
    "\n",
    "Some exceptions to handle:\n",
    "* Handle the exception when the given key is not present in the dictionary.\n",
    "* Handle the exception when the summation variable is not initialized. (the variable to store the total price has been initialized at 0 or not)\n",
    "\n",
    "=============================\n",
    "\n",
    "**Example 1:** \\\n",
    "**Input:**\\\n",
    "Potato,Onion,Ginger\\\n",
    "**Output:**\\\n",
    "43\n",
    "\n",
    "=============================\n",
    "\n",
    "**Example 2:** \\\n",
    "**Input:**\\\n",
    "Potato,Onion,Ginger,Beef\\\n",
    "**Output:**\\\n",
    "Some groceries are not available in the dictionary.\n"
   ]
  },
  {
   "cell_type": "code",
   "execution_count": 56,
   "metadata": {
    "id": "15umlUXTNe5N"
   },
   "outputs": [
    {
     "name": "stdout",
     "output_type": "stream",
     "text": [
      "enter name of groceries:Potato,Onion,Ginger\n",
      "43\n"
     ]
    }
   ],
   "source": [
    "#to do\n",
    "my_dictionary={'Potato':12, 'Onion':16, 'Ginger':15, 'Garlic':12, 'Tomato':15}\n",
    "groceries=input('enter name of groceries:').split(',') #store names of groceries before and after comma in a list\n",
    "total=0\n",
    "try:\n",
    "    for grocery in range(len(groceries)):\n",
    "        key=groceries[grocery]\n",
    "        total+=my_dictionary[key] #if key is in my_dictionary, the value of groceries is added \n",
    "    print(total)\n",
    "except KeyError:\n",
    "    print('Some groceries are not available in the dictionary.') #if groceries[grocery] is not in my_dictionary \n",
    "except NameError:\n",
    "    print('Variable not initialated') #if any variable is not present (eg.totall)"
   ]
  },
  {
   "cell_type": "code",
   "execution_count": 61,
   "metadata": {},
   "outputs": [
    {
     "name": "stdout",
     "output_type": "stream",
     "text": [
      "number of groceries : 4\n",
      "enter name of groceries : Beef \n",
      "Some groceries are not available in the dictionary\n"
     ]
    }
   ],
   "source": [
    "my_dictionary={'Potato':12, 'Onion':16, 'Ginger':15, 'Garlic':12, 'Tomato':15}\n",
    "num = int(input('number of groceries : '))\n",
    "total = 0 \n",
    "try :\n",
    "    for i in range(0,num) : \n",
    "        groceries = input('enter name of groceries : ')\n",
    "        for key,value in my_dictionary.items() :\n",
    "            if key == groceries :\n",
    "                total += value \n",
    "            else :\n",
    "                raise KeyError \n",
    "    print(total)\n",
    "                \n",
    "except KeyError :\n",
    "    print('Some groceries are not available in the dictionary')\n",
    "except NameError :\n",
    "    print('Variable is not initiated')"
   ]
  },
  {
   "cell_type": "markdown",
   "metadata": {
    "id": "l5SgF6kTN7vY"
   },
   "source": [
    "### Task 8\n",
    "Write a python program that takes two lists as input from the user, multiplies the index wise elements of the two lists and adds it to a new variable. While doing the program you should handle the following exceptions:\n",
    "* Return an exception if an element in a list is not a number stating “The list has some non number values”.\n",
    "* Return an exception if there is an index out of bound stating “Index out of bound”.\n",
    "\n",
    "=============================\n",
    "\n",
    "**Example 1:** \\\n",
    "**Input:**\\\n",
    "list_one = [1, a, 2, 4]\\\n",
    "list_two =[5, 6, 7, 8]\\\n",
    "**Output:**\\\n",
    "The list has some non number values\n",
    "\n",
    "=================\n",
    "\n",
    "**Example 2:** \\\n",
    "**Input:**\\\n",
    "list_one=[1, 2, 3, 4, 5]\\\n",
    "list_two=[1, 2, 3, 4]\\\n",
    "**Output:**\\\n",
    "Index out of bound\n",
    "\n",
    "=================\n",
    "\n",
    "**Example 3:** \\\n",
    "**Input:**\\\n",
    "list_one=[1,2,3,4]\\\n",
    "list_two=[5,6,7,8]\\\n",
    "**Output:**\\\n",
    "70\n",
    "\n",
    "\n"
   ]
  },
  {
   "cell_type": "code",
   "execution_count": 5,
   "metadata": {
    "id": "oFpEZFRhOlvV"
   },
   "outputs": [
    {
     "name": "stdout",
     "output_type": "stream",
     "text": [
      "enter numbers for 1st list:1,2,3,4\n",
      "enter numbers for 2nd list:5,6,7,8,9\n",
      "70\n"
     ]
    }
   ],
   "source": [
    "#to do\n",
    "try:\n",
    "    list_one=input('enter numbers for 1st list:').split(',') #store numbers before and after comma in a list\n",
    "    list_two=input('enter numbers for 2nd list:').split(',') #store numbers before and after comma in a list\n",
    "    sum=0\n",
    "    i=0\n",
    "    for number in range(len(list_one)):\n",
    "        multiply=int(list_one[number])*int(list_two[number]) #multiplying first element and second element\n",
    "        sum+=multiply #add all the multiplied ans \n",
    "    print(sum)\n",
    "except ValueError:\n",
    "    print('The list has some non number values') #if any alphabets are present\n",
    "except IndexError:\n",
    "    print('Index out of bound') #lenght of list_one and list_two are not same "
   ]
  },
  {
   "cell_type": "code",
   "execution_count": 6,
   "metadata": {},
   "outputs": [
    {
     "name": "stdout",
     "output_type": "stream",
     "text": [
      "enter numbers for 1st list : 1,2,3,4,5\n",
      "enter numbers for 2nd list : 2,3,4,5\n",
      "Index out of bound\n"
     ]
    }
   ],
   "source": [
    "try : \n",
    "    list1 = input('enter numbers for 1st list : ').split(',')\n",
    "    list2 = input('enter numbers for 2nd list : ').split(',')\n",
    "    summ = 0 \n",
    "    for num in range(len(list1)) :\n",
    "        multiple = int(list1[num]) * int(list2[num])\n",
    "        summ += multiple \n",
    "    print(summ)\n",
    "except IndexError :\n",
    "    print('Index out of bound')\n",
    "except ValueError :\n",
    "    print('The list has some non number values ')"
   ]
  },
  {
   "cell_type": "markdown",
   "metadata": {
    "id": "iBqIUN-WOnvW"
   },
   "source": [
    "### Task 9\n",
    "Write a python program that will take a string input from the user. Your task is to count the number of vowels and consonants in the string.\n",
    "\n",
    "Using try, if the number of vowels is greater than or equal to the number of consonants than raise a runtime error. Print 'Number of vowels greater/equal to consonants. Please paraphrase.'.\\\n",
    "Otherwise, print 'The sentence will work.'. \n",
    "\n",
    "**Note:** a,e,i,o,u are called vowels and all the other 21 english alphabets are consonants.\n",
    "\n",
    "=============================\n",
    "\n",
    "**Example 1:** \\\n",
    "**Input:**\\\n",
    "'his age is 10'\\\n",
    "**Output:**\\\n",
    "Number of vowels greater/equal to consonants. Please paraphrase.\n",
    "\n",
    "=================\n",
    "\n",
    "**Example 2:** \\\n",
    "**Input:**\\\n",
    "'he is 10 years old'\\\n",
    "**Output:**\\\n",
    "The sentence will work."
   ]
  },
  {
   "cell_type": "code",
   "execution_count": 61,
   "metadata": {
    "id": "-4kg2W2EPwVo"
   },
   "outputs": [
    {
     "name": "stdout",
     "output_type": "stream",
     "text": [
      "enter a sentence:he is 10 years old\n",
      "The sentence will work\n"
     ]
    }
   ],
   "source": [
    "#to do\n",
    "sentence=input('enter a sentence:')\n",
    "vowels='a,e,i,o,u'\n",
    "consonants='b,c,d,f,g,h,j,k,l,m,n,p,q,r,s,t,v,w,x,y,z'\n",
    "counter1=0\n",
    "counter2=0\n",
    "try:\n",
    "    for char in sentence:\n",
    "        if(char in vowels):\n",
    "            counter1+=1 #calculating how many vowels are presnet \n",
    "        elif(char in consonants):\n",
    "            counter2+=1 #calculating how many consonants are presnet \n",
    "    if(counter1!=counter2):\n",
    "        ans='The sentence will work' #if counter1 and counter2 are not same \n",
    "    else:\n",
    "        raise RuntimeError #if counter1 and counter2 are same \n",
    "    print(ans)\n",
    "except RuntimeError:\n",
    "    print('Number of vowels greater/equal to consonants.Please paraphrase.')"
   ]
  },
  {
   "cell_type": "code",
   "execution_count": 10,
   "metadata": {},
   "outputs": [
    {
     "name": "stdout",
     "output_type": "stream",
     "text": [
      "enter a sentence : his age is 10\n",
      "Number of vowels greater/equal to constants. Please paraphrase.\n"
     ]
    }
   ],
   "source": [
    "sen = input('enter a sentence : ')\n",
    "v = 'a,e,i,o,u'\n",
    "c = 'b,c,d,f,g,h,j,k,l,m,n,p,q,r,s,t,v,w,x,y,z'\n",
    "count1 = 0\n",
    "count2 = 0\n",
    "try : \n",
    "    for w in sen :\n",
    "        if w in v :\n",
    "            count1 += 1 \n",
    "        elif w in c :\n",
    "            count2 += 1 \n",
    "    if count1 != count2 :\n",
    "        print('The sentence will work')\n",
    "    elif count1 >= count2 : \n",
    "        raise RuntimeError \n",
    "except RuntimeError :\n",
    "    print('Number of vowels greater/equal to constants. Please paraphrase.')\n"
   ]
  },
  {
   "cell_type": "markdown",
   "metadata": {
    "id": "pl4CDeUkPxeM"
   },
   "source": [
    "### Task 10\n",
    "Write a python program that finds the corresponding energy values from a list of frequency values which are taken as input from the user, using the formula, $E=h*f$, where h is a constant of value: 1050\n",
    "\n",
    "Exceptions to handle:\n",
    "* Make sure all elements in the lists are numbers\n",
    "\n",
    "=============================\n",
    "\n",
    "**Example 1:** \\\n",
    "**Input:**\\\n",
    "[2,3]\\\n",
    "**Output:**\\\n",
    "[2100, 3150]\n",
    "\n",
    "=================\n",
    "\n",
    "**Example 2:** \\\n",
    "**Input:**\\\n",
    "[2,boss]\\\n",
    "**Output:**\\\n",
    "Wrong input type"
   ]
  },
  {
   "cell_type": "code",
   "execution_count": 63,
   "metadata": {
    "id": "vdYQH9qnQvVo"
   },
   "outputs": [
    {
     "name": "stdout",
     "output_type": "stream",
     "text": [
      "enter a list of frequencies:2,3\n",
      "[2100, 3150]\n"
     ]
    }
   ],
   "source": [
    "#to do\n",
    "frequencies=input('enter a list of frequencies:').split(',') #store numbers before and after comma in a list\n",
    "h=1050\n",
    "energy_list=[]\n",
    "try:\n",
    "    for frequency in frequencies:\n",
    "        energy=h*int(frequency) #calculate energy of all frequency in frequencies \n",
    "        energy_list.append(energy) #append energy in energy_list\n",
    "    print(energy_list)\n",
    "except ValueError:\n",
    "    print('Wrong input type') #if any of the frequency is not a number "
   ]
  },
  {
   "cell_type": "code",
   "execution_count": 13,
   "metadata": {},
   "outputs": [
    {
     "name": "stdout",
     "output_type": "stream",
     "text": [
      "enter a list of frequencies : 2,boss\n",
      "Wrong input type\n"
     ]
    }
   ],
   "source": [
    "f = input('enter a list of frequencies : ').split(',')\n",
    "h = 1050 \n",
    "newList = []\n",
    "try : \n",
    "    for num in f : \n",
    "        E = h * int(num)\n",
    "        newList.append(E)\n",
    "    print(newList)\n",
    "except ValueError :\n",
    "    print('Wrong input type')"
   ]
  },
  {
   "cell_type": "markdown",
   "metadata": {
    "id": "GC6Y943uUNHY"
   },
   "source": [
    "### Task 11\n",
    "Imagine Salman Khan is going to the sets of a new movie. He decides to cycle everyday on his way to the sets. For that he uses a distance calculator which finds the distance based on the present day's date, which is asked as an input from the user. You should first take the day and then the month as your inputs.\n",
    "The inputs should be stored in variables named `day` and `month` The distance calculator uses the following formulae to calculate a number which dictates the number of kilometers he must cycle on his way to work.\n",
    "\n",
    "Distance = |if day<10, `5+(day*2)/month`\\\n",
    "&nbsp;&nbsp;&nbsp;&nbsp;&nbsp;&nbsp;&nbsp;&nbsp;&nbsp;&nbsp;&nbsp;&nbsp;&nbsp;&nbsp;&nbsp;&nbsp;&nbsp;&nbsp;&nbsp; |else, `3+(day/month)`\n",
    "\n",
    "\n",
    "Exceptions to handle:\\\n",
    "-Check for 0 division error exception\\\n",
    "-Type error exception when taking date as input(if the input does not contain number)\\\n",
    "-Value error exception, as day can not be greater than 31 and month can not be greater than 12\n",
    "\n",
    "\n",
    "\n",
    "\n",
    "\n",
    "=============================\n",
    "\n",
    "\n",
    "**Example 1:** \\\n",
    "**Input:**\\\n",
    "3\\\n",
    "5\\\n",
    "**Output:**\\\n",
    "6.2 kilometres\n",
    "\n",
    "=================\n",
    "\n",
    "**Example 2:** \\\n",
    "**Input:**\\\n",
    "2\\\n",
    "0\\\n",
    "**Output:**\\\n",
    "0 is not a valid month\n",
    "\n",
    "=============================\n",
    "\n",
    "**Example 3:** \\\n",
    "**Input:**\\\n",
    "35\\\n",
    "12\\\n",
    "**Output:**\\\n",
    "35 is not a valid day of any month\n",
    "\n",
    "=============================\n",
    "\n",
    "**Example 4:** \\\n",
    "**Input:**\\\n",
    "Hello\\\n",
    "12\\\n",
    "**Output:**\\\n",
    "Please do not enter any string as input\n",
    "\n",
    "=============================\n",
    "\n",
    "\n",
    "**Example 5:** \\\n",
    "**Input:**\\\n",
    "15\\\n",
    "12\\\n",
    "**Output:**\\\n",
    "4.25 kilometres\n",
    "\n",
    "\n",
    "**Hint(1):**\\\n",
    "Can use the built-in isdigit() function OR the ASCII values ensure numbers as inputs\n",
    "\n",
    "\n",
    "**Hint(2):**\\\n",
    "Print the outputs in the except block with the help of conditional statements\n",
    "\n",
    "\n"
   ]
  },
  {
   "cell_type": "code",
   "execution_count": 69,
   "metadata": {},
   "outputs": [
    {
     "name": "stdout",
     "output_type": "stream",
     "text": [
      "enter day:15\n",
      "enter month:12\n",
      "4.25 kilometres\n"
     ]
    }
   ],
   "source": [
    "try:\n",
    "    day=input('enter day:')\n",
    "    if day.isdigit()==False:\n",
    "        raise TypeError #if day is not a number \n",
    "    month=input('enter month:')\n",
    "    if month.isdigit()==False:\n",
    "        raise TypeError #if month is not a number\n",
    "    #convert both day and month in integers \n",
    "    day = int(day)\n",
    "    month = int(month)\n",
    "    if (day>31) or (month>12):\n",
    "        raise ValueError #if day is greater than 31 or month is greater than 12 \n",
    "    if(day<10):\n",
    "        work=5+(day*2)/month #if day is less than 10\n",
    "    else:\n",
    "        work=3+(day/month) #if day is greater than 10\n",
    "    print(work,'kilometres')\n",
    "\n",
    "except ZeroDivisionError:\n",
    "    print('0 is not a valid month') #if month is 0\n",
    "except TypeError :\n",
    "    print('please do not enter any string as input')\n",
    "except ValueError:\n",
    "    if (day>31):\n",
    "        print(day,'is not a valid day') #for day>31 only \n",
    "    if(month>12):\n",
    "        print(month,'is not a valid month') #for month>12 only "
   ]
  },
  {
   "cell_type": "code",
   "execution_count": 14,
   "metadata": {},
   "outputs": [
    {
     "name": "stdout",
     "output_type": "stream",
     "text": [
      "enter number of days : 12\n",
      "enter number of months: 12\n",
      "Please do not enter any strings as input\n"
     ]
    }
   ],
   "source": [
    "try :    \n",
    "    day = int(input('enter number of days : '))\n",
    "    month = int(input('enter number of months: '))\n",
    "    if 65 < ord(day) < 90 or 97 < ord(day) < 122 :\n",
    "        raise TypeError \n",
    "    if  month == 0:\n",
    "        raise ZeroDivisionError\n",
    "    if day > 31 or month > 12 :\n",
    "        raise ValueError\n",
    "    if day < 10 :\n",
    "        distance = 5 + (day*2) / month \n",
    "    else :\n",
    "        distance = 3 + (day/month)\n",
    "    print(distance,'kilometers')\n",
    "except ZeroDivisionError :\n",
    "    print('0 is not a valid month')\n",
    "except TypeError :\n",
    "    print('Please do not enter any strings as input')\n",
    "except ValueError :\n",
    "    if day > 31 :\n",
    "        print(day,'is not a valid day for any month')\n",
    "    if month > 12 :\n",
    "        print(month,'is not a valid month ')"
   ]
  },
  {
   "cell_type": "code",
   "execution_count": null,
   "metadata": {},
   "outputs": [],
   "source": []
  },
  {
   "cell_type": "markdown",
   "metadata": {
    "id": "UrxbFOWk5ASO"
   },
   "source": [
    "# Optional Tasks (12-15)"
   ]
  },
  {
   "cell_type": "markdown",
   "metadata": {
    "id": "uIYrt-t8ETUQ"
   },
   "source": [
    "\n",
    "### Task 12\n",
    "Suppose you made a game and you stored information about the game play in a file.\\\n",
    "You stored Name, Score, Lives Used and Characters Killed of each players.\n",
    "\n",
    "**Existing file:**\\\n",
    "Mary,2000,5,25\\\n",
    "John,123455,12,50\\\n",
    "Peter,1500,5,10\\\n",
    "Harry,10000,10,30\\\n",
    "John,122,5,2\\\n",
    "Mary,5,1,1\\\n",
    "Peter,2,1,1\\\n",
    "John,123,5,10\\\n",
    "John,5,6,7\n",
    "\n",
    "**Now you have to make a new file where you have to store the following information:**\\\n",
    "1.In the first line you have to show the name and score of the player who scored the highest score.\n",
    "\n",
    "2.In the second line you have to store the name and lives used of players who used the least lives.\n",
    "\n",
    "3.In the third line you have to show the name and number of games played of the player who played the most games.\n",
    "\n",
    "**Output:**\\\n",
    "Name:John, Score:123455\\\n",
    "Name:Mary, Lives used:1\\\n",
    "Name:John, Games Played:4\n",
    "\n",
    "=========================================================\n",
    "\n",
    "**Hint(1):**\\\n",
    "Use dictionary where necessary.\\\n",
    "You are allowed to use max() min(), list.index(value) and str.split(separator) function.\n",
    "\n",
    "**Hint(2):**\\\n",
    "You need to use split function to get the data. The split function takes the separator as an argument.\n",
    "\n",
    "*Structure:*\n",
    "str.split(separator)\n",
    "\n",
    "*Example:*\n",
    "line = \"John,5,6,7\"\\\n",
    "line.split(',')\n",
    "\n",
    "**Hint(3):**\\\n",
    "You can use both write() and writelines() for writing the answers\n",
    "\n"
   ]
  },
  {
   "cell_type": "code",
   "execution_count": 4,
   "metadata": {},
   "outputs": [
    {
     "name": "stdout",
     "output_type": "stream",
     "text": [
      "Highest scorer: John   Score: 123455\n",
      "Least lives: Mary   Lives: 1\n",
      "Most played: John   Most games played: 4\n"
     ]
    }
   ],
   "source": [
    "file=open('task12.txt','r')\n",
    "dict1={}\n",
    "scores_list=[]\n",
    "lives_list=[]\n",
    "played_list=[]\n",
    "name_list=[]\n",
    "counter=0\n",
    "dict2={}\n",
    "list2=[]\n",
    "for lines in file:\n",
    "    lines=lines.strip('\\n')\n",
    "    lines=lines.split(',')\n",
    "    name=lines[0]\n",
    "    scores=int(lines[1])\n",
    "    lives=int(lines[2])\n",
    "    played=int(lines[3])\n",
    "    list1=[scores,lives,played]\n",
    "    dict1[name]=list1\n",
    "    scores_list.append(scores)\n",
    "    lives_list.append(lives)\n",
    "    played_list.append(played)\n",
    "    name_list.append(name)\n",
    "    highest_score=max(scores_list)\n",
    "    least_lives=min(lives_list)\n",
    "    for key,value in dict1.items():\n",
    "        temp=list(value)\n",
    "        if(temp[2]==least_lives):\n",
    "            with_least_lives=key\n",
    "            break\n",
    "    if(highest_score in dict1[name]):\n",
    "        highest_scorer=name\n",
    "    most_played=max(name_list,key=name_list.count)\n",
    "    counter  = 0\n",
    "    for i in name_list:\n",
    "        if i==most_played:\n",
    "            counter+=1\n",
    "print('Highest scorer:',highest_scorer,' ','Score:',highest_score)\n",
    "print('Least lives:',with_least_lives,' ','Lives:',least_lives)\n",
    "print('Most played:',most_played,' ','Most games played:',counter)\n",
    "new_file=open('task12(new).txt','w')\n",
    "new_file.write('Name:'+highest_scorer+' '+'Score:'+str(highest_score)+'\\n')\n",
    "new_file.write('Name:'+with_least_lives+' '+'Lives used:'+str(least_lives)+'\\n')\n",
    "new_file.write('Name:'+most_played+' '+'Games played:'+str(counter)+'\\n')\n",
    "new_file.close()\n",
    "file.close()"
   ]
  },
  {
   "cell_type": "markdown",
   "metadata": {
    "id": "SjU5ufx8Snv3"
   },
   "source": [
    "### Task 13\n",
    "Read a **file** from the user which contains the  name and salary of employees. Convert that to a dictionary where the key is the name of each employee and value is the salary of that employee. Then find the total cost for the company that it needs to pay through employees’ salary. Print the dictionary and sum if no exception occurs.\n",
    "\n",
    "Exception to handle:\n",
    "* check whether file is actually there\n",
    "* check whether the salary in each line is a number or not.\n",
    "* raise error if there are extra numbers or names\n",
    "\n",
    "=============================\n",
    "\n",
    "**Example 1:** \\\n",
    "**Input:**\\\n",
    "Saadat 100\\\n",
    "Farzad 200\\\n",
    "Atef 300\\\n",
    "**Output:**\\\n",
    "dict={Saadat : 100, Farzad : 200, Atef : 300}\\\n",
    "Sum = 600\n",
    "\n",
    "=================\n",
    "\n",
    "**Example 2:** \\\n",
    "**Input:**\\\n",
    "Saadat 100\\\n",
    "Farzad 200\\\n",
    "Atef 300\\\n",
    "John\\\n",
    "**Output:**\\\n",
    "Extra Statement\n",
    "\n",
    "**Example 3:** \\\n",
    "**Input:**\\\n",
    "Saadat 100\\\n",
    "Farzad 200\\\n",
    "Atef john\\\n",
    "**Output:**\\\n",
    "Salary cannot be string\n"
   ]
  },
  {
   "cell_type": "code",
   "execution_count": 42,
   "metadata": {
    "id": "SUxJ1iCXUAPg"
   },
   "outputs": [
    {
     "name": "stdout",
     "output_type": "stream",
     "text": [
      "dict= {'Saadat': '100', 'Farzad': '200', 'Atef': '300'}\n",
      "Sum= 600\n"
     ]
    }
   ],
   "source": [
    "#to do\n",
    "try:\n",
    "    file=open('task13.txt','r')\n",
    "    lines=file.readlines()\n",
    "    dict1={}\n",
    "    summ=0\n",
    "    for line in lines:\n",
    "        line=line.strip('\\n')\n",
    "        line=line.split(' ')\n",
    "        dict1[line[0]]=line[1]\n",
    "    print('dict=',dict1)\n",
    "    for value in dict1.values():\n",
    "        summ+=int(value)\n",
    "    print('Sum=',summ)\n",
    "except IndexError:\n",
    "    print('Extra Statement')\n",
    "except ValueError:\n",
    "    print('salary cannot be a string')\n",
    "except FileNotFoundError:\n",
    "    print('file does not exist')"
   ]
  },
  {
   "cell_type": "markdown",
   "metadata": {
    "id": "2Xzq6xJNWvbf"
   },
   "source": [
    "### Task 14\n",
    "Write a python program to make a calculator. The user must input a string consisting of a number, operator and another number separated by white spaces.\n",
    "* If the user’s input does not contain 3 elements, raise an **exception error** stating \"Input does not contain 3 elements/Wrong operator\".\n",
    "* If the user inputs any other values except numbers in first and third position of the input, raise **value error** exception stating \"Input does not contain numbers.\" \n",
    "* If the user does not input ‘+’ or ‘-’ or ’/’ or ‘*’ or ‘%’ in second position of the input, again raise an **exception error** stating \"Input does not contain 3 elements/Wrong operator\".\n",
    "\n",
    "* In case of division, also handle **divide by zero exception**.\n",
    "\n",
    "\n",
    "If all the inputs are correct, calculate the result and print the value.\n",
    "\n",
    "\n",
    "=============================\n",
    "\n",
    "\n",
    "**Example 1:** \\\n",
    "**Input:**\\\n",
    "1 + 1 + 1\\\n",
    "**Output:**\\\n",
    "Input does not contain 3 elements/Wrong operator\n",
    "\n",
    "=================\n",
    "\n",
    "**Example 2:** \\\n",
    "**Input:**\\\n",
    "A * B\\\n",
    "**Output:**\\\n",
    "Input does not contain numbers.\n",
    "\n",
    "=================\n",
    "\n",
    "**Example 3:** \\\n",
    "**Input:**\\\n",
    "1 $ 3\\\n",
    "**Output:**\\\n",
    "Input does not contain 3 elements/Wrong operator\n",
    "\n",
    "=================\n",
    "\n",
    "**Example 4:** \\\n",
    "**Input:**\\\n",
    "1 + 1\\\n",
    "**Output:**\\\n",
    "The answer is : 2\n"
   ]
  },
  {
   "cell_type": "code",
   "execution_count": 10,
   "metadata": {
    "id": "vX2d7DiVXbhc"
   },
   "outputs": [
    {
     "name": "stdout",
     "output_type": "stream",
     "text": [
      "enter number and operator:1 / 0\n",
      "cannot divide by zero\n"
     ]
    }
   ],
   "source": [
    "#to do\n",
    "try:\n",
    "    calc=input('enter number and operator:').split(' ')\n",
    "    if(len(calc)!=3):\n",
    "        raise Exception('')\n",
    "    if(calc[0].isdigit==False) or (calc[2].isdigit==False):\n",
    "        raise ValueError\n",
    "    ans=''\n",
    "    for i in range(len(calc)):\n",
    "        num1=int(calc[0])\n",
    "        num2=int(calc[2])\n",
    "        if(calc[1]=='+'):\n",
    "            ans=num1+num2\n",
    "        elif(calc[1]=='-'):\n",
    "            ans=num1-num2\n",
    "        elif(calc[1]=='*'):\n",
    "            ans=num1*num2\n",
    "        elif(calc[1]=='/'):\n",
    "            ans=num1/num2\n",
    "        elif(calc[1]=='%'):\n",
    "            ans=num1%num2\n",
    "            if(num2==0):\n",
    "                raise ZeroDivisionError\n",
    "        else:\n",
    "            raise Exception\n",
    "    print(ans)\n",
    "except ValueError:\n",
    "    print('Input does not contain number')\n",
    "except ZeroDivisionError:\n",
    "    print('cannot divide by zero')\n",
    "except Exception:\n",
    "    print('Input does not contain 3 elements/wrong operator')"
   ]
  },
  {
   "cell_type": "markdown",
   "metadata": {
    "id": "RdshPzpJRcsD"
   },
   "source": [
    "### Task 15\n",
    "Write a python function that will remove a given character from a sentence based on the starting and ending index of the sentence. In the place of the removed characters, add the count of the number of characters removed so far. For this program, you need to take 4 user inputs.\n",
    "* Sentence\n",
    "* Character to be removed\n",
    "* Starting index (inclusive)\n",
    "* Ending index (inclusive)\n",
    "\n",
    "Few exceptions to catch: \n",
    "* Name Error if a variable is not found. Print ‘Name Error: Variable not defined’\n",
    "* Value Error if the starting index and ending index is not an integer. Print ‘Value Error: Wrong input, please enter an integer value.’\n",
    "* Type Error when adding count in the new sentence. Print ‘Type Error: Cannot add integer value with string.’\n",
    "* Index Error if the starting and ending index is out of range. Print ‘Index Error: Index is outside the range of sentence length.’\n",
    "* For other exceptions, catch Exception. Print ‘Some other error occurred.’\n",
    "\n",
    "If no exception occurred, print the new string using else block. At the end using finally, print ‘The program execution is complete’.\n",
    "\n",
    "=============================\n",
    "\n",
    "**Example 1:** \\\n",
    "**Input:**\\\n",
    "'my python programming book'\\\n",
    "'m'\\\n",
    "2\\\n",
    "20\\\n",
    "**Output:**\\\n",
    "my python progra12ing book\\\n",
    "The program execution is complete\n",
    "\n",
    "=================\n",
    "\n",
    "**Example 2:** \\\n",
    "**Input:**\\\n",
    "'my python programming book'\\\n",
    "'m'\\\n",
    "2.5\\\n",
    "20\\\n",
    "**Output:**\\\n",
    "Value Error: Wrong input, please enter an integer value.\\\n",
    "The program execution is complete\n",
    "\n",
    "=================\n",
    "\n",
    "**Example 3:** \\\n",
    "**Input:**\\\n",
    "'my python programming book'\\\n",
    "'m'\\\n",
    "2\\\n",
    "100\\\n",
    "**Output:**\\\n",
    "Index Error: Index is outside the range of sentence length.\\\n",
    "The program execution is complete\n",
    "\n",
    "=================\n",
    "\n",
    "**Hint(1):**\\\n",
    "For ensuring starting index and ending index value to be integer use the builtin function isinstance(value, data_type)\n"
   ]
  },
  {
   "cell_type": "code",
   "execution_count": 47,
   "metadata": {
    "id": "bcU6dV5BSl7d"
   },
   "outputs": [
    {
     "name": "stdout",
     "output_type": "stream",
     "text": [
      "enter a sentence:my python programming book\n",
      "enter character to be removed:m\n",
      "enter starting index:2\n",
      "enter ending index:20\n",
      "Name Error:varible is not found\n"
     ]
    }
   ],
   "source": [
    "#to do\n",
    "try:\n",
    "    sentence=input('enter a sentence:')\n",
    "    sentence=sentence.lower()\n",
    "    removed=input('enter character to be removed:')\n",
    "    start=int(input('enter starting index:'))\n",
    "    end=int(input('enter ending index:'))\n",
    "    if(len(sentence)<end):\n",
    "        raise IndexError\n",
    "    counter=0\n",
    "    ans=''\n",
    "    for i in range(0,start):\n",
    "        ans+=sentence1[i]\n",
    "    for i in range(start,end+1):\n",
    "        if(sentence[i]==removed):\n",
    "            counter+=1\n",
    "            ans+=str(counter)\n",
    "        else:\n",
    "            ans+=sentence[i]\n",
    "    print(ans)\n",
    "except NameError:\n",
    "    print('Name Error:varible is not found')\n",
    "except ValueError:\n",
    "    print('Value Error: Wrong input, please enter an integer value')\n",
    "except TypeError:\n",
    "    print('Type Error: Cannot add integer value with string')\n",
    "except IndexError:\n",
    "    print('Index Error: Index is outside the range of sentence length.')\n",
    "except Exception:\n",
    "    print('Some other error occurred')  "
   ]
  },
  {
   "cell_type": "code",
   "execution_count": null,
   "metadata": {},
   "outputs": [],
   "source": []
  },
  {
   "cell_type": "code",
   "execution_count": null,
   "metadata": {},
   "outputs": [],
   "source": []
  }
 ],
 "metadata": {
  "colab": {
   "collapsed_sections": [],
   "name": "CSE110 Lab Assignment 8 (File I/O & Exception).ipynb",
   "provenance": []
  },
  "kernelspec": {
   "display_name": "Python 3",
   "language": "python",
   "name": "python3"
  },
  "language_info": {
   "codemirror_mode": {
    "name": "ipython",
    "version": 3
   },
   "file_extension": ".py",
   "mimetype": "text/x-python",
   "name": "python",
   "nbconvert_exporter": "python",
   "pygments_lexer": "ipython3",
   "version": "3.8.8"
  }
 },
 "nbformat": 4,
 "nbformat_minor": 1
}
