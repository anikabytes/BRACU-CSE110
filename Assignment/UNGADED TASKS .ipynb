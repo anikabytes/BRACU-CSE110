{
 "cells": [
  {
   "cell_type": "markdown",
   "id": "f909db87",
   "metadata": {},
   "source": [
    "### Task 13\n",
    "\n",
    "Write a Python program that reads 5 numbers into a list and prints the smallest and largest number and their locations in the list. <font color='red'>[You are not allowed to use the max(), min(), sort(), sorted() functions here]</font>\n",
    "\n",
    "**Hint:** You may assume the first input to be the largest value initially and the largest value’s location to be 0. Similarly, you can assume the first input to be the smallest value initially and the smallest value’s location to be 0. \n",
    "\n",
    "**Note:** You may need to be careful while printing the output. Depending on your code, you might need data conversion.\n",
    "\n",
    "===================================================================\n",
    "\n",
    "**Sample Input:**\\\n",
    "7, 13, -5, 10, 6\n",
    "\n",
    "**Sample Output:**\\\n",
    "My list: [7, 13, -5, 10, 6]\\\n",
    "Smallest number in the list is -5 which was found at index 2\\\n",
    "Largest number in the list is 13 which was found at index 1\n"
   ]
  },
  {
   "cell_type": "code",
   "execution_count": 12,
   "id": "871904ac",
   "metadata": {},
   "outputs": [
    {
     "name": "stdout",
     "output_type": "stream",
     "text": [
      "enter numbers: 7\n",
      "enter numbers: 13\n",
      "enter numbers: -5\n",
      "enter numbers: 10\n",
      "enter numbers: 6\n",
      "My list: [7, 13, -5, 10, 6]\n",
      "Largest number in the list is  13 which is found at index  1\n",
      "Smallest number in the list is  -5 which is found at index  2\n"
     ]
    }
   ],
   "source": [
    "list1=[]\n",
    "for i in range(0,5):\n",
    "    input1=int(input('enter numbers: '))\n",
    "    list1.append(input1)\n",
    "print('My list:',list1)\n",
    "for j in range(len(list1)):\n",
    "    if(j==0):\n",
    "        maximum=list1[j]\n",
    "        maximumLocation=0\n",
    "        minimum=list1[j]\n",
    "        minimumLocation=0\n",
    "    if(list1[j]>maximum):\n",
    "        maximum=list1[j]\n",
    "        maximumLocation=j\n",
    "    elif(list1[j]<minimum):\n",
    "        minimum=list1[j]\n",
    "        minimumLocation=j\n",
    "print('Largest number in the list is ',str(maximum)+' '+'which is found at index ',str(maximumLocation))\n",
    "print('Smallest number in the list is ',str(minimum)+' '+'which is found at index ',str(minimumLocation))"
   ]
  },
  {
   "cell_type": "markdown",
   "id": "7511aab9",
   "metadata": {},
   "source": [
    "### Task 14\n",
    "Write a Python program that takes two lists as an input from the user. Then print a new list with the **common elements** of both the input lists. \n",
    "\n",
    "*Hint: You may need to create a third list to store the results. You can use membership operators (in, not in) to make sure similar elements are added.*\n",
    "\n",
    "===================================================================\n",
    "\n",
    "**Sample Input 1:**<br/>\n",
    "A, B, C, D\n",
    "\n",
    "\n",
    "C, E , F, B\n",
    "\n",
    "\n",
    "**Sample Output 1:**<br/>\n",
    "['C', 'B']\n",
    "\n",
    "===================================================================\n",
    "\n",
    "**Sample Input 2:**<br/>\n",
    "1, 3, A, H, P\n",
    "\n",
    "\n",
    "A, G, 1, P, O\n",
    "\n",
    "\n",
    "**Sample Output 2:**<br/>\n",
    "['1', 'A', 'P']\n",
    "\n",
    "===================================================================\n"
   ]
  },
  {
   "cell_type": "code",
   "execution_count": 20,
   "id": "34c4f49a",
   "metadata": {},
   "outputs": [
    {
     "name": "stdout",
     "output_type": "stream",
     "text": [
      "enter: A,B,C,D\n",
      "enter: C,E,F,B\n",
      "['B', 'C']\n"
     ]
    }
   ],
   "source": [
    "input1=input('enter: ').split(',')\n",
    "input2=input('enter: ').split(',')\n",
    "list1=[]\n",
    "for i in input1:\n",
    "    if(i in input2):\n",
    "         list1.append(i)\n",
    "print(list1)"
   ]
  },
  {
   "cell_type": "markdown",
   "id": "04595822",
   "metadata": {},
   "source": [
    "### Task 15\n",
    "\n",
    "\n",
    "Write a Python program that reads 5 numbers into a list and prints the second largest number and its location or index position on the list. <font color='red'>[You are not allowed to use the max(), sort(), sorted() function here]</font>\n",
    "\n",
    "===================================================================\n",
    "\n",
    "**Sample Input:**\\\n",
    " 7, 13, 2, 10, 6\n",
    "\n",
    "**Sample Output:**\\\n",
    "My list: [7, 13, 2, 10, 6]\\\n",
    "Second largest number in the list is 10 which was found at index 3.\n",
    "\n",
    "==================================================================\n"
   ]
  },
  {
   "cell_type": "code",
   "execution_count": 6,
   "id": "996ca572",
   "metadata": {},
   "outputs": [
    {
     "name": "stdout",
     "output_type": "stream",
     "text": [
      "enter numbers: 7\n",
      "enter numbers: 13\n",
      "enter numbers: 2\n",
      "enter numbers: 10\n",
      "enter numbers: 6\n",
      "My list: [7, 13, 2, 10, 6]\n",
      "Second largest number in the list is  10 which is found at index  3\n"
     ]
    }
   ],
   "source": [
    "list1=[]\n",
    "for i in range(0,5):\n",
    "    input1=int(input('enter numbers: '))\n",
    "    list1.append(input1)\n",
    "print('My list:',list1)\n",
    "for j in range(len(list1)):\n",
    "    if(j==0):\n",
    "        maximum=list1[j]\n",
    "        second_maximum=list1[j]\n",
    "        second_maximum_location=0\n",
    "    if(list1[j]>maximum):\n",
    "        maximum=list1[j]\n",
    "    if(list1[j]!=maximum) and (list1[j]>second_maximum):\n",
    "        second_maximum=list1[j]\n",
    "        second_maximum_location=j\n",
    "print('Second largest number in the list is ',str(second_maximum)+' '+'which is found at index ',str(second_maximum_location))"
   ]
  },
  {
   "cell_type": "markdown",
   "id": "5e5b5d49",
   "metadata": {},
   "source": [
    "### Task 13\n",
    "\n",
    "\n",
    "Write a python program that takes a string as an input from the user and then modifies the string in such a way that the string always starts with an uppercase letter and the case of each subsequent letter is the opposite of the previous letter (uppercase character followed by a lowercase character followed by an uppercase character and so on).  Finally the modified string is printed to show the user.\n",
    "\n",
    "*Hints:  Flags/counters can be used to manage uppercase-lowercase.*\n",
    "\n",
    "=====================================================================\n",
    "\n",
    "**Sample Input 1:**\\\n",
    "Python programming is very easy\n",
    "\n",
    "**Sample Output 1:**\\\n",
    "PyThOn PrOgRaMmInG iS vErY eAsY\n",
    "\n",
    "=====================================================================\n",
    "\n",
    "**Sample Input 2:**\\\n",
    "I&nbsp;&nbsp;&nbsp;&nbsp;&nbsp;&nbsp;     love       &nbsp;&nbsp;&nbsp;&nbsp;&nbsp;&nbsp;&nbsp; Python &nbsp;&nbsp;&nbsp;&nbsp;&nbsp;&nbsp;&nbsp;&nbsp;Programming\n",
    "\n",
    "**Sample Output 2:**\\\n",
    "I&nbsp;&nbsp;&nbsp;&nbsp;&nbsp;&nbsp;     lOvE       &nbsp;&nbsp;&nbsp;&nbsp;&nbsp;&nbsp;&nbsp;pYtHoN&nbsp;&nbsp;&nbsp;&nbsp;&nbsp;&nbsp;&nbsp;&nbsp;pRoGrAmMiNg\n",
    "\n",
    "=====================================================================\n",
    "\n",
    "**Sample Input 3:**\\\n",
    "CSE110 Course\n",
    "\n",
    "**Sample Output 3**\\\n",
    "CsE110 cOuRsE\n",
    "\n",
    "\n",
    "\n",
    "=====================================================================\n",
    "\n",
    "**Sample Input 4:**\\\n",
    "c\n",
    "\n",
    "**Sample Output 4:**\\\n",
    "C\n",
    "\n",
    "=====================================================================\n"
   ]
  },
  {
   "cell_type": "code",
   "execution_count": 21,
   "id": "9785e9cb",
   "metadata": {},
   "outputs": [
    {
     "name": "stdout",
     "output_type": "stream",
     "text": [
      "enter: python programming is very easy\n",
      "PyThOn pRoGrAmMiNg iS VeRy eAsY\n"
     ]
    }
   ],
   "source": [
    "input1=input('enter: ')\n",
    "input2=''\n",
    "counter=0\n",
    "input3='0,1,2,3,4,5,6,7,8,9'\n",
    "for i in range(len(input1)):\n",
    "    if(counter%2==0):\n",
    "        input2+=input1[i].upper()\n",
    "        counter+=1\n",
    "    elif(counter%2!=0):\n",
    "        input2+=input1[i].lower()\n",
    "        counter+=1\n",
    "    elif(counter==0):\n",
    "        input2+=input1[0].upper()\n",
    "        counter+=1\n",
    "    elif(counter==' '):\n",
    "        input2+=input1[i]\n",
    "        continue\n",
    "    elif(counter==input3):\n",
    "        input2+=input1[i]\n",
    "        continue\n",
    "print(input2)"
   ]
  },
  {
   "cell_type": "markdown",
   "id": "d9266ff6",
   "metadata": {},
   "source": [
    "### Task 14 \n",
    "An anagram is a play on words created by rearranging the letters of the original word to make a new word or phrase.\n",
    "So we can say two words are anagrams if they contain all of the same letters, but in a different order.\n",
    "\n",
    "\n",
    "Write a python program that takes two strings from the user and tells if they are anagram or not.\n",
    "\n",
    "=====================================================================\n",
    "\n",
    "<b>Sample Input 1: </b><br/>\n",
    "dusty<br/>\n",
    "study<br/>\n",
    "<b>Sample Output 1: </b> <br/>\n",
    "They are anagram<br/>\n",
    "\n",
    "=====================================================================\n",
    "\n",
    "<b>Sample Input 2: </b><br/>\n",
    "dustyyy<br/>\n",
    "study<br/>\n",
    "<b>Sample Output 2: </b><br/>\n",
    "They are not anagram"
   ]
  },
  {
   "cell_type": "code",
   "execution_count": 16,
   "id": "7cca8355",
   "metadata": {},
   "outputs": [
    {
     "name": "stdout",
     "output_type": "stream",
     "text": [
      "enter a word: study\n",
      "enter another word: dusty\n",
      "They are anagrams\n"
     ]
    }
   ],
   "source": [
    "input1=input('enter a word: ')\n",
    "input2=input('enter another word: ')\n",
    "ans=''\n",
    "if(len(input1)==len(input2)):\n",
    "    for i in range(len(input1)):\n",
    "        for j in range(len(input2)):\n",
    "            if(input1[i]==input2[j]):\n",
    "                ans='They are anagrams'\n",
    "            else:\n",
    "                ans='They are not anagrams'\n",
    "else:\n",
    "    ans='They are not anagrams'\n",
    "print(ans)"
   ]
  },
  {
   "cell_type": "markdown",
   "id": "de138c81",
   "metadata": {},
   "source": [
    "###Task 15\n",
    "\n",
    "Write a python program thats prints the largest consecutive sequence from a given string S. For example, if S = ‘AABBBCCAAAA’, print ‘AAAA’. If more than one largest consecutive sequence exists, print the first one. Print NONE if no consecutive sequence is found.\n",
    "\n",
    "=====================================================================\n",
    "\n",
    "**Sample Input 1:**<br/>\n",
    "AABBBCCAAAA<br/>\n",
    "**Sample Output 1:**<br/>\n",
    "AAAA<br/>\n",
    "\n",
    "=====================================================================\n",
    "\n",
    "**Sample Input 2:**<br/>\n",
    "AABBCC<br/>\n",
    "**Sample Output 2:**<br/>\n",
    "AA<br/>\n",
    "\n",
    "=====================================================================\n",
    "\n",
    "**Sample Input 3:**<br/>\n",
    "ABCD<br/>\n",
    "**Sample Output 3:**<br/>\n",
    "NONE<br/>\n",
    "\n",
    "====================================================================="
   ]
  },
  {
   "cell_type": "code",
   "execution_count": 4,
   "id": "1063352d",
   "metadata": {},
   "outputs": [
    {
     "name": "stdout",
     "output_type": "stream",
     "text": [
      "enter:AABBBCCAAAA\n",
      "A 0\n",
      "AA 1\n",
      "AAB 1\n",
      "AABB 2\n",
      "AABBB 3\n",
      "AABBBC 3\n",
      "AABBBCC 4\n",
      "AABBBCCA 5\n",
      "AABBBCCAA 6\n",
      "AABBBCCAAA 7\n",
      "AABBBCCAAAA 8\n"
     ]
    }
   ],
   "source": [
    "input1=input('enter:')\n",
    "counter=0\n",
    "string1=''\n",
    "maximum=0\n",
    "for i in range(len(input1)):\n",
    "    if(input1[i] not in string1):\n",
    "        string1+=input1[i]\n",
    "    else:\n",
    "        string1=input1[i]\n",
    "        counter+=1\n",
    "    print(string1,counter)\n",
    "    "
   ]
  },
  {
   "cell_type": "code",
   "execution_count": null,
   "id": "61ba8ce5",
   "metadata": {},
   "outputs": [],
   "source": []
  }
 ],
 "metadata": {
  "kernelspec": {
   "display_name": "Python 3",
   "language": "python",
   "name": "python3"
  },
  "language_info": {
   "codemirror_mode": {
    "name": "ipython",
    "version": 3
   },
   "file_extension": ".py",
   "mimetype": "text/x-python",
   "name": "python",
   "nbconvert_exporter": "python",
   "pygments_lexer": "ipython3",
   "version": "3.8.8"
  }
 },
 "nbformat": 4,
 "nbformat_minor": 5
}
