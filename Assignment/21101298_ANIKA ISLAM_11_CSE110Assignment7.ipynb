{
 "cells": [
  {
   "cell_type": "markdown",
   "metadata": {
    "id": "oMYzsTcnHEll"
   },
   "source": [
    "# CSE110 Lab Assignment 7 on Sorting and Searching\n",
    "\n",
    "Write your name, student id and CSE110 section below:\n"
   ]
  },
  {
   "cell_type": "code",
   "execution_count": null,
   "metadata": {
    "id": "ljd7OxU2gvWb"
   },
   "outputs": [],
   "source": [
    "#STUDENT NAME:ANIKA ISLAM \n",
    "#STUDENT ID:21101298\n",
    "#CSE110 SECTION:11 "
   ]
  },
  {
   "cell_type": "markdown",
   "metadata": {
    "id": "jT-t2zlnHEll"
   },
   "source": [
    "## Write the Python code for the following problems:\n",
    "**<font color='red'>[MUST MAINTAIN VARIABLE NAMING CONVENTIONS FOR ALL THE TASKS]</font>**\n",
    "\n",
    "### Task 1\n",
    "\n",
    "Suppose you have a list named my_list as given below. <br/>\n",
    "my_list = [10,1,20,3,6,2,5,11,15,2,12,14,17,18,29] <br/>\n",
    "Now use bubble sort to sort my_list into ascending order.\n",
    "\n",
    "**Output**<br/>\n",
    "[1, 2, 2, 3, 5, 6, 10, 11, 12, 14, 15, 17, 18, 20, 29]"
   ]
  },
  {
   "cell_type": "code",
   "execution_count": 1,
   "metadata": {
    "id": "7qXVakLgHElm"
   },
   "outputs": [
    {
     "name": "stdout",
     "output_type": "stream",
     "text": [
      "[1, 2, 2, 3, 5, 6, 10, 11, 12, 14, 15, 17, 18, 20, 29]\n"
     ]
    }
   ],
   "source": [
    "#todo - Bubble sort starts arranging the elements from the top\n",
    "my_list = [10,1,20,3,6,2,5,11,15,2,12,14,17,18,29]\n",
    "for item in range(len(my_list)-1):\n",
    "    for item2 in range(len(my_list)-item-1):\n",
    "        if(my_list[item2]>my_list[item2+1]):\n",
    "            temp=my_list[item2]\n",
    "            my_list[item2]=my_list[item2+1]\n",
    "            my_list[item2+1]=temp\n",
    "print(my_list)\n"
   ]
  },
  {
   "cell_type": "code",
   "execution_count": 3,
   "metadata": {},
   "outputs": [
    {
     "name": "stdout",
     "output_type": "stream",
     "text": [
      "[1, 2, 2, 3, 5, 6, 10, 11, 12, 14, 15, 17, 18, 20, 29]\n"
     ]
    }
   ],
   "source": [
    "my_list = [10,1,20,3,6,2,5,11,15,2,12,14,17,18,29]\n",
    "for i in range(len(my_list)-1):\n",
    "    for j in range(len(my_list) - i - 1) :\n",
    "        if my_list[j] > my_list[j+1] :\n",
    "            temp = my_list[j]\n",
    "            my_list[j] = my_list[j+1]\n",
    "            my_list[j+1] = temp\n",
    "print(my_list)"
   ]
  },
  {
   "cell_type": "markdown",
   "metadata": {
    "id": "w1QgeWd2HElp"
   },
   "source": [
    "### Task 2\n",
    "\n",
    "Suppose you have a list named my_list as given below. <br/>\n",
    "my_list = [10,1,20,3,6,2,5,11,15,2,12,14,17,18,29] <br/>\n",
    "Now use selection sort to sort my_list into ascending order.\n",
    "\n",
    "**Output**<br/>\n",
    "[1, 2, 2, 3, 5, 6, 10, 11, 12, 14, 15, 17, 18, 20, 29]\n",
    "\n"
   ]
  },
  {
   "cell_type": "code",
   "execution_count": 2,
   "metadata": {
    "id": "am0B_8ICHElq"
   },
   "outputs": [
    {
     "name": "stdout",
     "output_type": "stream",
     "text": [
      "[1, 2, 2, 3, 5, 6, 10, 11, 12, 14, 15, 17, 18, 20, 29]\n"
     ]
    }
   ],
   "source": [
    "#todo Selection sort starts arranging the elements from the bottom\n",
    "my_list= [10,1,20,3,6,2,5,11,15,2,12,14,17,18,29]\n",
    "for item1 in range(len(my_list)):\n",
    "    min=my_list[item1]\n",
    "    min_index=item1\n",
    "    for item2 in range(item1+1,len(my_list)):\n",
    "        if(min>my_list[item2]):\n",
    "            min=my_list[item2]\n",
    "            min_index=item2\n",
    "    temp=my_list[min_index]\n",
    "    my_list[min_index]=my_list[item1]\n",
    "    my_list[item1]=temp\n",
    "print(my_list)\n",
    "\n",
    "\n",
    "    "
   ]
  },
  {
   "cell_type": "code",
   "execution_count": 6,
   "metadata": {},
   "outputs": [
    {
     "name": "stdout",
     "output_type": "stream",
     "text": [
      "[1, 2, 2, 3, 5, 6, 10, 11, 12, 14, 15, 17, 18, 20, 29]\n"
     ]
    }
   ],
   "source": [
    "my_list = [10,1,20,3,6,2,5,11,15,2,12,14,17,18,29]\n",
    "for i in range(len(my_list)) :\n",
    "    minim = my_list[i]\n",
    "    minim_index = i\n",
    "    for j in range(i+1,len(my_list)) :\n",
    "        if minim > my_list[j] :\n",
    "            minim = my_list[j]\n",
    "            minim_index = j\n",
    "    temp = my_list[minim_index]\n",
    "    my_list[minim_index] = my_list[i]\n",
    "    my_list[i] = temp\n",
    "print(my_list)"
   ]
  },
  {
   "cell_type": "markdown",
   "metadata": {
    "id": "j4ffr2CAHElt"
   },
   "source": [
    "### Task  3\n",
    "\n",
    "Suppose you have a list named my_list as given below <br/>\n",
    "my_list=[10,1,20,3,6,2,5,11,15,2,12,14,17,18,29] <br/>\n",
    "Now use any of the two sorting techniques you have used above to sort the list in descending order.\n",
    "\n",
    "**Output**<br/>\n",
    "[29, 20, 18, 17, 15, 14, 12, 11, 10, 6, 5, 3, 2, 2, 1]\n"
   ]
  },
  {
   "cell_type": "code",
   "execution_count": 3,
   "metadata": {
    "id": "n2X3YR-_HElt"
   },
   "outputs": [
    {
     "name": "stdout",
     "output_type": "stream",
     "text": [
      "[29, 20, 18, 17, 15, 14, 12, 11, 10, 6, 5, 3, 2, 2, 1]\n"
     ]
    }
   ],
   "source": [
    "#todo\n",
    "my_list=[10,1,20,3,6,2,5,11,15,2,12,14,17,18,29]\n",
    "for item1 in range(len(my_list)):\n",
    "    max=my_list[item1]\n",
    "    max_index=item1\n",
    "    for item2 in range(item1+1,len(my_list)):\n",
    "        if(max<my_list[item2]):\n",
    "            max=my_list[item2]\n",
    "            max_index=item2\n",
    "    temp=my_list[max_index]\n",
    "    my_list[max_index]=my_list[item1]\n",
    "    my_list[item1]=temp\n",
    "print(my_list)\n",
    "    "
   ]
  },
  {
   "cell_type": "code",
   "execution_count": 8,
   "metadata": {},
   "outputs": [
    {
     "name": "stdout",
     "output_type": "stream",
     "text": [
      "[29, 20, 18, 17, 15, 14, 12, 11, 10, 6, 5, 3, 2, 2, 1]\n"
     ]
    }
   ],
   "source": [
    "my_list=[10,1,20,3,6,2,5,11,15,2,12,14,17,18,29]\n",
    "for i in range(len(my_list)) :\n",
    "    maxim = my_list[i]\n",
    "    maxim_index = i\n",
    "    for j in range(i+1,len(my_list)) :\n",
    "        if maxim < my_list[j] :\n",
    "            maxim = my_list[j]\n",
    "            maxim_index = j\n",
    "    temp = my_list[maxim_index]\n",
    "    my_list[maxim_index] = my_list[i]\n",
    "    my_list[i] = temp\n",
    "print(my_list)"
   ]
  },
  {
   "cell_type": "markdown",
   "metadata": {
    "id": "9iYiiTWWHElw"
   },
   "source": [
    "### Task 4\n",
    "\n",
    "Suppose you have a sitting arrangement of the students who will give the final exam in a list. The list contains the last two digits of their student ID as given below.<br/>\n",
    "\n",
    "sitting_list = [10,30,20,70,11,15,22,16,58,100,12,56,70,80] <br/>\n",
    "\n",
    "Now you want to organize the sitting arrangement of the students in your own way. You decide to sort all the students in the even indices of the list in ascending order and all the students in the odd indices of the list in descending order.  <br/>\n",
    "\n",
    "So, write a python program that organizes the list for you in this way.<br/>\n",
    "\n",
    "\n",
    "**Sample Output**<br/>\n",
    "[10, 100, 11, 80, 12, 70, 20, 56, 22, 30, 58, 16, 70, 15]"
   ]
  },
  {
   "cell_type": "code",
   "execution_count": 4,
   "metadata": {},
   "outputs": [
    {
     "name": "stdout",
     "output_type": "stream",
     "text": [
      "[10, 100, 11, 80, 12, 70, 20, 56, 22, 30, 58, 16, 70, 15]\n"
     ]
    }
   ],
   "source": [
    "sitting_list = [10,30,20,70,11,15,22,16,58,100,12,56,70,80]\n",
    "even_list=[]\n",
    "odd_list=[]\n",
    "new_list=[]\n",
    "ans=''\n",
    "#sorting the even index values into ascending order\n",
    "for item1 in range(0,len(sitting_list),2):  #0,2,4,6,8,10,12,14\n",
    "    min=sitting_list[item1]\n",
    "    min_index=item1\n",
    "    for item2 in range(item1+2,len(sitting_list),2): #2,4,6,8,10,12,14\n",
    "        if(min>sitting_list[item2]):\n",
    "            min=sitting_list[item2]\n",
    "            min_index=item2\n",
    "    #swapping the values into ascending order \n",
    "    temp=sitting_list[min_index]\n",
    "    sitting_list[min_index]=sitting_list[item1]\n",
    "    sitting_list[item1]=temp\n",
    "    #appending the ascending values in even_list\n",
    "    even_list.append(temp)\n",
    "#sorting the odd index values into descending order\n",
    "for item3 in range(1,len(sitting_list),2):  #1,3,5,7,9,11,13\n",
    "    max=sitting_list[item3]\n",
    "    max_index=item3\n",
    "    for item4 in range(item3+2,len(sitting_list),2): #3,5,7,9,11,13\n",
    "        if(max<sitting_list[item4]):\n",
    "            max=sitting_list[item4]\n",
    "            max_index=item4\n",
    "    #swapping the values into descending order \n",
    "    temp=sitting_list[max_index]\n",
    "    sitting_list[max_index]=sitting_list[item3]\n",
    "    sitting_list[item3]=temp\n",
    "    #appending the descending values in odd_list\n",
    "    odd_list.append(temp)\n",
    "even=0 #index for even index values \n",
    "odd=0 #index for odd index values \n",
    "for item5 in range(len(sitting_list)): \n",
    "    if(item5%2==0): #if index is even\n",
    "        new_list.append(even_list[even]) #appending the even_list elements into new_list\n",
    "        even+=1 #for the next index \n",
    "    else:\n",
    "        new_list.append(odd_list[odd]) #appending the odd_list into new_list\n",
    "        odd+=1 #for the next index \n",
    "print(new_list)"
   ]
  },
  {
   "cell_type": "code",
   "execution_count": 11,
   "metadata": {},
   "outputs": [
    {
     "name": "stdout",
     "output_type": "stream",
     "text": [
      "[10, 100, 11, 80, 12, 70, 20, 56, 22, 30, 58, 16, 70, 15]\n"
     ]
    }
   ],
   "source": [
    "sitting_list = [10,30,20,70,11,15,22,16,58,100,12,56,70,80]\n",
    "even = []\n",
    "odd = []\n",
    "new = []\n",
    "for i in range(len(sitting_list)) :\n",
    "    if i %2 == 0 :\n",
    "        even.append(sitting_list[i])\n",
    "    else :\n",
    "        odd.append(sitting_list[i])\n",
    "for j in range(len(even)) :\n",
    "    minim = even[j]\n",
    "    minim_index = j\n",
    "    for k in range(j+1,len(even)) :\n",
    "        if minim > even[k] :\n",
    "            minim = even[k]\n",
    "            minim_index = k\n",
    "    temp1 = even[minim_index]\n",
    "    even[minim_index] = even[j]\n",
    "    even[j] = temp1\n",
    "for m in range(len(odd)) :\n",
    "    maxim = odd[m]\n",
    "    maxim_index = m\n",
    "    for n in range(m+1,len(odd)) :\n",
    "        if maxim < odd[n] :\n",
    "            maxim = odd[n]\n",
    "            maxim_index = n\n",
    "    temp2 = odd[maxim_index]\n",
    "    odd[maxim_index] = odd[m]\n",
    "    odd[m] = temp2\n",
    "e = 0\n",
    "o = 0\n",
    "for u in range(len(sitting_list)) :\n",
    "    if u %2 == 0 :\n",
    "        new.append(even[e])\n",
    "        e+=1\n",
    "    else:\n",
    "        new.append(odd[o])\n",
    "        o+=1\n",
    "print(new)\n",
    "\n"
   ]
  },
  {
   "cell_type": "markdown",
   "metadata": {
    "id": "oVR1Tsa0HElz"
   },
   "source": [
    "### Task 5\n",
    "\n",
    "Suppose a list contains marks earned in the courses CSE110, PHY111, and MAT110 of each student consecutively in a nested list form. Your task is to take a course name as input from the user and sort the list based on the marks obtained in that course in order to finally print the names of the students in descending order of marks obtained i.e. from the student who earned the highest marks to the student who earned the lowest. <br/>\n",
    "\n",
    "For example, the list may look like <br/>\n",
    "lst = [ [\"Alan\", 95, 87, 91], [\"Turing\", 92, 90, 83], [\"Elon\", 87, 92, 80], [\"Musk\", 85, 94, 90] ] <br/>\n",
    "where for each nested list, 1st index holds the name of the student, 2nd index is total marks earned in the CSE110 course, 3rd index is PHY111 marks and 4th index is MAT110 marks. \n",
    "\n",
    "=====================================================\n",
    "\n",
    "**Hint:**<br/>\n",
    "You may create a function for sorting, then call it every time when needed instead of rewriting the code.\n",
    "\n",
    "You may get the data in the individual lists from the given nested list.\n",
    "\n",
    "=====================================================\n",
    "\n",
    "**Sample Input 1**<br/>\n",
    "MAT110\n",
    "\n",
    "**Sample Output 1**<br/>\n",
    "Alan <br/>\n",
    "Musk <br/>\n",
    "Turing <br/>\n",
    "Elon\n",
    "\n",
    "**Explanation:**<br/>\n",
    "Here the user gives us \"MAT110\" as the course name. Now, the students Alan, Turing, Elon and Musk earned 91, 83, 80 and 90 marks respectively in this course. If we sort it, Alan got the highest marks of 91 followed by Musk with 90 marks and Turing with 83 marks. Among these 4 students, Elon obtained the lowest marks in the MAT110 course with 80 marks. All of these has been illustrated in our sample output.\n",
    "\n",
    "=====================================================\n",
    "\n",
    "**Sample Input 2**<br/>\n",
    "PHY111\n",
    "\n",
    "**Sample Output 2**<br/>\n",
    "Musk <br/>\n",
    "Elon <br/>\n",
    "Turing <br/>\n",
    "Alan"
   ]
  },
  {
   "cell_type": "code",
   "execution_count": 5,
   "metadata": {
    "id": "539b2P1NHElz"
   },
   "outputs": [
    {
     "name": "stdout",
     "output_type": "stream",
     "text": [
      "enter the course name:MAT110\n",
      "Alan\n",
      "Musk\n",
      "Turing\n",
      "Elon\n"
     ]
    }
   ],
   "source": [
    "#todo\n",
    "lst= [ [\"Alan\", 95, 87, 91], [\"Turing\", 92, 90, 83], [\"Elon\", 87, 92, 80], [\"Musk\", 85, 94, 90] ]\n",
    "course=input('enter the course name:').upper()\n",
    "list1=[]\n",
    "list2=[]\n",
    "for nested_list in range(len(lst)): \n",
    "    list2.append(lst[nested_list][0]) #appending the first index i.e the names in list2 \n",
    "    if(course=='CSE110'):\n",
    "        list1.append(lst[nested_list][1]) #appending the second index in list2 for CSE110 marks\n",
    "    elif(course=='PHY111'):\n",
    "        list1.append(lst[nested_list][2]) #appending the third index in list2 for PHY111 marks\n",
    "    elif(course=='MAT110'):\n",
    "        list1.append(lst[nested_list][3]) #appending the forth index in list2 for MAT110 marks\n",
    "    #sorting the marks of students in list1 in descending order \n",
    "    for marks in range(len(list1)):\n",
    "        max=list1[marks]\n",
    "        max_index=marks \n",
    "        for highest in range(marks+1,len(list1)):\n",
    "            if(max<list1[highest]):\n",
    "                max=list1[highest]\n",
    "                max_index=highest\n",
    "        #swapping the marks in descending order in list1\n",
    "        temp=list1[max_index]\n",
    "        list1[max_index]=list1[marks]\n",
    "        list1[marks]=temp\n",
    "        #swapping the names in descending order in list2\n",
    "        temp1=list2[max_index]\n",
    "        list2[max_index]=list2[marks]\n",
    "        list2[marks]=temp1\n",
    "#printing out the names of highest scorers \n",
    "for names in list2:\n",
    "    print(names)"
   ]
  },
  {
   "cell_type": "code",
   "execution_count": 13,
   "metadata": {},
   "outputs": [
    {
     "name": "stdout",
     "output_type": "stream",
     "text": [
      "enter course name : PHY111\n",
      "Musk\n",
      "Elon\n",
      "Turing\n",
      "Alan\n"
     ]
    }
   ],
   "source": [
    "lst = [ [\"Alan\", 95, 87, 91], [\"Turing\", 92, 90, 83], [\"Elon\", 87, 92, 80], [\"Musk\", 85, 94, 90] ]\n",
    "course = input('enter course name : ')\n",
    "lis = []\n",
    "nam = []\n",
    "for i in range(len(lst)) :\n",
    "    nam.append(lst[i][0])\n",
    "    if course == 'CSE110' :\n",
    "        lis.append(lst[i][1])\n",
    "    elif course == 'PHY111' :\n",
    "        lis.append(lst[i][2])\n",
    "    elif course == 'MAT110' :\n",
    "        lis.append(lst[i][3])\n",
    "for j in range(len(lis)) :\n",
    "    maxim = lis[j]\n",
    "    maxim_index = j\n",
    "    for k in range(j+1,len(lis)) :\n",
    "        if maxim < lis[k] :\n",
    "            maxim = lis[k]\n",
    "            maxim_index = k\n",
    "    temp = lis[maxim_index]\n",
    "    lis[maxim_index] = lis[j]\n",
    "    lis[j] = temp\n",
    "    temp2 = nam[maxim_index]\n",
    "    nam[maxim_index] = nam[j]\n",
    "    nam[j] = temp2\n",
    "for n in nam :\n",
    "    print(n)"
   ]
  },
  {
   "cell_type": "markdown",
   "metadata": {
    "id": "B0Rqbyi4HEl2"
   },
   "source": [
    "### Task 6\n",
    "\n",
    "Suppose you have a list named my_list as given below. Your task is to sort the list in ascending order and print the count of numbers that have changed their positions in the process of sorting. <br/>\n",
    "\n",
    "my_list = [4, 2, 3, 1, 6, 5] <br/>\n",
    "\n",
    "Sorted list would be [1, 2, 3, 4, 5, 6] where 4 numbers (4, 1, 6 and 5) have changed their positions. Therefore our sample output here would be 4. Please check if your code is working correctly by changing the above list and using the knowledge given here to verify whether your code gives correct output for all different lists.\n",
    "\n",
    "\n",
    "**Sample Output for the above list**<br/>\n",
    "4"
   ]
  },
  {
   "cell_type": "code",
   "execution_count": 12,
   "metadata": {
    "id": "AMc8jAa7HEl2"
   },
   "outputs": [
    {
     "name": "stdout",
     "output_type": "stream",
     "text": [
      "[1, 2, 3, 4, 5, 6]\n",
      "4\n"
     ]
    }
   ],
   "source": [
    "#todo\n",
    "my_list = [4,2,3,1,6, 5]\n",
    "list1=[] \n",
    "for number in my_list:\n",
    "    list1.append(number) #to store numbers of original my_list \n",
    "counter=0\n",
    "#sorting the values in ascending order \n",
    "for item1 in range(len(my_list)):\n",
    "    min=my_list[item1]\n",
    "    min_index=item1\n",
    "    for item2 in range(item1+1,len(my_list)):\n",
    "        if(min>my_list[item2]):\n",
    "            min=my_list[item2]\n",
    "            min_index=item2\n",
    "    temp=my_list[min_index]\n",
    "    my_list[min_index]=my_list[item1]\n",
    "    my_list[item1]=temp\n",
    "for item3 in range(len(list1)):\n",
    "    if(list1[item3]!=my_list[item3]):#checking number of updated my_list is not in the same index as it was in list1 \n",
    "        counter+=1 #counting how many numbers are being swapped i.e changed their places from list1 to sorted my_list\n",
    "print(my_list)\n",
    "print(counter)\n"
   ]
  },
  {
   "cell_type": "code",
   "execution_count": 17,
   "metadata": {},
   "outputs": [
    {
     "name": "stdout",
     "output_type": "stream",
     "text": [
      "[1, 2, 3, 4, 5, 6]\n",
      "4\n"
     ]
    }
   ],
   "source": [
    "my_list = [4,2,3,1,6, 5] \n",
    "org_list = []\n",
    "for k in my_list :\n",
    "    org_list.append(k)\n",
    "for i in range(len(my_list)) :\n",
    "    minim = my_list[i]\n",
    "    minim_index = i\n",
    "    for j in range(i+1,len(my_list)) :\n",
    "        if minim > my_list[j] :\n",
    "            minim = my_list[j]\n",
    "            minim_index = j\n",
    "    temp = my_list[minim_index]\n",
    "    my_list[minim_index] = my_list[i]\n",
    "    my_list[i] = temp\n",
    "count = 0\n",
    "for p in range(len(org_list)) :\n",
    "    if org_list[p] != my_list[p] :\n",
    "        count += 1 \n",
    "print(my_list)\n",
    "print(count)"
   ]
  },
  {
   "cell_type": "markdown",
   "metadata": {
    "id": "iIH5n0sJHEl5"
   },
   "source": [
    "### Task 7\n",
    "\n",
    "Write a python program that takes two lists from the user, merges the two lists, sorts the resulting list, and then finds the median of the elements in the two lists.\n",
    "\n",
    "=====================================================\n",
    "\n",
    "\n",
    "**Sample Input 1**<br/>\n",
    "list_one = [1, 2, 1, 4] <br/>\n",
    "list_two = [5, 4, 1]\n",
    "\n",
    "\n",
    "**Sample Output 1**<br/>\n",
    "Sorted list = [1, 1, 1, 2, 4, 4, 5] <br/>\n",
    "Median = 2\n",
    "\n",
    "=====================================================\n",
    "\n",
    "\n",
    "**Sample Input 2**<br/>\n",
    "list_one = [1, 7, 9, 10] <br/>\n",
    "list_two = [2, 7, 6, 5]\n",
    "\n",
    "\n",
    "**Sample Output 2**<br/>\n",
    "Sorted list = [1, 2, 5, 6, 7, 7, 9, 10] <br/>\n",
    "Median = 6.5\n",
    "\n"
   ]
  },
  {
   "cell_type": "code",
   "execution_count": 14,
   "metadata": {
    "id": "KsFxC7XbHEl6"
   },
   "outputs": [
    {
     "name": "stdout",
     "output_type": "stream",
     "text": [
      "enter 1st list:1,7,9,10\n",
      "enter 2nd list:2,7,6,5\n",
      "Sorted list= [1, 2, 5, 6, 7, 7, 9, 10]\n",
      "Median= 6.5\n"
     ]
    }
   ],
   "source": [
    "#todo\n",
    "median=''\n",
    "list_one=[int(item) for item in input('enter 1st list:').split(',')]\n",
    "list_two=[int(item) for item in input('enter 2nd list:').split(',')]\n",
    "list_three=list_one+list_two #merging both the list_one and list_two into list_three\n",
    "#sorting the values in list_three in ascending order\n",
    "for item1 in range(len(list_three)):  \n",
    "    min=list_three[item1]\n",
    "    min_index=item1\n",
    "    for item2 in range(item1+1,len(list_three)):\n",
    "        if(min>list_three[item2]):\n",
    "            min=list_three[item2]\n",
    "            min_index=item2\n",
    "    #swapping the values in ascending order \n",
    "    temp=list_three[min_index]\n",
    "    list_three[min_index]=list_three[item1]\n",
    "    list_three[item1]=temp\n",
    "print('Sorted list=',list_three)\n",
    "#finding out the median \n",
    "for item in range(len(list_three)):\n",
    "    if(len(list_three)%2!=0): #lenght of list_three is odd \n",
    "        median=list_three[len(list_three)//2] #middle number is median \n",
    "    else: #lenght of list_three is even\n",
    "        median=((list_three[(len(list_three)//2)-1])+(list_three[(len(list_three))//2]))/2 #taking the average of the value before half the lenght of list_three and the value at half lenght of list_three\n",
    "print('Median=',median)        \n",
    "\n",
    "\n",
    "\n",
    "\n"
   ]
  },
  {
   "cell_type": "code",
   "execution_count": 24,
   "metadata": {},
   "outputs": [
    {
     "name": "stdout",
     "output_type": "stream",
     "text": [
      "enter numbers for 1st list: 1,7,9,10\n",
      "enter numbers for 2nd list: 2,7,6,5\n",
      "Sorted list: [1, 2, 5, 6, 7, 7, 9, 10]\n",
      "Median:  6.5\n"
     ]
    }
   ],
   "source": [
    "list_one = input('enter numbers for 1st list: ').split(',')\n",
    "list_two = input('enter numbers for 2nd list: ').split(',')\n",
    "lis = list_one + list_two \n",
    "new = []\n",
    "for i in range(len(lis)) :\n",
    "    new.append(int(lis[i]))\n",
    "for j in range(len(new)) :\n",
    "    minim = new[j]\n",
    "    minim_index = j\n",
    "    for k in range(j+1,len(new)) :\n",
    "        if minim > new[k] :\n",
    "            minim = new[k]\n",
    "            minim_index = k\n",
    "    temp = new[minim_index]\n",
    "    new[minim_index] = new[j]\n",
    "    new[j] = temp \n",
    "for p in range(len(new)) :\n",
    "    if len(new) %2 == 0 :\n",
    "        median = (new[len(new)//2] + new[(len(new)//2)-1]) /2 \n",
    "    else :\n",
    "        median = new[len(new)//2]\n",
    "print('Sorted list:',new)\n",
    "print('Median: ',median)\n"
   ]
  },
  {
   "cell_type": "markdown",
   "metadata": {
    "id": "-XKiwBR1HEl8"
   },
   "source": [
    "### Task 8\n",
    "\n",
    "\n",
    "Write a python program that takes a list from user containing both positive and negative numbers. The program then finds two pairs of values whose summation is closest to zero.\n",
    "\n",
    "=====================================================\n",
    "\n",
    "**Sample Input 1**<br/>\n",
    "list_one = [-10, 15, 2, 4, -4, 7, -8] \n",
    "\n",
    "\n",
    "**Sample Output 1**<br/>\n",
    "Two pairs which have the smallest sum = 4 and -4\n",
    "\n",
    "=====================================================\n",
    "\n",
    "\n",
    "**Sample Input 2**<br/>\n",
    "list_one = [1, -8, 4, -7, -20, 26, 70, -85]\n",
    "\n",
    "\n",
    "**Sample Output 2**<br/>\n",
    "Two pairs which have the smallest sum = 4 and -7"
   ]
  },
  {
   "cell_type": "code",
   "execution_count": 6,
   "metadata": {},
   "outputs": [
    {
     "name": "stdout",
     "output_type": "stream",
     "text": [
      "[4, -7]\n",
      "{7: [1, -8], 5: [1, 4], 6: [-20, 26], 19: [-7, 26], 27: [-7, -20], 71: [1, 70], 84: [1, -85], 4: [-8, 4], 15: [70, -85], 28: [-8, -20], 18: [-8, 26], 62: [-8, 70], 93: [-8, -85], 3: [4, -7], 16: [4, -20], 30: [4, 26], 74: [4, 70], 81: [4, -85], 63: [-7, 70], 92: [-7, -85], 50: [-20, 70], 105: [-20, -85], 96: [26, 70], 59: [26, -85]}\n"
     ]
    }
   ],
   "source": [
    "# list_one = [-10, 15, 2, 4, -4, 7, -8]\n",
    "list_one = [1, -8, 4, -7, -20, 26, 70, -85]\n",
    "dict_one={}\n",
    "min_sum=abs(list_one[0]+list_one[1])\n",
    "for num1 in range(len(list_one)):\n",
    "    for num2 in range(num1+1,len(list_one)):\n",
    "        summ=abs(list_one[num1]+list_one[num2])\n",
    "        dict_one[summ]=[list_one[num1],list_one[num2]]\n",
    "        if(summ<min_sum):\n",
    "            min_sum=summ\n",
    "for key,value in dict_one.items():\n",
    "    if(key==min_sum):\n",
    "        print(value)\n",
    "print(dict_one)"
   ]
  },
  {
   "cell_type": "code",
   "execution_count": 34,
   "metadata": {},
   "outputs": [
    {
     "name": "stdout",
     "output_type": "stream",
     "text": [
      "Two pairs which have the smallest sum =  4 and -7\n"
     ]
    }
   ],
   "source": [
    "list_one = [1, -8, 4, -7, -20, 26, 70, -85]\n",
    "minim = abs(list_one[0] + list_one[1])\n",
    "for i in range(len(list_one)) :\n",
    "    for j in range(i+1,len(list_one)) :\n",
    "        summ = abs(list_one[i] + list_one[j])\n",
    "        if summ < minim :\n",
    "            minim = summ\n",
    "            ans = list_one[i] , list_one[j]\n",
    "a,b = ans \n",
    "print('Two pairs which have the smallest sum = ',a,'and',b)\n",
    "        "
   ]
  },
  {
   "cell_type": "code",
   "execution_count": 7,
   "metadata": {},
   "outputs": [
    {
     "name": "stdout",
     "output_type": "stream",
     "text": [
      "enter a list of positive and negative numbers:1,-8,4,-7,-20,26,70,-85\n",
      "Two pairs which have the smallest sum = 4 and -7\n"
     ]
    }
   ],
   "source": [
    "#todo \n",
    "list_one = [int(item) for item in input('enter a list of positive and negative numbers:').split(',')]\n",
    "dict1={}\n",
    "min_sum=abs(list_one[0]+list_one[1]) #initial sum of first index and second index to compare with the pair of all the values in given list\n",
    "#for calculating the sum between all the values in pairs \n",
    "for i in range(len(list_one)):\n",
    "    for j in range(i+1,len(list_one)): \n",
    "        sum=abs(list_one[i]+list_one[j])  #for 1,(1+-8),(1+4),(4-7),(1-20),(1+26),(1+70),(1-85) #abs function is used to take absolute(+ve) values \n",
    "        dict1[sum]=[list_one[i],list_one[j]] #storing the sum as key and the pair of numbers adding up for sum as the value \n",
    "        if(sum<min_sum):\n",
    "            min_sum=sum #if sum is less than the initial sum (min_sum),store sum in min_sum\n",
    "for key,value in dict1.items():\n",
    "    if(key==min_sum): #if key is same as min_sum\n",
    "        print('Two pairs which have the smallest sum =',value[0],'and',value[1]) #print out the values \n",
    "    "
   ]
  }
 ],
 "metadata": {
  "colab": {
   "collapsed_sections": [],
   "name": "CSE110 Lab Assignment 7 (Sorting and Searching).ipynb",
   "provenance": []
  },
  "kernelspec": {
   "display_name": "Python 3",
   "language": "python",
   "name": "python3"
  },
  "language_info": {
   "codemirror_mode": {
    "name": "ipython",
    "version": 3
   },
   "file_extension": ".py",
   "mimetype": "text/x-python",
   "name": "python",
   "nbconvert_exporter": "python",
   "pygments_lexer": "ipython3",
   "version": "3.8.8"
  }
 },
 "nbformat": 4,
 "nbformat_minor": 1
}
