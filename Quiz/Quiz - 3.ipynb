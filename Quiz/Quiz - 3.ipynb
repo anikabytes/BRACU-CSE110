{
 "cells": [
  {
   "cell_type": "markdown",
   "id": "d374e982",
   "metadata": {},
   "source": [
    "# <font color='darkcyan'>Quiz 3</font>"
   ]
  },
  {
   "cell_type": "markdown",
   "id": "3b883229",
   "metadata": {},
   "source": [
    "## Question - 1\n",
    "Write a python program that will take a string as input from the user.  The\\\n",
    "input string should have a combination of BOTH the alphabets and the\\\n",
    "digits. Then, your task is to identify the digits and alphabets from that\\\n",
    "input string and make separate groups that classify it into two categories:\\\n",
    "digits(0-9) and the alphabets. Consider the alphabets to be NOT\\\n",
    "case-sensitive.\n",
    "\n",
    "Then make a dictionary with the two separated groups where digits(0-9)’s\\\n",
    "key will be 1, and alphabet’s key will be 2. Then, finally, print the\\\n",
    "dictionary to the user.\n",
    "\n",
    "**<font color='red'>[Make sure when grouping the characters, NO DUPLICATE values are added]</font>**\n",
    "\n",
    "================================================\n",
    "\n",
    "**Sample Input 1:**\\\n",
    "CSE110 cse490 CsE258\n",
    "\n",
    "**Sample Output 1:**\\\n",
    "{1: ['1', '0', '4', '9', '2', '5', '8'], 2: ['c', 's', 'e']}\n",
    "\n",
    "**Explanation 1:**\\\n",
    "Here, '1', '0', '4', '9', '2', '5' , '8'  falls under the 1st category\\\n",
    "and 'c', 's', 'e' falls under the 2nd category.\n",
    "\n",
    "================================================\n",
    "\n",
    "**Sample Input 2:**\\\n",
    "this is cse110 quiz\n",
    "\n",
    "**Sample Output 2:**\\\n",
    "{1: ['1', '0'], 2: ['t', 'h', 'i', 's', 'c', 'e', 'q', 'u', 'z']}\n",
    "\n",
    "**Explanation 2:**\\\n",
    "Here, '1', '0' falls under the 1st category\\\n",
    "and  't', 'h', 'i', 's', 'c', 'e', 'q', 'u', 'z' falls under the 2nd\\\n",
    "category."
   ]
  },
  {
   "cell_type": "code",
   "execution_count": 14,
   "id": "54925e74",
   "metadata": {},
   "outputs": [
    {
     "name": "stdout",
     "output_type": "stream",
     "text": [
      "enter:CSE110 cse490 CsE258\n",
      "{1: ['1', '0', '4', '9', '2', '5', '8'], 2: ['c', 's', 'e']}\n"
     ]
    }
   ],
   "source": [
    "#TODO\n",
    "user_input=input('enter:')\n",
    "user_input=user_input.lower()\n",
    "word='a,b,c,d,e,f,g,h,i,j,k,l,m,n,o,p,q,r,s,t,u,v,w,x,y,z'\n",
    "number='1,2,3,4,5,6,7,8,9,0'\n",
    "word_list=[]\n",
    "number_list=[]\n",
    "for char in range(len(user_input)):\n",
    "    if(user_input[char]==' '):\n",
    "        pass\n",
    "    if(user_input[char] in number):\n",
    "        if(user_input[char] not in number_list):\n",
    "            number_list.append(user_input[char])\n",
    "    if(user_input[char] in word):\n",
    "        if(user_input[char] not in word_list):\n",
    "            word_list.append(user_input[char])\n",
    "            my_dict={1:number_list,2:word_list}\n",
    "print(my_dict)"
   ]
  },
  {
   "cell_type": "markdown",
   "id": "c78ff4e2",
   "metadata": {},
   "source": [
    "## Question - 2\n",
    "Write a python program that takes a sentence as an input from the user.\\\n",
    "Create a dictionary with all the numbers where the keys will be the\\\n",
    "corresponding string lengths. You should ignore all the signs.\n",
    "\n",
    "================================================\n",
    "\n",
    "**Sample Input 1:**\\\n",
    "The two cats approached Bob with fear, but once they saw that Bob was\\\n",
    "harmless, they bonded with him quickly.\n",
    "\n",
    "**Sample Output 1:**\\\n",
    "{3: ['The', 'two', 'Bob', 'but', 'saw', 'Bob', 'was', 'him'], 4:\\\n",
    "['cats', 'with', 'fear', 'once', 'they', 'that', 'they', 'with'], 10:\\\n",
    "['approached'], 8: ['harmless'], 6: ['bonded'], 7: ['quickly']}\n",
    "\n",
    "**Explanation1:**\\\n",
    "Each word belongs to a key corresponding to its length.\n",
    "\n",
    "================================================\n",
    "\n",
    "**Sample Input 2:**\\\n",
    "Hard work is a key to achieving success.\n",
    "\n",
    "**Sample Output 2:**\\\n",
    "{4: ['Hard', 'work'], 2: ['is', 'to'], 1: ['a'], 3: ['key'], 9:\\\n",
    "['achieving'], 7: ['success']}\n",
    "\n",
    "\n",
    "**Explanation2:**\\\n",
    "Each word belongs to a key corresponding to its length."
   ]
  },
  {
   "cell_type": "code",
   "execution_count": 60,
   "id": "638d4a0d",
   "metadata": {},
   "outputs": [
    {
     "name": "stdout",
     "output_type": "stream",
     "text": [
      "enter a sentence:Hard work is a key to achieving success.\n",
      "{4: ['Hard', 'work'], 2: ['is', 'to'], 1: ['a'], 3: ['key'], 9: ['achieving'], 7: ['success']}\n"
     ]
    }
   ],
   "source": [
    "#TODO\n",
    "user_input=input('enter a sentence:')\n",
    "user_input=user_input.strip(',')\n",
    "user_input=user_input.strip('.')\n",
    "user_input=user_input.split(' ')\n",
    "my_dict={}\n",
    "for char in range(len(user_input)):\n",
    "    lenght=len(user_input[char])\n",
    "    word=user_input[char]\n",
    "    if(lenght not in my_dict):\n",
    "        my_dict[lenght]=[word]\n",
    "    else:\n",
    "        my_dict[lenght].append(word)\n",
    "print(my_dict)"
   ]
  },
  {
   "cell_type": "markdown",
   "id": "b11f1a17",
   "metadata": {},
   "source": [
    "## Question - 3\n",
    "Write a Python program that will take N Student IDs from the user.\\\n",
    "<font color='darkcyan'>[First, take N, then take N number of student IDs as input from the user.]</font>\\\n",
    "Create a dictionary from the N IDs that will hold the IDs in separate keys based on the admitting year.\n",
    "\n",
    "**Explanation: First 2 digits of the ID denotes the year.**\n",
    "\n",
    "================================================\n",
    "\n",
    "**Sample Input1:**\\\n",
    "5\\\n",
    "18101202\\\n",
    "18104354\\\n",
    "20101457\\\n",
    "19103372\\\n",
    "20301021\n",
    "\n",
    "**Sample Output1:**\\\n",
    "{'18th': ['18101202', '18104354'], '20th': ['20101457', '20301021'], '19th': ['19103372']}\n",
    "\n",
    "================================================\n",
    "\n",
    "**Sample Input2:**\\\n",
    "6\\\n",
    "10101202\\\n",
    "12104354\\\n",
    "13101457\\\n",
    "13103372\\\n",
    "20301021\\\n",
    "10101457\n",
    "\n",
    "**Sample Output2:**\\\n",
    "{'10th': ['10101202', '10101457'], '12th': ['12104354'], '13th': ['13101457', '13103372'], '20th': ['20301021']}"
   ]
  },
  {
   "cell_type": "code",
   "execution_count": 1,
   "id": "acee5eed",
   "metadata": {},
   "outputs": [
    {
     "name": "stdout",
     "output_type": "stream",
     "text": [
      "enter the numbers of ids:6\n",
      "enter ids:10101202\n",
      "enter ids:12104354\n",
      "enter ids:13101457\n",
      "enter ids:13101457\n",
      "enter ids:20301021\n",
      "enter ids:10101457\n",
      "{'10th': ['10101202', '10101457'], '12th': ['12104354'], '13th': ['13101457', '13101457'], '20th': ['20301021']}\n"
     ]
    }
   ],
   "source": [
    "#TODO\n",
    "N=int(input('enter the numbers of ids:'))\n",
    "ids_list=[]\n",
    "my_dict={}\n",
    "for ids in range(N):\n",
    "    ids=input('enter ids:')\n",
    "    ids_digit=ids[0:2:]\n",
    "    key=ids_digit+'th'\n",
    "    if(key not in my_dict):\n",
    "        my_dict[key]=[ids]\n",
    "    else:\n",
    "        my_dict[key].append(ids)\n",
    "print(my_dict)\n",
    "# 10101202\n",
    "# 12104354\n",
    "# 13101457\n",
    "# 13101457\n",
    "# 20301021\n",
    "# 10101457"
   ]
  },
  {
   "cell_type": "markdown",
   "id": "19ac4468",
   "metadata": {},
   "source": [
    "## Question - 4\n",
    "Write a program that takes an integer as input and then constructs a\\\n",
    "dictionary. The dictionary should have nine keys at the end, representing\\\n",
    "numbers from 2 to 10 (inclusive). For each key, the value should be True,\\\n",
    "if the user input is divisible by the key. Otherwise, False.\n",
    "\n",
    "================================================\n",
    "\n",
    "**Sample Input 1:**\\\n",
    "40\n",
    "\n",
    "**Sample Output 1:**\\\n",
    "{2: True, 3: False, 4: True, 5: True, 6: False, 7: False, 8: True, 9:\\\n",
    "False, 10: True}\n",
    "\n",
    "**Explanation1:**\\\n",
    "40 is divisible by 2, 4, 5, 8, and 10, so the values for those keys are\\\n",
    "True. 40 is not divisible by 3, 6, 7, or 9, so the values for those keys\\\n",
    "are False.\n",
    "\n",
    "================================================\n",
    "\n",
    "**Sample Input 2:**\\\n",
    "11\n",
    "\n",
    "**Sample Output 2:**\\\n",
    "{2: False, 3: False, 4: False, 5: False, 6: False, 7: False, 8: False, 9:\\\n",
    " False, 10: False}\n",
    "\n",
    "**Explanation2:**\\\n",
    "11 is not divisible by any number from 2 to 10, so the values for all keys\\\n",
    "are False.\n",
    "\n",
    "================================================\n",
    "\n",
    "**Sample Input 3:**\\\n",
    "15\n",
    "\n",
    "**Sample Output 3:**\\\n",
    "{2: False, 3: True, 4: False, 5: True, 6: False, 7: False, 8: False, 9:\\\n",
    " False, 10: False}\n",
    "\n",
    "**Explanation3:**\\\n",
    "15 is divisible by 3 and 5, so the values for those keys are True. 15 is\\\n",
    "not divisible by 2, 4, 6, 7, 8 or 9, so the values for those keys are False."
   ]
  },
  {
   "cell_type": "code",
   "execution_count": 1,
   "id": "56d53fb5",
   "metadata": {},
   "outputs": [
    {
     "name": "stdout",
     "output_type": "stream",
     "text": [
      "enter a number:15\n",
      "{2: False, 3: True, 4: False, 5: True, 6: False, 7: False, 8: False, 9: False, 10: False}\n"
     ]
    }
   ],
   "source": [
    "#TODO\n",
    "number=int(input('enter a number:'))\n",
    "my_dict={}\n",
    "ans1=True\n",
    "ans2=False\n",
    "for i in range(2,11):\n",
    "    if(number%i==0):\n",
    "        if(i not in my_dict):\n",
    "            my_dict[i]= ans1\n",
    "    if(number%i!=0):\n",
    "        if(i not in my_dict):\n",
    "            my_dict[i]=ans2\n",
    "print(my_dict)\n",
    "    "
   ]
  },
  {
   "cell_type": "markdown",
   "id": "b596135f",
   "metadata": {},
   "source": [
    "## Question - 5\n",
    "Take a single string as an input from the user where few numbers are\\\n",
    "separated by commas. Now, you have to check the divisibility of each of the\\\n",
    "numbers by 2, 3, or 5.\\\n",
    "Write a Python program that constructs a dictionary with keys “Divisible by\\\n",
    "2”, “Divisible by 3”, “Divisible by 5”, and “None”, with values as lists of\\\n",
    "elements satisfying the respective condition.\n",
    "\n",
    "================================================\n",
    "\n",
    "**Sample Input1:**\\\n",
    "15, 5, 3, 12, 14, 24, 49, 42\n",
    "\n",
    "**Sample Output1:**\\\n",
    "{'Divisible by 2': [12, 14, 24, 42], 'Divisible by 3': [15, 3, 12, 24,\\\n",
    "42], 'Divisible by 5': [15, 5], 'None': [49]}\n",
    "\n",
    "**Explanation1:**\\\n",
    "12, 14, 24, and 42 are divisible by 2, so they belong to the key named\\\n",
    "“Divisible by 2”. 15, 3, 12, 24, and 42 are divisible by 3, so they belong\\\n",
    "to the key named “Divisible by 3”. 15 and 5 are divisible by 5, so they\\\n",
    "belong to the key named “Divisible by 5”. 49 is not divisible by 2,3 or 5,\\\n",
    "so it belongs to the key named “None”."
   ]
  },
  {
   "cell_type": "code",
   "execution_count": 20,
   "id": "3cd604c5",
   "metadata": {},
   "outputs": [
    {
     "name": "stdout",
     "output_type": "stream",
     "text": [
      "enter numbers:15, 5, 3, 12, 14, 24, 49, 42\n",
      "{'Divisible by 2': [' 12', ' 14', ' 24', ' 42'], 'Divisible by 3': ['15', ' 3', ' 12', ' 24', ' 42'], 'Divisible by 5': ['15', ' 5'], 'None': [' 49']}\n"
     ]
    }
   ],
   "source": [
    "#TODO\n",
    "user_input=input('enter numbers:').split(',')\n",
    "my_dict={}\n",
    "number1_list=[]\n",
    "number2_list=[]\n",
    "number3_list=[]\n",
    "number4_list=[]\n",
    "for number in range(len(user_input)):\n",
    "    if(int(user_input[number])%2==0):\n",
    "        number1_list.append(user_input[number])\n",
    "    if(int(user_input[number])%3==0):\n",
    "        number2_list.append(user_input[number])\n",
    "    if(int(user_input[number])%5==0):\n",
    "        number3_list.append(user_input[number])\n",
    "    if (int(user_input[number])%2!=0) and (int(user_input[number])%3!=0) and (int(user_input[number])%5!=0):\n",
    "        number4_list.append(user_input[number])\n",
    "my_dict={'Divisible by 2':number1_list,'Divisible by 3':number2_list,'Divisible by 5':number3_list,'None':number4_list}\n",
    "print(my_dict)"
   ]
  },
  {
   "cell_type": "markdown",
   "id": "40930c21",
   "metadata": {},
   "source": [
    "## Question - 6\n",
    "Write a python program that asks the user for a range (a starting\\\n",
    "number(inclusive) and an ending number(inclusive)). Make a dictionary with\\\n",
    "all the numbers that DO NOT end with 1, 2, and 7 within that range.\\\n",
    "Here in the dictionary, all the digits except 1, 2& 7 are the keys, and\\\n",
    "numbers that do not end with 1, 2 & 7 are the values. Finally, print the\\\n",
    "dictionary.\n",
    "\n",
    "================================================\n",
    "\n",
    "**Sample Input 1:**\\\n",
    "30\\\n",
    "50\n",
    "\n",
    "**Sample Output 1:**\\\n",
    "{0: [30, 40], 3: [33, 43], 4: [34, 44], 5: [35, 45], 6: [36, 46], 8: [38,\\\n",
    "48], 9: [39, 49]}\n",
    "\n",
    "================================================\n",
    "\n",
    "**Sample Input 2:**\\\n",
    "370\\\n",
    "385\n",
    "\n",
    "**Sample Output 2:**\\\n",
    "{0: [370, 380], 3: [373, 383], 4: [374, 384], 5: [375], 6: [376], 8: [378],\\\n",
    "9: [379]}"
   ]
  },
  {
   "cell_type": "code",
   "execution_count": 6,
   "id": "84093fc4",
   "metadata": {},
   "outputs": [
    {
     "name": "stdout",
     "output_type": "stream",
     "text": [
      "enter a starting number:370\n",
      "enter an ending number:385\n",
      "{'0': ['370', '380'], '3': ['373', '383'], '4': ['374', '384'], '5': ['375'], '6': ['376'], '8': ['378'], '9': ['379']}\n"
     ]
    }
   ],
   "source": [
    "#TODO\n",
    "start=int(input('enter a starting number:'))\n",
    "end=int(input('enter an ending number:'))\n",
    "my_dict={}\n",
    "for i in range(start,end):\n",
    "    i=str(i)\n",
    "    if (i[-1]=='1') or (i[-1]=='2') or (i[-1]=='7'):\n",
    "        continue\n",
    "    if (i not in my_dict.values()) and (i[-1] not in my_dict.keys()):\n",
    "        my_dict[i[-1]]=[i]\n",
    "    elif  (i[-1]  in my_dict.keys()) and (i not in my_dict.values()) :\n",
    "        my_dict[i[-1]].append(i)\n",
    "print(my_dict)\n",
    "        "
   ]
  },
  {
   "cell_type": "markdown",
   "id": "1e782ce9",
   "metadata": {},
   "source": [
    "## 𝗤𝘂𝗲𝘀𝘁𝗶𝗼𝗻 - 7\n",
    "Write a Python program that will take N Student IDs from the user.\\\n",
    "<font color='darkcyan'>[First, take N, then take N number of student IDs as input from the user.]</font>\\\n",
    "Create a dictionary from the N IDs that will hold the IDs in separate keys based on\\\n",
    "the admitting semester.\n",
    "\n",
    "**Explanation: 3rd digit of the ID denotes semester.**\n",
    "\n",
    "            1 = Spring\n",
    "            3 = Summer\n",
    "            2 = Fall\n",
    "\n",
    "For example, 18101202 is from the Spring semester because the 3rd digit is 1.\n",
    "\n",
    "================================================\n",
    "\n",
    "**Sample Input1:**\\\n",
    "5\\\n",
    "18101202\\\n",
    "18204354\\\n",
    "20101457\\\n",
    "19303372\\\n",
    "20201999\n",
    "\n",
    "**Sample Output1:**\\\n",
    "{'Spring': ['18101202', '20101457'], 'Fall':\\\n",
    "['18204354', '20201999'], 'Summer': ['19303372']}\n",
    "\n",
    "================================================\n",
    "\n",
    "**Sample Input2:**\\\n",
    "4\\\n",
    "18201202\\\n",
    "18104354\\\n",
    "20101457\\\n",
    "19203372\n",
    "\n",
    "**Sample Output2:**\\\n",
    "{'Fall': ['18201202', '19203372'], 'Spring': ['18104354', '20101457']}"
   ]
  },
  {
   "cell_type": "code",
   "execution_count": 8,
   "id": "f443b7f3",
   "metadata": {},
   "outputs": [
    {
     "name": "stdout",
     "output_type": "stream",
     "text": [
      "number of IDs to be taken:5\n",
      "enter ID number:18101202\n",
      "enter ID number:18204354\n",
      "enter ID number:20101457\n",
      "enter ID number:19303372\n",
      "enter ID number:20201999\n",
      "{'spring': ['18101202', '20101457'], 'fall': ['18204354', '20201999'], 'summer': ['19303372']}\n"
     ]
    }
   ],
   "source": [
    "#TODO\n",
    "N=int(input('number of IDs to be taken:'))\n",
    "dict1={}\n",
    "list1=[]\n",
    "list2=[]\n",
    "list3=[]\n",
    "list4=[]\n",
    "\n",
    "# 18101202\n",
    "# 18204354\n",
    "# 20101457\n",
    "# 19303372\n",
    "# 20201999\n",
    "for item in range(0,N):\n",
    "    ids=input('enter ID number:')\n",
    "    list1.append(ids)\n",
    "for item2 in range(len(list1)):\n",
    "#     print(type(list1[item2][2]))\n",
    "    if(int(list1[item2][2])==1):\n",
    "        list2.append(list1[item2])\n",
    "    if(int(list1[item2][2])==2):\n",
    "        list3.append(list1[item2])\n",
    "    if(int(list1[item2][2])==3):\n",
    "        list4.append(list1[item2])\n",
    "dict1={'spring':list2,'fall':list3,'summer':list4}\n",
    "print(dict1)"
   ]
  }
 ],
 "metadata": {
  "kernelspec": {
   "display_name": "Python 3",
   "language": "python",
   "name": "python3"
  },
  "language_info": {
   "codemirror_mode": {
    "name": "ipython",
    "version": 3
   },
   "file_extension": ".py",
   "mimetype": "text/x-python",
   "name": "python",
   "nbconvert_exporter": "python",
   "pygments_lexer": "ipython3",
   "version": "3.8.8"
  }
 },
 "nbformat": 4,
 "nbformat_minor": 5
}
